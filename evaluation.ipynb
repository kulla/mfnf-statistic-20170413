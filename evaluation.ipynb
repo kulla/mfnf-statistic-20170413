{
 "cells": [
  {
   "cell_type": "code",
   "execution_count": 1,
   "metadata": {
    "collapsed": true
   },
   "outputs": [],
   "source": [
    "import requests\n",
    "import locale\n",
    "import matplotlib.pyplot as plt\n",
    "import numpy as np\n",
    "\n",
    "locale.setlocale(locale.LC_ALL, 'de_DE.utf8')\n",
    "\n",
    "from sitemap import parse_sitemap\n",
    "from api import MediaWikiSession, MediaWikiAPI\n",
    "from cachecontrol import CacheControl"
   ]
  },
  {
   "cell_type": "code",
   "execution_count": 16,
   "metadata": {
    "collapsed": true
   },
   "outputs": [],
   "source": [
    "from IPython.display import display, Markdown, HTML\n",
    "\n",
    "def display_markdown(markdown):\n",
    "    display(Markdown(markdown))\n",
    "    \n",
    "def display_html(html):\n",
    "    display(HTML(html))\n",
    "    \n",
    "def h(title, level=1, hid=None):\n",
    "    html = \"<h\" + str(level)\n",
    "    \n",
    "    if hid:\n",
    "        html += \" id='\" + hid + \"'\"\n",
    "    \n",
    "    html += \">\"\n",
    "    html += title\n",
    "    html += \"</h\" + str(level) + \">\"\n",
    "    \n",
    "    display_html(html)\n",
    "    \n",
    "def d(x):\n",
    "    return locale.format(\"%9d\", x, grouping=True)\n",
    "\n",
    "def diff(a,b):\n",
    "    return locale.format(\"%+9d\", a-b, grouping=True)\n",
    "\n",
    "def quot(a,b):\n",
    "    if b != 0:\n",
    "        return \"(%+3.0f%%)\" % ((a-b)/b*100)\n",
    "    else:\n",
    "        return \" \" * 7"
   ]
  },
  {
   "cell_type": "code",
   "execution_count": 3,
   "metadata": {
    "collapsed": true
   },
   "outputs": [],
   "source": [
    "req_session = CacheControl(requests.session())\n",
    "\n",
    "wb = MediaWikiAPI(MediaWikiSession(\"de.wikibooks.org\", req_session))\n",
    "wp = MediaWikiAPI(MediaWikiSession(\"de.wikipedia.org\", req_session))"
   ]
  },
  {
   "cell_type": "code",
   "execution_count": 19,
   "metadata": {
    "collapsed": true
   },
   "outputs": [],
   "source": [
    "sitemap_code = wb.get_content(\"Mathe für Nicht-Freaks: Sitemap\")\n",
    "sitemap = parse_sitemap(sitemap_code)\n",
    "sitemap[\"name\"] = \"Mathe für Nicht-Freaks\"\n",
    "sitemap[\"link\"] = \"Mathe für Nicht-Freaks\""
   ]
  },
  {
   "cell_type": "code",
   "execution_count": 5,
   "metadata": {
    "collapsed": true
   },
   "outputs": [],
   "source": [
    "def node_func(func):\n",
    "    def result_func(node):\n",
    "        if \"link\" in node and node[\"link\"]:\n",
    "            if id(func) not in node:\n",
    "                node[id(func)] = func(node[\"link\"])\n",
    "                \n",
    "            return node[id(func)]\n",
    "        else:\n",
    "            return None\n",
    "    \n",
    "    return result_func\n",
    "\n",
    "def collect(func, node):\n",
    "    result = func(node)\n",
    "    if result != None:\n",
    "        result = [result]\n",
    "    else:\n",
    "        result = []\n",
    "    \n",
    "    for child in node[\"children\"]:\n",
    "        result += collect(func, child)\n",
    "    \n",
    "    return result\n",
    "\n",
    "def collect_pd(func, node):\n",
    "    return pd.Series(collect(func, node))\n",
    "\n",
    "def wb_views(start, end):\n",
    "    return node_func(lambda x: wb.pageviews(x,start,end))"
   ]
  },
  {
   "cell_type": "code",
   "execution_count": 6,
   "metadata": {
    "collapsed": true
   },
   "outputs": [],
   "source": [
    "views_2016 = wb_views(\"20160101\", \"20161231\")\n",
    "\n",
    "views_ws16 = wb_views(\"20161001\", \"20170331\")\n",
    "views_ws15 = wb_views(\"20151001\", \"20160331\")"
   ]
  },
  {
   "cell_type": "code",
   "execution_count": 7,
   "metadata": {
    "collapsed": true
   },
   "outputs": [],
   "source": [
    "@node_func\n",
    "def ws16_diff(link):\n",
    "    return wb.pageviews(link,\"20161001\",\"20170331\")-wb.pageviews(link,\"20151001\",\"20160331\")"
   ]
  },
  {
   "cell_type": "code",
   "execution_count": 8,
   "metadata": {
    "collapsed": true
   },
   "outputs": [],
   "source": [
    "def wikipedia_title(x):\n",
    "    params = {\n",
    "        \"action\":\"wbgetentities\",\n",
    "        \"sites\":\"dewikibooks\",\n",
    "        \"titles\":x,\n",
    "        \"props\":\"sitelinks\",\n",
    "        \"languages\":\"nn\",\n",
    "        \"format\":\"json\"\n",
    "    }\n",
    "    \n",
    "    result = req_session.get(\"http://wikidata.org/w/api.php\", params=params).json()[\"entities\"]\n",
    "    key, value = result.popitem()\n",
    "    \n",
    "    if key == \"-1\":\n",
    "        return None\n",
    "    else:\n",
    "        value = value[\"sitelinks\"]\n",
    "        \n",
    "        if \"dewiki\" in value:\n",
    "            return value[\"dewiki\"][\"title\"]\n",
    "        else:\n",
    "            return None\n",
    "        \n",
    "wp_title = node_func(wikipedia_title)\n",
    "        \n",
    "def wp_views(start, end):\n",
    "    def func(link):\n",
    "        res = wikipedia_title(link)\n",
    "        if res != None:\n",
    "            return wp.pageviews(res,start,end)\n",
    "        else:\n",
    "            return 0\n",
    "    return node_func(func)\n",
    "\n",
    "def wp_views_quot(start, end):\n",
    "    def func(link):\n",
    "        res = wikipedia_title(link)\n",
    "        if res != None:\n",
    "            return wb.pageviews(link,start,end) / wp.pageviews(res,start,end)\n",
    "        else:\n",
    "            return 0\n",
    "    return node_func(func)\n",
    "        \n",
    "wp_ws16 = wp_views(\"20161001\", \"20170331\")\n",
    "wp_ws15 = wp_views(\"20151001\", \"20160331\")\n",
    "\n",
    "wp_ws16_quot = wp_views_quot(\"20161001\", \"20170331\")\n",
    "wp_ws15_quot = wp_views_quot(\"20151001\", \"20160331\")"
   ]
  },
  {
   "cell_type": "code",
   "execution_count": 14,
   "metadata": {
    "scrolled": false
   },
   "outputs": [
    {
     "data": {
      "text/html": [
       "<h1 id='Inhaltsverzeichnis'>Inhaltsverzeichnis</h1>"
      ],
      "text/plain": [
       "<IPython.core.display.HTML object>"
      ]
     },
     "metadata": {},
     "output_type": "display_data"
    },
    {
     "data": {
      "text/markdown": [
       "* [Mathe für Nicht-Freaks](#Mathe für Nicht-Freaks)\n",
       "    * [Grundlagen der Mathematik](#Grundlagen der Mathematik)\n",
       "        * [Was ist Mathematik?](#Was ist Mathematik?)\n",
       "            * [Was ist Mathematik?](#Was ist Mathematik?)\n",
       "            * [Teilgebiete der Mathematik](#Teilgebiete der Mathematik)\n",
       "        * [Einführung in die Logik](#Einführung in die Logik)\n",
       "            * [Aussagenlogik](#Aussagenlogik)\n",
       "            * [Junktoren](#Junktoren)\n",
       "            * [Notwendige und hinreichende Bedingungen](#Notwendige und hinreichende Bedingungen)\n",
       "            * [Wahrheitstabelle](#Wahrheitstabelle)\n",
       "            * [Quantoren](#Quantoren)\n",
       "            * [Aussageform und Substitution](#Aussageform und Substitution)\n",
       "            * [Tautologien](#Tautologien)\n",
       "            * [Aussagen formalisieren](#Aussagen formalisieren)\n",
       "            * [Aussagen negieren](#Aussagen negieren)\n",
       "            * [Gesetze der Logik](#Gesetze der Logik)\n",
       "            * [Aufgaben](#Aufgaben)\n",
       "        * [Beweise und Beweismethoden](#Beweise und Beweismethoden)\n",
       "            * [Was sind Beweise?](#Was sind Beweise?)\n",
       "            * [Direkter und indirekter Beweis](#Direkter und indirekter Beweis)\n",
       "            * [Fallunterscheidung und Kontraposition](#Fallunterscheidung und Kontraposition)\n",
       "        * [Vollständige Induktion](#Vollständige Induktion)\n",
       "            * [Definition und Erklärung](#Definition und Erklärung)\n",
       "            * [Beispielaufgaben](#Beispielaufgaben)\n",
       "        * [Mengenlehre](#Mengenlehre)\n",
       "            * [Definition einer Menge](#Definition einer Menge)\n",
       "            * [Mengenschreibweisen](#Mengenschreibweisen)\n",
       "            * [Russells Antinomie](#Russells Antinomie)\n",
       "            * [Euler- und Venn-Diagramme](#Euler- und Venn-Diagramme)\n",
       "            * [Teilmenge und echte Teilmenge](#Teilmenge und echte Teilmenge)\n",
       "            * [Potenzmenge](#Potenzmenge)\n",
       "            * [Leere Menge](#Leere Menge)\n",
       "            * [Disjunkte Mengen](#Disjunkte Mengen)\n",
       "            * [Mengenverknüpfungen](#Mengenverknüpfungen)\n",
       "            * [Durchschnitt von Mengen](#Durchschnitt von Mengen)\n",
       "            * [Vereinigung von Mengen](#Vereinigung von Mengen)\n",
       "            * [Differenz, symmetrische Differenz und Komplement](#Differenz, symmetrische Differenz und Komplement)\n",
       "            * [Tupel und geordnetes Paar](#Tupel und geordnetes Paar)\n",
       "            * [Kartesisches Produkt](#Kartesisches Produkt)\n",
       "            * [Formeln der Mengenlehre](#Formeln der Mengenlehre)\n",
       "            * [Mengengleichungen beweisen](#Mengengleichungen beweisen)\n",
       "        * [Relationen](#Relationen)\n",
       "            * [Relationen](#Relationen)\n",
       "            * [Binäre Relationen](#Binäre Relationen)\n",
       "            * [Eigenschaften binärer Relationen](#Eigenschaften binärer Relationen)\n",
       "            * [Äquivalenzrelationen](#Äquivalenzrelationen)\n",
       "            * [Ordnungsrelationen](#Ordnungsrelationen)\n",
       "            * [Ordnungsrelationen: Aufgaben](#Ordnungsrelationen: Aufgaben)\n",
       "        * [Abbildungen](#Abbildungen)\n",
       "            * [Abbildungen](#Abbildungen)\n",
       "            * [Verknüpfungen](#Verknüpfungen)\n",
       "        * [Mächtigkeit von Mengen](#Mächtigkeit von Mengen)\n",
       "            * [Mächtigkeit von Mengen](#Mächtigkeit von Mengen)\n",
       "        * [Gleichungsumformungen](#Gleichungsumformungen)\n",
       "            * [Gleichungsumformungen](#Gleichungsumformungen)\n",
       "            * [Termumformungen](#Termumformungen)\n",
       "            * [Aufgaben](#Aufgaben)\n",
       "        * [Summe, Produkt und Fakultät](#Summe, Produkt und Fakultät)\n",
       "            * [Summe und Produkt](#Summe und Produkt)\n",
       "            * [Gaußsche Summenformel](#Gaußsche Summenformel)\n",
       "            * [Geometrische Summenformel](#Geometrische Summenformel)\n",
       "            * [Eigenschaften für Summe und Produkt](#Eigenschaften für Summe und Produkt)\n",
       "            * [Fakultät](#Fakultät)\n",
       "        * [Binomialkoeffizient](#Binomialkoeffizient)\n",
       "            * [Binomialkoeffizient](#Binomialkoeffizient)\n",
       "            * [Der binomische Lehrsatz](#Der binomische Lehrsatz)\n",
       "            * [Rechenregeln](#Rechenregeln)\n",
       "        * [Anhang](#Anhang)\n",
       "            * [Wörterbuch mathematischer Begriffe](#Wörterbuch mathematischer Begriffe)\n",
       "            * [Liste mathematischer Symbole](#Liste mathematischer Symbole)\n",
       "            * [Zusammenfassung](#Zusammenfassung)\n",
       "            * [PDF-Version (Beta)](#PDF-Version (Beta))\n",
       "    * [Analysis 1](#Analysis 1)\n",
       "        * [Was ist Analysis?](#Was ist Analysis?)\n",
       "            * [Was ist Analysis?](#Was ist Analysis?)\n",
       "            * [Wozu Analysis studieren?](#Wozu Analysis studieren?)\n",
       "        * [Was sind reelle Zahlen?](#Was sind reelle Zahlen?)\n",
       "            * [Was sind reelle Zahlen?](#Was sind reelle Zahlen?)\n",
       "            * [Die Zahlengerade](#Die Zahlengerade)\n",
       "        * [Körperaxiome](#Körperaxiome)\n",
       "            * [Körperaxiome](#Körperaxiome)\n",
       "            * [Folgerungen der Körperaxiome](#Folgerungen der Körperaxiome)\n",
       "            * [Potenzen reeller Zahlen](#Potenzen reeller Zahlen)\n",
       "        * [Anordnungsaxiome](#Anordnungsaxiome)\n",
       "            * [Anordnungsaxiome](#Anordnungsaxiome)\n",
       "            * [Folgerungen der Anordnungsaxiome](#Folgerungen der Anordnungsaxiome)\n",
       "            * [Betragsfunktion, Maximum und Minimum](#Betragsfunktion, Maximum und Minimum)\n",
       "            * [Intervalle](#Intervalle)\n",
       "        * [Vollständigkeit reeller Zahlen](#Vollständigkeit reeller Zahlen)\n",
       "            * [Intervallschachtelung mit rationaler Genauigkeit](#Intervallschachtelung mit rationaler Genauigkeit)\n",
       "            * [Das archimedische Axiom](#Das archimedische Axiom)\n",
       "            * [Bernoullische Ungleichung](#Bernoullische Ungleichung)\n",
       "            * [Allgemeine Intervallschachtelungen](#Allgemeine Intervallschachtelungen)\n",
       "        * [Die komplexen Zahlen](#Die komplexen Zahlen)\n",
       "            * [Einleitung und Motivation](#Einleitung und Motivation)\n",
       "            * [Intuition](#Intuition)\n",
       "            * [Definition](#Definition)\n",
       "            * [Eigenschaften](#Eigenschaften)\n",
       "            * [Polardarstellung](#Polardarstellung)\n",
       "            * [Darstellung komplexwertiger Funktionen](#Darstellung komplexwertiger Funktionen)\n",
       "            * [Definition und Eigenschaften](#Definition und Eigenschaften)\n",
       "            * [Aufgaben](#Aufgaben)\n",
       "        * [Supremum und Infimum](#Supremum und Infimum)\n",
       "            * [Supremum und Infimum](#Supremum und Infimum)\n",
       "            * [Uneigentliches Supremum und Infimum](#Uneigentliches Supremum und Infimum)\n",
       "            * [Supremum und Infimum bestimmen und beweisen](#Supremum und Infimum bestimmen und beweisen)\n",
       "            * [Eigenschaften Supremum und Infimum](#Eigenschaften Supremum und Infimum)\n",
       "        * [Wurzel reeller Zahlen](#Wurzel reeller Zahlen)\n",
       "            * [Wurzel reeller Zahlen](#Wurzel reeller Zahlen)\n",
       "            * [Lösungen von Potenzgleichungen](#Lösungen von Potenzgleichungen)\n",
       "            * [Rechenregeln](#Rechenregeln)\n",
       "            * [Verallgemeinerte Potenzen](#Verallgemeinerte Potenzen)\n",
       "            * [Aufgaben](#Aufgaben)\n",
       "        * [Folgen](#Folgen)\n",
       "            * [Definition](#Definition)\n",
       "            * [Explizite und rekursive Bildungsgesetze](#Explizite und rekursive Bildungsgesetze)\n",
       "            * [Beispiele und Eigenschaften](#Beispiele und Eigenschaften)\n",
       "            * [Aufgaben](#Aufgaben)\n",
       "        * [Konvergenz und Divergenz](#Konvergenz und Divergenz)\n",
       "            * [Definition Grenzwert](#Definition Grenzwert)\n",
       "            * [Konvergenz und Divergenz beweisen](#Konvergenz und Divergenz beweisen)\n",
       "            * [Beispiele für Grenzwerte](#Beispiele für Grenzwerte)\n",
       "            * [Unbeschränkte Folgen divergieren](#Unbeschränkte Folgen divergieren)\n",
       "            * [Grenzwertsätze](#Grenzwertsätze)\n",
       "            * [Der Sandwichsatz](#Der Sandwichsatz)\n",
       "            * [Monotoniekriterium](#Monotoniekriterium)\n",
       "            * [Konvergenzbeweise rekursiver Folgen](#Konvergenzbeweise rekursiver Folgen)\n",
       "            * [Aufgaben](#Aufgaben)\n",
       "        * [Teilfolgen, Häufungspunkte und Cauchy-Folgen](#Teilfolgen, Häufungspunkte und Cauchy-Folgen)\n",
       "            * [Teilfolgen](#Teilfolgen)\n",
       "            * [Häufungspunkte von Folge](#Häufungspunkte von Folge)\n",
       "            * [Häufungs- und Berührpunkte von Mengen](#Häufungs- und Berührpunkte von Mengen)\n",
       "            * [Satz von Bolzano-Weierstraß](#Satz von Bolzano-Weierstraß)\n",
       "            * [Bestimmte Divergenz](#Bestimmte Divergenz)\n",
       "            * [Bestimmte Divergenz: Regeln](#Bestimmte Divergenz: Regeln)\n",
       "            * [Lim sup und Lim inf](#Lim sup und Lim inf)\n",
       "            * [Cauchy-Folgen](#Cauchy-Folgen)\n",
       "            * [Aufgaben](#Aufgaben)\n",
       "        * [Reihen](#Reihen)\n",
       "            * [Begriff der Reihe](#Begriff der Reihe)\n",
       "            * [Rechenregeln für Reihen](#Rechenregeln für Reihen)\n",
       "            * [Teleskopsumme und Teleskopreihe](#Teleskopsumme und Teleskopreihe)\n",
       "            * [Geometrische Reihe](#Geometrische Reihe)\n",
       "            * [Harmonische Reihe](#Harmonische Reihe)\n",
       "            * [e-Reihe](#e-Reihe)\n",
       "            * [Absolute Konvergenz einer Reihe](#Absolute Konvergenz einer Reihe)\n",
       "            * [Umordnungssatz für Reihen](#Umordnungssatz für Reihen)\n",
       "            * [Aufgaben](#Aufgaben)\n",
       "        * [Konvergenzkriterien für Reihen](#Konvergenzkriterien für Reihen)\n",
       "            * [Übersicht Konvergenzkriterien](#Übersicht Konvergenzkriterien)\n",
       "            * [Cauchy-Kriterium](#Cauchy-Kriterium)\n",
       "            * [Trivialkriterium](#Trivialkriterium)\n",
       "            * [Beschränkte Reihen und Konvergenz](#Beschränkte Reihen und Konvergenz)\n",
       "            * [Majoranten- und Minorantenkriterium](#Majoranten- und Minorantenkriterium)\n",
       "            * [Wurzelkriterium](#Wurzelkriterium)\n",
       "            * [Quotientenkriterium](#Quotientenkriterium)\n",
       "            * [Leibniz-Kriterium](#Leibniz-Kriterium)\n",
       "            * [Verdichtungskriterium](#Verdichtungskriterium)\n",
       "            * [Anwendung der Konvergenzkriterien](#Anwendung der Konvergenzkriterien)\n",
       "            * [Aufgaben](#Aufgaben)\n",
       "        * [Exponential- und Logarithmusfunktion](#Exponential- und Logarithmusfunktion)\n",
       "            * [Herleitung und Definition der Exponentialfunktion](#Herleitung und Definition der Exponentialfunktion)\n",
       "            * [Eigenschaften der Exponentialfunktion](#Eigenschaften der Exponentialfunktion)\n",
       "            * [Logarithmusfunktion](#Logarithmusfunktion)\n",
       "            * [Verallgemeinerte Potenzen](#Verallgemeinerte Potenzen)\n",
       "            * [Exponential- und Logarithmusfunktion in den komplexen Zahlen](#Exponential- und Logarithmusfunktion in den komplexen Zahlen)\n",
       "            * [Aufgaben](#Aufgaben)\n",
       "        * [Trigonometrische und Hyperbolische Funktionen](#Trigonometrische und Hyperbolische Funktionen)\n",
       "            * [Sinus und Kosinus](#Sinus und Kosinus)\n",
       "            * [Eigenschaften des Sinus und Kosinus](#Eigenschaften des Sinus und Kosinus)\n",
       "            * [Arkussinus und Arkuskosinus](#Arkussinus und Arkuskosinus)\n",
       "            * [Tangens und Kotangens](#Tangens und Kotangens)\n",
       "            * [Arkustangens und Arkuskotangens](#Arkustangens und Arkuskotangens)\n",
       "            * [Sinus Hyperbolicus und Kosinus Hyperbolicus](#Sinus Hyperbolicus und Kosinus Hyperbolicus)\n",
       "            * [Aufgaben](#Aufgaben)\n",
       "        * [Stetigkeit](#Stetigkeit)\n",
       "            * [Stetigkeit von Funktionen](#Stetigkeit von Funktionen)\n",
       "            * [Folgenkriterium](#Folgenkriterium)\n",
       "            * [Epsilon-Delta-Kriterium](#Epsilon-Delta-Kriterium)\n",
       "            * [Grenzwert von Funktionen](#Grenzwert von Funktionen)\n",
       "            * [Komposition stetiger Funktionen](#Komposition stetiger Funktionen)\n",
       "            * [Stetigkeit beweisen](#Stetigkeit beweisen)\n",
       "            * [Unstetigkeit beweisen](#Unstetigkeit beweisen)\n",
       "            * [Zwischenwertsatz](#Zwischenwertsatz)\n",
       "            * [Satz vom Minimum und Maximum](#Satz vom Minimum und Maximum)\n",
       "            * [Stetigkeit der Umkehrfunktion](#Stetigkeit der Umkehrfunktion)\n",
       "            * [Gleichmäßige Stetigkeit](#Gleichmäßige Stetigkeit)\n",
       "            * [Lipschitz-Stetigkeit](#Lipschitz-Stetigkeit)\n",
       "            * [Aufgaben](#Aufgaben)\n",
       "        * [Ableitung](#Ableitung)\n",
       "            * [Ableitung](#Ableitung)\n",
       "            * [Rechengesetze für die Ableitung](#Rechengesetze für die Ableitung)\n",
       "            * [Ableitung der Umkehrfunktion](#Ableitung der Umkehrfunktion)\n",
       "            * [Beispiele für Ableitungen](#Beispiele für Ableitungen)\n",
       "            * [Ableitung höherer Ordnung](#Ableitung höherer Ordnung)\n",
       "            * [Satz von Rolle](#Satz von Rolle)\n",
       "            * [Mittelwertsatz](#Mittelwertsatz)\n",
       "            * [Kriterium für Konstanz und Monotoniekriterium](#Kriterium für Konstanz und Monotoniekriterium)\n",
       "            * [Ableitung und lokale Extrema](#Ableitung und lokale Extrema)\n",
       "            * [Regel von L'Hospital](#Regel von L'Hospital)\n",
       "            * [Aufgaben 1](#Aufgaben 1)\n",
       "            * [Aufgaben 2](#Aufgaben 2)\n",
       "            * [Aufgaben 3](#Aufgaben 3)\n",
       "            * [Aufgaben 4](#Aufgaben 4)\n",
       "        * [Integrale](#Integrale)\n",
       "            * [Das Integral](#Das Integral)\n",
       "            * [Riemann-Integral](#Riemann-Integral)\n",
       "            * [Eigenschaften des Riemann-Integrals](#Eigenschaften des Riemann-Integrals)\n",
       "            * [Regelintegral](#Regelintegral)\n",
       "            * [Mittelwertsatz für Integrale](#Mittelwertsatz für Integrale)\n",
       "            * [Hauptsatz der Differential- und Integralrechnung](#Hauptsatz der Differential- und Integralrechnung)\n",
       "            * [Substitutionsregel](#Substitutionsregel)\n",
       "            * [Partielle Integration](#Partielle Integration)\n",
       "            * [Beispiele für Integrale](#Beispiele für Integrale)\n",
       "            * [Aufgaben](#Aufgaben)\n",
       "        * [Sonstiges](#Sonstiges)\n",
       "            * [PDF-Version (Beta)](#PDF-Version (Beta))\n",
       "    * [Lineare Algebra 1](#Lineare Algebra 1)\n",
       "        * [Einführung](#Einführung)\n",
       "            * [Was ist lineare Algebra?](#Was ist lineare Algebra?)\n",
       "            * [Was sind Vektoren?](#Was sind Vektoren?)\n",
       "            * [Anwendungen der linearen Algebra](#Anwendungen der linearen Algebra)\n",
       "            * [Geschichte der linearen Algebra](#Geschichte der linearen Algebra)\n",
       "            * [Eigenschaften des euklidischen Vektorraums](#Eigenschaften des euklidischen Vektorraums)\n",
       "        * [Vektorräume](#Vektorräume)\n",
       "            * [Vektorraum](#Vektorraum)\n",
       "            * [Eigenschaften von Vektorräumen](#Eigenschaften von Vektorräumen)\n",
       "            * [Der Körper als Vektorraum](#Der Körper als Vektorraum)\n",
       "            * [Koordinatenräume](#Koordinatenräume)\n",
       "            * [euklidische Vektorräume](#euklidische Vektorräume)\n",
       "            * [Folgenräume](#Folgenräume)\n",
       "            * [Funktionsräume](#Funktionsräume)\n",
       "            * [Untervektorraum](#Untervektorraum)\n",
       "            * [Vereinigung und Durchschnitt von Vektorräumen](#Vereinigung und Durchschnitt von Vektorräumen)\n",
       "            * [Faktorraum](#Faktorraum)\n",
       "        * [Basis eines Vektorraums](#Basis eines Vektorraums)\n",
       "            * [Erzeugnis und Erzeugendensystem](#Erzeugnis und Erzeugendensystem)\n",
       "            * [Lineare Unabhängigkeit von Vektoren](#Lineare Unabhängigkeit von Vektoren)\n",
       "            * [Basis eines Vektorraums](#Basis eines Vektorraums)\n",
       "            * [Dimension eines Vektorraums](#Dimension eines Vektorraums)\n",
       "            * [Summe und direkte Summe ](#Summe und direkte Summe )\n",
       "        * [Lineare Abbildungen](#Lineare Abbildungen)\n",
       "            * [Lineare Abbildungen](#Lineare Abbildungen)\n",
       "            * [Beispiele linearer Abbildungen](#Beispiele linearer Abbildungen)\n",
       "            * [Eigenschaften linearer Abbildungen](#Eigenschaften linearer Abbildungen)\n",
       "            * [Prinzip der linearen Fortsetzung](#Prinzip der linearen Fortsetzung)\n",
       "            * [Arten linearer Abbildungen](#Arten linearer Abbildungen)\n",
       "            * [Vektorraum linearer Abbildungen](#Vektorraum linearer Abbildungen)\n",
       "            * [Aufgaben](#Aufgaben)\n",
       "        * [Matrizen](#Matrizen)\n",
       "            * [Definition der Matrix](#Definition der Matrix)\n",
       "            * [Arten von Matrizen](#Arten von Matrizen)\n",
       "            * [Vektorielle Operationen für Matrizen](#Vektorielle Operationen für Matrizen)\n",
       "            * [Matrizenmultiplikation](#Matrizenmultiplikation)\n",
       "            * [Inverse Matrizen](#Inverse Matrizen)\n",
       "        * [Matrizen als lineare Abbildungen](#Matrizen als lineare Abbildungen)\n",
       "            * [Lineare Abbildung und darstellende Matrix](#Lineare Abbildung und darstellende Matrix)\n",
       "            * [Hintereinander Ausführung von linearen Abbildungen](#Hintereinander Ausführung von linearen Abbildungen)\n",
       "            * [Abbildungsmatrizen](#Abbildungsmatrizen)\n",
       "            * [Basiswechselmatrizen](#Basiswechselmatrizen)\n",
       "        * [Isomorphiesatz und Dimensionsformel](#Isomorphiesatz und Dimensionsformel)\n",
       "            * [Struktur linearer Abbildungen](#Struktur linearer Abbildungen)\n",
       "            * [Kern einer linearen Abbildung](#Kern einer linearen Abbildung)\n",
       "            * [Bild einer linearen Abbildung](#Bild einer linearen Abbildung)\n",
       "            * [Intuition hinter Isomorphiesatz und Dimensionsformel](#Intuition hinter Isomorphiesatz und Dimensionsformel)\n",
       "            * [Isomorphiesatz](#Isomorphiesatz)\n",
       "            * [Dimensionsformel](#Dimensionsformel)\n",
       "        * [Gleichungssysteme und Matrizen](#Gleichungssysteme und Matrizen)\n",
       "            * [Gleichungssysteme und Matrizen](#Gleichungssysteme und Matrizen)\n",
       "            * [Matrixform](#Matrixform)\n",
       "            * [Lösbarkeitskriterien Gleichungssysteme](#Lösbarkeitskriterien Gleichungssysteme)\n",
       "            * [Lösung von Gleichungssystemen](#Lösung von Gleichungssystemen)\n",
       "        * [Die Determinante einer Matrix](#Die Determinante einer Matrix)\n",
       "            * [Determinanten](#Determinanten)\n",
       "            * [Eigenschaften der Determinante](#Eigenschaften der Determinante)\n",
       "            * [Determinante für Dreiecksmatrizen](#Determinante für Dreiecksmatrizen)\n",
       "            * [Adjungierte Matrix](#Adjungierte Matrix)\n",
       "            * [Cramer'sche Regel](#Cramer'sche Regel)\n",
       "            * [Leibniz-Formel der Determinante](#Leibniz-Formel der Determinante)\n",
       "        * [Affine Räume](#Affine Räume)\n",
       "            * [Affiner Raum in der linearen Algebra](#Affiner Raum in der linearen Algebra)\n",
       "            * [Affiner Unerraum](#Affiner Unerraum)\n",
       "            * [Affiner Punkteraum](#Affiner Punkteraum)\n",
       "            * [Beispiele](#Beispiele)\n",
       "            * [Affine Abbildungen](#Affine Abbildungen)\n",
       "    * [Buchanfänge](#Buchanfänge)\n",
       "        * [Grundlagen der Mathematik](#Grundlagen der Mathematik)\n",
       "            * [Mengenlehre](#Mengenlehre)\n",
       "                * [Tupelmodellierung durch Mengen](#Tupelmodellierung durch Mengen)\n",
       "            * [Mächtigkeit von Mengen](#Mächtigkeit von Mengen)\n",
       "                * [Hilberts Hotel](#Hilberts Hotel)\n",
       "        * [Analysis 1](#Analysis 1)\n",
       "            * [Reihen](#Reihen)\n",
       "                * [Cauchy-Produkt von Reihen](#Cauchy-Produkt von Reihen)\n",
       "                * [Summierbare Familien](#Summierbare Familien)\n",
       "                * [Banachscher Fixpunktsatz](#Banachscher Fixpunktsatz)\n",
       "            * [Unendliche Produkte](#Unendliche Produkte)\n",
       "                * [Teleskopprodukte](#Teleskopprodukte)\n",
       "            * [Taylor- und Potenzreihen](#Taylor- und Potenzreihen)\n",
       "                * [Aufgaben Taylorreihen](#Aufgaben Taylorreihen)\n",
       "                * [Aufgaben Potenzreihen](#Aufgaben Potenzreihen)\n",
       "            * [Differenzierbarkeit](#Differenzierbarkeit)\n",
       "                * [Konvexe Funktionen und Wendepunkte](#Konvexe Funktionen und Wendepunkte)\n",
       "            * [Integrale](#Integrale)\n",
       "                * [Treppenfunktionen](#Treppenfunktionen)\n",
       "                * [Regelfunktionen und Regelintegral](#Regelfunktionen und Regelintegral)\n",
       "        * [Algebra](#Algebra)\n",
       "            * [Auf dem Weg zur Gruppe](#Auf dem Weg zur Gruppe)\n",
       "            * [Grundlegende Eigenschaften](#Grundlegende Eigenschaften)\n",
       "            * [Untergruppen und Nebenklassen](#Untergruppen und Nebenklassen)\n",
       "        * [Gewöhnliche Differentialgleichungen](#Gewöhnliche Differentialgleichungen)\n",
       "            * [Wozu gewöhnliche Differentialgleichungen?](#Wozu gewöhnliche Differentialgleichungen?)\n",
       "        * [Abstellraum](#Abstellraum)\n",
       "            * [Abstellraum](#Abstellraum)\n",
       "    * [Informationen zum Projekt](#Informationen zum Projekt)\n",
       "        * [Über das Projekt](#Über das Projekt)\n",
       "            * [Über das Projekt](#Über das Projekt)\n",
       "            * [Unterstütze uns!](#Unterstütze uns!)\n",
       "            * [Kopiere uns!](#Kopiere uns!)\n",
       "            * [Kontakt](#Kontakt)\n",
       "            * [Spenden](#Spenden)\n",
       "            * [Ziele des Projekts](#Ziele des Projekts)\n",
       "            * [Freie Bildungsmaterialien](#Freie Bildungsmaterialien)\n",
       "            * [Presse und Blogbeiträge](#Presse und Blogbeiträge)\n",
       "        * [Hinweise für Autoren und Autorinnen](#Hinweise für Autoren und Autorinnen)\n",
       "            * [Allgemeine Hinweise](#Allgemeine Hinweise)\n",
       "            * [Formatierung von Kapiteln](#Formatierung von Kapiteln)\n",
       "        * [Zusammenarbeit](#Zusammenarbeit)\n",
       "            * [Aktuelle Aufgaben](#Aktuelle Aufgaben)\n",
       "            * [Ideen](#Ideen)\n",
       "            * [Umfragen](#Umfragen)\n",
       "            * [Sitemap: Übersicht aller Kapitel](#Sitemap: Übersicht aller Kapitel)\n",
       "            * [Letzte Änderungen am Projekt](#Letzte Änderungen am Projekt)\n",
       "            * [Projekte und Aktionen](#Projekte und Aktionen)\n",
       "            * [Protokolle](#Protokolle)\n",
       "            * [Archiv](#Archiv)\n"
      ],
      "text/plain": [
       "<IPython.core.display.Markdown object>"
      ]
     },
     "metadata": {},
     "output_type": "display_data"
    }
   ],
   "source": [
    "def toc(node, level=0):\n",
    "    result = (\" \" * level * 4) + (\"* [%s](#%s)\\n\" % (node[\"name\"], node[\"name\"]))\n",
    "    \n",
    "    for child in node[\"children\"]:\n",
    "        result += toc(child, level+1)\n",
    "    \n",
    "    return result\n",
    "\n",
    "h(\"Inhaltsverzeichnis\",1,hid=\"Inhaltsverzeichnis\")\n",
    "\n",
    "display_markdown(toc(sitemap))"
   ]
  },
  {
   "cell_type": "code",
   "execution_count": 21,
   "metadata": {
    "scrolled": false
   },
   "outputs": [
    {
     "data": {
      "text/html": [
       "<h1 id='Mathe für Nicht-Freaks'>= Mathe für Nicht-Freaks =</h1>"
      ],
      "text/plain": [
       "<IPython.core.display.HTML object>"
      ]
     },
     "metadata": {},
     "output_type": "display_data"
    },
    {
     "data": {
      "text/html": [
       "<h6>Artikel + Unterartikel: Seitenaufrufe 2016</h6>"
      ],
      "text/plain": [
       "<IPython.core.display.HTML object>"
      ]
     },
     "metadata": {},
     "output_type": "display_data"
    },
    {
     "data": {
      "image/png": "[encoded data removed]",
      "text/plain": [
       "<matplotlib.figure.Figure at 0x7f3eb959eb38>"
      ]
     },
     "metadata": {},
     "output_type": "display_data"
    },
    {
     "name": "stdout",
     "output_type": "stream",
     "text": [
      "Summe: 1.630.220\n",
      "Mean:      5.822\n"
     ]
    },
    {
     "data": {
      "text/html": [
       "<h6>Artikel + Unterartikel: Seitenaufrufe WiSe 2016/17</h6>"
      ],
      "text/plain": [
       "<IPython.core.display.HTML object>"
      ]
     },
     "metadata": {},
     "output_type": "display_data"
    },
    {
     "data": {
      "image/png": "[encoded data removed]",
      "text/plain": [
       "<matplotlib.figure.Figure at 0x7f3eb9763b00>"
      ]
     },
     "metadata": {},
     "output_type": "display_data"
    },
    {
     "name": "stdout",
     "output_type": "stream",
     "text": [
      "Summe: 1.241.460\n",
      "Mean:      4.433\n"
     ]
    },
    {
     "data": {
      "text/html": [
       "<h6>Artikel + Unterartikel: Differenz Seitenaufrufe WiSe 2016/17 zu WiSe 2015/16</h6>"
      ],
      "text/plain": [
       "<IPython.core.display.HTML object>"
      ]
     },
     "metadata": {},
     "output_type": "display_data"
    },
    {
     "data": {
      "image/png": "[encoded data removed]",
      "text/plain": [
       "<matplotlib.figure.Figure at 0x7f3eb985d978>"
      ]
     },
     "metadata": {},
     "output_type": "display_data"
    },
    {
     "name": "stdout",
     "output_type": "stream",
     "text": [
      "Summe:   357.555\n",
      "Mean:      1.276\n"
     ]
    },
    {
     "data": {
      "text/html": [
       "<h6>Artikel + Unterartikel: Quotient Seitenaufrufe MFNF / Wikipedia</h6>"
      ],
      "text/plain": [
       "<IPython.core.display.HTML object>"
      ]
     },
     "metadata": {},
     "output_type": "display_data"
    },
    {
     "data": {
      "image/png": "[encoded data removed]",
      "text/plain": [
       "<matplotlib.figure.Figure at 0x7f3eb9398da0>"
      ]
     },
     "metadata": {},
     "output_type": "display_data"
    },
    {
     "name": "stdout",
     "output_type": "stream",
     "text": [
      "Mean:  19%\n"
     ]
    },
    {
     "data": {
      "text/html": [
       "<h5>Seitenaufrufe Artikel</h5>"
      ],
      "text/plain": [
       "<IPython.core.display.HTML object>"
      ]
     },
     "metadata": {},
     "output_type": "display_data"
    },
    {
     "name": "stdout",
     "output_type": "stream",
     "text": [
      "2016:          54.029\n",
      "WiSe 16/17:    34.226 ┬    +2.484 ( +8%)\n",
      "WiSe 15/16:    31.742 ┘      \n"
     ]
    },
    {
     "data": {
      "text/html": [
       "<h5>Vergleich der Seitenaufrufe zum Wikipedia-Artikel</h5>"
      ],
      "text/plain": [
       "<IPython.core.display.HTML object>"
      ]
     },
     "metadata": {},
     "output_type": "display_data"
    },
    {
     "name": "stdout",
     "output_type": "stream",
     "text": [
      "Wikipedia-Artikel: Serlo\n",
      "Views WiSe 16/17:      1.582 ┬      +478 (+43%)\n",
      "Views WiSe 15/16:      1.104 ┘      \n",
      "\n",
      "MFNF / Wikipedia – WiSe 16/17: 2163%\n",
      "MFNF / Wikipedia – WiSe 15/16: 2875%\n"
     ]
    },
    {
     "data": {
      "text/markdown": [
       "[Zurück zum Inhaltsverzeichnis](#Inhaltsverzeichnis)"
      ],
      "text/plain": [
       "<IPython.core.display.Markdown object>"
      ]
     },
     "metadata": {},
     "output_type": "display_data"
    },
    {
     "data": {
      "text/html": [
       "<h2 id='Grundlagen der Mathematik'>== Grundlagen der Mathematik ==</h2>"
      ],
      "text/plain": [
       "<IPython.core.display.HTML object>"
      ]
     },
     "metadata": {},
     "output_type": "display_data"
    },
    {
     "data": {
      "text/html": [
       "<h6>Artikel + Unterartikel: Seitenaufrufe 2016</h6>"
      ],
      "text/plain": [
       "<IPython.core.display.HTML object>"
      ]
     },
     "metadata": {},
     "output_type": "display_data"
    },
    {
     "data": {
      "image/png": "[encoded data removed]",
      "text/plain": [
       "<matplotlib.figure.Figure at 0x7f3eb97bdcf8>"
      ]
     },
     "metadata": {},
     "output_type": "display_data"
    },
    {
     "name": "stdout",
     "output_type": "stream",
     "text": [
      "Summe:   805.988\n",
      "Mean:     13.660\n"
     ]
    },
    {
     "data": {
      "text/html": [
       "<h6>Artikel + Unterartikel: Seitenaufrufe WiSe 2016/17</h6>"
      ],
      "text/plain": [
       "<IPython.core.display.HTML object>"
      ]
     },
     "metadata": {},
     "output_type": "display_data"
    },
    {
     "data": {
      "image/png": "[encoded data removed]",
      "text/plain": [
       "<matplotlib.figure.Figure at 0x7f3eb9314c18>"
      ]
     },
     "metadata": {},
     "output_type": "display_data"
    },
    {
     "name": "stdout",
     "output_type": "stream",
     "text": [
      "Summe:   544.753\n",
      "Mean:      9.233\n"
     ]
    },
    {
     "data": {
      "text/html": [
       "<h6>Artikel + Unterartikel: Differenz Seitenaufrufe WiSe 2016/17 zu WiSe 2015/16</h6>"
      ],
      "text/plain": [
       "<IPython.core.display.HTML object>"
      ]
     },
     "metadata": {},
     "output_type": "display_data"
    },
    {
     "data": {
      "image/png": "[encoded data removed]",
      "text/plain": [
       "<matplotlib.figure.Figure at 0x7f3eb9398550>"
      ]
     },
     "metadata": {},
     "output_type": "display_data"
    },
    {
     "name": "stdout",
     "output_type": "stream",
     "text": [
      "Summe:    38.056\n",
      "Mean:        645\n"
     ]
    },
    {
     "data": {
      "text/html": [
       "<h6>Artikel + Unterartikel: Quotient Seitenaufrufe MFNF / Wikipedia</h6>"
      ],
      "text/plain": [
       "<IPython.core.display.HTML object>"
      ]
     },
     "metadata": {},
     "output_type": "display_data"
    },
    {
     "data": {
      "image/png": "[encoded data removed]",
      "text/plain": [
       "<matplotlib.figure.Figure at 0x7f3edce14080>"
      ]
     },
     "metadata": {},
     "output_type": "display_data"
    },
    {
     "name": "stdout",
     "output_type": "stream",
     "text": [
      "Mean:  28%\n"
     ]
    },
    {
     "data": {
      "text/html": [
       "<h5>Seitenaufrufe Artikel</h5>"
      ],
      "text/plain": [
       "<IPython.core.display.HTML object>"
      ]
     },
     "metadata": {},
     "output_type": "display_data"
    },
    {
     "name": "stdout",
     "output_type": "stream",
     "text": [
      "2016:          45.572\n",
      "WiSe 16/17:    27.279 ┬    -3.155 (-10%)\n",
      "WiSe 15/16:    30.434 ┘      \n"
     ]
    },
    {
     "data": {
      "text/html": [
       "<h5>Vergleich der Seitenaufrufe zum Wikipedia-Artikel</h5>"
      ],
      "text/plain": [
       "<IPython.core.display.HTML object>"
      ]
     },
     "metadata": {},
     "output_type": "display_data"
    },
    {
     "name": "stdout",
     "output_type": "stream",
     "text": [
      "Wikipedia-Artikel: Grundlagen der Mathematik\n",
      "Views WiSe 16/17:      4.168 ┬      +170 ( +4%)\n",
      "Views WiSe 15/16:      3.998 ┘      \n",
      "\n",
      "MFNF / Wikipedia – WiSe 16/17: 654%\n",
      "MFNF / Wikipedia – WiSe 15/16: 761%\n"
     ]
    },
    {
     "data": {
      "text/markdown": [
       "[Zurück zum Inhaltsverzeichnis](#Inhaltsverzeichnis)"
      ],
      "text/plain": [
       "<IPython.core.display.Markdown object>"
      ]
     },
     "metadata": {},
     "output_type": "display_data"
    },
    {
     "data": {
      "text/html": [
       "<h3 id='Was ist Mathematik?'>=== Was ist Mathematik? ===</h3>"
      ],
      "text/plain": [
       "<IPython.core.display.HTML object>"
      ]
     },
     "metadata": {},
     "output_type": "display_data"
    },
    {
     "data": {
      "text/markdown": [
       "[Zurück zum Inhaltsverzeichnis](#Inhaltsverzeichnis)"
      ],
      "text/plain": [
       "<IPython.core.display.Markdown object>"
      ]
     },
     "metadata": {},
     "output_type": "display_data"
    },
    {
     "data": {
      "text/html": [
       "<h4 id='Was ist Mathematik?'>==== Was ist Mathematik? ====</h4>"
      ],
      "text/plain": [
       "<IPython.core.display.HTML object>"
      ]
     },
     "metadata": {},
     "output_type": "display_data"
    },
    {
     "data": {
      "text/html": [
       "<h5>Seitenaufrufe Artikel</h5>"
      ],
      "text/plain": [
       "<IPython.core.display.HTML object>"
      ]
     },
     "metadata": {},
     "output_type": "display_data"
    },
    {
     "name": "stdout",
     "output_type": "stream",
     "text": [
      "2016:           5.225\n",
      "WiSe 16/17:     2.690 ┬      -179 ( -6%)\n",
      "WiSe 15/16:     2.869 ┘      \n"
     ]
    },
    {
     "data": {
      "text/html": [
       "<h5>Vergleich der Seitenaufrufe zum Wikipedia-Artikel</h5>"
      ],
      "text/plain": [
       "<IPython.core.display.HTML object>"
      ]
     },
     "metadata": {},
     "output_type": "display_data"
    },
    {
     "name": "stdout",
     "output_type": "stream",
     "text": [
      "Wikipedia-Artikel: Mathematik\n",
      "Views WiSe 16/17:    121.886 ┬    +4.207 ( +4%)\n",
      "Views WiSe 15/16:    117.679 ┘      \n",
      "\n",
      "MFNF / Wikipedia – WiSe 16/17:   2%\n",
      "MFNF / Wikipedia – WiSe 15/16:   2%\n"
     ]
    },
    {
     "data": {
      "text/markdown": [
       "[Zurück zum Inhaltsverzeichnis](#Inhaltsverzeichnis)"
      ],
      "text/plain": [
       "<IPython.core.display.Markdown object>"
      ]
     },
     "metadata": {},
     "output_type": "display_data"
    },
    {
     "data": {
      "text/html": [
       "<h4 id='Teilgebiete der Mathematik'>==== Teilgebiete der Mathematik ====</h4>"
      ],
      "text/plain": [
       "<IPython.core.display.HTML object>"
      ]
     },
     "metadata": {},
     "output_type": "display_data"
    },
    {
     "data": {
      "text/html": [
       "<h5>Seitenaufrufe Artikel</h5>"
      ],
      "text/plain": [
       "<IPython.core.display.HTML object>"
      ]
     },
     "metadata": {},
     "output_type": "display_data"
    },
    {
     "name": "stdout",
     "output_type": "stream",
     "text": [
      "2016:               7\n",
      "WiSe 16/17:       497 ┬      +497        \n",
      "WiSe 15/16:         0 ┘      \n"
     ]
    },
    {
     "data": {
      "text/html": [
       "<h5>Vergleich der Seitenaufrufe zum Wikipedia-Artikel</h5>"
      ],
      "text/plain": [
       "<IPython.core.display.HTML object>"
      ]
     },
     "metadata": {},
     "output_type": "display_data"
    },
    {
     "name": "stdout",
     "output_type": "stream",
     "text": [
      "Wikipedia-Artikel: Teilgebiete der Mathematik\n",
      "Views WiSe 16/17:     18.925 ┬      +879 ( +5%)\n",
      "Views WiSe 15/16:     18.046 ┘      \n",
      "\n",
      "MFNF / Wikipedia – WiSe 16/17:   3%\n",
      "MFNF / Wikipedia – WiSe 15/16:   0%\n"
     ]
    },
    {
     "data": {
      "text/markdown": [
       "[Zurück zum Inhaltsverzeichnis](#Inhaltsverzeichnis)"
      ],
      "text/plain": [
       "<IPython.core.display.Markdown object>"
      ]
     },
     "metadata": {},
     "output_type": "display_data"
    },
    {
     "data": {
      "text/html": [
       "<h3 id='Einführung in die Logik'>=== Einführung in die Logik ===</h3>"
      ],
      "text/plain": [
       "<IPython.core.display.HTML object>"
      ]
     },
     "metadata": {},
     "output_type": "display_data"
    },
    {
     "data": {
      "text/markdown": [
       "[Zurück zum Inhaltsverzeichnis](#Inhaltsverzeichnis)"
      ],
      "text/plain": [
       "<IPython.core.display.Markdown object>"
      ]
     },
     "metadata": {},
     "output_type": "display_data"
    },
    {
     "data": {
      "text/html": [
       "<h4 id='Aussagenlogik'>==== Aussagenlogik ====</h4>"
      ],
      "text/plain": [
       "<IPython.core.display.HTML object>"
      ]
     },
     "metadata": {},
     "output_type": "display_data"
    },
    {
     "data": {
      "text/html": [
       "<h5>Seitenaufrufe Artikel</h5>"
      ],
      "text/plain": [
       "<IPython.core.display.HTML object>"
      ]
     },
     "metadata": {},
     "output_type": "display_data"
    },
    {
     "name": "stdout",
     "output_type": "stream",
     "text": [
      "2016:          13.090\n",
      "WiSe 16/17:     7.510 ┬    -1.377 (-15%)\n",
      "WiSe 15/16:     8.887 ┘      \n"
     ]
    },
    {
     "data": {
      "text/html": [
       "<h5>Vergleich der Seitenaufrufe zum Wikipedia-Artikel</h5>"
      ],
      "text/plain": [
       "<IPython.core.display.HTML object>"
      ]
     },
     "metadata": {},
     "output_type": "display_data"
    },
    {
     "name": "stdout",
     "output_type": "stream",
     "text": [
      "Wikipedia-Artikel: Aussagenlogik\n",
      "Views WiSe 16/17:     73.853 ┬    +4.021 ( +6%)\n",
      "Views WiSe 15/16:     69.832 ┘      \n",
      "\n",
      "MFNF / Wikipedia – WiSe 16/17:  10%\n",
      "MFNF / Wikipedia – WiSe 15/16:  13%\n"
     ]
    },
    {
     "data": {
      "text/markdown": [
       "[Zurück zum Inhaltsverzeichnis](#Inhaltsverzeichnis)"
      ],
      "text/plain": [
       "<IPython.core.display.Markdown object>"
      ]
     },
     "metadata": {},
     "output_type": "display_data"
    },
    {
     "data": {
      "text/html": [
       "<h4 id='Junktoren'>==== Junktoren ====</h4>"
      ],
      "text/plain": [
       "<IPython.core.display.HTML object>"
      ]
     },
     "metadata": {},
     "output_type": "display_data"
    },
    {
     "data": {
      "text/html": [
       "<h5>Seitenaufrufe Artikel</h5>"
      ],
      "text/plain": [
       "<IPython.core.display.HTML object>"
      ]
     },
     "metadata": {},
     "output_type": "display_data"
    },
    {
     "name": "stdout",
     "output_type": "stream",
     "text": [
      "2016:          21.300\n",
      "WiSe 16/17:    12.480 ┬    -2.841 (-19%)\n",
      "WiSe 15/16:    15.321 ┘      \n"
     ]
    },
    {
     "data": {
      "text/html": [
       "<h5>Vergleich der Seitenaufrufe zum Wikipedia-Artikel</h5>"
      ],
      "text/plain": [
       "<IPython.core.display.HTML object>"
      ]
     },
     "metadata": {},
     "output_type": "display_data"
    },
    {
     "name": "stdout",
     "output_type": "stream",
     "text": [
      "Wikipedia-Artikel: Junktor\n",
      "Views WiSe 16/17:     15.311 ┬      -297 ( -2%)\n",
      "Views WiSe 15/16:     15.608 ┘      \n",
      "\n",
      "MFNF / Wikipedia – WiSe 16/17:  82%\n",
      "MFNF / Wikipedia – WiSe 15/16:  98%\n"
     ]
    },
    {
     "data": {
      "text/markdown": [
       "[Zurück zum Inhaltsverzeichnis](#Inhaltsverzeichnis)"
      ],
      "text/plain": [
       "<IPython.core.display.Markdown object>"
      ]
     },
     "metadata": {},
     "output_type": "display_data"
    },
    {
     "data": {
      "text/html": [
       "<h4 id='Notwendige und hinreichende Bedingungen'>==== Notwendige und hinreichende Bedingungen ====</h4>"
      ],
      "text/plain": [
       "<IPython.core.display.HTML object>"
      ]
     },
     "metadata": {},
     "output_type": "display_data"
    },
    {
     "data": {
      "text/html": [
       "<h5>Seitenaufrufe Artikel</h5>"
      ],
      "text/plain": [
       "<IPython.core.display.HTML object>"
      ]
     },
     "metadata": {},
     "output_type": "display_data"
    },
    {
     "name": "stdout",
     "output_type": "stream",
     "text": [
      "2016:           5.002\n",
      "WiSe 16/17:     3.206 ┬      -123 ( -4%)\n",
      "WiSe 15/16:     3.329 ┘      \n"
     ]
    },
    {
     "data": {
      "text/html": [
       "<h5>Vergleich der Seitenaufrufe zum Wikipedia-Artikel</h5>"
      ],
      "text/plain": [
       "<IPython.core.display.HTML object>"
      ]
     },
     "metadata": {},
     "output_type": "display_data"
    },
    {
     "name": "stdout",
     "output_type": "stream",
     "text": [
      "Wikipedia-Artikel: Notwendige und hinreichende Bedingung\n",
      "Views WiSe 16/17:     47.155 ┬    +4.325 (+10%)\n",
      "Views WiSe 15/16:     42.830 ┘      \n",
      "\n",
      "MFNF / Wikipedia – WiSe 16/17:   7%\n",
      "MFNF / Wikipedia – WiSe 15/16:   8%\n"
     ]
    },
    {
     "data": {
      "text/markdown": [
       "[Zurück zum Inhaltsverzeichnis](#Inhaltsverzeichnis)"
      ],
      "text/plain": [
       "<IPython.core.display.Markdown object>"
      ]
     },
     "metadata": {},
     "output_type": "display_data"
    },
    {
     "data": {
      "text/html": [
       "<h4 id='Wahrheitstabelle'>==== Wahrheitstabelle ====</h4>"
      ],
      "text/plain": [
       "<IPython.core.display.HTML object>"
      ]
     },
     "metadata": {},
     "output_type": "display_data"
    },
    {
     "data": {
      "text/html": [
       "<h5>Seitenaufrufe Artikel</h5>"
      ],
      "text/plain": [
       "<IPython.core.display.HTML object>"
      ]
     },
     "metadata": {},
     "output_type": "display_data"
    },
    {
     "name": "stdout",
     "output_type": "stream",
     "text": [
      "2016:          12.370\n",
      "WiSe 16/17:     8.770 ┬    +1.479 (+20%)\n",
      "WiSe 15/16:     7.291 ┘      \n"
     ]
    },
    {
     "data": {
      "text/html": [
       "<h5>Vergleich der Seitenaufrufe zum Wikipedia-Artikel</h5>"
      ],
      "text/plain": [
       "<IPython.core.display.HTML object>"
      ]
     },
     "metadata": {},
     "output_type": "display_data"
    },
    {
     "name": "stdout",
     "output_type": "stream",
     "text": [
      "Wikipedia-Artikel: Wahrheitstabelle\n",
      "Views WiSe 16/17:     37.747 ┬    +1.854 ( +5%)\n",
      "Views WiSe 15/16:     35.893 ┘      \n",
      "\n",
      "MFNF / Wikipedia – WiSe 16/17:  23%\n",
      "MFNF / Wikipedia – WiSe 15/16:  20%\n"
     ]
    },
    {
     "data": {
      "text/markdown": [
       "[Zurück zum Inhaltsverzeichnis](#Inhaltsverzeichnis)"
      ],
      "text/plain": [
       "<IPython.core.display.Markdown object>"
      ]
     },
     "metadata": {},
     "output_type": "display_data"
    },
    {
     "data": {
      "text/html": [
       "<h4 id='Quantoren'>==== Quantoren ====</h4>"
      ],
      "text/plain": [
       "<IPython.core.display.HTML object>"
      ]
     },
     "metadata": {},
     "output_type": "display_data"
    },
    {
     "data": {
      "text/html": [
       "<h5>Seitenaufrufe Artikel</h5>"
      ],
      "text/plain": [
       "<IPython.core.display.HTML object>"
      ]
     },
     "metadata": {},
     "output_type": "display_data"
    },
    {
     "name": "stdout",
     "output_type": "stream",
     "text": [
      "2016:          23.060\n",
      "WiSe 16/17:    15.344 ┬    +1.523 (+11%)\n",
      "WiSe 15/16:    13.821 ┘      \n"
     ]
    },
    {
     "data": {
      "text/html": [
       "<h5>Vergleich der Seitenaufrufe zum Wikipedia-Artikel</h5>"
      ],
      "text/plain": [
       "<IPython.core.display.HTML object>"
      ]
     },
     "metadata": {},
     "output_type": "display_data"
    },
    {
     "name": "stdout",
     "output_type": "stream",
     "text": [
      "Wikipedia-Artikel: Quantor\n",
      "Views WiSe 16/17:     30.925 ┬    +3.288 (+12%)\n",
      "Views WiSe 15/16:     27.637 ┘      \n",
      "\n",
      "MFNF / Wikipedia – WiSe 16/17:  50%\n",
      "MFNF / Wikipedia – WiSe 15/16:  50%\n"
     ]
    },
    {
     "data": {
      "text/markdown": [
       "[Zurück zum Inhaltsverzeichnis](#Inhaltsverzeichnis)"
      ],
      "text/plain": [
       "<IPython.core.display.Markdown object>"
      ]
     },
     "metadata": {},
     "output_type": "display_data"
    },
    {
     "data": {
      "text/html": [
       "<h4 id='Aussageform und Substitution'>==== Aussageform und Substitution ====</h4>"
      ],
      "text/plain": [
       "<IPython.core.display.HTML object>"
      ]
     },
     "metadata": {},
     "output_type": "display_data"
    },
    {
     "data": {
      "text/html": [
       "<h5>Seitenaufrufe Artikel</h5>"
      ],
      "text/plain": [
       "<IPython.core.display.HTML object>"
      ]
     },
     "metadata": {},
     "output_type": "display_data"
    },
    {
     "name": "stdout",
     "output_type": "stream",
     "text": [
      "2016:           3.120\n",
      "WiSe 16/17:     1.714 ┬      -342 (-17%)\n",
      "WiSe 15/16:     2.056 ┘      \n"
     ]
    },
    {
     "data": {
      "text/html": [
       "<h5>Vergleich der Seitenaufrufe zum Wikipedia-Artikel</h5>"
      ],
      "text/plain": [
       "<IPython.core.display.HTML object>"
      ]
     },
     "metadata": {},
     "output_type": "display_data"
    },
    {
     "name": "stdout",
     "output_type": "stream",
     "text": [
      "Wikipedia-Artikel: Aussageform\n",
      "Views WiSe 16/17:      2.314 ┬      +145 ( +7%)\n",
      "Views WiSe 15/16:      2.169 ┘      \n",
      "\n",
      "MFNF / Wikipedia – WiSe 16/17:  74%\n",
      "MFNF / Wikipedia – WiSe 15/16:  95%\n"
     ]
    },
    {
     "data": {
      "text/markdown": [
       "[Zurück zum Inhaltsverzeichnis](#Inhaltsverzeichnis)"
      ],
      "text/plain": [
       "<IPython.core.display.Markdown object>"
      ]
     },
     "metadata": {},
     "output_type": "display_data"
    },
    {
     "data": {
      "text/html": [
       "<h4 id='Tautologien'>==== Tautologien ====</h4>"
      ],
      "text/plain": [
       "<IPython.core.display.HTML object>"
      ]
     },
     "metadata": {},
     "output_type": "display_data"
    },
    {
     "data": {
      "text/html": [
       "<h5>Seitenaufrufe Artikel</h5>"
      ],
      "text/plain": [
       "<IPython.core.display.HTML object>"
      ]
     },
     "metadata": {},
     "output_type": "display_data"
    },
    {
     "name": "stdout",
     "output_type": "stream",
     "text": [
      "2016:          10.559\n",
      "WiSe 16/17:     7.725 ┬      +960 (+14%)\n",
      "WiSe 15/16:     6.765 ┘      \n"
     ]
    },
    {
     "data": {
      "text/html": [
       "<h5>Vergleich der Seitenaufrufe zum Wikipedia-Artikel</h5>"
      ],
      "text/plain": [
       "<IPython.core.display.HTML object>"
      ]
     },
     "metadata": {},
     "output_type": "display_data"
    },
    {
     "name": "stdout",
     "output_type": "stream",
     "text": [
      "Wikipedia-Artikel: Tautologie (Logik)\n",
      "Views WiSe 16/17:     51.885 ┬   -10.232 (-16%)\n",
      "Views WiSe 15/16:     62.117 ┘      \n",
      "\n",
      "MFNF / Wikipedia – WiSe 16/17:  15%\n",
      "MFNF / Wikipedia – WiSe 15/16:  11%\n"
     ]
    },
    {
     "data": {
      "text/markdown": [
       "[Zurück zum Inhaltsverzeichnis](#Inhaltsverzeichnis)"
      ],
      "text/plain": [
       "<IPython.core.display.Markdown object>"
      ]
     },
     "metadata": {},
     "output_type": "display_data"
    },
    {
     "data": {
      "text/html": [
       "<h4 id='Aussagen formalisieren'>==== Aussagen formalisieren ====</h4>"
      ],
      "text/plain": [
       "<IPython.core.display.HTML object>"
      ]
     },
     "metadata": {},
     "output_type": "display_data"
    },
    {
     "data": {
      "text/html": [
       "<h5>Seitenaufrufe Artikel</h5>"
      ],
      "text/plain": [
       "<IPython.core.display.HTML object>"
      ]
     },
     "metadata": {},
     "output_type": "display_data"
    },
    {
     "name": "stdout",
     "output_type": "stream",
     "text": [
      "2016:           4.340\n",
      "WiSe 16/17:     3.066 ┬      +558 (+22%)\n",
      "WiSe 15/16:     2.508 ┘      \n"
     ]
    },
    {
     "data": {
      "text/markdown": [
       "[Zurück zum Inhaltsverzeichnis](#Inhaltsverzeichnis)"
      ],
      "text/plain": [
       "<IPython.core.display.Markdown object>"
      ]
     },
     "metadata": {},
     "output_type": "display_data"
    },
    {
     "data": {
      "text/html": [
       "<h4 id='Aussagen negieren'>==== Aussagen negieren ====</h4>"
      ],
      "text/plain": [
       "<IPython.core.display.HTML object>"
      ]
     },
     "metadata": {},
     "output_type": "display_data"
    },
    {
     "data": {
      "text/html": [
       "<h5>Seitenaufrufe Artikel</h5>"
      ],
      "text/plain": [
       "<IPython.core.display.HTML object>"
      ]
     },
     "metadata": {},
     "output_type": "display_data"
    },
    {
     "name": "stdout",
     "output_type": "stream",
     "text": [
      "2016:          28.804\n",
      "WiSe 16/17:    25.138 ┬   +10.609 (+73%)\n",
      "WiSe 15/16:    14.529 ┘      \n"
     ]
    },
    {
     "data": {
      "text/markdown": [
       "[Zurück zum Inhaltsverzeichnis](#Inhaltsverzeichnis)"
      ],
      "text/plain": [
       "<IPython.core.display.Markdown object>"
      ]
     },
     "metadata": {},
     "output_type": "display_data"
    },
    {
     "data": {
      "text/html": [
       "<h4 id='Gesetze der Logik'>==== Gesetze der Logik ====</h4>"
      ],
      "text/plain": [
       "<IPython.core.display.HTML object>"
      ]
     },
     "metadata": {},
     "output_type": "display_data"
    },
    {
     "data": {
      "text/html": [
       "<h5>Seitenaufrufe Artikel</h5>"
      ],
      "text/plain": [
       "<IPython.core.display.HTML object>"
      ]
     },
     "metadata": {},
     "output_type": "display_data"
    },
    {
     "name": "stdout",
     "output_type": "stream",
     "text": [
      "2016:           3.697\n",
      "WiSe 16/17:     3.329 ┬    +1.560 (+88%)\n",
      "WiSe 15/16:     1.769 ┘      \n"
     ]
    },
    {
     "data": {
      "text/markdown": [
       "[Zurück zum Inhaltsverzeichnis](#Inhaltsverzeichnis)"
      ],
      "text/plain": [
       "<IPython.core.display.Markdown object>"
      ]
     },
     "metadata": {},
     "output_type": "display_data"
    },
    {
     "data": {
      "text/html": [
       "<h4 id='Aufgaben'>==== Aufgaben ====</h4>"
      ],
      "text/plain": [
       "<IPython.core.display.HTML object>"
      ]
     },
     "metadata": {},
     "output_type": "display_data"
    },
    {
     "data": {
      "text/html": [
       "<h5>Seitenaufrufe Artikel</h5>"
      ],
      "text/plain": [
       "<IPython.core.display.HTML object>"
      ]
     },
     "metadata": {},
     "output_type": "display_data"
    },
    {
     "name": "stdout",
     "output_type": "stream",
     "text": [
      "2016:           2.250\n",
      "WiSe 16/17:     1.262 ┬      -246 (-16%)\n",
      "WiSe 15/16:     1.508 ┘      \n"
     ]
    },
    {
     "data": {
      "text/markdown": [
       "[Zurück zum Inhaltsverzeichnis](#Inhaltsverzeichnis)"
      ],
      "text/plain": [
       "<IPython.core.display.Markdown object>"
      ]
     },
     "metadata": {},
     "output_type": "display_data"
    },
    {
     "data": {
      "text/html": [
       "<h3 id='Beweise und Beweismethoden'>=== Beweise und Beweismethoden ===</h3>"
      ],
      "text/plain": [
       "<IPython.core.display.HTML object>"
      ]
     },
     "metadata": {},
     "output_type": "display_data"
    },
    {
     "data": {
      "text/markdown": [
       "[Zurück zum Inhaltsverzeichnis](#Inhaltsverzeichnis)"
      ],
      "text/plain": [
       "<IPython.core.display.Markdown object>"
      ]
     },
     "metadata": {},
     "output_type": "display_data"
    },
    {
     "data": {
      "text/html": [
       "<h4 id='Was sind Beweise?'>==== Was sind Beweise? ====</h4>"
      ],
      "text/plain": [
       "<IPython.core.display.HTML object>"
      ]
     },
     "metadata": {},
     "output_type": "display_data"
    },
    {
     "data": {
      "text/html": [
       "<h5>Seitenaufrufe Artikel</h5>"
      ],
      "text/plain": [
       "<IPython.core.display.HTML object>"
      ]
     },
     "metadata": {},
     "output_type": "display_data"
    },
    {
     "name": "stdout",
     "output_type": "stream",
     "text": [
      "2016:          10.394\n",
      "WiSe 16/17:     6.345 ┬       +15 ( +0%)\n",
      "WiSe 15/16:     6.330 ┘      \n"
     ]
    },
    {
     "data": {
      "text/html": [
       "<h5>Vergleich der Seitenaufrufe zum Wikipedia-Artikel</h5>"
      ],
      "text/plain": [
       "<IPython.core.display.HTML object>"
      ]
     },
     "metadata": {},
     "output_type": "display_data"
    },
    {
     "name": "stdout",
     "output_type": "stream",
     "text": [
      "Wikipedia-Artikel: Beweis (Mathematik)\n",
      "Views WiSe 16/17:     23.114 ┬      -806 ( -3%)\n",
      "Views WiSe 15/16:     23.920 ┘      \n",
      "\n",
      "MFNF / Wikipedia – WiSe 16/17:  27%\n",
      "MFNF / Wikipedia – WiSe 15/16:  26%\n"
     ]
    },
    {
     "data": {
      "text/markdown": [
       "[Zurück zum Inhaltsverzeichnis](#Inhaltsverzeichnis)"
      ],
      "text/plain": [
       "<IPython.core.display.Markdown object>"
      ]
     },
     "metadata": {},
     "output_type": "display_data"
    },
    {
     "data": {
      "text/html": [
       "<h4 id='Direkter und indirekter Beweis'>==== Direkter und indirekter Beweis ====</h4>"
      ],
      "text/plain": [
       "<IPython.core.display.HTML object>"
      ]
     },
     "metadata": {},
     "output_type": "display_data"
    },
    {
     "data": {
      "text/html": [
       "<h5>Seitenaufrufe Artikel</h5>"
      ],
      "text/plain": [
       "<IPython.core.display.HTML object>"
      ]
     },
     "metadata": {},
     "output_type": "display_data"
    },
    {
     "name": "stdout",
     "output_type": "stream",
     "text": [
      "2016:          23.268\n",
      "WiSe 16/17:    17.479 ┬    +3.676 (+27%)\n",
      "WiSe 15/16:    13.803 ┘      \n"
     ]
    },
    {
     "data": {
      "text/html": [
       "<h5>Vergleich der Seitenaufrufe zum Wikipedia-Artikel</h5>"
      ],
      "text/plain": [
       "<IPython.core.display.HTML object>"
      ]
     },
     "metadata": {},
     "output_type": "display_data"
    },
    {
     "name": "stdout",
     "output_type": "stream",
     "text": [
      "Wikipedia-Artikel: Reductio ad absurdum\n",
      "Views WiSe 16/17:     16.790 ┬    -1.010 ( -6%)\n",
      "Views WiSe 15/16:     17.800 ┘      \n",
      "\n",
      "MFNF / Wikipedia – WiSe 16/17: 104%\n",
      "MFNF / Wikipedia – WiSe 15/16:  78%\n"
     ]
    },
    {
     "data": {
      "text/markdown": [
       "[Zurück zum Inhaltsverzeichnis](#Inhaltsverzeichnis)"
      ],
      "text/plain": [
       "<IPython.core.display.Markdown object>"
      ]
     },
     "metadata": {},
     "output_type": "display_data"
    },
    {
     "data": {
      "text/html": [
       "<h4 id='Fallunterscheidung und Kontraposition'>==== Fallunterscheidung und Kontraposition ====</h4>"
      ],
      "text/plain": [
       "<IPython.core.display.HTML object>"
      ]
     },
     "metadata": {},
     "output_type": "display_data"
    },
    {
     "data": {
      "text/html": [
       "<h5>Seitenaufrufe Artikel</h5>"
      ],
      "text/plain": [
       "<IPython.core.display.HTML object>"
      ]
     },
     "metadata": {},
     "output_type": "display_data"
    },
    {
     "name": "stdout",
     "output_type": "stream",
     "text": [
      "2016:           9.850\n",
      "WiSe 16/17:     6.712 ┬      +212 ( +3%)\n",
      "WiSe 15/16:     6.500 ┘      \n"
     ]
    },
    {
     "data": {
      "text/html": [
       "<h5>Vergleich der Seitenaufrufe zum Wikipedia-Artikel</h5>"
      ],
      "text/plain": [
       "<IPython.core.display.HTML object>"
      ]
     },
     "metadata": {},
     "output_type": "display_data"
    },
    {
     "name": "stdout",
     "output_type": "stream",
     "text": [
      "Wikipedia-Artikel: Kontraposition\n",
      "Views WiSe 16/17:      8.570 ┬      +755 (+10%)\n",
      "Views WiSe 15/16:      7.815 ┘      \n",
      "\n",
      "MFNF / Wikipedia – WiSe 16/17:  78%\n",
      "MFNF / Wikipedia – WiSe 15/16:  83%\n"
     ]
    },
    {
     "data": {
      "text/markdown": [
       "[Zurück zum Inhaltsverzeichnis](#Inhaltsverzeichnis)"
      ],
      "text/plain": [
       "<IPython.core.display.Markdown object>"
      ]
     },
     "metadata": {},
     "output_type": "display_data"
    },
    {
     "data": {
      "text/html": [
       "<h3 id='Vollständige Induktion'>=== Vollständige Induktion ===</h3>"
      ],
      "text/plain": [
       "<IPython.core.display.HTML object>"
      ]
     },
     "metadata": {},
     "output_type": "display_data"
    },
    {
     "data": {
      "text/markdown": [
       "[Zurück zum Inhaltsverzeichnis](#Inhaltsverzeichnis)"
      ],
      "text/plain": [
       "<IPython.core.display.Markdown object>"
      ]
     },
     "metadata": {},
     "output_type": "display_data"
    },
    {
     "data": {
      "text/html": [
       "<h4 id='Definition und Erklärung'>==== Definition und Erklärung ====</h4>"
      ],
      "text/plain": [
       "<IPython.core.display.HTML object>"
      ]
     },
     "metadata": {},
     "output_type": "display_data"
    },
    {
     "data": {
      "text/html": [
       "<h5>Seitenaufrufe Artikel</h5>"
      ],
      "text/plain": [
       "<IPython.core.display.HTML object>"
      ]
     },
     "metadata": {},
     "output_type": "display_data"
    },
    {
     "name": "stdout",
     "output_type": "stream",
     "text": [
      "2016:          76.878\n",
      "WiSe 16/17:    54.559 ┬    +1.218 ( +2%)\n",
      "WiSe 15/16:    53.341 ┘      \n"
     ]
    },
    {
     "data": {
      "text/html": [
       "<h5>Vergleich der Seitenaufrufe zum Wikipedia-Artikel</h5>"
      ],
      "text/plain": [
       "<IPython.core.display.HTML object>"
      ]
     },
     "metadata": {},
     "output_type": "display_data"
    },
    {
     "name": "stdout",
     "output_type": "stream",
     "text": [
      "Wikipedia-Artikel: Vollständige Induktion\n",
      "Views WiSe 16/17:     70.702 ┬    -2.570 ( -4%)\n",
      "Views WiSe 15/16:     73.272 ┘      \n",
      "\n",
      "MFNF / Wikipedia – WiSe 16/17:  77%\n",
      "MFNF / Wikipedia – WiSe 15/16:  73%\n"
     ]
    },
    {
     "data": {
      "text/markdown": [
       "[Zurück zum Inhaltsverzeichnis](#Inhaltsverzeichnis)"
      ],
      "text/plain": [
       "<IPython.core.display.Markdown object>"
      ]
     },
     "metadata": {},
     "output_type": "display_data"
    },
    {
     "data": {
      "text/html": [
       "<h4 id='Beispielaufgaben'>==== Beispielaufgaben ====</h4>"
      ],
      "text/plain": [
       "<IPython.core.display.HTML object>"
      ]
     },
     "metadata": {},
     "output_type": "display_data"
    },
    {
     "data": {
      "text/html": [
       "<h5>Seitenaufrufe Artikel</h5>"
      ],
      "text/plain": [
       "<IPython.core.display.HTML object>"
      ]
     },
     "metadata": {},
     "output_type": "display_data"
    },
    {
     "name": "stdout",
     "output_type": "stream",
     "text": [
      "2016:          32.278\n",
      "WiSe 16/17:    23.480 ┬    -9.002 (-28%)\n",
      "WiSe 15/16:    32.482 ┘      \n"
     ]
    },
    {
     "data": {
      "text/markdown": [
       "[Zurück zum Inhaltsverzeichnis](#Inhaltsverzeichnis)"
      ],
      "text/plain": [
       "<IPython.core.display.Markdown object>"
      ]
     },
     "metadata": {},
     "output_type": "display_data"
    },
    {
     "data": {
      "text/html": [
       "<h3 id='Mengenlehre'>=== Mengenlehre ===</h3>"
      ],
      "text/plain": [
       "<IPython.core.display.HTML object>"
      ]
     },
     "metadata": {},
     "output_type": "display_data"
    },
    {
     "data": {
      "text/markdown": [
       "[Zurück zum Inhaltsverzeichnis](#Inhaltsverzeichnis)"
      ],
      "text/plain": [
       "<IPython.core.display.Markdown object>"
      ]
     },
     "metadata": {},
     "output_type": "display_data"
    },
    {
     "data": {
      "text/html": [
       "<h4 id='Definition einer Menge'>==== Definition einer Menge ====</h4>"
      ],
      "text/plain": [
       "<IPython.core.display.HTML object>"
      ]
     },
     "metadata": {},
     "output_type": "display_data"
    },
    {
     "data": {
      "text/html": [
       "<h5>Seitenaufrufe Artikel</h5>"
      ],
      "text/plain": [
       "<IPython.core.display.HTML object>"
      ]
     },
     "metadata": {},
     "output_type": "display_data"
    },
    {
     "name": "stdout",
     "output_type": "stream",
     "text": [
      "2016:          13.417\n",
      "WiSe 16/17:     7.401 ┬    -3.353 (-31%)\n",
      "WiSe 15/16:    10.754 ┘      \n"
     ]
    },
    {
     "data": {
      "text/html": [
       "<h5>Vergleich der Seitenaufrufe zum Wikipedia-Artikel</h5>"
      ],
      "text/plain": [
       "<IPython.core.display.HTML object>"
      ]
     },
     "metadata": {},
     "output_type": "display_data"
    },
    {
     "name": "stdout",
     "output_type": "stream",
     "text": [
      "Wikipedia-Artikel: Mengenlehre\n",
      "Views WiSe 16/17:     92.578 ┬    -6.841 ( -7%)\n",
      "Views WiSe 15/16:     99.419 ┘      \n",
      "\n",
      "MFNF / Wikipedia – WiSe 16/17:   8%\n",
      "MFNF / Wikipedia – WiSe 15/16:  11%\n"
     ]
    },
    {
     "data": {
      "text/markdown": [
       "[Zurück zum Inhaltsverzeichnis](#Inhaltsverzeichnis)"
      ],
      "text/plain": [
       "<IPython.core.display.Markdown object>"
      ]
     },
     "metadata": {},
     "output_type": "display_data"
    },
    {
     "data": {
      "text/html": [
       "<h4 id='Mengenschreibweisen'>==== Mengenschreibweisen ====</h4>"
      ],
      "text/plain": [
       "<IPython.core.display.HTML object>"
      ]
     },
     "metadata": {},
     "output_type": "display_data"
    },
    {
     "data": {
      "text/html": [
       "<h5>Seitenaufrufe Artikel</h5>"
      ],
      "text/plain": [
       "<IPython.core.display.HTML object>"
      ]
     },
     "metadata": {},
     "output_type": "display_data"
    },
    {
     "name": "stdout",
     "output_type": "stream",
     "text": [
      "2016:           8.375\n",
      "WiSe 16/17:     6.588 ┬    +3.451 (+110%)\n",
      "WiSe 15/16:     3.137 ┘      \n"
     ]
    },
    {
     "data": {
      "text/html": [
       "<h5>Vergleich der Seitenaufrufe zum Wikipedia-Artikel</h5>"
      ],
      "text/plain": [
       "<IPython.core.display.HTML object>"
      ]
     },
     "metadata": {},
     "output_type": "display_data"
    },
    {
     "name": "stdout",
     "output_type": "stream",
     "text": [
      "Wikipedia-Artikel: Menge (Mathematik)\n",
      "Views WiSe 16/17:     81.679 ┬    +7.019 ( +9%)\n",
      "Views WiSe 15/16:     74.660 ┘      \n",
      "\n",
      "MFNF / Wikipedia – WiSe 16/17:   8%\n",
      "MFNF / Wikipedia – WiSe 15/16:   4%\n"
     ]
    },
    {
     "data": {
      "text/markdown": [
       "[Zurück zum Inhaltsverzeichnis](#Inhaltsverzeichnis)"
      ],
      "text/plain": [
       "<IPython.core.display.Markdown object>"
      ]
     },
     "metadata": {},
     "output_type": "display_data"
    },
    {
     "data": {
      "text/html": [
       "<h4 id='Russells Antinomie'>==== Russells Antinomie ====</h4>"
      ],
      "text/plain": [
       "<IPython.core.display.HTML object>"
      ]
     },
     "metadata": {},
     "output_type": "display_data"
    },
    {
     "data": {
      "text/html": [
       "<h5>Seitenaufrufe Artikel</h5>"
      ],
      "text/plain": [
       "<IPython.core.display.HTML object>"
      ]
     },
     "metadata": {},
     "output_type": "display_data"
    },
    {
     "name": "stdout",
     "output_type": "stream",
     "text": [
      "2016:           1.814\n",
      "WiSe 16/17:     1.268 ┬      +323 (+34%)\n",
      "WiSe 15/16:       945 ┘      \n"
     ]
    },
    {
     "data": {
      "text/html": [
       "<h5>Vergleich der Seitenaufrufe zum Wikipedia-Artikel</h5>"
      ],
      "text/plain": [
       "<IPython.core.display.HTML object>"
      ]
     },
     "metadata": {},
     "output_type": "display_data"
    },
    {
     "name": "stdout",
     "output_type": "stream",
     "text": [
      "Wikipedia-Artikel: Russellsche Antinomie\n",
      "Views WiSe 16/17:     16.161 ┬    -1.138 ( -7%)\n",
      "Views WiSe 15/16:     17.299 ┘      \n",
      "\n",
      "MFNF / Wikipedia – WiSe 16/17:   8%\n",
      "MFNF / Wikipedia – WiSe 15/16:   5%\n"
     ]
    },
    {
     "data": {
      "text/markdown": [
       "[Zurück zum Inhaltsverzeichnis](#Inhaltsverzeichnis)"
      ],
      "text/plain": [
       "<IPython.core.display.Markdown object>"
      ]
     },
     "metadata": {},
     "output_type": "display_data"
    },
    {
     "data": {
      "text/html": [
       "<h4 id='Euler- und Venn-Diagramme'>==== Euler- und Venn-Diagramme ====</h4>"
      ],
      "text/plain": [
       "<IPython.core.display.HTML object>"
      ]
     },
     "metadata": {},
     "output_type": "display_data"
    },
    {
     "data": {
      "text/html": [
       "<h5>Seitenaufrufe Artikel</h5>"
      ],
      "text/plain": [
       "<IPython.core.display.HTML object>"
      ]
     },
     "metadata": {},
     "output_type": "display_data"
    },
    {
     "name": "stdout",
     "output_type": "stream",
     "text": [
      "2016:           4.406\n",
      "WiSe 16/17:     2.531 ┬        +9 ( +0%)\n",
      "WiSe 15/16:     2.522 ┘      \n"
     ]
    },
    {
     "data": {
      "text/html": [
       "<h5>Vergleich der Seitenaufrufe zum Wikipedia-Artikel</h5>"
      ],
      "text/plain": [
       "<IPython.core.display.HTML object>"
      ]
     },
     "metadata": {},
     "output_type": "display_data"
    },
    {
     "name": "stdout",
     "output_type": "stream",
     "text": [
      "Wikipedia-Artikel: Mengendiagramm\n",
      "Views WiSe 16/17:     24.449 ┬    -3.313 (-12%)\n",
      "Views WiSe 15/16:     27.762 ┘      \n",
      "\n",
      "MFNF / Wikipedia – WiSe 16/17:  10%\n",
      "MFNF / Wikipedia – WiSe 15/16:   9%\n"
     ]
    },
    {
     "data": {
      "text/markdown": [
       "[Zurück zum Inhaltsverzeichnis](#Inhaltsverzeichnis)"
      ],
      "text/plain": [
       "<IPython.core.display.Markdown object>"
      ]
     },
     "metadata": {},
     "output_type": "display_data"
    },
    {
     "data": {
      "text/html": [
       "<h4 id='Teilmenge und echte Teilmenge'>==== Teilmenge und echte Teilmenge ====</h4>"
      ],
      "text/plain": [
       "<IPython.core.display.HTML object>"
      ]
     },
     "metadata": {},
     "output_type": "display_data"
    },
    {
     "data": {
      "text/html": [
       "<h5>Seitenaufrufe Artikel</h5>"
      ],
      "text/plain": [
       "<IPython.core.display.HTML object>"
      ]
     },
     "metadata": {},
     "output_type": "display_data"
    },
    {
     "name": "stdout",
     "output_type": "stream",
     "text": [
      "2016:          18.988\n",
      "WiSe 16/17:    14.729 ┬    +8.398 (+133%)\n",
      "WiSe 15/16:     6.331 ┘      \n"
     ]
    },
    {
     "data": {
      "text/html": [
       "<h5>Vergleich der Seitenaufrufe zum Wikipedia-Artikel</h5>"
      ],
      "text/plain": [
       "<IPython.core.display.HTML object>"
      ]
     },
     "metadata": {},
     "output_type": "display_data"
    },
    {
     "name": "stdout",
     "output_type": "stream",
     "text": [
      "Wikipedia-Artikel: Teilmenge\n",
      "Views WiSe 16/17:     49.634 ┬    +1.282 ( +3%)\n",
      "Views WiSe 15/16:     48.352 ┘      \n",
      "\n",
      "MFNF / Wikipedia – WiSe 16/17:  30%\n",
      "MFNF / Wikipedia – WiSe 15/16:  13%\n"
     ]
    },
    {
     "data": {
      "text/markdown": [
       "[Zurück zum Inhaltsverzeichnis](#Inhaltsverzeichnis)"
      ],
      "text/plain": [
       "<IPython.core.display.Markdown object>"
      ]
     },
     "metadata": {},
     "output_type": "display_data"
    },
    {
     "data": {
      "text/html": [
       "<h4 id='Potenzmenge'>==== Potenzmenge ====</h4>"
      ],
      "text/plain": [
       "<IPython.core.display.HTML object>"
      ]
     },
     "metadata": {},
     "output_type": "display_data"
    },
    {
     "data": {
      "text/html": [
       "<h5>Seitenaufrufe Artikel</h5>"
      ],
      "text/plain": [
       "<IPython.core.display.HTML object>"
      ]
     },
     "metadata": {},
     "output_type": "display_data"
    },
    {
     "name": "stdout",
     "output_type": "stream",
     "text": [
      "2016:          10.867\n",
      "WiSe 16/17:     6.622 ┬    -1.141 (-15%)\n",
      "WiSe 15/16:     7.763 ┘      \n"
     ]
    },
    {
     "data": {
      "text/html": [
       "<h5>Vergleich der Seitenaufrufe zum Wikipedia-Artikel</h5>"
      ],
      "text/plain": [
       "<IPython.core.display.HTML object>"
      ]
     },
     "metadata": {},
     "output_type": "display_data"
    },
    {
     "name": "stdout",
     "output_type": "stream",
     "text": [
      "Wikipedia-Artikel: Potenzmenge\n",
      "Views WiSe 16/17:     41.202 ┬      -682 ( -2%)\n",
      "Views WiSe 15/16:     41.884 ┘      \n",
      "\n",
      "MFNF / Wikipedia – WiSe 16/17:  16%\n",
      "MFNF / Wikipedia – WiSe 15/16:  19%\n"
     ]
    },
    {
     "data": {
      "text/markdown": [
       "[Zurück zum Inhaltsverzeichnis](#Inhaltsverzeichnis)"
      ],
      "text/plain": [
       "<IPython.core.display.Markdown object>"
      ]
     },
     "metadata": {},
     "output_type": "display_data"
    },
    {
     "data": {
      "text/html": [
       "<h4 id='Leere Menge'>==== Leere Menge ====</h4>"
      ],
      "text/plain": [
       "<IPython.core.display.HTML object>"
      ]
     },
     "metadata": {},
     "output_type": "display_data"
    },
    {
     "data": {
      "text/html": [
       "<h5>Seitenaufrufe Artikel</h5>"
      ],
      "text/plain": [
       "<IPython.core.display.HTML object>"
      ]
     },
     "metadata": {},
     "output_type": "display_data"
    },
    {
     "name": "stdout",
     "output_type": "stream",
     "text": [
      "2016:           5.856\n",
      "WiSe 16/17:     4.127 ┬      +915 (+28%)\n",
      "WiSe 15/16:     3.212 ┘      \n"
     ]
    },
    {
     "data": {
      "text/html": [
       "<h5>Vergleich der Seitenaufrufe zum Wikipedia-Artikel</h5>"
      ],
      "text/plain": [
       "<IPython.core.display.HTML object>"
      ]
     },
     "metadata": {},
     "output_type": "display_data"
    },
    {
     "name": "stdout",
     "output_type": "stream",
     "text": [
      "Wikipedia-Artikel: Leere Menge\n",
      "Views WiSe 16/17:     29.610 ┬    +1.659 ( +6%)\n",
      "Views WiSe 15/16:     27.951 ┘      \n",
      "\n",
      "MFNF / Wikipedia – WiSe 16/17:  14%\n",
      "MFNF / Wikipedia – WiSe 15/16:  11%\n"
     ]
    },
    {
     "data": {
      "text/markdown": [
       "[Zurück zum Inhaltsverzeichnis](#Inhaltsverzeichnis)"
      ],
      "text/plain": [
       "<IPython.core.display.Markdown object>"
      ]
     },
     "metadata": {},
     "output_type": "display_data"
    },
    {
     "data": {
      "text/html": [
       "<h4 id='Disjunkte Mengen'>==== Disjunkte Mengen ====</h4>"
      ],
      "text/plain": [
       "<IPython.core.display.HTML object>"
      ]
     },
     "metadata": {},
     "output_type": "display_data"
    },
    {
     "data": {
      "text/html": [
       "<h5>Seitenaufrufe Artikel</h5>"
      ],
      "text/plain": [
       "<IPython.core.display.HTML object>"
      ]
     },
     "metadata": {},
     "output_type": "display_data"
    },
    {
     "name": "stdout",
     "output_type": "stream",
     "text": [
      "2016:          10.539\n",
      "WiSe 16/17:     6.395 ┬      -369 ( -5%)\n",
      "WiSe 15/16:     6.764 ┘      \n"
     ]
    },
    {
     "data": {
      "text/html": [
       "<h5>Vergleich der Seitenaufrufe zum Wikipedia-Artikel</h5>"
      ],
      "text/plain": [
       "<IPython.core.display.HTML object>"
      ]
     },
     "metadata": {},
     "output_type": "display_data"
    },
    {
     "name": "stdout",
     "output_type": "stream",
     "text": [
      "Wikipedia-Artikel: Disjunkt\n",
      "Views WiSe 16/17:     29.363 ┬    -9.320 (-24%)\n",
      "Views WiSe 15/16:     38.683 ┘      \n",
      "\n",
      "MFNF / Wikipedia – WiSe 16/17:  22%\n",
      "MFNF / Wikipedia – WiSe 15/16:  17%\n"
     ]
    },
    {
     "data": {
      "text/markdown": [
       "[Zurück zum Inhaltsverzeichnis](#Inhaltsverzeichnis)"
      ],
      "text/plain": [
       "<IPython.core.display.Markdown object>"
      ]
     },
     "metadata": {},
     "output_type": "display_data"
    },
    {
     "data": {
      "text/html": [
       "<h4 id='Mengenverknüpfungen'>==== Mengenverknüpfungen ====</h4>"
      ],
      "text/plain": [
       "<IPython.core.display.HTML object>"
      ]
     },
     "metadata": {},
     "output_type": "display_data"
    },
    {
     "data": {
      "text/html": [
       "<h5>Seitenaufrufe Artikel</h5>"
      ],
      "text/plain": [
       "<IPython.core.display.HTML object>"
      ]
     },
     "metadata": {},
     "output_type": "display_data"
    },
    {
     "name": "stdout",
     "output_type": "stream",
     "text": [
      "2016:          17.079\n",
      "WiSe 16/17:    10.994 ┬      +229 ( +2%)\n",
      "WiSe 15/16:    10.765 ┘      \n"
     ]
    },
    {
     "data": {
      "text/markdown": [
       "[Zurück zum Inhaltsverzeichnis](#Inhaltsverzeichnis)"
      ],
      "text/plain": [
       "<IPython.core.display.Markdown object>"
      ]
     },
     "metadata": {},
     "output_type": "display_data"
    },
    {
     "data": {
      "text/html": [
       "<h4 id='Durchschnitt von Mengen'>==== Durchschnitt von Mengen ====</h4>"
      ],
      "text/plain": [
       "<IPython.core.display.HTML object>"
      ]
     },
     "metadata": {},
     "output_type": "display_data"
    },
    {
     "data": {
      "text/html": [
       "<h5>Seitenaufrufe Artikel</h5>"
      ],
      "text/plain": [
       "<IPython.core.display.HTML object>"
      ]
     },
     "metadata": {},
     "output_type": "display_data"
    },
    {
     "name": "stdout",
     "output_type": "stream",
     "text": [
      "2016:           6.321\n",
      "WiSe 16/17:     4.996 ┬    +2.780 (+125%)\n",
      "WiSe 15/16:     2.216 ┘      \n"
     ]
    },
    {
     "data": {
      "text/markdown": [
       "[Zurück zum Inhaltsverzeichnis](#Inhaltsverzeichnis)"
      ],
      "text/plain": [
       "<IPython.core.display.Markdown object>"
      ]
     },
     "metadata": {},
     "output_type": "display_data"
    },
    {
     "data": {
      "text/html": [
       "<h4 id='Vereinigung von Mengen'>==== Vereinigung von Mengen ====</h4>"
      ],
      "text/plain": [
       "<IPython.core.display.HTML object>"
      ]
     },
     "metadata": {},
     "output_type": "display_data"
    },
    {
     "data": {
      "text/html": [
       "<h5>Seitenaufrufe Artikel</h5>"
      ],
      "text/plain": [
       "<IPython.core.display.HTML object>"
      ]
     },
     "metadata": {},
     "output_type": "display_data"
    },
    {
     "name": "stdout",
     "output_type": "stream",
     "text": [
      "2016:           3.816\n",
      "WiSe 16/17:     2.929 ┬      +961 (+49%)\n",
      "WiSe 15/16:     1.968 ┘      \n"
     ]
    },
    {
     "data": {
      "text/markdown": [
       "[Zurück zum Inhaltsverzeichnis](#Inhaltsverzeichnis)"
      ],
      "text/plain": [
       "<IPython.core.display.Markdown object>"
      ]
     },
     "metadata": {},
     "output_type": "display_data"
    },
    {
     "data": {
      "text/html": [
       "<h4 id='Differenz, symmetrische Differenz und Komplement'>==== Differenz, symmetrische Differenz und Komplement ====</h4>"
      ],
      "text/plain": [
       "<IPython.core.display.HTML object>"
      ]
     },
     "metadata": {},
     "output_type": "display_data"
    },
    {
     "data": {
      "text/html": [
       "<h5>Seitenaufrufe Artikel</h5>"
      ],
      "text/plain": [
       "<IPython.core.display.HTML object>"
      ]
     },
     "metadata": {},
     "output_type": "display_data"
    },
    {
     "name": "stdout",
     "output_type": "stream",
     "text": [
      "2016:           2.343\n",
      "WiSe 16/17:     1.686 ┬      +190 (+13%)\n",
      "WiSe 15/16:     1.496 ┘      \n"
     ]
    },
    {
     "data": {
      "text/markdown": [
       "[Zurück zum Inhaltsverzeichnis](#Inhaltsverzeichnis)"
      ],
      "text/plain": [
       "<IPython.core.display.Markdown object>"
      ]
     },
     "metadata": {},
     "output_type": "display_data"
    },
    {
     "data": {
      "text/html": [
       "<h4 id='Tupel und geordnetes Paar'>==== Tupel und geordnetes Paar ====</h4>"
      ],
      "text/plain": [
       "<IPython.core.display.HTML object>"
      ]
     },
     "metadata": {},
     "output_type": "display_data"
    },
    {
     "data": {
      "text/html": [
       "<h5>Seitenaufrufe Artikel</h5>"
      ],
      "text/plain": [
       "<IPython.core.display.HTML object>"
      ]
     },
     "metadata": {},
     "output_type": "display_data"
    },
    {
     "name": "stdout",
     "output_type": "stream",
     "text": [
      "2016:           6.426\n",
      "WiSe 16/17:     3.418 ┬      -748 (-18%)\n",
      "WiSe 15/16:     4.166 ┘      \n"
     ]
    },
    {
     "data": {
      "text/html": [
       "<h5>Vergleich der Seitenaufrufe zum Wikipedia-Artikel</h5>"
      ],
      "text/plain": [
       "<IPython.core.display.HTML object>"
      ]
     },
     "metadata": {},
     "output_type": "display_data"
    },
    {
     "name": "stdout",
     "output_type": "stream",
     "text": [
      "Wikipedia-Artikel: Tupel\n",
      "Views WiSe 16/17:     31.793 ┬    -4.104 (-11%)\n",
      "Views WiSe 15/16:     35.897 ┘      \n",
      "\n",
      "MFNF / Wikipedia – WiSe 16/17:  11%\n",
      "MFNF / Wikipedia – WiSe 15/16:  12%\n"
     ]
    },
    {
     "data": {
      "text/markdown": [
       "[Zurück zum Inhaltsverzeichnis](#Inhaltsverzeichnis)"
      ],
      "text/plain": [
       "<IPython.core.display.Markdown object>"
      ]
     },
     "metadata": {},
     "output_type": "display_data"
    },
    {
     "data": {
      "text/html": [
       "<h4 id='Kartesisches Produkt'>==== Kartesisches Produkt ====</h4>"
      ],
      "text/plain": [
       "<IPython.core.display.HTML object>"
      ]
     },
     "metadata": {},
     "output_type": "display_data"
    },
    {
     "data": {
      "text/html": [
       "<h5>Seitenaufrufe Artikel</h5>"
      ],
      "text/plain": [
       "<IPython.core.display.HTML object>"
      ]
     },
     "metadata": {},
     "output_type": "display_data"
    },
    {
     "name": "stdout",
     "output_type": "stream",
     "text": [
      "2016:          15.210\n",
      "WiSe 16/17:     9.778 ┬    -2.779 (-22%)\n",
      "WiSe 15/16:    12.557 ┘      \n"
     ]
    },
    {
     "data": {
      "text/html": [
       "<h5>Vergleich der Seitenaufrufe zum Wikipedia-Artikel</h5>"
      ],
      "text/plain": [
       "<IPython.core.display.HTML object>"
      ]
     },
     "metadata": {},
     "output_type": "display_data"
    },
    {
     "name": "stdout",
     "output_type": "stream",
     "text": [
      "Wikipedia-Artikel: Kartesisches Produkt\n",
      "Views WiSe 16/17:     49.007 ┬    -3.738 ( -7%)\n",
      "Views WiSe 15/16:     52.745 ┘      \n",
      "\n",
      "MFNF / Wikipedia – WiSe 16/17:  20%\n",
      "MFNF / Wikipedia – WiSe 15/16:  24%\n"
     ]
    },
    {
     "data": {
      "text/markdown": [
       "[Zurück zum Inhaltsverzeichnis](#Inhaltsverzeichnis)"
      ],
      "text/plain": [
       "<IPython.core.display.Markdown object>"
      ]
     },
     "metadata": {},
     "output_type": "display_data"
    },
    {
     "data": {
      "text/html": [
       "<h4 id='Formeln der Mengenlehre'>==== Formeln der Mengenlehre ====</h4>"
      ],
      "text/plain": [
       "<IPython.core.display.HTML object>"
      ]
     },
     "metadata": {},
     "output_type": "display_data"
    },
    {
     "data": {
      "text/html": [
       "<h5>Seitenaufrufe Artikel</h5>"
      ],
      "text/plain": [
       "<IPython.core.display.HTML object>"
      ]
     },
     "metadata": {},
     "output_type": "display_data"
    },
    {
     "name": "stdout",
     "output_type": "stream",
     "text": [
      "2016:           1.829\n",
      "WiSe 16/17:     1.214 ┬       +23 ( +2%)\n",
      "WiSe 15/16:     1.191 ┘      \n"
     ]
    },
    {
     "data": {
      "text/markdown": [
       "[Zurück zum Inhaltsverzeichnis](#Inhaltsverzeichnis)"
      ],
      "text/plain": [
       "<IPython.core.display.Markdown object>"
      ]
     },
     "metadata": {},
     "output_type": "display_data"
    },
    {
     "data": {
      "text/html": [
       "<h4 id='Mengengleichungen beweisen'>==== Mengengleichungen beweisen ====</h4>"
      ],
      "text/plain": [
       "<IPython.core.display.HTML object>"
      ]
     },
     "metadata": {},
     "output_type": "display_data"
    },
    {
     "data": {
      "text/html": [
       "<h5>Seitenaufrufe Artikel</h5>"
      ],
      "text/plain": [
       "<IPython.core.display.HTML object>"
      ]
     },
     "metadata": {},
     "output_type": "display_data"
    },
    {
     "name": "stdout",
     "output_type": "stream",
     "text": [
      "2016:           2.402\n",
      "WiSe 16/17:     2.031 ┬      +912 (+82%)\n",
      "WiSe 15/16:     1.119 ┘      \n"
     ]
    },
    {
     "data": {
      "text/markdown": [
       "[Zurück zum Inhaltsverzeichnis](#Inhaltsverzeichnis)"
      ],
      "text/plain": [
       "<IPython.core.display.Markdown object>"
      ]
     },
     "metadata": {},
     "output_type": "display_data"
    },
    {
     "data": {
      "text/html": [
       "<h3 id='Relationen'>=== Relationen ===</h3>"
      ],
      "text/plain": [
       "<IPython.core.display.HTML object>"
      ]
     },
     "metadata": {},
     "output_type": "display_data"
    },
    {
     "data": {
      "text/markdown": [
       "[Zurück zum Inhaltsverzeichnis](#Inhaltsverzeichnis)"
      ],
      "text/plain": [
       "<IPython.core.display.Markdown object>"
      ]
     },
     "metadata": {},
     "output_type": "display_data"
    },
    {
     "data": {
      "text/html": [
       "<h4 id='Relationen'>==== Relationen ====</h4>"
      ],
      "text/plain": [
       "<IPython.core.display.HTML object>"
      ]
     },
     "metadata": {},
     "output_type": "display_data"
    },
    {
     "data": {
      "text/html": [
       "<h5>Seitenaufrufe Artikel</h5>"
      ],
      "text/plain": [
       "<IPython.core.display.HTML object>"
      ]
     },
     "metadata": {},
     "output_type": "display_data"
    },
    {
     "name": "stdout",
     "output_type": "stream",
     "text": [
      "2016:          11.716\n",
      "WiSe 16/17:     7.526 ┬    -1.737 (-19%)\n",
      "WiSe 15/16:     9.263 ┘      \n"
     ]
    },
    {
     "data": {
      "text/html": [
       "<h5>Vergleich der Seitenaufrufe zum Wikipedia-Artikel</h5>"
      ],
      "text/plain": [
       "<IPython.core.display.HTML object>"
      ]
     },
     "metadata": {},
     "output_type": "display_data"
    },
    {
     "name": "stdout",
     "output_type": "stream",
     "text": [
      "Wikipedia-Artikel: Relation (Mathematik)\n",
      "Views WiSe 16/17:     48.397 ┬    -1.177 ( -2%)\n",
      "Views WiSe 15/16:     49.574 ┘      \n",
      "\n",
      "MFNF / Wikipedia – WiSe 16/17:  16%\n",
      "MFNF / Wikipedia – WiSe 15/16:  19%\n"
     ]
    },
    {
     "data": {
      "text/markdown": [
       "[Zurück zum Inhaltsverzeichnis](#Inhaltsverzeichnis)"
      ],
      "text/plain": [
       "<IPython.core.display.Markdown object>"
      ]
     },
     "metadata": {},
     "output_type": "display_data"
    },
    {
     "data": {
      "text/html": [
       "<h4 id='Binäre Relationen'>==== Binäre Relationen ====</h4>"
      ],
      "text/plain": [
       "<IPython.core.display.HTML object>"
      ]
     },
     "metadata": {},
     "output_type": "display_data"
    },
    {
     "data": {
      "text/html": [
       "<h5>Seitenaufrufe Artikel</h5>"
      ],
      "text/plain": [
       "<IPython.core.display.HTML object>"
      ]
     },
     "metadata": {},
     "output_type": "display_data"
    },
    {
     "name": "stdout",
     "output_type": "stream",
     "text": [
      "2016:           7.871\n",
      "WiSe 16/17:     5.312 ┬       -80 ( -1%)\n",
      "WiSe 15/16:     5.392 ┘      \n"
     ]
    },
    {
     "data": {
      "text/markdown": [
       "[Zurück zum Inhaltsverzeichnis](#Inhaltsverzeichnis)"
      ],
      "text/plain": [
       "<IPython.core.display.Markdown object>"
      ]
     },
     "metadata": {},
     "output_type": "display_data"
    },
    {
     "data": {
      "text/html": [
       "<h4 id='Eigenschaften binärer Relationen'>==== Eigenschaften binärer Relationen ====</h4>"
      ],
      "text/plain": [
       "<IPython.core.display.HTML object>"
      ]
     },
     "metadata": {},
     "output_type": "display_data"
    },
    {
     "data": {
      "text/html": [
       "<h5>Seitenaufrufe Artikel</h5>"
      ],
      "text/plain": [
       "<IPython.core.display.HTML object>"
      ]
     },
     "metadata": {},
     "output_type": "display_data"
    },
    {
     "name": "stdout",
     "output_type": "stream",
     "text": [
      "2016:           4.841\n",
      "WiSe 16/17:     4.502 ┬    +2.360 (+110%)\n",
      "WiSe 15/16:     2.142 ┘      \n"
     ]
    },
    {
     "data": {
      "text/markdown": [
       "[Zurück zum Inhaltsverzeichnis](#Inhaltsverzeichnis)"
      ],
      "text/plain": [
       "<IPython.core.display.Markdown object>"
      ]
     },
     "metadata": {},
     "output_type": "display_data"
    },
    {
     "data": {
      "text/html": [
       "<h4 id='Äquivalenzrelationen'>==== Äquivalenzrelationen ====</h4>"
      ],
      "text/plain": [
       "<IPython.core.display.HTML object>"
      ]
     },
     "metadata": {},
     "output_type": "display_data"
    },
    {
     "data": {
      "text/html": [
       "<h5>Seitenaufrufe Artikel</h5>"
      ],
      "text/plain": [
       "<IPython.core.display.HTML object>"
      ]
     },
     "metadata": {},
     "output_type": "display_data"
    },
    {
     "name": "stdout",
     "output_type": "stream",
     "text": [
      "2016:          25.512\n",
      "WiSe 16/17:    17.774 ┬    -1.089 ( -6%)\n",
      "WiSe 15/16:    18.863 ┘      \n"
     ]
    },
    {
     "data": {
      "text/html": [
       "<h5>Vergleich der Seitenaufrufe zum Wikipedia-Artikel</h5>"
      ],
      "text/plain": [
       "<IPython.core.display.HTML object>"
      ]
     },
     "metadata": {},
     "output_type": "display_data"
    },
    {
     "name": "stdout",
     "output_type": "stream",
     "text": [
      "Wikipedia-Artikel: Äquivalenzrelation\n",
      "Views WiSe 16/17:     43.423 ┬    -7.882 (-15%)\n",
      "Views WiSe 15/16:     51.305 ┘      \n",
      "\n",
      "MFNF / Wikipedia – WiSe 16/17:  41%\n",
      "MFNF / Wikipedia – WiSe 15/16:  37%\n"
     ]
    },
    {
     "data": {
      "text/markdown": [
       "[Zurück zum Inhaltsverzeichnis](#Inhaltsverzeichnis)"
      ],
      "text/plain": [
       "<IPython.core.display.Markdown object>"
      ]
     },
     "metadata": {},
     "output_type": "display_data"
    },
    {
     "data": {
      "text/html": [
       "<h4 id='Ordnungsrelationen'>==== Ordnungsrelationen ====</h4>"
      ],
      "text/plain": [
       "<IPython.core.display.HTML object>"
      ]
     },
     "metadata": {},
     "output_type": "display_data"
    },
    {
     "data": {
      "text/html": [
       "<h5>Seitenaufrufe Artikel</h5>"
      ],
      "text/plain": [
       "<IPython.core.display.HTML object>"
      ]
     },
     "metadata": {},
     "output_type": "display_data"
    },
    {
     "name": "stdout",
     "output_type": "stream",
     "text": [
      "2016:          16.190\n",
      "WiSe 16/17:    12.135 ┬      +510 ( +4%)\n",
      "WiSe 15/16:    11.625 ┘      \n"
     ]
    },
    {
     "data": {
      "text/html": [
       "<h5>Vergleich der Seitenaufrufe zum Wikipedia-Artikel</h5>"
      ],
      "text/plain": [
       "<IPython.core.display.HTML object>"
      ]
     },
     "metadata": {},
     "output_type": "display_data"
    },
    {
     "name": "stdout",
     "output_type": "stream",
     "text": [
      "Wikipedia-Artikel: Ordnungsrelation\n",
      "Views WiSe 16/17:     40.692 ┬      +486 ( +1%)\n",
      "Views WiSe 15/16:     40.206 ┘      \n",
      "\n",
      "MFNF / Wikipedia – WiSe 16/17:  30%\n",
      "MFNF / Wikipedia – WiSe 15/16:  29%\n"
     ]
    },
    {
     "data": {
      "text/markdown": [
       "[Zurück zum Inhaltsverzeichnis](#Inhaltsverzeichnis)"
      ],
      "text/plain": [
       "<IPython.core.display.Markdown object>"
      ]
     },
     "metadata": {},
     "output_type": "display_data"
    },
    {
     "data": {
      "text/html": [
       "<h4 id='Ordnungsrelationen: Aufgaben'>==== Ordnungsrelationen: Aufgaben ====</h4>"
      ],
      "text/plain": [
       "<IPython.core.display.HTML object>"
      ]
     },
     "metadata": {},
     "output_type": "display_data"
    },
    {
     "data": {
      "text/html": [
       "<h5>Seitenaufrufe Artikel</h5>"
      ],
      "text/plain": [
       "<IPython.core.display.HTML object>"
      ]
     },
     "metadata": {},
     "output_type": "display_data"
    },
    {
     "name": "stdout",
     "output_type": "stream",
     "text": [
      "2016:             873\n",
      "WiSe 16/17:       557 ┬      -103 (-16%)\n",
      "WiSe 15/16:       660 ┘      \n"
     ]
    },
    {
     "data": {
      "text/markdown": [
       "[Zurück zum Inhaltsverzeichnis](#Inhaltsverzeichnis)"
      ],
      "text/plain": [
       "<IPython.core.display.Markdown object>"
      ]
     },
     "metadata": {},
     "output_type": "display_data"
    },
    {
     "data": {
      "text/html": [
       "<h3 id='Abbildungen'>=== Abbildungen ===</h3>"
      ],
      "text/plain": [
       "<IPython.core.display.HTML object>"
      ]
     },
     "metadata": {},
     "output_type": "display_data"
    },
    {
     "data": {
      "text/markdown": [
       "[Zurück zum Inhaltsverzeichnis](#Inhaltsverzeichnis)"
      ],
      "text/plain": [
       "<IPython.core.display.Markdown object>"
      ]
     },
     "metadata": {},
     "output_type": "display_data"
    },
    {
     "data": {
      "text/html": [
       "<h4 id='Abbildungen'>==== Abbildungen ====</h4>"
      ],
      "text/plain": [
       "<IPython.core.display.HTML object>"
      ]
     },
     "metadata": {},
     "output_type": "display_data"
    },
    {
     "data": {
      "text/html": [
       "<h5>Seitenaufrufe Artikel</h5>"
      ],
      "text/plain": [
       "<IPython.core.display.HTML object>"
      ]
     },
     "metadata": {},
     "output_type": "display_data"
    },
    {
     "name": "stdout",
     "output_type": "stream",
     "text": [
      "2016:          33.168\n",
      "WiSe 16/17:    27.163 ┬   +23.028 (+557%)\n",
      "WiSe 15/16:     4.135 ┘      \n"
     ]
    },
    {
     "data": {
      "text/html": [
       "<h5>Vergleich der Seitenaufrufe zum Wikipedia-Artikel</h5>"
      ],
      "text/plain": [
       "<IPython.core.display.HTML object>"
      ]
     },
     "metadata": {},
     "output_type": "display_data"
    },
    {
     "name": "stdout",
     "output_type": "stream",
     "text": [
      "Wikipedia-Artikel: Funktion (Mathematik)\n",
      "Views WiSe 16/17:    104.285 ┬    -6.003 ( -5%)\n",
      "Views WiSe 15/16:    110.288 ┘      \n",
      "\n",
      "MFNF / Wikipedia – WiSe 16/17:  26%\n",
      "MFNF / Wikipedia – WiSe 15/16:   4%\n"
     ]
    },
    {
     "data": {
      "text/markdown": [
       "[Zurück zum Inhaltsverzeichnis](#Inhaltsverzeichnis)"
      ],
      "text/plain": [
       "<IPython.core.display.Markdown object>"
      ]
     },
     "metadata": {},
     "output_type": "display_data"
    },
    {
     "data": {
      "text/html": [
       "<h4 id='Verknüpfungen'>==== Verknüpfungen ====</h4>"
      ],
      "text/plain": [
       "<IPython.core.display.HTML object>"
      ]
     },
     "metadata": {},
     "output_type": "display_data"
    },
    {
     "data": {
      "text/html": [
       "<h5>Seitenaufrufe Artikel</h5>"
      ],
      "text/plain": [
       "<IPython.core.display.HTML object>"
      ]
     },
     "metadata": {},
     "output_type": "display_data"
    },
    {
     "name": "stdout",
     "output_type": "stream",
     "text": [
      "2016:           5.539\n",
      "WiSe 16/17:     3.983 ┬      +565 (+17%)\n",
      "WiSe 15/16:     3.418 ┘      \n"
     ]
    },
    {
     "data": {
      "text/html": [
       "<h5>Vergleich der Seitenaufrufe zum Wikipedia-Artikel</h5>"
      ],
      "text/plain": [
       "<IPython.core.display.HTML object>"
      ]
     },
     "metadata": {},
     "output_type": "display_data"
    },
    {
     "name": "stdout",
     "output_type": "stream",
     "text": [
      "Wikipedia-Artikel: Verknüpfung (Mathematik)\n",
      "Views WiSe 16/17:      9.538 ┬      -160 ( -2%)\n",
      "Views WiSe 15/16:      9.698 ┘      \n",
      "\n",
      "MFNF / Wikipedia – WiSe 16/17:  42%\n",
      "MFNF / Wikipedia – WiSe 15/16:  35%\n"
     ]
    },
    {
     "data": {
      "text/markdown": [
       "[Zurück zum Inhaltsverzeichnis](#Inhaltsverzeichnis)"
      ],
      "text/plain": [
       "<IPython.core.display.Markdown object>"
      ]
     },
     "metadata": {},
     "output_type": "display_data"
    },
    {
     "data": {
      "text/html": [
       "<h3 id='Mächtigkeit von Mengen'>=== Mächtigkeit von Mengen ===</h3>"
      ],
      "text/plain": [
       "<IPython.core.display.HTML object>"
      ]
     },
     "metadata": {},
     "output_type": "display_data"
    },
    {
     "data": {
      "text/markdown": [
       "[Zurück zum Inhaltsverzeichnis](#Inhaltsverzeichnis)"
      ],
      "text/plain": [
       "<IPython.core.display.Markdown object>"
      ]
     },
     "metadata": {},
     "output_type": "display_data"
    },
    {
     "data": {
      "text/html": [
       "<h4 id='Mächtigkeit von Mengen'>==== Mächtigkeit von Mengen ====</h4>"
      ],
      "text/plain": [
       "<IPython.core.display.HTML object>"
      ]
     },
     "metadata": {},
     "output_type": "display_data"
    },
    {
     "data": {
      "text/html": [
       "<h5>Seitenaufrufe Artikel</h5>"
      ],
      "text/plain": [
       "<IPython.core.display.HTML object>"
      ]
     },
     "metadata": {},
     "output_type": "display_data"
    },
    {
     "name": "stdout",
     "output_type": "stream",
     "text": [
      "2016:          15.870\n",
      "WiSe 16/17:    10.071 ┬    -2.736 (-21%)\n",
      "WiSe 15/16:    12.807 ┘      \n"
     ]
    },
    {
     "data": {
      "text/html": [
       "<h5>Vergleich der Seitenaufrufe zum Wikipedia-Artikel</h5>"
      ],
      "text/plain": [
       "<IPython.core.display.HTML object>"
      ]
     },
     "metadata": {},
     "output_type": "display_data"
    },
    {
     "name": "stdout",
     "output_type": "stream",
     "text": [
      "Wikipedia-Artikel: Mächtigkeit (Mathematik)\n",
      "Views WiSe 16/17:     34.988 ┬      -450 ( -1%)\n",
      "Views WiSe 15/16:     35.438 ┘      \n",
      "\n",
      "MFNF / Wikipedia – WiSe 16/17:  29%\n",
      "MFNF / Wikipedia – WiSe 15/16:  36%\n"
     ]
    },
    {
     "data": {
      "text/markdown": [
       "[Zurück zum Inhaltsverzeichnis](#Inhaltsverzeichnis)"
      ],
      "text/plain": [
       "<IPython.core.display.Markdown object>"
      ]
     },
     "metadata": {},
     "output_type": "display_data"
    },
    {
     "data": {
      "text/html": [
       "<h3 id='Gleichungsumformungen'>=== Gleichungsumformungen ===</h3>"
      ],
      "text/plain": [
       "<IPython.core.display.HTML object>"
      ]
     },
     "metadata": {},
     "output_type": "display_data"
    },
    {
     "data": {
      "text/markdown": [
       "[Zurück zum Inhaltsverzeichnis](#Inhaltsverzeichnis)"
      ],
      "text/plain": [
       "<IPython.core.display.Markdown object>"
      ]
     },
     "metadata": {},
     "output_type": "display_data"
    },
    {
     "data": {
      "text/html": [
       "<h4 id='Gleichungsumformungen'>==== Gleichungsumformungen ====</h4>"
      ],
      "text/plain": [
       "<IPython.core.display.HTML object>"
      ]
     },
     "metadata": {},
     "output_type": "display_data"
    },
    {
     "data": {
      "text/html": [
       "<h5>Seitenaufrufe Artikel</h5>"
      ],
      "text/plain": [
       "<IPython.core.display.HTML object>"
      ]
     },
     "metadata": {},
     "output_type": "display_data"
    },
    {
     "name": "stdout",
     "output_type": "stream",
     "text": [
      "2016:           5.042\n",
      "WiSe 16/17:     2.668 ┬      -578 (-18%)\n",
      "WiSe 15/16:     3.246 ┘      \n"
     ]
    },
    {
     "data": {
      "text/html": [
       "<h5>Vergleich der Seitenaufrufe zum Wikipedia-Artikel</h5>"
      ],
      "text/plain": [
       "<IPython.core.display.HTML object>"
      ]
     },
     "metadata": {},
     "output_type": "display_data"
    },
    {
     "name": "stdout",
     "output_type": "stream",
     "text": [
      "Wikipedia-Artikel: Gleichung\n",
      "Views WiSe 16/17:     34.985 ┬    +1.560 ( +5%)\n",
      "Views WiSe 15/16:     33.425 ┘      \n",
      "\n",
      "MFNF / Wikipedia – WiSe 16/17:   8%\n",
      "MFNF / Wikipedia – WiSe 15/16:  10%\n"
     ]
    },
    {
     "data": {
      "text/markdown": [
       "[Zurück zum Inhaltsverzeichnis](#Inhaltsverzeichnis)"
      ],
      "text/plain": [
       "<IPython.core.display.Markdown object>"
      ]
     },
     "metadata": {},
     "output_type": "display_data"
    },
    {
     "data": {
      "text/html": [
       "<h4 id='Termumformungen'>==== Termumformungen ====</h4>"
      ],
      "text/plain": [
       "<IPython.core.display.HTML object>"
      ]
     },
     "metadata": {},
     "output_type": "display_data"
    },
    {
     "data": {
      "text/html": [
       "<h5>Seitenaufrufe Artikel</h5>"
      ],
      "text/plain": [
       "<IPython.core.display.HTML object>"
      ]
     },
     "metadata": {},
     "output_type": "display_data"
    },
    {
     "name": "stdout",
     "output_type": "stream",
     "text": [
      "2016:           2.449\n",
      "WiSe 16/17:     1.328 ┬      -298 (-18%)\n",
      "WiSe 15/16:     1.626 ┘      \n"
     ]
    },
    {
     "data": {
      "text/markdown": [
       "[Zurück zum Inhaltsverzeichnis](#Inhaltsverzeichnis)"
      ],
      "text/plain": [
       "<IPython.core.display.Markdown object>"
      ]
     },
     "metadata": {},
     "output_type": "display_data"
    },
    {
     "data": {
      "text/html": [
       "<h4 id='Aufgaben'>==== Aufgaben ====</h4>"
      ],
      "text/plain": [
       "<IPython.core.display.HTML object>"
      ]
     },
     "metadata": {},
     "output_type": "display_data"
    },
    {
     "data": {
      "text/html": [
       "<h5>Seitenaufrufe Artikel</h5>"
      ],
      "text/plain": [
       "<IPython.core.display.HTML object>"
      ]
     },
     "metadata": {},
     "output_type": "display_data"
    },
    {
     "name": "stdout",
     "output_type": "stream",
     "text": [
      "2016:             696\n",
      "WiSe 16/17:       356 ┬       -42 (-11%)\n",
      "WiSe 15/16:       398 ┘      \n"
     ]
    },
    {
     "data": {
      "text/markdown": [
       "[Zurück zum Inhaltsverzeichnis](#Inhaltsverzeichnis)"
      ],
      "text/plain": [
       "<IPython.core.display.Markdown object>"
      ]
     },
     "metadata": {},
     "output_type": "display_data"
    },
    {
     "data": {
      "text/html": [
       "<h3 id='Summe, Produkt und Fakultät'>=== Summe, Produkt und Fakultät ===</h3>"
      ],
      "text/plain": [
       "<IPython.core.display.HTML object>"
      ]
     },
     "metadata": {},
     "output_type": "display_data"
    },
    {
     "data": {
      "text/markdown": [
       "[Zurück zum Inhaltsverzeichnis](#Inhaltsverzeichnis)"
      ],
      "text/plain": [
       "<IPython.core.display.Markdown object>"
      ]
     },
     "metadata": {},
     "output_type": "display_data"
    },
    {
     "data": {
      "text/html": [
       "<h4 id='Summe und Produkt'>==== Summe und Produkt ====</h4>"
      ],
      "text/plain": [
       "<IPython.core.display.HTML object>"
      ]
     },
     "metadata": {},
     "output_type": "display_data"
    },
    {
     "data": {
      "text/html": [
       "<h5>Seitenaufrufe Artikel</h5>"
      ],
      "text/plain": [
       "<IPython.core.display.HTML object>"
      ]
     },
     "metadata": {},
     "output_type": "display_data"
    },
    {
     "name": "stdout",
     "output_type": "stream",
     "text": [
      "2016:          39.569\n",
      "WiSe 16/17:    21.970 ┬    -7.278 (-25%)\n",
      "WiSe 15/16:    29.248 ┘      \n"
     ]
    },
    {
     "data": {
      "text/html": [
       "<h5>Vergleich der Seitenaufrufe zum Wikipedia-Artikel</h5>"
      ],
      "text/plain": [
       "<IPython.core.display.HTML object>"
      ]
     },
     "metadata": {},
     "output_type": "display_data"
    },
    {
     "name": "stdout",
     "output_type": "stream",
     "text": [
      "Wikipedia-Artikel: Summe\n",
      "Views WiSe 16/17:     70.962 ┬   -21.934 (-24%)\n",
      "Views WiSe 15/16:     92.896 ┘      \n",
      "\n",
      "MFNF / Wikipedia – WiSe 16/17:  31%\n",
      "MFNF / Wikipedia – WiSe 15/16:  31%\n"
     ]
    },
    {
     "data": {
      "text/markdown": [
       "[Zurück zum Inhaltsverzeichnis](#Inhaltsverzeichnis)"
      ],
      "text/plain": [
       "<IPython.core.display.Markdown object>"
      ]
     },
     "metadata": {},
     "output_type": "display_data"
    },
    {
     "data": {
      "text/html": [
       "<h4 id='Gaußsche Summenformel'>==== Gaußsche Summenformel ====</h4>"
      ],
      "text/plain": [
       "<IPython.core.display.HTML object>"
      ]
     },
     "metadata": {},
     "output_type": "display_data"
    },
    {
     "data": {
      "text/html": [
       "<h5>Seitenaufrufe Artikel</h5>"
      ],
      "text/plain": [
       "<IPython.core.display.HTML object>"
      ]
     },
     "metadata": {},
     "output_type": "display_data"
    },
    {
     "name": "stdout",
     "output_type": "stream",
     "text": [
      "2016:          17.044\n",
      "WiSe 16/17:    10.069 ┬    +1.584 (+19%)\n",
      "WiSe 15/16:     8.485 ┘      \n"
     ]
    },
    {
     "data": {
      "text/html": [
       "<h5>Vergleich der Seitenaufrufe zum Wikipedia-Artikel</h5>"
      ],
      "text/plain": [
       "<IPython.core.display.HTML object>"
      ]
     },
     "metadata": {},
     "output_type": "display_data"
    },
    {
     "name": "stdout",
     "output_type": "stream",
     "text": [
      "Wikipedia-Artikel: Gaußsche Summenformel\n",
      "Views WiSe 16/17:     99.163 ┬  -172.977 (-64%)\n",
      "Views WiSe 15/16:    272.140 ┘      \n",
      "\n",
      "MFNF / Wikipedia – WiSe 16/17:  10%\n",
      "MFNF / Wikipedia – WiSe 15/16:   3%\n"
     ]
    },
    {
     "data": {
      "text/markdown": [
       "[Zurück zum Inhaltsverzeichnis](#Inhaltsverzeichnis)"
      ],
      "text/plain": [
       "<IPython.core.display.Markdown object>"
      ]
     },
     "metadata": {},
     "output_type": "display_data"
    },
    {
     "data": {
      "text/html": [
       "<h4 id='Geometrische Summenformel'>==== Geometrische Summenformel ====</h4>"
      ],
      "text/plain": [
       "<IPython.core.display.HTML object>"
      ]
     },
     "metadata": {},
     "output_type": "display_data"
    },
    {
     "data": {
      "text/html": [
       "<h5>Seitenaufrufe Artikel</h5>"
      ],
      "text/plain": [
       "<IPython.core.display.HTML object>"
      ]
     },
     "metadata": {},
     "output_type": "display_data"
    },
    {
     "name": "stdout",
     "output_type": "stream",
     "text": [
      "2016:          32.748\n",
      "WiSe 16/17:    25.740 ┬    +9.868 (+62%)\n",
      "WiSe 15/16:    15.872 ┘      \n"
     ]
    },
    {
     "data": {
      "text/markdown": [
       "[Zurück zum Inhaltsverzeichnis](#Inhaltsverzeichnis)"
      ],
      "text/plain": [
       "<IPython.core.display.Markdown object>"
      ]
     },
     "metadata": {},
     "output_type": "display_data"
    },
    {
     "data": {
      "text/html": [
       "<h4 id='Eigenschaften für Summe und Produkt'>==== Eigenschaften für Summe und Produkt ====</h4>"
      ],
      "text/plain": [
       "<IPython.core.display.HTML object>"
      ]
     },
     "metadata": {},
     "output_type": "display_data"
    },
    {
     "data": {
      "text/html": [
       "<h5>Seitenaufrufe Artikel</h5>"
      ],
      "text/plain": [
       "<IPython.core.display.HTML object>"
      ]
     },
     "metadata": {},
     "output_type": "display_data"
    },
    {
     "name": "stdout",
     "output_type": "stream",
     "text": [
      "2016:           1.108\n",
      "WiSe 16/17:       669 ┬       +36 ( +6%)\n",
      "WiSe 15/16:       633 ┘      \n"
     ]
    },
    {
     "data": {
      "text/markdown": [
       "[Zurück zum Inhaltsverzeichnis](#Inhaltsverzeichnis)"
      ],
      "text/plain": [
       "<IPython.core.display.Markdown object>"
      ]
     },
     "metadata": {},
     "output_type": "display_data"
    },
    {
     "data": {
      "text/html": [
       "<h4 id='Fakultät'>==== Fakultät ====</h4>"
      ],
      "text/plain": [
       "<IPython.core.display.HTML object>"
      ]
     },
     "metadata": {},
     "output_type": "display_data"
    },
    {
     "data": {
      "text/html": [
       "<h5>Seitenaufrufe Artikel</h5>"
      ],
      "text/plain": [
       "<IPython.core.display.HTML object>"
      ]
     },
     "metadata": {},
     "output_type": "display_data"
    },
    {
     "name": "stdout",
     "output_type": "stream",
     "text": [
      "2016:          21.693\n",
      "WiSe 16/17:    12.694 ┬      -629 ( -5%)\n",
      "WiSe 15/16:    13.323 ┘      \n"
     ]
    },
    {
     "data": {
      "text/html": [
       "<h5>Vergleich der Seitenaufrufe zum Wikipedia-Artikel</h5>"
      ],
      "text/plain": [
       "<IPython.core.display.HTML object>"
      ]
     },
     "metadata": {},
     "output_type": "display_data"
    },
    {
     "name": "stdout",
     "output_type": "stream",
     "text": [
      "Wikipedia-Artikel: Fakultät (Mathematik)\n",
      "Views WiSe 16/17:    147.185 ┬   -18.264 (-11%)\n",
      "Views WiSe 15/16:    165.449 ┘      \n",
      "\n",
      "MFNF / Wikipedia – WiSe 16/17:   9%\n",
      "MFNF / Wikipedia – WiSe 15/16:   8%\n"
     ]
    },
    {
     "data": {
      "text/markdown": [
       "[Zurück zum Inhaltsverzeichnis](#Inhaltsverzeichnis)"
      ],
      "text/plain": [
       "<IPython.core.display.Markdown object>"
      ]
     },
     "metadata": {},
     "output_type": "display_data"
    },
    {
     "data": {
      "text/html": [
       "<h3 id='Binomialkoeffizient'>=== Binomialkoeffizient ===</h3>"
      ],
      "text/plain": [
       "<IPython.core.display.HTML object>"
      ]
     },
     "metadata": {},
     "output_type": "display_data"
    },
    {
     "data": {
      "text/markdown": [
       "[Zurück zum Inhaltsverzeichnis](#Inhaltsverzeichnis)"
      ],
      "text/plain": [
       "<IPython.core.display.Markdown object>"
      ]
     },
     "metadata": {},
     "output_type": "display_data"
    },
    {
     "data": {
      "text/html": [
       "<h4 id='Binomialkoeffizient'>==== Binomialkoeffizient ====</h4>"
      ],
      "text/plain": [
       "<IPython.core.display.HTML object>"
      ]
     },
     "metadata": {},
     "output_type": "display_data"
    },
    {
     "data": {
      "text/html": [
       "<h5>Seitenaufrufe Artikel</h5>"
      ],
      "text/plain": [
       "<IPython.core.display.HTML object>"
      ]
     },
     "metadata": {},
     "output_type": "display_data"
    },
    {
     "name": "stdout",
     "output_type": "stream",
     "text": [
      "2016:          39.829\n",
      "WiSe 16/17:    23.021 ┬    -2.404 ( -9%)\n",
      "WiSe 15/16:    25.425 ┘      \n"
     ]
    },
    {
     "data": {
      "text/html": [
       "<h5>Vergleich der Seitenaufrufe zum Wikipedia-Artikel</h5>"
      ],
      "text/plain": [
       "<IPython.core.display.HTML object>"
      ]
     },
     "metadata": {},
     "output_type": "display_data"
    },
    {
     "name": "stdout",
     "output_type": "stream",
     "text": [
      "Wikipedia-Artikel: Binomialkoeffizient\n",
      "Views WiSe 16/17:    177.174 ┬    +4.615 ( +3%)\n",
      "Views WiSe 15/16:    172.559 ┘      \n",
      "\n",
      "MFNF / Wikipedia – WiSe 16/17:  13%\n",
      "MFNF / Wikipedia – WiSe 15/16:  15%\n"
     ]
    },
    {
     "data": {
      "text/markdown": [
       "[Zurück zum Inhaltsverzeichnis](#Inhaltsverzeichnis)"
      ],
      "text/plain": [
       "<IPython.core.display.Markdown object>"
      ]
     },
     "metadata": {},
     "output_type": "display_data"
    },
    {
     "data": {
      "text/html": [
       "<h4 id='Der binomische Lehrsatz'>==== Der binomische Lehrsatz ====</h4>"
      ],
      "text/plain": [
       "<IPython.core.display.HTML object>"
      ]
     },
     "metadata": {},
     "output_type": "display_data"
    },
    {
     "data": {
      "text/html": [
       "<h5>Seitenaufrufe Artikel</h5>"
      ],
      "text/plain": [
       "<IPython.core.display.HTML object>"
      ]
     },
     "metadata": {},
     "output_type": "display_data"
    },
    {
     "name": "stdout",
     "output_type": "stream",
     "text": [
      "2016:          14.353\n",
      "WiSe 16/17:    10.001 ┬       +76 ( +1%)\n",
      "WiSe 15/16:     9.925 ┘      \n"
     ]
    },
    {
     "data": {
      "text/html": [
       "<h5>Vergleich der Seitenaufrufe zum Wikipedia-Artikel</h5>"
      ],
      "text/plain": [
       "<IPython.core.display.HTML object>"
      ]
     },
     "metadata": {},
     "output_type": "display_data"
    },
    {
     "name": "stdout",
     "output_type": "stream",
     "text": [
      "Wikipedia-Artikel: Binomischer Lehrsatz\n",
      "Views WiSe 16/17:     51.419 ┬    +3.184 ( +7%)\n",
      "Views WiSe 15/16:     48.235 ┘      \n",
      "\n",
      "MFNF / Wikipedia – WiSe 16/17:  19%\n",
      "MFNF / Wikipedia – WiSe 15/16:  21%\n"
     ]
    },
    {
     "data": {
      "text/markdown": [
       "[Zurück zum Inhaltsverzeichnis](#Inhaltsverzeichnis)"
      ],
      "text/plain": [
       "<IPython.core.display.Markdown object>"
      ]
     },
     "metadata": {},
     "output_type": "display_data"
    },
    {
     "data": {
      "text/html": [
       "<h4 id='Rechenregeln'>==== Rechenregeln ====</h4>"
      ],
      "text/plain": [
       "<IPython.core.display.HTML object>"
      ]
     },
     "metadata": {},
     "output_type": "display_data"
    },
    {
     "data": {
      "text/html": [
       "<h5>Seitenaufrufe Artikel</h5>"
      ],
      "text/plain": [
       "<IPython.core.display.HTML object>"
      ]
     },
     "metadata": {},
     "output_type": "display_data"
    },
    {
     "name": "stdout",
     "output_type": "stream",
     "text": [
      "2016:          26.657\n",
      "WiSe 16/17:    20.231 ┬    +5.741 (+40%)\n",
      "WiSe 15/16:    14.490 ┘      \n"
     ]
    },
    {
     "data": {
      "text/markdown": [
       "[Zurück zum Inhaltsverzeichnis](#Inhaltsverzeichnis)"
      ],
      "text/plain": [
       "<IPython.core.display.Markdown object>"
      ]
     },
     "metadata": {},
     "output_type": "display_data"
    },
    {
     "data": {
      "text/html": [
       "<h3 id='Anhang'>=== Anhang ===</h3>"
      ],
      "text/plain": [
       "<IPython.core.display.HTML object>"
      ]
     },
     "metadata": {},
     "output_type": "display_data"
    },
    {
     "data": {
      "text/markdown": [
       "[Zurück zum Inhaltsverzeichnis](#Inhaltsverzeichnis)"
      ],
      "text/plain": [
       "<IPython.core.display.Markdown object>"
      ]
     },
     "metadata": {},
     "output_type": "display_data"
    },
    {
     "data": {
      "text/html": [
       "<h4 id='Wörterbuch mathematischer Begriffe'>==== Wörterbuch mathematischer Begriffe ====</h4>"
      ],
      "text/plain": [
       "<IPython.core.display.HTML object>"
      ]
     },
     "metadata": {},
     "output_type": "display_data"
    },
    {
     "data": {
      "text/html": [
       "<h5>Seitenaufrufe Artikel</h5>"
      ],
      "text/plain": [
       "<IPython.core.display.HTML object>"
      ]
     },
     "metadata": {},
     "output_type": "display_data"
    },
    {
     "name": "stdout",
     "output_type": "stream",
     "text": [
      "2016:           4.828\n",
      "WiSe 16/17:     2.891 ┬      -301 ( -9%)\n",
      "WiSe 15/16:     3.192 ┘      \n"
     ]
    },
    {
     "data": {
      "text/markdown": [
       "[Zurück zum Inhaltsverzeichnis](#Inhaltsverzeichnis)"
      ],
      "text/plain": [
       "<IPython.core.display.Markdown object>"
      ]
     },
     "metadata": {},
     "output_type": "display_data"
    },
    {
     "data": {
      "text/html": [
       "<h4 id='Liste mathematischer Symbole'>==== Liste mathematischer Symbole ====</h4>"
      ],
      "text/plain": [
       "<IPython.core.display.HTML object>"
      ]
     },
     "metadata": {},
     "output_type": "display_data"
    },
    {
     "data": {
      "text/html": [
       "<h5>Seitenaufrufe Artikel</h5>"
      ],
      "text/plain": [
       "<IPython.core.display.HTML object>"
      ]
     },
     "metadata": {},
     "output_type": "display_data"
    },
    {
     "name": "stdout",
     "output_type": "stream",
     "text": [
      "2016:          14.384\n",
      "WiSe 16/17:     7.066 ┬    -2.645 (-27%)\n",
      "WiSe 15/16:     9.711 ┘      \n"
     ]
    },
    {
     "data": {
      "text/html": [
       "<h5>Vergleich der Seitenaufrufe zum Wikipedia-Artikel</h5>"
      ],
      "text/plain": [
       "<IPython.core.display.HTML object>"
      ]
     },
     "metadata": {},
     "output_type": "display_data"
    },
    {
     "name": "stdout",
     "output_type": "stream",
     "text": [
      "Wikipedia-Artikel: Liste mathematischer Symbole\n",
      "Views WiSe 16/17:    402.149 ┬   +45.297 (+13%)\n",
      "Views WiSe 15/16:    356.852 ┘      \n",
      "\n",
      "MFNF / Wikipedia – WiSe 16/17:   2%\n",
      "MFNF / Wikipedia – WiSe 15/16:   3%\n"
     ]
    },
    {
     "data": {
      "text/markdown": [
       "[Zurück zum Inhaltsverzeichnis](#Inhaltsverzeichnis)"
      ],
      "text/plain": [
       "<IPython.core.display.Markdown object>"
      ]
     },
     "metadata": {},
     "output_type": "display_data"
    },
    {
     "data": {
      "text/html": [
       "<h4 id='Zusammenfassung'>==== Zusammenfassung ====</h4>"
      ],
      "text/plain": [
       "<IPython.core.display.HTML object>"
      ]
     },
     "metadata": {},
     "output_type": "display_data"
    },
    {
     "data": {
      "text/html": [
       "<h5>Seitenaufrufe Artikel</h5>"
      ],
      "text/plain": [
       "<IPython.core.display.HTML object>"
      ]
     },
     "metadata": {},
     "output_type": "display_data"
    },
    {
     "name": "stdout",
     "output_type": "stream",
     "text": [
      "2016:           3.256\n",
      "WiSe 16/17:     1.734 ┬      -635 (-27%)\n",
      "WiSe 15/16:     2.369 ┘      \n"
     ]
    },
    {
     "data": {
      "text/markdown": [
       "[Zurück zum Inhaltsverzeichnis](#Inhaltsverzeichnis)"
      ],
      "text/plain": [
       "<IPython.core.display.Markdown object>"
      ]
     },
     "metadata": {},
     "output_type": "display_data"
    },
    {
     "data": {
      "text/html": [
       "<h4 id='PDF-Version (Beta)'>==== PDF-Version (Beta) ====</h4>"
      ],
      "text/plain": [
       "<IPython.core.display.HTML object>"
      ]
     },
     "metadata": {},
     "output_type": "display_data"
    },
    {
     "data": {
      "text/html": [
       "<h5>Seitenaufrufe Artikel</h5>"
      ],
      "text/plain": [
       "<IPython.core.display.HTML object>"
      ]
     },
     "metadata": {},
     "output_type": "display_data"
    },
    {
     "name": "stdout",
     "output_type": "stream",
     "text": [
      "2016:               0\n",
      "WiSe 16/17:         0 ┬        +0        \n",
      "WiSe 15/16:         0 ┘      \n"
     ]
    },
    {
     "data": {
      "text/markdown": [
       "[Zurück zum Inhaltsverzeichnis](#Inhaltsverzeichnis)"
      ],
      "text/plain": [
       "<IPython.core.display.Markdown object>"
      ]
     },
     "metadata": {},
     "output_type": "display_data"
    },
    {
     "data": {
      "text/html": [
       "<h2 id='Analysis 1'>== Analysis 1 ==</h2>"
      ],
      "text/plain": [
       "<IPython.core.display.HTML object>"
      ]
     },
     "metadata": {},
     "output_type": "display_data"
    },
    {
     "data": {
      "text/html": [
       "<h6>Artikel + Unterartikel: Seitenaufrufe 2016</h6>"
      ],
      "text/plain": [
       "<IPython.core.display.HTML object>"
      ]
     },
     "metadata": {},
     "output_type": "display_data"
    },
    {
     "data": {
      "image/png": "[encoded data removed]",
      "text/plain": [
       "<matplotlib.figure.Figure at 0x7f3eb930c588>"
      ]
     },
     "metadata": {},
     "output_type": "display_data"
    },
    {
     "name": "stdout",
     "output_type": "stream",
     "text": [
      "Summe:   687.663\n",
      "Mean:      5.457\n"
     ]
    },
    {
     "data": {
      "text/html": [
       "<h6>Artikel + Unterartikel: Seitenaufrufe WiSe 2016/17</h6>"
      ],
      "text/plain": [
       "<IPython.core.display.HTML object>"
      ]
     },
     "metadata": {},
     "output_type": "display_data"
    },
    {
     "data": {
      "image/png": "[encoded data removed]",
      "text/plain": [
       "<matplotlib.figure.Figure at 0x7f3eb93b15f8>"
      ]
     },
     "metadata": {},
     "output_type": "display_data"
    },
    {
     "name": "stdout",
     "output_type": "stream",
     "text": [
      "Summe:   578.718\n",
      "Mean:      4.593\n"
     ]
    },
    {
     "data": {
      "text/html": [
       "<h6>Artikel + Unterartikel: Differenz Seitenaufrufe WiSe 2016/17 zu WiSe 2015/16</h6>"
      ],
      "text/plain": [
       "<IPython.core.display.HTML object>"
      ]
     },
     "metadata": {},
     "output_type": "display_data"
    },
    {
     "data": {
      "image/png": "[encoded data removed]",
      "text/plain": [
       "<matplotlib.figure.Figure at 0x7f3eb9244438>"
      ]
     },
     "metadata": {},
     "output_type": "display_data"
    },
    {
     "name": "stdout",
     "output_type": "stream",
     "text": [
      "Summe:   268.323\n",
      "Mean:      2.129\n"
     ]
    },
    {
     "data": {
      "text/html": [
       "<h6>Artikel + Unterartikel: Quotient Seitenaufrufe MFNF / Wikipedia</h6>"
      ],
      "text/plain": [
       "<IPython.core.display.HTML object>"
      ]
     },
     "metadata": {},
     "output_type": "display_data"
    },
    {
     "data": {
      "image/png": "[encoded data removed]",
      "text/plain": [
       "<matplotlib.figure.Figure at 0x7f3eb92dc828>"
      ]
     },
     "metadata": {},
     "output_type": "display_data"
    },
    {
     "name": "stdout",
     "output_type": "stream",
     "text": [
      "Mean:  12%\n"
     ]
    },
    {
     "data": {
      "text/html": [
       "<h5>Seitenaufrufe Artikel</h5>"
      ],
      "text/plain": [
       "<IPython.core.display.HTML object>"
      ]
     },
     "metadata": {},
     "output_type": "display_data"
    },
    {
     "name": "stdout",
     "output_type": "stream",
     "text": [
      "2016:          49.575\n",
      "WiSe 16/17:    41.291 ┬   +13.476 (+48%)\n",
      "WiSe 15/16:    27.815 ┘      \n"
     ]
    },
    {
     "data": {
      "text/html": [
       "<h5>Vergleich der Seitenaufrufe zum Wikipedia-Artikel</h5>"
      ],
      "text/plain": [
       "<IPython.core.display.HTML object>"
      ]
     },
     "metadata": {},
     "output_type": "display_data"
    },
    {
     "name": "stdout",
     "output_type": "stream",
     "text": [
      "Wikipedia-Artikel: Analysis\n",
      "Views WiSe 16/17:     44.740 ┬    -3.562 ( -7%)\n",
      "Views WiSe 15/16:     48.302 ┘      \n",
      "\n",
      "MFNF / Wikipedia – WiSe 16/17:  92%\n",
      "MFNF / Wikipedia – WiSe 15/16:  58%\n"
     ]
    },
    {
     "data": {
      "text/markdown": [
       "[Zurück zum Inhaltsverzeichnis](#Inhaltsverzeichnis)"
      ],
      "text/plain": [
       "<IPython.core.display.Markdown object>"
      ]
     },
     "metadata": {},
     "output_type": "display_data"
    },
    {
     "data": {
      "text/html": [
       "<h3 id='Was ist Analysis?'>=== Was ist Analysis? ===</h3>"
      ],
      "text/plain": [
       "<IPython.core.display.HTML object>"
      ]
     },
     "metadata": {},
     "output_type": "display_data"
    },
    {
     "data": {
      "text/markdown": [
       "[Zurück zum Inhaltsverzeichnis](#Inhaltsverzeichnis)"
      ],
      "text/plain": [
       "<IPython.core.display.Markdown object>"
      ]
     },
     "metadata": {},
     "output_type": "display_data"
    },
    {
     "data": {
      "text/html": [
       "<h4 id='Was ist Analysis?'>==== Was ist Analysis? ====</h4>"
      ],
      "text/plain": [
       "<IPython.core.display.HTML object>"
      ]
     },
     "metadata": {},
     "output_type": "display_data"
    },
    {
     "data": {
      "text/html": [
       "<h5>Seitenaufrufe Artikel</h5>"
      ],
      "text/plain": [
       "<IPython.core.display.HTML object>"
      ]
     },
     "metadata": {},
     "output_type": "display_data"
    },
    {
     "name": "stdout",
     "output_type": "stream",
     "text": [
      "2016:           7.708\n",
      "WiSe 16/17:     4.425 ┬      +884 (+25%)\n",
      "WiSe 15/16:     3.541 ┘      \n"
     ]
    },
    {
     "data": {
      "text/markdown": [
       "[Zurück zum Inhaltsverzeichnis](#Inhaltsverzeichnis)"
      ],
      "text/plain": [
       "<IPython.core.display.Markdown object>"
      ]
     },
     "metadata": {},
     "output_type": "display_data"
    },
    {
     "data": {
      "text/html": [
       "<h4 id='Wozu Analysis studieren?'>==== Wozu Analysis studieren? ====</h4>"
      ],
      "text/plain": [
       "<IPython.core.display.HTML object>"
      ]
     },
     "metadata": {},
     "output_type": "display_data"
    },
    {
     "data": {
      "text/html": [
       "<h5>Seitenaufrufe Artikel</h5>"
      ],
      "text/plain": [
       "<IPython.core.display.HTML object>"
      ]
     },
     "metadata": {},
     "output_type": "display_data"
    },
    {
     "name": "stdout",
     "output_type": "stream",
     "text": [
      "2016:           2.813\n",
      "WiSe 16/17:     1.689 ┬      +128 ( +8%)\n",
      "WiSe 15/16:     1.561 ┘      \n"
     ]
    },
    {
     "data": {
      "text/markdown": [
       "[Zurück zum Inhaltsverzeichnis](#Inhaltsverzeichnis)"
      ],
      "text/plain": [
       "<IPython.core.display.Markdown object>"
      ]
     },
     "metadata": {},
     "output_type": "display_data"
    },
    {
     "data": {
      "text/html": [
       "<h3 id='Was sind reelle Zahlen?'>=== Was sind reelle Zahlen? ===</h3>"
      ],
      "text/plain": [
       "<IPython.core.display.HTML object>"
      ]
     },
     "metadata": {},
     "output_type": "display_data"
    },
    {
     "data": {
      "text/markdown": [
       "[Zurück zum Inhaltsverzeichnis](#Inhaltsverzeichnis)"
      ],
      "text/plain": [
       "<IPython.core.display.Markdown object>"
      ]
     },
     "metadata": {},
     "output_type": "display_data"
    },
    {
     "data": {
      "text/html": [
       "<h4 id='Was sind reelle Zahlen?'>==== Was sind reelle Zahlen? ====</h4>"
      ],
      "text/plain": [
       "<IPython.core.display.HTML object>"
      ]
     },
     "metadata": {},
     "output_type": "display_data"
    },
    {
     "data": {
      "text/html": [
       "<h5>Seitenaufrufe Artikel</h5>"
      ],
      "text/plain": [
       "<IPython.core.display.HTML object>"
      ]
     },
     "metadata": {},
     "output_type": "display_data"
    },
    {
     "name": "stdout",
     "output_type": "stream",
     "text": [
      "2016:           4.588\n",
      "WiSe 16/17:     2.664 ┬       +68 ( +3%)\n",
      "WiSe 15/16:     2.596 ┘      \n"
     ]
    },
    {
     "data": {
      "text/html": [
       "<h5>Vergleich der Seitenaufrufe zum Wikipedia-Artikel</h5>"
      ],
      "text/plain": [
       "<IPython.core.display.HTML object>"
      ]
     },
     "metadata": {},
     "output_type": "display_data"
    },
    {
     "name": "stdout",
     "output_type": "stream",
     "text": [
      "Wikipedia-Artikel: Reelle Zahl\n",
      "Views WiSe 16/17:    161.074 ┬    -4.599 ( -3%)\n",
      "Views WiSe 15/16:    165.673 ┘      \n",
      "\n",
      "MFNF / Wikipedia – WiSe 16/17:   2%\n",
      "MFNF / Wikipedia – WiSe 15/16:   2%\n"
     ]
    },
    {
     "data": {
      "text/markdown": [
       "[Zurück zum Inhaltsverzeichnis](#Inhaltsverzeichnis)"
      ],
      "text/plain": [
       "<IPython.core.display.Markdown object>"
      ]
     },
     "metadata": {},
     "output_type": "display_data"
    },
    {
     "data": {
      "text/html": [
       "<h4 id='Die Zahlengerade'>==== Die Zahlengerade ====</h4>"
      ],
      "text/plain": [
       "<IPython.core.display.HTML object>"
      ]
     },
     "metadata": {},
     "output_type": "display_data"
    },
    {
     "data": {
      "text/html": [
       "<h5>Seitenaufrufe Artikel</h5>"
      ],
      "text/plain": [
       "<IPython.core.display.HTML object>"
      ]
     },
     "metadata": {},
     "output_type": "display_data"
    },
    {
     "name": "stdout",
     "output_type": "stream",
     "text": [
      "2016:           2.712\n",
      "WiSe 16/17:     1.620 ┬      +732 (+82%)\n",
      "WiSe 15/16:       888 ┘      \n"
     ]
    },
    {
     "data": {
      "text/html": [
       "<h5>Vergleich der Seitenaufrufe zum Wikipedia-Artikel</h5>"
      ],
      "text/plain": [
       "<IPython.core.display.HTML object>"
      ]
     },
     "metadata": {},
     "output_type": "display_data"
    },
    {
     "name": "stdout",
     "output_type": "stream",
     "text": [
      "Wikipedia-Artikel: Zahlengerade\n",
      "Views WiSe 16/17:      7.052 ┬      -896 (-11%)\n",
      "Views WiSe 15/16:      7.948 ┘      \n",
      "\n",
      "MFNF / Wikipedia – WiSe 16/17:  23%\n",
      "MFNF / Wikipedia – WiSe 15/16:  11%\n"
     ]
    },
    {
     "data": {
      "text/markdown": [
       "[Zurück zum Inhaltsverzeichnis](#Inhaltsverzeichnis)"
      ],
      "text/plain": [
       "<IPython.core.display.Markdown object>"
      ]
     },
     "metadata": {},
     "output_type": "display_data"
    },
    {
     "data": {
      "text/html": [
       "<h3 id='Körperaxiome'>=== Körperaxiome ===</h3>"
      ],
      "text/plain": [
       "<IPython.core.display.HTML object>"
      ]
     },
     "metadata": {},
     "output_type": "display_data"
    },
    {
     "data": {
      "text/markdown": [
       "[Zurück zum Inhaltsverzeichnis](#Inhaltsverzeichnis)"
      ],
      "text/plain": [
       "<IPython.core.display.Markdown object>"
      ]
     },
     "metadata": {},
     "output_type": "display_data"
    },
    {
     "data": {
      "text/html": [
       "<h4 id='Körperaxiome'>==== Körperaxiome ====</h4>"
      ],
      "text/plain": [
       "<IPython.core.display.HTML object>"
      ]
     },
     "metadata": {},
     "output_type": "display_data"
    },
    {
     "data": {
      "text/html": [
       "<h5>Seitenaufrufe Artikel</h5>"
      ],
      "text/plain": [
       "<IPython.core.display.HTML object>"
      ]
     },
     "metadata": {},
     "output_type": "display_data"
    },
    {
     "name": "stdout",
     "output_type": "stream",
     "text": [
      "2016:          15.147\n",
      "WiSe 16/17:    10.795 ┬    +1.385 (+15%)\n",
      "WiSe 15/16:     9.410 ┘      \n"
     ]
    },
    {
     "data": {
      "text/html": [
       "<h5>Vergleich der Seitenaufrufe zum Wikipedia-Artikel</h5>"
      ],
      "text/plain": [
       "<IPython.core.display.HTML object>"
      ]
     },
     "metadata": {},
     "output_type": "display_data"
    },
    {
     "name": "stdout",
     "output_type": "stream",
     "text": [
      "Wikipedia-Artikel: Körper (Algebra)\n",
      "Views WiSe 16/17:     51.184 ┬    -1.230 ( -2%)\n",
      "Views WiSe 15/16:     52.414 ┘      \n",
      "\n",
      "MFNF / Wikipedia – WiSe 16/17:  21%\n",
      "MFNF / Wikipedia – WiSe 15/16:  18%\n"
     ]
    },
    {
     "data": {
      "text/markdown": [
       "[Zurück zum Inhaltsverzeichnis](#Inhaltsverzeichnis)"
      ],
      "text/plain": [
       "<IPython.core.display.Markdown object>"
      ]
     },
     "metadata": {},
     "output_type": "display_data"
    },
    {
     "data": {
      "text/html": [
       "<h4 id='Folgerungen der Körperaxiome'>==== Folgerungen der Körperaxiome ====</h4>"
      ],
      "text/plain": [
       "<IPython.core.display.HTML object>"
      ]
     },
     "metadata": {},
     "output_type": "display_data"
    },
    {
     "data": {
      "text/html": [
       "<h5>Seitenaufrufe Artikel</h5>"
      ],
      "text/plain": [
       "<IPython.core.display.HTML object>"
      ]
     },
     "metadata": {},
     "output_type": "display_data"
    },
    {
     "name": "stdout",
     "output_type": "stream",
     "text": [
      "2016:           9.486\n",
      "WiSe 16/17:     8.067 ┬    +2.970 (+58%)\n",
      "WiSe 15/16:     5.097 ┘      \n"
     ]
    },
    {
     "data": {
      "text/markdown": [
       "[Zurück zum Inhaltsverzeichnis](#Inhaltsverzeichnis)"
      ],
      "text/plain": [
       "<IPython.core.display.Markdown object>"
      ]
     },
     "metadata": {},
     "output_type": "display_data"
    },
    {
     "data": {
      "text/html": [
       "<h4 id='Potenzen reeller Zahlen'>==== Potenzen reeller Zahlen ====</h4>"
      ],
      "text/plain": [
       "<IPython.core.display.HTML object>"
      ]
     },
     "metadata": {},
     "output_type": "display_data"
    },
    {
     "data": {
      "text/html": [
       "<h5>Seitenaufrufe Artikel</h5>"
      ],
      "text/plain": [
       "<IPython.core.display.HTML object>"
      ]
     },
     "metadata": {},
     "output_type": "display_data"
    },
    {
     "name": "stdout",
     "output_type": "stream",
     "text": [
      "2016:           2.016\n",
      "WiSe 16/17:     1.284 ┬      +124 (+11%)\n",
      "WiSe 15/16:     1.160 ┘      \n"
     ]
    },
    {
     "data": {
      "text/html": [
       "<h5>Vergleich der Seitenaufrufe zum Wikipedia-Artikel</h5>"
      ],
      "text/plain": [
       "<IPython.core.display.HTML object>"
      ]
     },
     "metadata": {},
     "output_type": "display_data"
    },
    {
     "name": "stdout",
     "output_type": "stream",
     "text": [
      "Wikipedia-Artikel: Potenz (Mathematik)\n",
      "Views WiSe 16/17:    140.477 ┬    -2.395 ( -2%)\n",
      "Views WiSe 15/16:    142.872 ┘      \n",
      "\n",
      "MFNF / Wikipedia – WiSe 16/17:   1%\n",
      "MFNF / Wikipedia – WiSe 15/16:   1%\n"
     ]
    },
    {
     "data": {
      "text/markdown": [
       "[Zurück zum Inhaltsverzeichnis](#Inhaltsverzeichnis)"
      ],
      "text/plain": [
       "<IPython.core.display.Markdown object>"
      ]
     },
     "metadata": {},
     "output_type": "display_data"
    },
    {
     "data": {
      "text/html": [
       "<h3 id='Anordnungsaxiome'>=== Anordnungsaxiome ===</h3>"
      ],
      "text/plain": [
       "<IPython.core.display.HTML object>"
      ]
     },
     "metadata": {},
     "output_type": "display_data"
    },
    {
     "data": {
      "text/markdown": [
       "[Zurück zum Inhaltsverzeichnis](#Inhaltsverzeichnis)"
      ],
      "text/plain": [
       "<IPython.core.display.Markdown object>"
      ]
     },
     "metadata": {},
     "output_type": "display_data"
    },
    {
     "data": {
      "text/html": [
       "<h4 id='Anordnungsaxiome'>==== Anordnungsaxiome ====</h4>"
      ],
      "text/plain": [
       "<IPython.core.display.HTML object>"
      ]
     },
     "metadata": {},
     "output_type": "display_data"
    },
    {
     "data": {
      "text/html": [
       "<h5>Seitenaufrufe Artikel</h5>"
      ],
      "text/plain": [
       "<IPython.core.display.HTML object>"
      ]
     },
     "metadata": {},
     "output_type": "display_data"
    },
    {
     "name": "stdout",
     "output_type": "stream",
     "text": [
      "2016:           4.930\n",
      "WiSe 16/17:     3.301 ┬      +465 (+16%)\n",
      "WiSe 15/16:     2.836 ┘      \n"
     ]
    },
    {
     "data": {
      "text/html": [
       "<h5>Vergleich der Seitenaufrufe zum Wikipedia-Artikel</h5>"
      ],
      "text/plain": [
       "<IPython.core.display.HTML object>"
      ]
     },
     "metadata": {},
     "output_type": "display_data"
    },
    {
     "name": "stdout",
     "output_type": "stream",
     "text": [
      "Wikipedia-Artikel: Geordneter Körper\n",
      "Views WiSe 16/17:      6.665 ┬    -1.386 (-17%)\n",
      "Views WiSe 15/16:      8.051 ┘      \n",
      "\n",
      "MFNF / Wikipedia – WiSe 16/17:  50%\n",
      "MFNF / Wikipedia – WiSe 15/16:  35%\n"
     ]
    },
    {
     "data": {
      "text/markdown": [
       "[Zurück zum Inhaltsverzeichnis](#Inhaltsverzeichnis)"
      ],
      "text/plain": [
       "<IPython.core.display.Markdown object>"
      ]
     },
     "metadata": {},
     "output_type": "display_data"
    },
    {
     "data": {
      "text/html": [
       "<h4 id='Folgerungen der Anordnungsaxiome'>==== Folgerungen der Anordnungsaxiome ====</h4>"
      ],
      "text/plain": [
       "<IPython.core.display.HTML object>"
      ]
     },
     "metadata": {},
     "output_type": "display_data"
    },
    {
     "data": {
      "text/html": [
       "<h5>Seitenaufrufe Artikel</h5>"
      ],
      "text/plain": [
       "<IPython.core.display.HTML object>"
      ]
     },
     "metadata": {},
     "output_type": "display_data"
    },
    {
     "name": "stdout",
     "output_type": "stream",
     "text": [
      "2016:           3.491\n",
      "WiSe 16/17:     2.731 ┬      +740 (+37%)\n",
      "WiSe 15/16:     1.991 ┘      \n"
     ]
    },
    {
     "data": {
      "text/markdown": [
       "[Zurück zum Inhaltsverzeichnis](#Inhaltsverzeichnis)"
      ],
      "text/plain": [
       "<IPython.core.display.Markdown object>"
      ]
     },
     "metadata": {},
     "output_type": "display_data"
    },
    {
     "data": {
      "text/html": [
       "<h4 id='Betragsfunktion, Maximum und Minimum'>==== Betragsfunktion, Maximum und Minimum ====</h4>"
      ],
      "text/plain": [
       "<IPython.core.display.HTML object>"
      ]
     },
     "metadata": {},
     "output_type": "display_data"
    },
    {
     "data": {
      "text/html": [
       "<h5>Seitenaufrufe Artikel</h5>"
      ],
      "text/plain": [
       "<IPython.core.display.HTML object>"
      ]
     },
     "metadata": {},
     "output_type": "display_data"
    },
    {
     "name": "stdout",
     "output_type": "stream",
     "text": [
      "2016:          12.340\n",
      "WiSe 16/17:     9.170 ┬    +1.072 (+13%)\n",
      "WiSe 15/16:     8.098 ┘      \n"
     ]
    },
    {
     "data": {
      "text/html": [
       "<h5>Vergleich der Seitenaufrufe zum Wikipedia-Artikel</h5>"
      ],
      "text/plain": [
       "<IPython.core.display.HTML object>"
      ]
     },
     "metadata": {},
     "output_type": "display_data"
    },
    {
     "name": "stdout",
     "output_type": "stream",
     "text": [
      "Wikipedia-Artikel: Betragsfunktion\n",
      "Views WiSe 16/17:     47.872 ┬    -5.609 (-10%)\n",
      "Views WiSe 15/16:     53.481 ┘      \n",
      "\n",
      "MFNF / Wikipedia – WiSe 16/17:  19%\n",
      "MFNF / Wikipedia – WiSe 15/16:  15%\n"
     ]
    },
    {
     "data": {
      "text/markdown": [
       "[Zurück zum Inhaltsverzeichnis](#Inhaltsverzeichnis)"
      ],
      "text/plain": [
       "<IPython.core.display.Markdown object>"
      ]
     },
     "metadata": {},
     "output_type": "display_data"
    },
    {
     "data": {
      "text/html": [
       "<h4 id='Intervalle'>==== Intervalle ====</h4>"
      ],
      "text/plain": [
       "<IPython.core.display.HTML object>"
      ]
     },
     "metadata": {},
     "output_type": "display_data"
    },
    {
     "data": {
      "text/html": [
       "<h5>Seitenaufrufe Artikel</h5>"
      ],
      "text/plain": [
       "<IPython.core.display.HTML object>"
      ]
     },
     "metadata": {},
     "output_type": "display_data"
    },
    {
     "name": "stdout",
     "output_type": "stream",
     "text": [
      "2016:          13.053\n",
      "WiSe 16/17:     7.586 ┬      -649 ( -8%)\n",
      "WiSe 15/16:     8.235 ┘      \n"
     ]
    },
    {
     "data": {
      "text/html": [
       "<h5>Vergleich der Seitenaufrufe zum Wikipedia-Artikel</h5>"
      ],
      "text/plain": [
       "<IPython.core.display.HTML object>"
      ]
     },
     "metadata": {},
     "output_type": "display_data"
    },
    {
     "name": "stdout",
     "output_type": "stream",
     "text": [
      "Wikipedia-Artikel: Intervall (Mathematik)\n",
      "Views WiSe 16/17:     61.007 ┬      -894 ( -1%)\n",
      "Views WiSe 15/16:     61.901 ┘      \n",
      "\n",
      "MFNF / Wikipedia – WiSe 16/17:  12%\n",
      "MFNF / Wikipedia – WiSe 15/16:  13%\n"
     ]
    },
    {
     "data": {
      "text/markdown": [
       "[Zurück zum Inhaltsverzeichnis](#Inhaltsverzeichnis)"
      ],
      "text/plain": [
       "<IPython.core.display.Markdown object>"
      ]
     },
     "metadata": {},
     "output_type": "display_data"
    },
    {
     "data": {
      "text/html": [
       "<h3 id='Vollständigkeit reeller Zahlen'>=== Vollständigkeit reeller Zahlen ===</h3>"
      ],
      "text/plain": [
       "<IPython.core.display.HTML object>"
      ]
     },
     "metadata": {},
     "output_type": "display_data"
    },
    {
     "data": {
      "text/markdown": [
       "[Zurück zum Inhaltsverzeichnis](#Inhaltsverzeichnis)"
      ],
      "text/plain": [
       "<IPython.core.display.Markdown object>"
      ]
     },
     "metadata": {},
     "output_type": "display_data"
    },
    {
     "data": {
      "text/html": [
       "<h4 id='Intervallschachtelung mit rationaler Genauigkeit'>==== Intervallschachtelung mit rationaler Genauigkeit ====</h4>"
      ],
      "text/plain": [
       "<IPython.core.display.HTML object>"
      ]
     },
     "metadata": {},
     "output_type": "display_data"
    },
    {
     "data": {
      "text/html": [
       "<h5>Seitenaufrufe Artikel</h5>"
      ],
      "text/plain": [
       "<IPython.core.display.HTML object>"
      ]
     },
     "metadata": {},
     "output_type": "display_data"
    },
    {
     "name": "stdout",
     "output_type": "stream",
     "text": [
      "2016:           3.782\n",
      "WiSe 16/17:     2.447 ┬       -84 ( -3%)\n",
      "WiSe 15/16:     2.531 ┘      \n"
     ]
    },
    {
     "data": {
      "text/markdown": [
       "[Zurück zum Inhaltsverzeichnis](#Inhaltsverzeichnis)"
      ],
      "text/plain": [
       "<IPython.core.display.Markdown object>"
      ]
     },
     "metadata": {},
     "output_type": "display_data"
    },
    {
     "data": {
      "text/html": [
       "<h4 id='Das archimedische Axiom'>==== Das archimedische Axiom ====</h4>"
      ],
      "text/plain": [
       "<IPython.core.display.HTML object>"
      ]
     },
     "metadata": {},
     "output_type": "display_data"
    },
    {
     "data": {
      "text/html": [
       "<h5>Seitenaufrufe Artikel</h5>"
      ],
      "text/plain": [
       "<IPython.core.display.HTML object>"
      ]
     },
     "metadata": {},
     "output_type": "display_data"
    },
    {
     "name": "stdout",
     "output_type": "stream",
     "text": [
      "2016:           4.910\n",
      "WiSe 16/17:     3.762 ┬      +455 (+14%)\n",
      "WiSe 15/16:     3.307 ┘      \n"
     ]
    },
    {
     "data": {
      "text/html": [
       "<h5>Vergleich der Seitenaufrufe zum Wikipedia-Artikel</h5>"
      ],
      "text/plain": [
       "<IPython.core.display.HTML object>"
      ]
     },
     "metadata": {},
     "output_type": "display_data"
    },
    {
     "name": "stdout",
     "output_type": "stream",
     "text": [
      "Wikipedia-Artikel: Archimedisches Axiom\n",
      "Views WiSe 16/17:     10.932 ┬      -214 ( -2%)\n",
      "Views WiSe 15/16:     11.146 ┘      \n",
      "\n",
      "MFNF / Wikipedia – WiSe 16/17:  34%\n",
      "MFNF / Wikipedia – WiSe 15/16:  30%\n"
     ]
    },
    {
     "data": {
      "text/markdown": [
       "[Zurück zum Inhaltsverzeichnis](#Inhaltsverzeichnis)"
      ],
      "text/plain": [
       "<IPython.core.display.Markdown object>"
      ]
     },
     "metadata": {},
     "output_type": "display_data"
    },
    {
     "data": {
      "text/html": [
       "<h4 id='Bernoullische Ungleichung'>==== Bernoullische Ungleichung ====</h4>"
      ],
      "text/plain": [
       "<IPython.core.display.HTML object>"
      ]
     },
     "metadata": {},
     "output_type": "display_data"
    },
    {
     "data": {
      "text/html": [
       "<h5>Seitenaufrufe Artikel</h5>"
      ],
      "text/plain": [
       "<IPython.core.display.HTML object>"
      ]
     },
     "metadata": {},
     "output_type": "display_data"
    },
    {
     "name": "stdout",
     "output_type": "stream",
     "text": [
      "2016:          11.303\n",
      "WiSe 16/17:     9.386 ┬    +1.723 (+22%)\n",
      "WiSe 15/16:     7.663 ┘      \n"
     ]
    },
    {
     "data": {
      "text/html": [
       "<h5>Vergleich der Seitenaufrufe zum Wikipedia-Artikel</h5>"
      ],
      "text/plain": [
       "<IPython.core.display.HTML object>"
      ]
     },
     "metadata": {},
     "output_type": "display_data"
    },
    {
     "name": "stdout",
     "output_type": "stream",
     "text": [
      "Wikipedia-Artikel: Bernoullische Ungleichung\n",
      "Views WiSe 16/17:     26.399 ┬    +2.006 ( +8%)\n",
      "Views WiSe 15/16:     24.393 ┘      \n",
      "\n",
      "MFNF / Wikipedia – WiSe 16/17:  36%\n",
      "MFNF / Wikipedia – WiSe 15/16:  31%\n"
     ]
    },
    {
     "data": {
      "text/markdown": [
       "[Zurück zum Inhaltsverzeichnis](#Inhaltsverzeichnis)"
      ],
      "text/plain": [
       "<IPython.core.display.Markdown object>"
      ]
     },
     "metadata": {},
     "output_type": "display_data"
    },
    {
     "data": {
      "text/html": [
       "<h4 id='Allgemeine Intervallschachtelungen'>==== Allgemeine Intervallschachtelungen ====</h4>"
      ],
      "text/plain": [
       "<IPython.core.display.HTML object>"
      ]
     },
     "metadata": {},
     "output_type": "display_data"
    },
    {
     "data": {
      "text/html": [
       "<h5>Seitenaufrufe Artikel</h5>"
      ],
      "text/plain": [
       "<IPython.core.display.HTML object>"
      ]
     },
     "metadata": {},
     "output_type": "display_data"
    },
    {
     "name": "stdout",
     "output_type": "stream",
     "text": [
      "2016:           5.564\n",
      "WiSe 16/17:     3.466 ┬      -305 ( -8%)\n",
      "WiSe 15/16:     3.771 ┘      \n"
     ]
    },
    {
     "data": {
      "text/html": [
       "<h5>Vergleich der Seitenaufrufe zum Wikipedia-Artikel</h5>"
      ],
      "text/plain": [
       "<IPython.core.display.HTML object>"
      ]
     },
     "metadata": {},
     "output_type": "display_data"
    },
    {
     "name": "stdout",
     "output_type": "stream",
     "text": [
      "Wikipedia-Artikel: Intervallschachtelung\n",
      "Views WiSe 16/17:      8.216 ┬      -330 ( -4%)\n",
      "Views WiSe 15/16:      8.546 ┘      \n",
      "\n",
      "MFNF / Wikipedia – WiSe 16/17:  42%\n",
      "MFNF / Wikipedia – WiSe 15/16:  44%\n"
     ]
    },
    {
     "data": {
      "text/markdown": [
       "[Zurück zum Inhaltsverzeichnis](#Inhaltsverzeichnis)"
      ],
      "text/plain": [
       "<IPython.core.display.Markdown object>"
      ]
     },
     "metadata": {},
     "output_type": "display_data"
    },
    {
     "data": {
      "text/html": [
       "<h3 id='Die komplexen Zahlen'>=== Die komplexen Zahlen ===</h3>"
      ],
      "text/plain": [
       "<IPython.core.display.HTML object>"
      ]
     },
     "metadata": {},
     "output_type": "display_data"
    },
    {
     "data": {
      "text/markdown": [
       "[Zurück zum Inhaltsverzeichnis](#Inhaltsverzeichnis)"
      ],
      "text/plain": [
       "<IPython.core.display.Markdown object>"
      ]
     },
     "metadata": {},
     "output_type": "display_data"
    },
    {
     "data": {
      "text/html": [
       "<h4 id='Einleitung und Motivation'>==== Einleitung und Motivation ====</h4>"
      ],
      "text/plain": [
       "<IPython.core.display.HTML object>"
      ]
     },
     "metadata": {},
     "output_type": "display_data"
    },
    {
     "data": {
      "text/html": [
       "<h5>Seitenaufrufe Artikel</h5>"
      ],
      "text/plain": [
       "<IPython.core.display.HTML object>"
      ]
     },
     "metadata": {},
     "output_type": "display_data"
    },
    {
     "name": "stdout",
     "output_type": "stream",
     "text": [
      "2016:               0\n",
      "WiSe 16/17:        99 ┬       +99        \n",
      "WiSe 15/16:         0 ┘      \n"
     ]
    },
    {
     "data": {
      "text/markdown": [
       "[Zurück zum Inhaltsverzeichnis](#Inhaltsverzeichnis)"
      ],
      "text/plain": [
       "<IPython.core.display.Markdown object>"
      ]
     },
     "metadata": {},
     "output_type": "display_data"
    },
    {
     "data": {
      "text/html": [
       "<h4 id='Intuition'>==== Intuition ====</h4>"
      ],
      "text/plain": [
       "<IPython.core.display.HTML object>"
      ]
     },
     "metadata": {},
     "output_type": "display_data"
    },
    {
     "data": {
      "text/html": [
       "<h5>Seitenaufrufe Artikel</h5>"
      ],
      "text/plain": [
       "<IPython.core.display.HTML object>"
      ]
     },
     "metadata": {},
     "output_type": "display_data"
    },
    {
     "name": "stdout",
     "output_type": "stream",
     "text": [
      "2016:               0\n",
      "WiSe 16/17:         0 ┬        +0        \n",
      "WiSe 15/16:         0 ┘      \n"
     ]
    },
    {
     "data": {
      "text/markdown": [
       "[Zurück zum Inhaltsverzeichnis](#Inhaltsverzeichnis)"
      ],
      "text/plain": [
       "<IPython.core.display.Markdown object>"
      ]
     },
     "metadata": {},
     "output_type": "display_data"
    },
    {
     "data": {
      "text/html": [
       "<h4 id='Definition'>==== Definition ====</h4>"
      ],
      "text/plain": [
       "<IPython.core.display.HTML object>"
      ]
     },
     "metadata": {},
     "output_type": "display_data"
    },
    {
     "data": {
      "text/html": [
       "<h5>Seitenaufrufe Artikel</h5>"
      ],
      "text/plain": [
       "<IPython.core.display.HTML object>"
      ]
     },
     "metadata": {},
     "output_type": "display_data"
    },
    {
     "name": "stdout",
     "output_type": "stream",
     "text": [
      "2016:               0\n",
      "WiSe 16/17:         0 ┬        +0        \n",
      "WiSe 15/16:         0 ┘      \n"
     ]
    },
    {
     "data": {
      "text/markdown": [
       "[Zurück zum Inhaltsverzeichnis](#Inhaltsverzeichnis)"
      ],
      "text/plain": [
       "<IPython.core.display.Markdown object>"
      ]
     },
     "metadata": {},
     "output_type": "display_data"
    },
    {
     "data": {
      "text/html": [
       "<h4 id='Eigenschaften'>==== Eigenschaften ====</h4>"
      ],
      "text/plain": [
       "<IPython.core.display.HTML object>"
      ]
     },
     "metadata": {},
     "output_type": "display_data"
    },
    {
     "data": {
      "text/html": [
       "<h5>Seitenaufrufe Artikel</h5>"
      ],
      "text/plain": [
       "<IPython.core.display.HTML object>"
      ]
     },
     "metadata": {},
     "output_type": "display_data"
    },
    {
     "name": "stdout",
     "output_type": "stream",
     "text": [
      "2016:               0\n",
      "WiSe 16/17:         0 ┬        +0        \n",
      "WiSe 15/16:         0 ┘      \n"
     ]
    },
    {
     "data": {
      "text/markdown": [
       "[Zurück zum Inhaltsverzeichnis](#Inhaltsverzeichnis)"
      ],
      "text/plain": [
       "<IPython.core.display.Markdown object>"
      ]
     },
     "metadata": {},
     "output_type": "display_data"
    },
    {
     "data": {
      "text/html": [
       "<h4 id='Polardarstellung'>==== Polardarstellung ====</h4>"
      ],
      "text/plain": [
       "<IPython.core.display.HTML object>"
      ]
     },
     "metadata": {},
     "output_type": "display_data"
    },
    {
     "data": {
      "text/html": [
       "<h5>Seitenaufrufe Artikel</h5>"
      ],
      "text/plain": [
       "<IPython.core.display.HTML object>"
      ]
     },
     "metadata": {},
     "output_type": "display_data"
    },
    {
     "name": "stdout",
     "output_type": "stream",
     "text": [
      "2016:               0\n",
      "WiSe 16/17:         0 ┬        +0        \n",
      "WiSe 15/16:         0 ┘      \n"
     ]
    },
    {
     "data": {
      "text/markdown": [
       "[Zurück zum Inhaltsverzeichnis](#Inhaltsverzeichnis)"
      ],
      "text/plain": [
       "<IPython.core.display.Markdown object>"
      ]
     },
     "metadata": {},
     "output_type": "display_data"
    },
    {
     "data": {
      "text/html": [
       "<h4 id='Darstellung komplexwertiger Funktionen'>==== Darstellung komplexwertiger Funktionen ====</h4>"
      ],
      "text/plain": [
       "<IPython.core.display.HTML object>"
      ]
     },
     "metadata": {},
     "output_type": "display_data"
    },
    {
     "data": {
      "text/html": [
       "<h5>Seitenaufrufe Artikel</h5>"
      ],
      "text/plain": [
       "<IPython.core.display.HTML object>"
      ]
     },
     "metadata": {},
     "output_type": "display_data"
    },
    {
     "name": "stdout",
     "output_type": "stream",
     "text": [
      "2016:               0\n",
      "WiSe 16/17:       126 ┬      +126        \n",
      "WiSe 15/16:         0 ┘      \n"
     ]
    },
    {
     "data": {
      "text/markdown": [
       "[Zurück zum Inhaltsverzeichnis](#Inhaltsverzeichnis)"
      ],
      "text/plain": [
       "<IPython.core.display.Markdown object>"
      ]
     },
     "metadata": {},
     "output_type": "display_data"
    },
    {
     "data": {
      "text/html": [
       "<h4 id='Definition und Eigenschaften'>==== Definition und Eigenschaften ====</h4>"
      ],
      "text/plain": [
       "<IPython.core.display.HTML object>"
      ]
     },
     "metadata": {},
     "output_type": "display_data"
    },
    {
     "data": {
      "text/html": [
       "<h5>Seitenaufrufe Artikel</h5>"
      ],
      "text/plain": [
       "<IPython.core.display.HTML object>"
      ]
     },
     "metadata": {},
     "output_type": "display_data"
    },
    {
     "name": "stdout",
     "output_type": "stream",
     "text": [
      "2016:               0\n",
      "WiSe 16/17:       156 ┬      +156        \n",
      "WiSe 15/16:         0 ┘      \n"
     ]
    },
    {
     "data": {
      "text/markdown": [
       "[Zurück zum Inhaltsverzeichnis](#Inhaltsverzeichnis)"
      ],
      "text/plain": [
       "<IPython.core.display.Markdown object>"
      ]
     },
     "metadata": {},
     "output_type": "display_data"
    },
    {
     "data": {
      "text/html": [
       "<h4 id='Aufgaben'>==== Aufgaben ====</h4>"
      ],
      "text/plain": [
       "<IPython.core.display.HTML object>"
      ]
     },
     "metadata": {},
     "output_type": "display_data"
    },
    {
     "data": {
      "text/html": [
       "<h5>Seitenaufrufe Artikel</h5>"
      ],
      "text/plain": [
       "<IPython.core.display.HTML object>"
      ]
     },
     "metadata": {},
     "output_type": "display_data"
    },
    {
     "name": "stdout",
     "output_type": "stream",
     "text": [
      "2016:               0\n",
      "WiSe 16/17:        61 ┬       +61        \n",
      "WiSe 15/16:         0 ┘      \n"
     ]
    },
    {
     "data": {
      "text/markdown": [
       "[Zurück zum Inhaltsverzeichnis](#Inhaltsverzeichnis)"
      ],
      "text/plain": [
       "<IPython.core.display.Markdown object>"
      ]
     },
     "metadata": {},
     "output_type": "display_data"
    },
    {
     "data": {
      "text/html": [
       "<h3 id='Supremum und Infimum'>=== Supremum und Infimum ===</h3>"
      ],
      "text/plain": [
       "<IPython.core.display.HTML object>"
      ]
     },
     "metadata": {},
     "output_type": "display_data"
    },
    {
     "data": {
      "text/markdown": [
       "[Zurück zum Inhaltsverzeichnis](#Inhaltsverzeichnis)"
      ],
      "text/plain": [
       "<IPython.core.display.Markdown object>"
      ]
     },
     "metadata": {},
     "output_type": "display_data"
    },
    {
     "data": {
      "text/html": [
       "<h4 id='Supremum und Infimum'>==== Supremum und Infimum ====</h4>"
      ],
      "text/plain": [
       "<IPython.core.display.HTML object>"
      ]
     },
     "metadata": {},
     "output_type": "display_data"
    },
    {
     "data": {
      "text/html": [
       "<h5>Seitenaufrufe Artikel</h5>"
      ],
      "text/plain": [
       "<IPython.core.display.HTML object>"
      ]
     },
     "metadata": {},
     "output_type": "display_data"
    },
    {
     "name": "stdout",
     "output_type": "stream",
     "text": [
      "2016:          19.797\n",
      "WiSe 16/17:    14.515 ┬    +1.849 (+15%)\n",
      "WiSe 15/16:    12.666 ┘      \n"
     ]
    },
    {
     "data": {
      "text/html": [
       "<h5>Vergleich der Seitenaufrufe zum Wikipedia-Artikel</h5>"
      ],
      "text/plain": [
       "<IPython.core.display.HTML object>"
      ]
     },
     "metadata": {},
     "output_type": "display_data"
    },
    {
     "name": "stdout",
     "output_type": "stream",
     "text": [
      "Wikipedia-Artikel: Infimum und Supremum\n",
      "Views WiSe 16/17:     34.592 ┬       +59 ( +0%)\n",
      "Views WiSe 15/16:     34.533 ┘      \n",
      "\n",
      "MFNF / Wikipedia – WiSe 16/17:  42%\n",
      "MFNF / Wikipedia – WiSe 15/16:  37%\n"
     ]
    },
    {
     "data": {
      "text/markdown": [
       "[Zurück zum Inhaltsverzeichnis](#Inhaltsverzeichnis)"
      ],
      "text/plain": [
       "<IPython.core.display.Markdown object>"
      ]
     },
     "metadata": {},
     "output_type": "display_data"
    },
    {
     "data": {
      "text/html": [
       "<h4 id='Uneigentliches Supremum und Infimum'>==== Uneigentliches Supremum und Infimum ====</h4>"
      ],
      "text/plain": [
       "<IPython.core.display.HTML object>"
      ]
     },
     "metadata": {},
     "output_type": "display_data"
    },
    {
     "data": {
      "text/html": [
       "<h5>Seitenaufrufe Artikel</h5>"
      ],
      "text/plain": [
       "<IPython.core.display.HTML object>"
      ]
     },
     "metadata": {},
     "output_type": "display_data"
    },
    {
     "name": "stdout",
     "output_type": "stream",
     "text": [
      "2016:           1.344\n",
      "WiSe 16/17:     1.273 ┬      +767 (+152%)\n",
      "WiSe 15/16:       506 ┘      \n"
     ]
    },
    {
     "data": {
      "text/markdown": [
       "[Zurück zum Inhaltsverzeichnis](#Inhaltsverzeichnis)"
      ],
      "text/plain": [
       "<IPython.core.display.Markdown object>"
      ]
     },
     "metadata": {},
     "output_type": "display_data"
    },
    {
     "data": {
      "text/html": [
       "<h4 id='Supremum und Infimum bestimmen und beweisen'>==== Supremum und Infimum bestimmen und beweisen ====</h4>"
      ],
      "text/plain": [
       "<IPython.core.display.HTML object>"
      ]
     },
     "metadata": {},
     "output_type": "display_data"
    },
    {
     "data": {
      "text/html": [
       "<h5>Seitenaufrufe Artikel</h5>"
      ],
      "text/plain": [
       "<IPython.core.display.HTML object>"
      ]
     },
     "metadata": {},
     "output_type": "display_data"
    },
    {
     "name": "stdout",
     "output_type": "stream",
     "text": [
      "2016:          24.791\n",
      "WiSe 16/17:    20.309 ┬    +6.247 (+44%)\n",
      "WiSe 15/16:    14.062 ┘      \n"
     ]
    },
    {
     "data": {
      "text/markdown": [
       "[Zurück zum Inhaltsverzeichnis](#Inhaltsverzeichnis)"
      ],
      "text/plain": [
       "<IPython.core.display.Markdown object>"
      ]
     },
     "metadata": {},
     "output_type": "display_data"
    },
    {
     "data": {
      "text/html": [
       "<h4 id='Eigenschaften Supremum und Infimum'>==== Eigenschaften Supremum und Infimum ====</h4>"
      ],
      "text/plain": [
       "<IPython.core.display.HTML object>"
      ]
     },
     "metadata": {},
     "output_type": "display_data"
    },
    {
     "data": {
      "text/html": [
       "<h5>Seitenaufrufe Artikel</h5>"
      ],
      "text/plain": [
       "<IPython.core.display.HTML object>"
      ]
     },
     "metadata": {},
     "output_type": "display_data"
    },
    {
     "name": "stdout",
     "output_type": "stream",
     "text": [
      "2016:           6.716\n",
      "WiSe 16/17:     5.297 ┬    +2.841 (+116%)\n",
      "WiSe 15/16:     2.456 ┘      \n"
     ]
    },
    {
     "data": {
      "text/markdown": [
       "[Zurück zum Inhaltsverzeichnis](#Inhaltsverzeichnis)"
      ],
      "text/plain": [
       "<IPython.core.display.Markdown object>"
      ]
     },
     "metadata": {},
     "output_type": "display_data"
    },
    {
     "data": {
      "text/html": [
       "<h3 id='Wurzel reeller Zahlen'>=== Wurzel reeller Zahlen ===</h3>"
      ],
      "text/plain": [
       "<IPython.core.display.HTML object>"
      ]
     },
     "metadata": {},
     "output_type": "display_data"
    },
    {
     "data": {
      "text/markdown": [
       "[Zurück zum Inhaltsverzeichnis](#Inhaltsverzeichnis)"
      ],
      "text/plain": [
       "<IPython.core.display.Markdown object>"
      ]
     },
     "metadata": {},
     "output_type": "display_data"
    },
    {
     "data": {
      "text/html": [
       "<h4 id='Wurzel reeller Zahlen'>==== Wurzel reeller Zahlen ====</h4>"
      ],
      "text/plain": [
       "<IPython.core.display.HTML object>"
      ]
     },
     "metadata": {},
     "output_type": "display_data"
    },
    {
     "data": {
      "text/html": [
       "<h5>Seitenaufrufe Artikel</h5>"
      ],
      "text/plain": [
       "<IPython.core.display.HTML object>"
      ]
     },
     "metadata": {},
     "output_type": "display_data"
    },
    {
     "name": "stdout",
     "output_type": "stream",
     "text": [
      "2016:           3.041\n",
      "WiSe 16/17:     1.544 ┬      +703 (+84%)\n",
      "WiSe 15/16:       841 ┘      \n"
     ]
    },
    {
     "data": {
      "text/html": [
       "<h5>Vergleich der Seitenaufrufe zum Wikipedia-Artikel</h5>"
      ],
      "text/plain": [
       "<IPython.core.display.HTML object>"
      ]
     },
     "metadata": {},
     "output_type": "display_data"
    },
    {
     "name": "stdout",
     "output_type": "stream",
     "text": [
      "Wikipedia-Artikel: Wurzel (Mathematik)\n",
      "Views WiSe 16/17:     95.389 ┬   -11.511 (-11%)\n",
      "Views WiSe 15/16:    106.900 ┘      \n",
      "\n",
      "MFNF / Wikipedia – WiSe 16/17:   2%\n",
      "MFNF / Wikipedia – WiSe 15/16:   1%\n"
     ]
    },
    {
     "data": {
      "text/markdown": [
       "[Zurück zum Inhaltsverzeichnis](#Inhaltsverzeichnis)"
      ],
      "text/plain": [
       "<IPython.core.display.Markdown object>"
      ]
     },
     "metadata": {},
     "output_type": "display_data"
    },
    {
     "data": {
      "text/html": [
       "<h4 id='Lösungen von Potenzgleichungen'>==== Lösungen von Potenzgleichungen ====</h4>"
      ],
      "text/plain": [
       "<IPython.core.display.HTML object>"
      ]
     },
     "metadata": {},
     "output_type": "display_data"
    },
    {
     "data": {
      "text/html": [
       "<h5>Seitenaufrufe Artikel</h5>"
      ],
      "text/plain": [
       "<IPython.core.display.HTML object>"
      ]
     },
     "metadata": {},
     "output_type": "display_data"
    },
    {
     "name": "stdout",
     "output_type": "stream",
     "text": [
      "2016:             721\n",
      "WiSe 16/17:       716 ┬      +716        \n",
      "WiSe 15/16:         0 ┘      \n"
     ]
    },
    {
     "data": {
      "text/markdown": [
       "[Zurück zum Inhaltsverzeichnis](#Inhaltsverzeichnis)"
      ],
      "text/plain": [
       "<IPython.core.display.Markdown object>"
      ]
     },
     "metadata": {},
     "output_type": "display_data"
    },
    {
     "data": {
      "text/html": [
       "<h4 id='Rechenregeln'>==== Rechenregeln ====</h4>"
      ],
      "text/plain": [
       "<IPython.core.display.HTML object>"
      ]
     },
     "metadata": {},
     "output_type": "display_data"
    },
    {
     "data": {
      "text/html": [
       "<h5>Seitenaufrufe Artikel</h5>"
      ],
      "text/plain": [
       "<IPython.core.display.HTML object>"
      ]
     },
     "metadata": {},
     "output_type": "display_data"
    },
    {
     "name": "stdout",
     "output_type": "stream",
     "text": [
      "2016:             638\n",
      "WiSe 16/17:       605 ┬      +605        \n",
      "WiSe 15/16:         0 ┘      \n"
     ]
    },
    {
     "data": {
      "text/markdown": [
       "[Zurück zum Inhaltsverzeichnis](#Inhaltsverzeichnis)"
      ],
      "text/plain": [
       "<IPython.core.display.Markdown object>"
      ]
     },
     "metadata": {},
     "output_type": "display_data"
    },
    {
     "data": {
      "text/html": [
       "<h4 id='Verallgemeinerte Potenzen'>==== Verallgemeinerte Potenzen ====</h4>"
      ],
      "text/plain": [
       "<IPython.core.display.HTML object>"
      ]
     },
     "metadata": {},
     "output_type": "display_data"
    },
    {
     "data": {
      "text/html": [
       "<h5>Seitenaufrufe Artikel</h5>"
      ],
      "text/plain": [
       "<IPython.core.display.HTML object>"
      ]
     },
     "metadata": {},
     "output_type": "display_data"
    },
    {
     "name": "stdout",
     "output_type": "stream",
     "text": [
      "2016:             542\n",
      "WiSe 16/17:       484 ┬      +484        \n",
      "WiSe 15/16:         0 ┘      \n"
     ]
    },
    {
     "data": {
      "text/markdown": [
       "[Zurück zum Inhaltsverzeichnis](#Inhaltsverzeichnis)"
      ],
      "text/plain": [
       "<IPython.core.display.Markdown object>"
      ]
     },
     "metadata": {},
     "output_type": "display_data"
    },
    {
     "data": {
      "text/html": [
       "<h4 id='Aufgaben'>==== Aufgaben ====</h4>"
      ],
      "text/plain": [
       "<IPython.core.display.HTML object>"
      ]
     },
     "metadata": {},
     "output_type": "display_data"
    },
    {
     "data": {
      "text/html": [
       "<h5>Seitenaufrufe Artikel</h5>"
      ],
      "text/plain": [
       "<IPython.core.display.HTML object>"
      ]
     },
     "metadata": {},
     "output_type": "display_data"
    },
    {
     "name": "stdout",
     "output_type": "stream",
     "text": [
      "2016:             562\n",
      "WiSe 16/17:       409 ┬      +409        \n",
      "WiSe 15/16:         0 ┘      \n"
     ]
    },
    {
     "data": {
      "text/markdown": [
       "[Zurück zum Inhaltsverzeichnis](#Inhaltsverzeichnis)"
      ],
      "text/plain": [
       "<IPython.core.display.Markdown object>"
      ]
     },
     "metadata": {},
     "output_type": "display_data"
    },
    {
     "data": {
      "text/html": [
       "<h3 id='Folgen'>=== Folgen ===</h3>"
      ],
      "text/plain": [
       "<IPython.core.display.HTML object>"
      ]
     },
     "metadata": {},
     "output_type": "display_data"
    },
    {
     "data": {
      "text/markdown": [
       "[Zurück zum Inhaltsverzeichnis](#Inhaltsverzeichnis)"
      ],
      "text/plain": [
       "<IPython.core.display.Markdown object>"
      ]
     },
     "metadata": {},
     "output_type": "display_data"
    },
    {
     "data": {
      "text/html": [
       "<h4 id='Definition'>==== Definition ====</h4>"
      ],
      "text/plain": [
       "<IPython.core.display.HTML object>"
      ]
     },
     "metadata": {},
     "output_type": "display_data"
    },
    {
     "data": {
      "text/html": [
       "<h5>Seitenaufrufe Artikel</h5>"
      ],
      "text/plain": [
       "<IPython.core.display.HTML object>"
      ]
     },
     "metadata": {},
     "output_type": "display_data"
    },
    {
     "name": "stdout",
     "output_type": "stream",
     "text": [
      "2016:          11.659\n",
      "WiSe 16/17:     6.921 ┬      -752 (-10%)\n",
      "WiSe 15/16:     7.673 ┘      \n"
     ]
    },
    {
     "data": {
      "text/html": [
       "<h5>Vergleich der Seitenaufrufe zum Wikipedia-Artikel</h5>"
      ],
      "text/plain": [
       "<IPython.core.display.HTML object>"
      ]
     },
     "metadata": {},
     "output_type": "display_data"
    },
    {
     "name": "stdout",
     "output_type": "stream",
     "text": [
      "Wikipedia-Artikel: Folge (Mathematik)\n",
      "Views WiSe 16/17:     41.058 ┬    -5.728 (-12%)\n",
      "Views WiSe 15/16:     46.786 ┘      \n",
      "\n",
      "MFNF / Wikipedia – WiSe 16/17:  17%\n",
      "MFNF / Wikipedia – WiSe 15/16:  16%\n"
     ]
    },
    {
     "data": {
      "text/markdown": [
       "[Zurück zum Inhaltsverzeichnis](#Inhaltsverzeichnis)"
      ],
      "text/plain": [
       "<IPython.core.display.Markdown object>"
      ]
     },
     "metadata": {},
     "output_type": "display_data"
    },
    {
     "data": {
      "text/html": [
       "<h4 id='Explizite und rekursive Bildungsgesetze'>==== Explizite und rekursive Bildungsgesetze ====</h4>"
      ],
      "text/plain": [
       "<IPython.core.display.HTML object>"
      ]
     },
     "metadata": {},
     "output_type": "display_data"
    },
    {
     "data": {
      "text/html": [
       "<h5>Seitenaufrufe Artikel</h5>"
      ],
      "text/plain": [
       "<IPython.core.display.HTML object>"
      ]
     },
     "metadata": {},
     "output_type": "display_data"
    },
    {
     "name": "stdout",
     "output_type": "stream",
     "text": [
      "2016:          25.342\n",
      "WiSe 16/17:    17.208 ┬    +6.627 (+63%)\n",
      "WiSe 15/16:    10.581 ┘      \n"
     ]
    },
    {
     "data": {
      "text/markdown": [
       "[Zurück zum Inhaltsverzeichnis](#Inhaltsverzeichnis)"
      ],
      "text/plain": [
       "<IPython.core.display.Markdown object>"
      ]
     },
     "metadata": {},
     "output_type": "display_data"
    },
    {
     "data": {
      "text/html": [
       "<h4 id='Beispiele und Eigenschaften'>==== Beispiele und Eigenschaften ====</h4>"
      ],
      "text/plain": [
       "<IPython.core.display.HTML object>"
      ]
     },
     "metadata": {},
     "output_type": "display_data"
    },
    {
     "data": {
      "text/html": [
       "<h5>Seitenaufrufe Artikel</h5>"
      ],
      "text/plain": [
       "<IPython.core.display.HTML object>"
      ]
     },
     "metadata": {},
     "output_type": "display_data"
    },
    {
     "name": "stdout",
     "output_type": "stream",
     "text": [
      "2016:           7.286\n",
      "WiSe 16/17:     6.855 ┬    +6.855        \n",
      "WiSe 15/16:         0 ┘      \n"
     ]
    },
    {
     "data": {
      "text/markdown": [
       "[Zurück zum Inhaltsverzeichnis](#Inhaltsverzeichnis)"
      ],
      "text/plain": [
       "<IPython.core.display.Markdown object>"
      ]
     },
     "metadata": {},
     "output_type": "display_data"
    },
    {
     "data": {
      "text/html": [
       "<h4 id='Aufgaben'>==== Aufgaben ====</h4>"
      ],
      "text/plain": [
       "<IPython.core.display.HTML object>"
      ]
     },
     "metadata": {},
     "output_type": "display_data"
    },
    {
     "data": {
      "text/html": [
       "<h5>Seitenaufrufe Artikel</h5>"
      ],
      "text/plain": [
       "<IPython.core.display.HTML object>"
      ]
     },
     "metadata": {},
     "output_type": "display_data"
    },
    {
     "name": "stdout",
     "output_type": "stream",
     "text": [
      "2016:           1.700\n",
      "WiSe 16/17:     1.336 ┬      +380 (+40%)\n",
      "WiSe 15/16:       956 ┘      \n"
     ]
    },
    {
     "data": {
      "text/markdown": [
       "[Zurück zum Inhaltsverzeichnis](#Inhaltsverzeichnis)"
      ],
      "text/plain": [
       "<IPython.core.display.Markdown object>"
      ]
     },
     "metadata": {},
     "output_type": "display_data"
    },
    {
     "data": {
      "text/html": [
       "<h3 id='Konvergenz und Divergenz'>=== Konvergenz und Divergenz ===</h3>"
      ],
      "text/plain": [
       "<IPython.core.display.HTML object>"
      ]
     },
     "metadata": {},
     "output_type": "display_data"
    },
    {
     "data": {
      "text/markdown": [
       "[Zurück zum Inhaltsverzeichnis](#Inhaltsverzeichnis)"
      ],
      "text/plain": [
       "<IPython.core.display.Markdown object>"
      ]
     },
     "metadata": {},
     "output_type": "display_data"
    },
    {
     "data": {
      "text/html": [
       "<h4 id='Definition Grenzwert'>==== Definition Grenzwert ====</h4>"
      ],
      "text/plain": [
       "<IPython.core.display.HTML object>"
      ]
     },
     "metadata": {},
     "output_type": "display_data"
    },
    {
     "data": {
      "text/html": [
       "<h5>Seitenaufrufe Artikel</h5>"
      ],
      "text/plain": [
       "<IPython.core.display.HTML object>"
      ]
     },
     "metadata": {},
     "output_type": "display_data"
    },
    {
     "name": "stdout",
     "output_type": "stream",
     "text": [
      "2016:          54.130\n",
      "WiSe 16/17:    37.836 ┬      +938 ( +3%)\n",
      "WiSe 15/16:    36.898 ┘      \n"
     ]
    },
    {
     "data": {
      "text/html": [
       "<h5>Vergleich der Seitenaufrufe zum Wikipedia-Artikel</h5>"
      ],
      "text/plain": [
       "<IPython.core.display.HTML object>"
      ]
     },
     "metadata": {},
     "output_type": "display_data"
    },
    {
     "name": "stdout",
     "output_type": "stream",
     "text": [
      "Wikipedia-Artikel: Grenzwert (Folge)\n",
      "Views WiSe 16/17:     73.697 ┬    -8.429 (-10%)\n",
      "Views WiSe 15/16:     82.126 ┘      \n",
      "\n",
      "MFNF / Wikipedia – WiSe 16/17:  51%\n",
      "MFNF / Wikipedia – WiSe 15/16:  45%\n"
     ]
    },
    {
     "data": {
      "text/markdown": [
       "[Zurück zum Inhaltsverzeichnis](#Inhaltsverzeichnis)"
      ],
      "text/plain": [
       "<IPython.core.display.Markdown object>"
      ]
     },
     "metadata": {},
     "output_type": "display_data"
    },
    {
     "data": {
      "text/html": [
       "<h4 id='Konvergenz und Divergenz beweisen'>==== Konvergenz und Divergenz beweisen ====</h4>"
      ],
      "text/plain": [
       "<IPython.core.display.HTML object>"
      ]
     },
     "metadata": {},
     "output_type": "display_data"
    },
    {
     "data": {
      "text/html": [
       "<h5>Seitenaufrufe Artikel</h5>"
      ],
      "text/plain": [
       "<IPython.core.display.HTML object>"
      ]
     },
     "metadata": {},
     "output_type": "display_data"
    },
    {
     "name": "stdout",
     "output_type": "stream",
     "text": [
      "2016:          41.986\n",
      "WiSe 16/17:    34.355 ┬   +10.386 (+43%)\n",
      "WiSe 15/16:    23.969 ┘      \n"
     ]
    },
    {
     "data": {
      "text/markdown": [
       "[Zurück zum Inhaltsverzeichnis](#Inhaltsverzeichnis)"
      ],
      "text/plain": [
       "<IPython.core.display.Markdown object>"
      ]
     },
     "metadata": {},
     "output_type": "display_data"
    },
    {
     "data": {
      "text/html": [
       "<h4 id='Beispiele für Grenzwerte'>==== Beispiele für Grenzwerte ====</h4>"
      ],
      "text/plain": [
       "<IPython.core.display.HTML object>"
      ]
     },
     "metadata": {},
     "output_type": "display_data"
    },
    {
     "data": {
      "text/html": [
       "<h5>Seitenaufrufe Artikel</h5>"
      ],
      "text/plain": [
       "<IPython.core.display.HTML object>"
      ]
     },
     "metadata": {},
     "output_type": "display_data"
    },
    {
     "name": "stdout",
     "output_type": "stream",
     "text": [
      "2016:          31.634\n",
      "WiSe 16/17:    27.283 ┬   +14.347 (+111%)\n",
      "WiSe 15/16:    12.936 ┘      \n"
     ]
    },
    {
     "data": {
      "text/markdown": [
       "[Zurück zum Inhaltsverzeichnis](#Inhaltsverzeichnis)"
      ],
      "text/plain": [
       "<IPython.core.display.Markdown object>"
      ]
     },
     "metadata": {},
     "output_type": "display_data"
    },
    {
     "data": {
      "text/html": [
       "<h4 id='Unbeschränkte Folgen divergieren'>==== Unbeschränkte Folgen divergieren ====</h4>"
      ],
      "text/plain": [
       "<IPython.core.display.HTML object>"
      ]
     },
     "metadata": {},
     "output_type": "display_data"
    },
    {
     "data": {
      "text/html": [
       "<h5>Seitenaufrufe Artikel</h5>"
      ],
      "text/plain": [
       "<IPython.core.display.HTML object>"
      ]
     },
     "metadata": {},
     "output_type": "display_data"
    },
    {
     "name": "stdout",
     "output_type": "stream",
     "text": [
      "2016:           4.018\n",
      "WiSe 16/17:     3.173 ┬    +1.223 (+63%)\n",
      "WiSe 15/16:     1.950 ┘      \n"
     ]
    },
    {
     "data": {
      "text/markdown": [
       "[Zurück zum Inhaltsverzeichnis](#Inhaltsverzeichnis)"
      ],
      "text/plain": [
       "<IPython.core.display.Markdown object>"
      ]
     },
     "metadata": {},
     "output_type": "display_data"
    },
    {
     "data": {
      "text/html": [
       "<h4 id='Grenzwertsätze'>==== Grenzwertsätze ====</h4>"
      ],
      "text/plain": [
       "<IPython.core.display.HTML object>"
      ]
     },
     "metadata": {},
     "output_type": "display_data"
    },
    {
     "data": {
      "text/html": [
       "<h5>Seitenaufrufe Artikel</h5>"
      ],
      "text/plain": [
       "<IPython.core.display.HTML object>"
      ]
     },
     "metadata": {},
     "output_type": "display_data"
    },
    {
     "name": "stdout",
     "output_type": "stream",
     "text": [
      "2016:          25.855\n",
      "WiSe 16/17:    19.239 ┬    +6.591 (+52%)\n",
      "WiSe 15/16:    12.648 ┘      \n"
     ]
    },
    {
     "data": {
      "text/markdown": [
       "[Zurück zum Inhaltsverzeichnis](#Inhaltsverzeichnis)"
      ],
      "text/plain": [
       "<IPython.core.display.Markdown object>"
      ]
     },
     "metadata": {},
     "output_type": "display_data"
    },
    {
     "data": {
      "text/html": [
       "<h4 id='Der Sandwichsatz'>==== Der Sandwichsatz ====</h4>"
      ],
      "text/plain": [
       "<IPython.core.display.HTML object>"
      ]
     },
     "metadata": {},
     "output_type": "display_data"
    },
    {
     "data": {
      "text/html": [
       "<h5>Seitenaufrufe Artikel</h5>"
      ],
      "text/plain": [
       "<IPython.core.display.HTML object>"
      ]
     },
     "metadata": {},
     "output_type": "display_data"
    },
    {
     "name": "stdout",
     "output_type": "stream",
     "text": [
      "2016:           7.184\n",
      "WiSe 16/17:     6.101 ┬    +3.919 (+180%)\n",
      "WiSe 15/16:     2.182 ┘      \n"
     ]
    },
    {
     "data": {
      "text/html": [
       "<h5>Vergleich der Seitenaufrufe zum Wikipedia-Artikel</h5>"
      ],
      "text/plain": [
       "<IPython.core.display.HTML object>"
      ]
     },
     "metadata": {},
     "output_type": "display_data"
    },
    {
     "name": "stdout",
     "output_type": "stream",
     "text": [
      "Wikipedia-Artikel: Einschnürungssatz\n",
      "Views WiSe 16/17:      6.767 ┬      -258 ( -4%)\n",
      "Views WiSe 15/16:      7.025 ┘      \n",
      "\n",
      "MFNF / Wikipedia – WiSe 16/17:  90%\n",
      "MFNF / Wikipedia – WiSe 15/16:  31%\n"
     ]
    },
    {
     "data": {
      "text/markdown": [
       "[Zurück zum Inhaltsverzeichnis](#Inhaltsverzeichnis)"
      ],
      "text/plain": [
       "<IPython.core.display.Markdown object>"
      ]
     },
     "metadata": {},
     "output_type": "display_data"
    },
    {
     "data": {
      "text/html": [
       "<h4 id='Monotoniekriterium'>==== Monotoniekriterium ====</h4>"
      ],
      "text/plain": [
       "<IPython.core.display.HTML object>"
      ]
     },
     "metadata": {},
     "output_type": "display_data"
    },
    {
     "data": {
      "text/html": [
       "<h5>Seitenaufrufe Artikel</h5>"
      ],
      "text/plain": [
       "<IPython.core.display.HTML object>"
      ]
     },
     "metadata": {},
     "output_type": "display_data"
    },
    {
     "name": "stdout",
     "output_type": "stream",
     "text": [
      "2016:           4.987\n",
      "WiSe 16/17:     4.293 ┬    +1.844 (+75%)\n",
      "WiSe 15/16:     2.449 ┘      \n"
     ]
    },
    {
     "data": {
      "text/markdown": [
       "[Zurück zum Inhaltsverzeichnis](#Inhaltsverzeichnis)"
      ],
      "text/plain": [
       "<IPython.core.display.Markdown object>"
      ]
     },
     "metadata": {},
     "output_type": "display_data"
    },
    {
     "data": {
      "text/html": [
       "<h4 id='Konvergenzbeweise rekursiver Folgen'>==== Konvergenzbeweise rekursiver Folgen ====</h4>"
      ],
      "text/plain": [
       "<IPython.core.display.HTML object>"
      ]
     },
     "metadata": {},
     "output_type": "display_data"
    },
    {
     "data": {
      "text/html": [
       "<h5>Seitenaufrufe Artikel</h5>"
      ],
      "text/plain": [
       "<IPython.core.display.HTML object>"
      ]
     },
     "metadata": {},
     "output_type": "display_data"
    },
    {
     "name": "stdout",
     "output_type": "stream",
     "text": [
      "2016:           3.424\n",
      "WiSe 16/17:     7.751 ┬    +7.751        \n",
      "WiSe 15/16:         0 ┘      \n"
     ]
    },
    {
     "data": {
      "text/markdown": [
       "[Zurück zum Inhaltsverzeichnis](#Inhaltsverzeichnis)"
      ],
      "text/plain": [
       "<IPython.core.display.Markdown object>"
      ]
     },
     "metadata": {},
     "output_type": "display_data"
    },
    {
     "data": {
      "text/html": [
       "<h4 id='Aufgaben'>==== Aufgaben ====</h4>"
      ],
      "text/plain": [
       "<IPython.core.display.HTML object>"
      ]
     },
     "metadata": {},
     "output_type": "display_data"
    },
    {
     "data": {
      "text/html": [
       "<h5>Seitenaufrufe Artikel</h5>"
      ],
      "text/plain": [
       "<IPython.core.display.HTML object>"
      ]
     },
     "metadata": {},
     "output_type": "display_data"
    },
    {
     "name": "stdout",
     "output_type": "stream",
     "text": [
      "2016:           2.082\n",
      "WiSe 16/17:     2.294 ┬    +1.974 (+617%)\n",
      "WiSe 15/16:       320 ┘      \n"
     ]
    },
    {
     "data": {
      "text/markdown": [
       "[Zurück zum Inhaltsverzeichnis](#Inhaltsverzeichnis)"
      ],
      "text/plain": [
       "<IPython.core.display.Markdown object>"
      ]
     },
     "metadata": {},
     "output_type": "display_data"
    },
    {
     "data": {
      "text/html": [
       "<h3 id='Teilfolgen, Häufungspunkte und Cauchy-Folgen'>=== Teilfolgen, Häufungspunkte und Cauchy-Folgen ===</h3>"
      ],
      "text/plain": [
       "<IPython.core.display.HTML object>"
      ]
     },
     "metadata": {},
     "output_type": "display_data"
    },
    {
     "data": {
      "text/markdown": [
       "[Zurück zum Inhaltsverzeichnis](#Inhaltsverzeichnis)"
      ],
      "text/plain": [
       "<IPython.core.display.Markdown object>"
      ]
     },
     "metadata": {},
     "output_type": "display_data"
    },
    {
     "data": {
      "text/html": [
       "<h4 id='Teilfolgen'>==== Teilfolgen ====</h4>"
      ],
      "text/plain": [
       "<IPython.core.display.HTML object>"
      ]
     },
     "metadata": {},
     "output_type": "display_data"
    },
    {
     "data": {
      "text/html": [
       "<h5>Seitenaufrufe Artikel</h5>"
      ],
      "text/plain": [
       "<IPython.core.display.HTML object>"
      ]
     },
     "metadata": {},
     "output_type": "display_data"
    },
    {
     "name": "stdout",
     "output_type": "stream",
     "text": [
      "2016:          10.171\n",
      "WiSe 16/17:     7.687 ┬    +2.170 (+39%)\n",
      "WiSe 15/16:     5.517 ┘      \n"
     ]
    },
    {
     "data": {
      "text/html": [
       "<h5>Vergleich der Seitenaufrufe zum Wikipedia-Artikel</h5>"
      ],
      "text/plain": [
       "<IPython.core.display.HTML object>"
      ]
     },
     "metadata": {},
     "output_type": "display_data"
    },
    {
     "name": "stdout",
     "output_type": "stream",
     "text": [
      "Wikipedia-Artikel: Teilfolge\n",
      "Views WiSe 16/17:      5.430 ┬    -1.026 (-16%)\n",
      "Views WiSe 15/16:      6.456 ┘      \n",
      "\n",
      "MFNF / Wikipedia – WiSe 16/17: 142%\n",
      "MFNF / Wikipedia – WiSe 15/16:  85%\n"
     ]
    },
    {
     "data": {
      "text/markdown": [
       "[Zurück zum Inhaltsverzeichnis](#Inhaltsverzeichnis)"
      ],
      "text/plain": [
       "<IPython.core.display.Markdown object>"
      ]
     },
     "metadata": {},
     "output_type": "display_data"
    },
    {
     "data": {
      "text/html": [
       "<h4 id='Häufungspunkte von Folge'>==== Häufungspunkte von Folge ====</h4>"
      ],
      "text/plain": [
       "<IPython.core.display.HTML object>"
      ]
     },
     "metadata": {},
     "output_type": "display_data"
    },
    {
     "data": {
      "text/html": [
       "<h5>Seitenaufrufe Artikel</h5>"
      ],
      "text/plain": [
       "<IPython.core.display.HTML object>"
      ]
     },
     "metadata": {},
     "output_type": "display_data"
    },
    {
     "name": "stdout",
     "output_type": "stream",
     "text": [
      "2016:          18.001\n",
      "WiSe 16/17:    13.975 ┬    +4.087 (+41%)\n",
      "WiSe 15/16:     9.888 ┘      \n"
     ]
    },
    {
     "data": {
      "text/html": [
       "<h5>Vergleich der Seitenaufrufe zum Wikipedia-Artikel</h5>"
      ],
      "text/plain": [
       "<IPython.core.display.HTML object>"
      ]
     },
     "metadata": {},
     "output_type": "display_data"
    },
    {
     "name": "stdout",
     "output_type": "stream",
     "text": [
      "Wikipedia-Artikel: Häufungspunkt\n",
      "Views WiSe 16/17:     20.508 ┬      +478 ( +2%)\n",
      "Views WiSe 15/16:     20.030 ┘      \n",
      "\n",
      "MFNF / Wikipedia – WiSe 16/17:  68%\n",
      "MFNF / Wikipedia – WiSe 15/16:  49%\n"
     ]
    },
    {
     "data": {
      "text/markdown": [
       "[Zurück zum Inhaltsverzeichnis](#Inhaltsverzeichnis)"
      ],
      "text/plain": [
       "<IPython.core.display.Markdown object>"
      ]
     },
     "metadata": {},
     "output_type": "display_data"
    },
    {
     "data": {
      "text/html": [
       "<h4 id='Häufungs- und Berührpunkte von Mengen'>==== Häufungs- und Berührpunkte von Mengen ====</h4>"
      ],
      "text/plain": [
       "<IPython.core.display.HTML object>"
      ]
     },
     "metadata": {},
     "output_type": "display_data"
    },
    {
     "data": {
      "text/html": [
       "<h5>Seitenaufrufe Artikel</h5>"
      ],
      "text/plain": [
       "<IPython.core.display.HTML object>"
      ]
     },
     "metadata": {},
     "output_type": "display_data"
    },
    {
     "name": "stdout",
     "output_type": "stream",
     "text": [
      "2016:           1.902\n",
      "WiSe 16/17:     3.147 ┬    +3.147        \n",
      "WiSe 15/16:         0 ┘      \n"
     ]
    },
    {
     "data": {
      "text/markdown": [
       "[Zurück zum Inhaltsverzeichnis](#Inhaltsverzeichnis)"
      ],
      "text/plain": [
       "<IPython.core.display.Markdown object>"
      ]
     },
     "metadata": {},
     "output_type": "display_data"
    },
    {
     "data": {
      "text/html": [
       "<h4 id='Satz von Bolzano-Weierstraß'>==== Satz von Bolzano-Weierstraß ====</h4>"
      ],
      "text/plain": [
       "<IPython.core.display.HTML object>"
      ]
     },
     "metadata": {},
     "output_type": "display_data"
    },
    {
     "data": {
      "text/html": [
       "<h5>Seitenaufrufe Artikel</h5>"
      ],
      "text/plain": [
       "<IPython.core.display.HTML object>"
      ]
     },
     "metadata": {},
     "output_type": "display_data"
    },
    {
     "name": "stdout",
     "output_type": "stream",
     "text": [
      "2016:           6.194\n",
      "WiSe 16/17:     4.718 ┬    +2.205 (+88%)\n",
      "WiSe 15/16:     2.513 ┘      \n"
     ]
    },
    {
     "data": {
      "text/html": [
       "<h5>Vergleich der Seitenaufrufe zum Wikipedia-Artikel</h5>"
      ],
      "text/plain": [
       "<IPython.core.display.HTML object>"
      ]
     },
     "metadata": {},
     "output_type": "display_data"
    },
    {
     "name": "stdout",
     "output_type": "stream",
     "text": [
      "Wikipedia-Artikel: Satz von Bolzano-Weierstraß\n",
      "Views WiSe 16/17:     15.293 ┬    +1.010 ( +7%)\n",
      "Views WiSe 15/16:     14.283 ┘      \n",
      "\n",
      "MFNF / Wikipedia – WiSe 16/17:  31%\n",
      "MFNF / Wikipedia – WiSe 15/16:  18%\n"
     ]
    },
    {
     "data": {
      "text/markdown": [
       "[Zurück zum Inhaltsverzeichnis](#Inhaltsverzeichnis)"
      ],
      "text/plain": [
       "<IPython.core.display.Markdown object>"
      ]
     },
     "metadata": {},
     "output_type": "display_data"
    },
    {
     "data": {
      "text/html": [
       "<h4 id='Bestimmte Divergenz'>==== Bestimmte Divergenz ====</h4>"
      ],
      "text/plain": [
       "<IPython.core.display.HTML object>"
      ]
     },
     "metadata": {},
     "output_type": "display_data"
    },
    {
     "data": {
      "text/html": [
       "<h5>Seitenaufrufe Artikel</h5>"
      ],
      "text/plain": [
       "<IPython.core.display.HTML object>"
      ]
     },
     "metadata": {},
     "output_type": "display_data"
    },
    {
     "name": "stdout",
     "output_type": "stream",
     "text": [
      "2016:           2.179\n",
      "WiSe 16/17:     2.879 ┬    +2.717 (+1677%)\n",
      "WiSe 15/16:       162 ┘      \n"
     ]
    },
    {
     "data": {
      "text/markdown": [
       "[Zurück zum Inhaltsverzeichnis](#Inhaltsverzeichnis)"
      ],
      "text/plain": [
       "<IPython.core.display.Markdown object>"
      ]
     },
     "metadata": {},
     "output_type": "display_data"
    },
    {
     "data": {
      "text/html": [
       "<h4 id='Bestimmte Divergenz: Regeln'>==== Bestimmte Divergenz: Regeln ====</h4>"
      ],
      "text/plain": [
       "<IPython.core.display.HTML object>"
      ]
     },
     "metadata": {},
     "output_type": "display_data"
    },
    {
     "data": {
      "text/html": [
       "<h5>Seitenaufrufe Artikel</h5>"
      ],
      "text/plain": [
       "<IPython.core.display.HTML object>"
      ]
     },
     "metadata": {},
     "output_type": "display_data"
    },
    {
     "name": "stdout",
     "output_type": "stream",
     "text": [
      "2016:             933\n",
      "WiSe 16/17:       693 ┬      +693        \n",
      "WiSe 15/16:         0 ┘      \n"
     ]
    },
    {
     "data": {
      "text/markdown": [
       "[Zurück zum Inhaltsverzeichnis](#Inhaltsverzeichnis)"
      ],
      "text/plain": [
       "<IPython.core.display.Markdown object>"
      ]
     },
     "metadata": {},
     "output_type": "display_data"
    },
    {
     "data": {
      "text/html": [
       "<h4 id='Lim sup und Lim inf'>==== Lim sup und Lim inf ====</h4>"
      ],
      "text/plain": [
       "<IPython.core.display.HTML object>"
      ]
     },
     "metadata": {},
     "output_type": "display_data"
    },
    {
     "data": {
      "text/html": [
       "<h5>Seitenaufrufe Artikel</h5>"
      ],
      "text/plain": [
       "<IPython.core.display.HTML object>"
      ]
     },
     "metadata": {},
     "output_type": "display_data"
    },
    {
     "name": "stdout",
     "output_type": "stream",
     "text": [
      "2016:          12.690\n",
      "WiSe 16/17:    11.365 ┬    +5.419 (+91%)\n",
      "WiSe 15/16:     5.946 ┘      \n"
     ]
    },
    {
     "data": {
      "text/html": [
       "<h5>Vergleich der Seitenaufrufe zum Wikipedia-Artikel</h5>"
      ],
      "text/plain": [
       "<IPython.core.display.HTML object>"
      ]
     },
     "metadata": {},
     "output_type": "display_data"
    },
    {
     "name": "stdout",
     "output_type": "stream",
     "text": [
      "Wikipedia-Artikel: Limes superior und Limes inferior\n",
      "Views WiSe 16/17:     22.790 ┬    -1.996 ( -8%)\n",
      "Views WiSe 15/16:     24.786 ┘      \n",
      "\n",
      "MFNF / Wikipedia – WiSe 16/17:  50%\n",
      "MFNF / Wikipedia – WiSe 15/16:  24%\n"
     ]
    },
    {
     "data": {
      "text/markdown": [
       "[Zurück zum Inhaltsverzeichnis](#Inhaltsverzeichnis)"
      ],
      "text/plain": [
       "<IPython.core.display.Markdown object>"
      ]
     },
     "metadata": {},
     "output_type": "display_data"
    },
    {
     "data": {
      "text/html": [
       "<h4 id='Cauchy-Folgen'>==== Cauchy-Folgen ====</h4>"
      ],
      "text/plain": [
       "<IPython.core.display.HTML object>"
      ]
     },
     "metadata": {},
     "output_type": "display_data"
    },
    {
     "data": {
      "text/html": [
       "<h5>Seitenaufrufe Artikel</h5>"
      ],
      "text/plain": [
       "<IPython.core.display.HTML object>"
      ]
     },
     "metadata": {},
     "output_type": "display_data"
    },
    {
     "name": "stdout",
     "output_type": "stream",
     "text": [
      "2016:          17.655\n",
      "WiSe 16/17:    13.765 ┬    +4.353 (+46%)\n",
      "WiSe 15/16:     9.412 ┘      \n"
     ]
    },
    {
     "data": {
      "text/html": [
       "<h5>Vergleich der Seitenaufrufe zum Wikipedia-Artikel</h5>"
      ],
      "text/plain": [
       "<IPython.core.display.HTML object>"
      ]
     },
     "metadata": {},
     "output_type": "display_data"
    },
    {
     "name": "stdout",
     "output_type": "stream",
     "text": [
      "Wikipedia-Artikel: Cauchy-Folge\n",
      "Views WiSe 16/17:     21.587 ┬    -2.754 (-11%)\n",
      "Views WiSe 15/16:     24.341 ┘      \n",
      "\n",
      "MFNF / Wikipedia – WiSe 16/17:  64%\n",
      "MFNF / Wikipedia – WiSe 15/16:  39%\n"
     ]
    },
    {
     "data": {
      "text/markdown": [
       "[Zurück zum Inhaltsverzeichnis](#Inhaltsverzeichnis)"
      ],
      "text/plain": [
       "<IPython.core.display.Markdown object>"
      ]
     },
     "metadata": {},
     "output_type": "display_data"
    },
    {
     "data": {
      "text/html": [
       "<h4 id='Aufgaben'>==== Aufgaben ====</h4>"
      ],
      "text/plain": [
       "<IPython.core.display.HTML object>"
      ]
     },
     "metadata": {},
     "output_type": "display_data"
    },
    {
     "data": {
      "text/html": [
       "<h5>Seitenaufrufe Artikel</h5>"
      ],
      "text/plain": [
       "<IPython.core.display.HTML object>"
      ]
     },
     "metadata": {},
     "output_type": "display_data"
    },
    {
     "name": "stdout",
     "output_type": "stream",
     "text": [
      "2016:             831\n",
      "WiSe 16/17:       899 ┬      +856 (+1991%)\n",
      "WiSe 15/16:        43 ┘      \n"
     ]
    },
    {
     "data": {
      "text/markdown": [
       "[Zurück zum Inhaltsverzeichnis](#Inhaltsverzeichnis)"
      ],
      "text/plain": [
       "<IPython.core.display.Markdown object>"
      ]
     },
     "metadata": {},
     "output_type": "display_data"
    },
    {
     "data": {
      "text/html": [
       "<h3 id='Reihen'>=== Reihen ===</h3>"
      ],
      "text/plain": [
       "<IPython.core.display.HTML object>"
      ]
     },
     "metadata": {},
     "output_type": "display_data"
    },
    {
     "data": {
      "text/markdown": [
       "[Zurück zum Inhaltsverzeichnis](#Inhaltsverzeichnis)"
      ],
      "text/plain": [
       "<IPython.core.display.Markdown object>"
      ]
     },
     "metadata": {},
     "output_type": "display_data"
    },
    {
     "data": {
      "text/html": [
       "<h4 id='Begriff der Reihe'>==== Begriff der Reihe ====</h4>"
      ],
      "text/plain": [
       "<IPython.core.display.HTML object>"
      ]
     },
     "metadata": {},
     "output_type": "display_data"
    },
    {
     "data": {
      "text/html": [
       "<h5>Seitenaufrufe Artikel</h5>"
      ],
      "text/plain": [
       "<IPython.core.display.HTML object>"
      ]
     },
     "metadata": {},
     "output_type": "display_data"
    },
    {
     "name": "stdout",
     "output_type": "stream",
     "text": [
      "2016:          13.488\n",
      "WiSe 16/17:     7.958 ┬      -555 ( -7%)\n",
      "WiSe 15/16:     8.513 ┘      \n"
     ]
    },
    {
     "data": {
      "text/html": [
       "<h5>Vergleich der Seitenaufrufe zum Wikipedia-Artikel</h5>"
      ],
      "text/plain": [
       "<IPython.core.display.HTML object>"
      ]
     },
     "metadata": {},
     "output_type": "display_data"
    },
    {
     "name": "stdout",
     "output_type": "stream",
     "text": [
      "Wikipedia-Artikel: Reihe (Mathematik)\n",
      "Views WiSe 16/17:     51.825 ┬    -6.599 (-11%)\n",
      "Views WiSe 15/16:     58.424 ┘      \n",
      "\n",
      "MFNF / Wikipedia – WiSe 16/17:  15%\n",
      "MFNF / Wikipedia – WiSe 15/16:  15%\n"
     ]
    },
    {
     "data": {
      "text/markdown": [
       "[Zurück zum Inhaltsverzeichnis](#Inhaltsverzeichnis)"
      ],
      "text/plain": [
       "<IPython.core.display.Markdown object>"
      ]
     },
     "metadata": {},
     "output_type": "display_data"
    },
    {
     "data": {
      "text/html": [
       "<h4 id='Rechenregeln für Reihen'>==== Rechenregeln für Reihen ====</h4>"
      ],
      "text/plain": [
       "<IPython.core.display.HTML object>"
      ]
     },
     "metadata": {},
     "output_type": "display_data"
    },
    {
     "data": {
      "text/html": [
       "<h5>Seitenaufrufe Artikel</h5>"
      ],
      "text/plain": [
       "<IPython.core.display.HTML object>"
      ]
     },
     "metadata": {},
     "output_type": "display_data"
    },
    {
     "name": "stdout",
     "output_type": "stream",
     "text": [
      "2016:           2.401\n",
      "WiSe 16/17:     2.767 ┬    +2.633 (+1965%)\n",
      "WiSe 15/16:       134 ┘      \n"
     ]
    },
    {
     "data": {
      "text/markdown": [
       "[Zurück zum Inhaltsverzeichnis](#Inhaltsverzeichnis)"
      ],
      "text/plain": [
       "<IPython.core.display.Markdown object>"
      ]
     },
     "metadata": {},
     "output_type": "display_data"
    },
    {
     "data": {
      "text/html": [
       "<h4 id='Teleskopsumme und Teleskopreihe'>==== Teleskopsumme und Teleskopreihe ====</h4>"
      ],
      "text/plain": [
       "<IPython.core.display.HTML object>"
      ]
     },
     "metadata": {},
     "output_type": "display_data"
    },
    {
     "data": {
      "text/html": [
       "<h5>Seitenaufrufe Artikel</h5>"
      ],
      "text/plain": [
       "<IPython.core.display.HTML object>"
      ]
     },
     "metadata": {},
     "output_type": "display_data"
    },
    {
     "name": "stdout",
     "output_type": "stream",
     "text": [
      "2016:           8.488\n",
      "WiSe 16/17:     7.160 ┬    +3.423 (+92%)\n",
      "WiSe 15/16:     3.737 ┘      \n"
     ]
    },
    {
     "data": {
      "text/html": [
       "<h5>Vergleich der Seitenaufrufe zum Wikipedia-Artikel</h5>"
      ],
      "text/plain": [
       "<IPython.core.display.HTML object>"
      ]
     },
     "metadata": {},
     "output_type": "display_data"
    },
    {
     "name": "stdout",
     "output_type": "stream",
     "text": [
      "Wikipedia-Artikel: Teleskopsumme\n",
      "Views WiSe 16/17:     11.720 ┬       -99 ( -1%)\n",
      "Views WiSe 15/16:     11.819 ┘      \n",
      "\n",
      "MFNF / Wikipedia – WiSe 16/17:  61%\n",
      "MFNF / Wikipedia – WiSe 15/16:  32%\n"
     ]
    },
    {
     "data": {
      "text/markdown": [
       "[Zurück zum Inhaltsverzeichnis](#Inhaltsverzeichnis)"
      ],
      "text/plain": [
       "<IPython.core.display.Markdown object>"
      ]
     },
     "metadata": {},
     "output_type": "display_data"
    },
    {
     "data": {
      "text/html": [
       "<h4 id='Geometrische Reihe'>==== Geometrische Reihe ====</h4>"
      ],
      "text/plain": [
       "<IPython.core.display.HTML object>"
      ]
     },
     "metadata": {},
     "output_type": "display_data"
    },
    {
     "data": {
      "text/html": [
       "<h5>Seitenaufrufe Artikel</h5>"
      ],
      "text/plain": [
       "<IPython.core.display.HTML object>"
      ]
     },
     "metadata": {},
     "output_type": "display_data"
    },
    {
     "name": "stdout",
     "output_type": "stream",
     "text": [
      "2016:          36.382\n",
      "WiSe 16/17:    27.096 ┬   +14.588 (+117%)\n",
      "WiSe 15/16:    12.508 ┘      \n"
     ]
    },
    {
     "data": {
      "text/html": [
       "<h5>Vergleich der Seitenaufrufe zum Wikipedia-Artikel</h5>"
      ],
      "text/plain": [
       "<IPython.core.display.HTML object>"
      ]
     },
     "metadata": {},
     "output_type": "display_data"
    },
    {
     "name": "stdout",
     "output_type": "stream",
     "text": [
      "Wikipedia-Artikel: Geometrische Reihe\n",
      "Views WiSe 16/17:    137.612 ┬    -3.263 ( -2%)\n",
      "Views WiSe 15/16:    140.875 ┘      \n",
      "\n",
      "MFNF / Wikipedia – WiSe 16/17:  20%\n",
      "MFNF / Wikipedia – WiSe 15/16:   9%\n"
     ]
    },
    {
     "data": {
      "text/markdown": [
       "[Zurück zum Inhaltsverzeichnis](#Inhaltsverzeichnis)"
      ],
      "text/plain": [
       "<IPython.core.display.Markdown object>"
      ]
     },
     "metadata": {},
     "output_type": "display_data"
    },
    {
     "data": {
      "text/html": [
       "<h4 id='Harmonische Reihe'>==== Harmonische Reihe ====</h4>"
      ],
      "text/plain": [
       "<IPython.core.display.HTML object>"
      ]
     },
     "metadata": {},
     "output_type": "display_data"
    },
    {
     "data": {
      "text/html": [
       "<h5>Seitenaufrufe Artikel</h5>"
      ],
      "text/plain": [
       "<IPython.core.display.HTML object>"
      ]
     },
     "metadata": {},
     "output_type": "display_data"
    },
    {
     "name": "stdout",
     "output_type": "stream",
     "text": [
      "2016:           8.258\n",
      "WiSe 16/17:     8.983 ┬    +7.843 (+688%)\n",
      "WiSe 15/16:     1.140 ┘      \n"
     ]
    },
    {
     "data": {
      "text/html": [
       "<h5>Vergleich der Seitenaufrufe zum Wikipedia-Artikel</h5>"
      ],
      "text/plain": [
       "<IPython.core.display.HTML object>"
      ]
     },
     "metadata": {},
     "output_type": "display_data"
    },
    {
     "name": "stdout",
     "output_type": "stream",
     "text": [
      "Wikipedia-Artikel: Harmonische Reihe\n",
      "Views WiSe 16/17:     50.362 ┬    -4.903 ( -9%)\n",
      "Views WiSe 15/16:     55.265 ┘      \n",
      "\n",
      "MFNF / Wikipedia – WiSe 16/17:  18%\n",
      "MFNF / Wikipedia – WiSe 15/16:   2%\n"
     ]
    },
    {
     "data": {
      "text/markdown": [
       "[Zurück zum Inhaltsverzeichnis](#Inhaltsverzeichnis)"
      ],
      "text/plain": [
       "<IPython.core.display.Markdown object>"
      ]
     },
     "metadata": {},
     "output_type": "display_data"
    },
    {
     "data": {
      "text/html": [
       "<h4 id='e-Reihe'>==== e-Reihe ====</h4>"
      ],
      "text/plain": [
       "<IPython.core.display.HTML object>"
      ]
     },
     "metadata": {},
     "output_type": "display_data"
    },
    {
     "data": {
      "text/html": [
       "<h5>Seitenaufrufe Artikel</h5>"
      ],
      "text/plain": [
       "<IPython.core.display.HTML object>"
      ]
     },
     "metadata": {},
     "output_type": "display_data"
    },
    {
     "name": "stdout",
     "output_type": "stream",
     "text": [
      "2016:             715\n",
      "WiSe 16/17:       939 ┬      +939        \n",
      "WiSe 15/16:         0 ┘      \n"
     ]
    },
    {
     "data": {
      "text/markdown": [
       "[Zurück zum Inhaltsverzeichnis](#Inhaltsverzeichnis)"
      ],
      "text/plain": [
       "<IPython.core.display.Markdown object>"
      ]
     },
     "metadata": {},
     "output_type": "display_data"
    },
    {
     "data": {
      "text/html": [
       "<h4 id='Absolute Konvergenz einer Reihe'>==== Absolute Konvergenz einer Reihe ====</h4>"
      ],
      "text/plain": [
       "<IPython.core.display.HTML object>"
      ]
     },
     "metadata": {},
     "output_type": "display_data"
    },
    {
     "data": {
      "text/html": [
       "<h5>Seitenaufrufe Artikel</h5>"
      ],
      "text/plain": [
       "<IPython.core.display.HTML object>"
      ]
     },
     "metadata": {},
     "output_type": "display_data"
    },
    {
     "name": "stdout",
     "output_type": "stream",
     "text": [
      "2016:           8.085\n",
      "WiSe 16/17:     6.469 ┬    +3.862 (+148%)\n",
      "WiSe 15/16:     2.607 ┘      \n"
     ]
    },
    {
     "data": {
      "text/html": [
       "<h5>Vergleich der Seitenaufrufe zum Wikipedia-Artikel</h5>"
      ],
      "text/plain": [
       "<IPython.core.display.HTML object>"
      ]
     },
     "metadata": {},
     "output_type": "display_data"
    },
    {
     "name": "stdout",
     "output_type": "stream",
     "text": [
      "Wikipedia-Artikel: Absolute Konvergenz\n",
      "Views WiSe 16/17:     13.981 ┬    -2.037 (-13%)\n",
      "Views WiSe 15/16:     16.018 ┘      \n",
      "\n",
      "MFNF / Wikipedia – WiSe 16/17:  46%\n",
      "MFNF / Wikipedia – WiSe 15/16:  16%\n"
     ]
    },
    {
     "data": {
      "text/markdown": [
       "[Zurück zum Inhaltsverzeichnis](#Inhaltsverzeichnis)"
      ],
      "text/plain": [
       "<IPython.core.display.Markdown object>"
      ]
     },
     "metadata": {},
     "output_type": "display_data"
    },
    {
     "data": {
      "text/html": [
       "<h4 id='Umordnungssatz für Reihen'>==== Umordnungssatz für Reihen ====</h4>"
      ],
      "text/plain": [
       "<IPython.core.display.HTML object>"
      ]
     },
     "metadata": {},
     "output_type": "display_data"
    },
    {
     "data": {
      "text/html": [
       "<h5>Seitenaufrufe Artikel</h5>"
      ],
      "text/plain": [
       "<IPython.core.display.HTML object>"
      ]
     },
     "metadata": {},
     "output_type": "display_data"
    },
    {
     "name": "stdout",
     "output_type": "stream",
     "text": [
      "2016:           1.082\n",
      "WiSe 16/17:     1.530 ┬    +1.530        \n",
      "WiSe 15/16:         0 ┘      \n"
     ]
    },
    {
     "data": {
      "text/html": [
       "<h5>Vergleich der Seitenaufrufe zum Wikipedia-Artikel</h5>"
      ],
      "text/plain": [
       "<IPython.core.display.HTML object>"
      ]
     },
     "metadata": {},
     "output_type": "display_data"
    },
    {
     "name": "stdout",
     "output_type": "stream",
     "text": [
      "Wikipedia-Artikel: Umordnung von Reihen\n",
      "Views WiSe 16/17:      2.500 ┬      -722 (-22%)\n",
      "Views WiSe 15/16:      3.222 ┘      \n",
      "\n",
      "MFNF / Wikipedia – WiSe 16/17:  61%\n",
      "MFNF / Wikipedia – WiSe 15/16:   0%\n"
     ]
    },
    {
     "data": {
      "text/markdown": [
       "[Zurück zum Inhaltsverzeichnis](#Inhaltsverzeichnis)"
      ],
      "text/plain": [
       "<IPython.core.display.Markdown object>"
      ]
     },
     "metadata": {},
     "output_type": "display_data"
    },
    {
     "data": {
      "text/html": [
       "<h4 id='Aufgaben'>==== Aufgaben ====</h4>"
      ],
      "text/plain": [
       "<IPython.core.display.HTML object>"
      ]
     },
     "metadata": {},
     "output_type": "display_data"
    },
    {
     "data": {
      "text/html": [
       "<h5>Seitenaufrufe Artikel</h5>"
      ],
      "text/plain": [
       "<IPython.core.display.HTML object>"
      ]
     },
     "metadata": {},
     "output_type": "display_data"
    },
    {
     "name": "stdout",
     "output_type": "stream",
     "text": [
      "2016:           1.498\n",
      "WiSe 16/17:     1.252 ┬      +988 (+374%)\n",
      "WiSe 15/16:       264 ┘      \n"
     ]
    },
    {
     "data": {
      "text/markdown": [
       "[Zurück zum Inhaltsverzeichnis](#Inhaltsverzeichnis)"
      ],
      "text/plain": [
       "<IPython.core.display.Markdown object>"
      ]
     },
     "metadata": {},
     "output_type": "display_data"
    },
    {
     "data": {
      "text/html": [
       "<h3 id='Konvergenzkriterien für Reihen'>=== Konvergenzkriterien für Reihen ===</h3>"
      ],
      "text/plain": [
       "<IPython.core.display.HTML object>"
      ]
     },
     "metadata": {},
     "output_type": "display_data"
    },
    {
     "data": {
      "text/markdown": [
       "[Zurück zum Inhaltsverzeichnis](#Inhaltsverzeichnis)"
      ],
      "text/plain": [
       "<IPython.core.display.Markdown object>"
      ]
     },
     "metadata": {},
     "output_type": "display_data"
    },
    {
     "data": {
      "text/html": [
       "<h4 id='Übersicht Konvergenzkriterien'>==== Übersicht Konvergenzkriterien ====</h4>"
      ],
      "text/plain": [
       "<IPython.core.display.HTML object>"
      ]
     },
     "metadata": {},
     "output_type": "display_data"
    },
    {
     "data": {
      "text/html": [
       "<h5>Seitenaufrufe Artikel</h5>"
      ],
      "text/plain": [
       "<IPython.core.display.HTML object>"
      ]
     },
     "metadata": {},
     "output_type": "display_data"
    },
    {
     "name": "stdout",
     "output_type": "stream",
     "text": [
      "2016:          24.166\n",
      "WiSe 16/17:    25.825 ┬   +25.825        \n",
      "WiSe 15/16:         0 ┘      \n"
     ]
    },
    {
     "data": {
      "text/html": [
       "<h5>Vergleich der Seitenaufrufe zum Wikipedia-Artikel</h5>"
      ],
      "text/plain": [
       "<IPython.core.display.HTML object>"
      ]
     },
     "metadata": {},
     "output_type": "display_data"
    },
    {
     "name": "stdout",
     "output_type": "stream",
     "text": [
      "Wikipedia-Artikel: Konvergenzkriterium\n",
      "Views WiSe 16/17:     24.558 ┬    -4.703 (-16%)\n",
      "Views WiSe 15/16:     29.261 ┘      \n",
      "\n",
      "MFNF / Wikipedia – WiSe 16/17: 105%\n",
      "MFNF / Wikipedia – WiSe 15/16:   0%\n"
     ]
    },
    {
     "data": {
      "text/markdown": [
       "[Zurück zum Inhaltsverzeichnis](#Inhaltsverzeichnis)"
      ],
      "text/plain": [
       "<IPython.core.display.Markdown object>"
      ]
     },
     "metadata": {},
     "output_type": "display_data"
    },
    {
     "data": {
      "text/html": [
       "<h4 id='Cauchy-Kriterium'>==== Cauchy-Kriterium ====</h4>"
      ],
      "text/plain": [
       "<IPython.core.display.HTML object>"
      ]
     },
     "metadata": {},
     "output_type": "display_data"
    },
    {
     "data": {
      "text/html": [
       "<h5>Seitenaufrufe Artikel</h5>"
      ],
      "text/plain": [
       "<IPython.core.display.HTML object>"
      ]
     },
     "metadata": {},
     "output_type": "display_data"
    },
    {
     "name": "stdout",
     "output_type": "stream",
     "text": [
      "2016:           6.609\n",
      "WiSe 16/17:     5.295 ┬    +2.329 (+79%)\n",
      "WiSe 15/16:     2.966 ┘      \n"
     ]
    },
    {
     "data": {
      "text/markdown": [
       "[Zurück zum Inhaltsverzeichnis](#Inhaltsverzeichnis)"
      ],
      "text/plain": [
       "<IPython.core.display.Markdown object>"
      ]
     },
     "metadata": {},
     "output_type": "display_data"
    },
    {
     "data": {
      "text/html": [
       "<h4 id='Trivialkriterium'>==== Trivialkriterium ====</h4>"
      ],
      "text/plain": [
       "<IPython.core.display.HTML object>"
      ]
     },
     "metadata": {},
     "output_type": "display_data"
    },
    {
     "data": {
      "text/html": [
       "<h5>Seitenaufrufe Artikel</h5>"
      ],
      "text/plain": [
       "<IPython.core.display.HTML object>"
      ]
     },
     "metadata": {},
     "output_type": "display_data"
    },
    {
     "name": "stdout",
     "output_type": "stream",
     "text": [
      "2016:           1.493\n",
      "WiSe 16/17:     1.578 ┬    +1.467 (+1322%)\n",
      "WiSe 15/16:       111 ┘      \n"
     ]
    },
    {
     "data": {
      "text/html": [
       "<h5>Vergleich der Seitenaufrufe zum Wikipedia-Artikel</h5>"
      ],
      "text/plain": [
       "<IPython.core.display.HTML object>"
      ]
     },
     "metadata": {},
     "output_type": "display_data"
    },
    {
     "name": "stdout",
     "output_type": "stream",
     "text": [
      "Wikipedia-Artikel: Nullfolgenkriterium\n",
      "Views WiSe 16/17:      8.195 ┬    -1.211 (-13%)\n",
      "Views WiSe 15/16:      9.406 ┘      \n",
      "\n",
      "MFNF / Wikipedia – WiSe 16/17:  19%\n",
      "MFNF / Wikipedia – WiSe 15/16:   1%\n"
     ]
    },
    {
     "data": {
      "text/markdown": [
       "[Zurück zum Inhaltsverzeichnis](#Inhaltsverzeichnis)"
      ],
      "text/plain": [
       "<IPython.core.display.Markdown object>"
      ]
     },
     "metadata": {},
     "output_type": "display_data"
    },
    {
     "data": {
      "text/html": [
       "<h4 id='Beschränkte Reihen und Konvergenz'>==== Beschränkte Reihen und Konvergenz ====</h4>"
      ],
      "text/plain": [
       "<IPython.core.display.HTML object>"
      ]
     },
     "metadata": {},
     "output_type": "display_data"
    },
    {
     "data": {
      "text/html": [
       "<h5>Seitenaufrufe Artikel</h5>"
      ],
      "text/plain": [
       "<IPython.core.display.HTML object>"
      ]
     },
     "metadata": {},
     "output_type": "display_data"
    },
    {
     "name": "stdout",
     "output_type": "stream",
     "text": [
      "2016:           1.228\n",
      "WiSe 16/17:     1.765 ┬    +1.651 (+1448%)\n",
      "WiSe 15/16:       114 ┘      \n"
     ]
    },
    {
     "data": {
      "text/markdown": [
       "[Zurück zum Inhaltsverzeichnis](#Inhaltsverzeichnis)"
      ],
      "text/plain": [
       "<IPython.core.display.Markdown object>"
      ]
     },
     "metadata": {},
     "output_type": "display_data"
    },
    {
     "data": {
      "text/html": [
       "<h4 id='Majoranten- und Minorantenkriterium'>==== Majoranten- und Minorantenkriterium ====</h4>"
      ],
      "text/plain": [
       "<IPython.core.display.HTML object>"
      ]
     },
     "metadata": {},
     "output_type": "display_data"
    },
    {
     "data": {
      "text/html": [
       "<h5>Seitenaufrufe Artikel</h5>"
      ],
      "text/plain": [
       "<IPython.core.display.HTML object>"
      ]
     },
     "metadata": {},
     "output_type": "display_data"
    },
    {
     "name": "stdout",
     "output_type": "stream",
     "text": [
      "2016:          11.130\n",
      "WiSe 16/17:     9.243 ┬    +6.725 (+267%)\n",
      "WiSe 15/16:     2.518 ┘      \n"
     ]
    },
    {
     "data": {
      "text/html": [
       "<h5>Vergleich der Seitenaufrufe zum Wikipedia-Artikel</h5>"
      ],
      "text/plain": [
       "<IPython.core.display.HTML object>"
      ]
     },
     "metadata": {},
     "output_type": "display_data"
    },
    {
     "name": "stdout",
     "output_type": "stream",
     "text": [
      "Wikipedia-Artikel: Majorantenkriterium\n",
      "Views WiSe 16/17:     17.995 ┬    -4.164 (-19%)\n",
      "Views WiSe 15/16:     22.159 ┘      \n",
      "\n",
      "MFNF / Wikipedia – WiSe 16/17:  51%\n",
      "MFNF / Wikipedia – WiSe 15/16:  11%\n"
     ]
    },
    {
     "data": {
      "text/markdown": [
       "[Zurück zum Inhaltsverzeichnis](#Inhaltsverzeichnis)"
      ],
      "text/plain": [
       "<IPython.core.display.Markdown object>"
      ]
     },
     "metadata": {},
     "output_type": "display_data"
    },
    {
     "data": {
      "text/html": [
       "<h4 id='Wurzelkriterium'>==== Wurzelkriterium ====</h4>"
      ],
      "text/plain": [
       "<IPython.core.display.HTML object>"
      ]
     },
     "metadata": {},
     "output_type": "display_data"
    },
    {
     "data": {
      "text/html": [
       "<h5>Seitenaufrufe Artikel</h5>"
      ],
      "text/plain": [
       "<IPython.core.display.HTML object>"
      ]
     },
     "metadata": {},
     "output_type": "display_data"
    },
    {
     "name": "stdout",
     "output_type": "stream",
     "text": [
      "2016:           7.042\n",
      "WiSe 16/17:     5.684 ┬    +4.476 (+371%)\n",
      "WiSe 15/16:     1.208 ┘      \n"
     ]
    },
    {
     "data": {
      "text/html": [
       "<h5>Vergleich der Seitenaufrufe zum Wikipedia-Artikel</h5>"
      ],
      "text/plain": [
       "<IPython.core.display.HTML object>"
      ]
     },
     "metadata": {},
     "output_type": "display_data"
    },
    {
     "name": "stdout",
     "output_type": "stream",
     "text": [
      "Wikipedia-Artikel: Wurzelkriterium\n",
      "Views WiSe 16/17:     19.544 ┬    -1.587 ( -8%)\n",
      "Views WiSe 15/16:     21.131 ┘      \n",
      "\n",
      "MFNF / Wikipedia – WiSe 16/17:  29%\n",
      "MFNF / Wikipedia – WiSe 15/16:   6%\n"
     ]
    },
    {
     "data": {
      "text/markdown": [
       "[Zurück zum Inhaltsverzeichnis](#Inhaltsverzeichnis)"
      ],
      "text/plain": [
       "<IPython.core.display.Markdown object>"
      ]
     },
     "metadata": {},
     "output_type": "display_data"
    },
    {
     "data": {
      "text/html": [
       "<h4 id='Quotientenkriterium'>==== Quotientenkriterium ====</h4>"
      ],
      "text/plain": [
       "<IPython.core.display.HTML object>"
      ]
     },
     "metadata": {},
     "output_type": "display_data"
    },
    {
     "data": {
      "text/html": [
       "<h5>Seitenaufrufe Artikel</h5>"
      ],
      "text/plain": [
       "<IPython.core.display.HTML object>"
      ]
     },
     "metadata": {},
     "output_type": "display_data"
    },
    {
     "name": "stdout",
     "output_type": "stream",
     "text": [
      "2016:           8.885\n",
      "WiSe 16/17:     7.667 ┬    +6.576 (+603%)\n",
      "WiSe 15/16:     1.091 ┘      \n"
     ]
    },
    {
     "data": {
      "text/html": [
       "<h5>Vergleich der Seitenaufrufe zum Wikipedia-Artikel</h5>"
      ],
      "text/plain": [
       "<IPython.core.display.HTML object>"
      ]
     },
     "metadata": {},
     "output_type": "display_data"
    },
    {
     "name": "stdout",
     "output_type": "stream",
     "text": [
      "Wikipedia-Artikel: Quotientenkriterium\n",
      "Views WiSe 16/17:     29.066 ┬    -2.143 ( -7%)\n",
      "Views WiSe 15/16:     31.209 ┘      \n",
      "\n",
      "MFNF / Wikipedia – WiSe 16/17:  26%\n",
      "MFNF / Wikipedia – WiSe 15/16:   3%\n"
     ]
    },
    {
     "data": {
      "text/markdown": [
       "[Zurück zum Inhaltsverzeichnis](#Inhaltsverzeichnis)"
      ],
      "text/plain": [
       "<IPython.core.display.Markdown object>"
      ]
     },
     "metadata": {},
     "output_type": "display_data"
    },
    {
     "data": {
      "text/html": [
       "<h4 id='Leibniz-Kriterium'>==== Leibniz-Kriterium ====</h4>"
      ],
      "text/plain": [
       "<IPython.core.display.HTML object>"
      ]
     },
     "metadata": {},
     "output_type": "display_data"
    },
    {
     "data": {
      "text/html": [
       "<h5>Seitenaufrufe Artikel</h5>"
      ],
      "text/plain": [
       "<IPython.core.display.HTML object>"
      ]
     },
     "metadata": {},
     "output_type": "display_data"
    },
    {
     "name": "stdout",
     "output_type": "stream",
     "text": [
      "2016:           4.456\n",
      "WiSe 16/17:     5.367 ┬    +4.836 (+911%)\n",
      "WiSe 15/16:       531 ┘      \n"
     ]
    },
    {
     "data": {
      "text/html": [
       "<h5>Vergleich der Seitenaufrufe zum Wikipedia-Artikel</h5>"
      ],
      "text/plain": [
       "<IPython.core.display.HTML object>"
      ]
     },
     "metadata": {},
     "output_type": "display_data"
    },
    {
     "name": "stdout",
     "output_type": "stream",
     "text": [
      "Wikipedia-Artikel: Leibniz-Kriterium\n",
      "Views WiSe 16/17:     25.582 ┬    -1.764 ( -6%)\n",
      "Views WiSe 15/16:     27.346 ┘      \n",
      "\n",
      "MFNF / Wikipedia – WiSe 16/17:  21%\n",
      "MFNF / Wikipedia – WiSe 15/16:   2%\n"
     ]
    },
    {
     "data": {
      "text/markdown": [
       "[Zurück zum Inhaltsverzeichnis](#Inhaltsverzeichnis)"
      ],
      "text/plain": [
       "<IPython.core.display.Markdown object>"
      ]
     },
     "metadata": {},
     "output_type": "display_data"
    },
    {
     "data": {
      "text/html": [
       "<h4 id='Verdichtungskriterium'>==== Verdichtungskriterium ====</h4>"
      ],
      "text/plain": [
       "<IPython.core.display.HTML object>"
      ]
     },
     "metadata": {},
     "output_type": "display_data"
    },
    {
     "data": {
      "text/html": [
       "<h5>Seitenaufrufe Artikel</h5>"
      ],
      "text/plain": [
       "<IPython.core.display.HTML object>"
      ]
     },
     "metadata": {},
     "output_type": "display_data"
    },
    {
     "name": "stdout",
     "output_type": "stream",
     "text": [
      "2016:           1.586\n",
      "WiSe 16/17:     2.235 ┬    +2.126 (+1950%)\n",
      "WiSe 15/16:       109 ┘      \n"
     ]
    },
    {
     "data": {
      "text/html": [
       "<h5>Vergleich der Seitenaufrufe zum Wikipedia-Artikel</h5>"
      ],
      "text/plain": [
       "<IPython.core.display.HTML object>"
      ]
     },
     "metadata": {},
     "output_type": "display_data"
    },
    {
     "name": "stdout",
     "output_type": "stream",
     "text": [
      "Wikipedia-Artikel: Cauchysches Verdichtungskriterium\n",
      "Views WiSe 16/17:      7.202 ┬    -2.167 (-23%)\n",
      "Views WiSe 15/16:      9.369 ┘      \n",
      "\n",
      "MFNF / Wikipedia – WiSe 16/17:  31%\n",
      "MFNF / Wikipedia – WiSe 15/16:   1%\n"
     ]
    },
    {
     "data": {
      "text/markdown": [
       "[Zurück zum Inhaltsverzeichnis](#Inhaltsverzeichnis)"
      ],
      "text/plain": [
       "<IPython.core.display.Markdown object>"
      ]
     },
     "metadata": {},
     "output_type": "display_data"
    },
    {
     "data": {
      "text/html": [
       "<h4 id='Anwendung der Konvergenzkriterien'>==== Anwendung der Konvergenzkriterien ====</h4>"
      ],
      "text/plain": [
       "<IPython.core.display.HTML object>"
      ]
     },
     "metadata": {},
     "output_type": "display_data"
    },
    {
     "data": {
      "text/html": [
       "<h5>Seitenaufrufe Artikel</h5>"
      ],
      "text/plain": [
       "<IPython.core.display.HTML object>"
      ]
     },
     "metadata": {},
     "output_type": "display_data"
    },
    {
     "name": "stdout",
     "output_type": "stream",
     "text": [
      "2016:               0\n",
      "WiSe 16/17:       390 ┬      +390        \n",
      "WiSe 15/16:         0 ┘      \n"
     ]
    },
    {
     "data": {
      "text/markdown": [
       "[Zurück zum Inhaltsverzeichnis](#Inhaltsverzeichnis)"
      ],
      "text/plain": [
       "<IPython.core.display.Markdown object>"
      ]
     },
     "metadata": {},
     "output_type": "display_data"
    },
    {
     "data": {
      "text/html": [
       "<h4 id='Aufgaben'>==== Aufgaben ====</h4>"
      ],
      "text/plain": [
       "<IPython.core.display.HTML object>"
      ]
     },
     "metadata": {},
     "output_type": "display_data"
    },
    {
     "data": {
      "text/html": [
       "<h5>Seitenaufrufe Artikel</h5>"
      ],
      "text/plain": [
       "<IPython.core.display.HTML object>"
      ]
     },
     "metadata": {},
     "output_type": "display_data"
    },
    {
     "name": "stdout",
     "output_type": "stream",
     "text": [
      "2016:           1.149\n",
      "WiSe 16/17:     1.430 ┬    +1.249 (+690%)\n",
      "WiSe 15/16:       181 ┘      \n"
     ]
    },
    {
     "data": {
      "text/markdown": [
       "[Zurück zum Inhaltsverzeichnis](#Inhaltsverzeichnis)"
      ],
      "text/plain": [
       "<IPython.core.display.Markdown object>"
      ]
     },
     "metadata": {},
     "output_type": "display_data"
    },
    {
     "data": {
      "text/html": [
       "<h3 id='Exponential- und Logarithmusfunktion'>=== Exponential- und Logarithmusfunktion ===</h3>"
      ],
      "text/plain": [
       "<IPython.core.display.HTML object>"
      ]
     },
     "metadata": {},
     "output_type": "display_data"
    },
    {
     "data": {
      "text/markdown": [
       "[Zurück zum Inhaltsverzeichnis](#Inhaltsverzeichnis)"
      ],
      "text/plain": [
       "<IPython.core.display.Markdown object>"
      ]
     },
     "metadata": {},
     "output_type": "display_data"
    },
    {
     "data": {
      "text/html": [
       "<h4 id='Herleitung und Definition der Exponentialfunktion'>==== Herleitung und Definition der Exponentialfunktion ====</h4>"
      ],
      "text/plain": [
       "<IPython.core.display.HTML object>"
      ]
     },
     "metadata": {},
     "output_type": "display_data"
    },
    {
     "data": {
      "text/html": [
       "<h5>Seitenaufrufe Artikel</h5>"
      ],
      "text/plain": [
       "<IPython.core.display.HTML object>"
      ]
     },
     "metadata": {},
     "output_type": "display_data"
    },
    {
     "name": "stdout",
     "output_type": "stream",
     "text": [
      "2016:             695\n",
      "WiSe 16/17:     1.470 ┬    +1.470        \n",
      "WiSe 15/16:         0 ┘      \n"
     ]
    },
    {
     "data": {
      "text/html": [
       "<h5>Vergleich der Seitenaufrufe zum Wikipedia-Artikel</h5>"
      ],
      "text/plain": [
       "<IPython.core.display.HTML object>"
      ]
     },
     "metadata": {},
     "output_type": "display_data"
    },
    {
     "name": "stdout",
     "output_type": "stream",
     "text": [
      "Wikipedia-Artikel: Exponentialfunktion\n",
      "Views WiSe 16/17:    208.851 ┬    -6.792 ( -3%)\n",
      "Views WiSe 15/16:    215.643 ┘      \n",
      "\n",
      "MFNF / Wikipedia – WiSe 16/17:   1%\n",
      "MFNF / Wikipedia – WiSe 15/16:   0%\n"
     ]
    },
    {
     "data": {
      "text/markdown": [
       "[Zurück zum Inhaltsverzeichnis](#Inhaltsverzeichnis)"
      ],
      "text/plain": [
       "<IPython.core.display.Markdown object>"
      ]
     },
     "metadata": {},
     "output_type": "display_data"
    },
    {
     "data": {
      "text/html": [
       "<h4 id='Eigenschaften der Exponentialfunktion'>==== Eigenschaften der Exponentialfunktion ====</h4>"
      ],
      "text/plain": [
       "<IPython.core.display.HTML object>"
      ]
     },
     "metadata": {},
     "output_type": "display_data"
    },
    {
     "data": {
      "text/html": [
       "<h5>Seitenaufrufe Artikel</h5>"
      ],
      "text/plain": [
       "<IPython.core.display.HTML object>"
      ]
     },
     "metadata": {},
     "output_type": "display_data"
    },
    {
     "name": "stdout",
     "output_type": "stream",
     "text": [
      "2016:               0\n",
      "WiSe 16/17:       144 ┬      +144        \n",
      "WiSe 15/16:         0 ┘      \n"
     ]
    },
    {
     "data": {
      "text/markdown": [
       "[Zurück zum Inhaltsverzeichnis](#Inhaltsverzeichnis)"
      ],
      "text/plain": [
       "<IPython.core.display.Markdown object>"
      ]
     },
     "metadata": {},
     "output_type": "display_data"
    },
    {
     "data": {
      "text/html": [
       "<h4 id='Logarithmusfunktion'>==== Logarithmusfunktion ====</h4>"
      ],
      "text/plain": [
       "<IPython.core.display.HTML object>"
      ]
     },
     "metadata": {},
     "output_type": "display_data"
    },
    {
     "data": {
      "text/html": [
       "<h5>Seitenaufrufe Artikel</h5>"
      ],
      "text/plain": [
       "<IPython.core.display.HTML object>"
      ]
     },
     "metadata": {},
     "output_type": "display_data"
    },
    {
     "name": "stdout",
     "output_type": "stream",
     "text": [
      "2016:               0\n",
      "WiSe 16/17:        94 ┬       +94        \n",
      "WiSe 15/16:         0 ┘      \n"
     ]
    },
    {
     "data": {
      "text/html": [
       "<h5>Vergleich der Seitenaufrufe zum Wikipedia-Artikel</h5>"
      ],
      "text/plain": [
       "<IPython.core.display.HTML object>"
      ]
     },
     "metadata": {},
     "output_type": "display_data"
    },
    {
     "name": "stdout",
     "output_type": "stream",
     "text": [
      "Wikipedia-Artikel: Logarithmus\n",
      "Views WiSe 16/17:    297.472 ┬   -29.695 ( -9%)\n",
      "Views WiSe 15/16:    327.167 ┘      \n",
      "\n",
      "MFNF / Wikipedia – WiSe 16/17:   0%\n",
      "MFNF / Wikipedia – WiSe 15/16:   0%\n"
     ]
    },
    {
     "data": {
      "text/markdown": [
       "[Zurück zum Inhaltsverzeichnis](#Inhaltsverzeichnis)"
      ],
      "text/plain": [
       "<IPython.core.display.Markdown object>"
      ]
     },
     "metadata": {},
     "output_type": "display_data"
    },
    {
     "data": {
      "text/html": [
       "<h4 id='Verallgemeinerte Potenzen'>==== Verallgemeinerte Potenzen ====</h4>"
      ],
      "text/plain": [
       "<IPython.core.display.HTML object>"
      ]
     },
     "metadata": {},
     "output_type": "display_data"
    },
    {
     "data": {
      "text/html": [
       "<h5>Seitenaufrufe Artikel</h5>"
      ],
      "text/plain": [
       "<IPython.core.display.HTML object>"
      ]
     },
     "metadata": {},
     "output_type": "display_data"
    },
    {
     "name": "stdout",
     "output_type": "stream",
     "text": [
      "2016:               0\n",
      "WiSe 16/17:        29 ┬       +29        \n",
      "WiSe 15/16:         0 ┘      \n"
     ]
    },
    {
     "data": {
      "text/markdown": [
       "[Zurück zum Inhaltsverzeichnis](#Inhaltsverzeichnis)"
      ],
      "text/plain": [
       "<IPython.core.display.Markdown object>"
      ]
     },
     "metadata": {},
     "output_type": "display_data"
    },
    {
     "data": {
      "text/html": [
       "<h4 id='Exponential- und Logarithmusfunktion in den komplexen Zahlen'>==== Exponential- und Logarithmusfunktion in den komplexen Zahlen ====</h4>"
      ],
      "text/plain": [
       "<IPython.core.display.HTML object>"
      ]
     },
     "metadata": {},
     "output_type": "display_data"
    },
    {
     "data": {
      "text/html": [
       "<h5>Seitenaufrufe Artikel</h5>"
      ],
      "text/plain": [
       "<IPython.core.display.HTML object>"
      ]
     },
     "metadata": {},
     "output_type": "display_data"
    },
    {
     "name": "stdout",
     "output_type": "stream",
     "text": [
      "2016:               0\n",
      "WiSe 16/17:         0 ┬        +0        \n",
      "WiSe 15/16:         0 ┘      \n"
     ]
    },
    {
     "data": {
      "text/markdown": [
       "[Zurück zum Inhaltsverzeichnis](#Inhaltsverzeichnis)"
      ],
      "text/plain": [
       "<IPython.core.display.Markdown object>"
      ]
     },
     "metadata": {},
     "output_type": "display_data"
    },
    {
     "data": {
      "text/html": [
       "<h4 id='Aufgaben'>==== Aufgaben ====</h4>"
      ],
      "text/plain": [
       "<IPython.core.display.HTML object>"
      ]
     },
     "metadata": {},
     "output_type": "display_data"
    },
    {
     "data": {
      "text/html": [
       "<h5>Seitenaufrufe Artikel</h5>"
      ],
      "text/plain": [
       "<IPython.core.display.HTML object>"
      ]
     },
     "metadata": {},
     "output_type": "display_data"
    },
    {
     "name": "stdout",
     "output_type": "stream",
     "text": [
      "2016:               0\n",
      "WiSe 16/17:        28 ┬       +28        \n",
      "WiSe 15/16:         0 ┘      \n"
     ]
    },
    {
     "data": {
      "text/markdown": [
       "[Zurück zum Inhaltsverzeichnis](#Inhaltsverzeichnis)"
      ],
      "text/plain": [
       "<IPython.core.display.Markdown object>"
      ]
     },
     "metadata": {},
     "output_type": "display_data"
    },
    {
     "data": {
      "text/html": [
       "<h3 id='Trigonometrische und Hyperbolische Funktionen'>=== Trigonometrische und Hyperbolische Funktionen ===</h3>"
      ],
      "text/plain": [
       "<IPython.core.display.HTML object>"
      ]
     },
     "metadata": {},
     "output_type": "display_data"
    },
    {
     "data": {
      "text/markdown": [
       "[Zurück zum Inhaltsverzeichnis](#Inhaltsverzeichnis)"
      ],
      "text/plain": [
       "<IPython.core.display.Markdown object>"
      ]
     },
     "metadata": {},
     "output_type": "display_data"
    },
    {
     "data": {
      "text/html": [
       "<h4 id='Sinus und Kosinus'>==== Sinus und Kosinus ====</h4>"
      ],
      "text/plain": [
       "<IPython.core.display.HTML object>"
      ]
     },
     "metadata": {},
     "output_type": "display_data"
    },
    {
     "data": {
      "text/html": [
       "<h5>Seitenaufrufe Artikel</h5>"
      ],
      "text/plain": [
       "<IPython.core.display.HTML object>"
      ]
     },
     "metadata": {},
     "output_type": "display_data"
    },
    {
     "name": "stdout",
     "output_type": "stream",
     "text": [
      "2016:               0\n",
      "WiSe 16/17:       462 ┬      +462        \n",
      "WiSe 15/16:         0 ┘      \n"
     ]
    },
    {
     "data": {
      "text/html": [
       "<h5>Vergleich der Seitenaufrufe zum Wikipedia-Artikel</h5>"
      ],
      "text/plain": [
       "<IPython.core.display.HTML object>"
      ]
     },
     "metadata": {},
     "output_type": "display_data"
    },
    {
     "name": "stdout",
     "output_type": "stream",
     "text": [
      "Wikipedia-Artikel: Sinus und Kosinus\n",
      "Views WiSe 16/17:    434.451 ┬   -19.133 ( -4%)\n",
      "Views WiSe 15/16:    453.584 ┘      \n",
      "\n",
      "MFNF / Wikipedia – WiSe 16/17:   0%\n",
      "MFNF / Wikipedia – WiSe 15/16:   0%\n"
     ]
    },
    {
     "data": {
      "text/markdown": [
       "[Zurück zum Inhaltsverzeichnis](#Inhaltsverzeichnis)"
      ],
      "text/plain": [
       "<IPython.core.display.Markdown object>"
      ]
     },
     "metadata": {},
     "output_type": "display_data"
    },
    {
     "data": {
      "text/html": [
       "<h4 id='Eigenschaften des Sinus und Kosinus'>==== Eigenschaften des Sinus und Kosinus ====</h4>"
      ],
      "text/plain": [
       "<IPython.core.display.HTML object>"
      ]
     },
     "metadata": {},
     "output_type": "display_data"
    },
    {
     "data": {
      "text/html": [
       "<h5>Seitenaufrufe Artikel</h5>"
      ],
      "text/plain": [
       "<IPython.core.display.HTML object>"
      ]
     },
     "metadata": {},
     "output_type": "display_data"
    },
    {
     "name": "stdout",
     "output_type": "stream",
     "text": [
      "2016:               0\n",
      "WiSe 16/17:       240 ┬      +240        \n",
      "WiSe 15/16:         0 ┘      \n"
     ]
    },
    {
     "data": {
      "text/markdown": [
       "[Zurück zum Inhaltsverzeichnis](#Inhaltsverzeichnis)"
      ],
      "text/plain": [
       "<IPython.core.display.Markdown object>"
      ]
     },
     "metadata": {},
     "output_type": "display_data"
    },
    {
     "data": {
      "text/html": [
       "<h4 id='Arkussinus und Arkuskosinus'>==== Arkussinus und Arkuskosinus ====</h4>"
      ],
      "text/plain": [
       "<IPython.core.display.HTML object>"
      ]
     },
     "metadata": {},
     "output_type": "display_data"
    },
    {
     "data": {
      "text/html": [
       "<h5>Seitenaufrufe Artikel</h5>"
      ],
      "text/plain": [
       "<IPython.core.display.HTML object>"
      ]
     },
     "metadata": {},
     "output_type": "display_data"
    },
    {
     "name": "stdout",
     "output_type": "stream",
     "text": [
      "2016:               0\n",
      "WiSe 16/17:       176 ┬      +176        \n",
      "WiSe 15/16:         0 ┘      \n"
     ]
    },
    {
     "data": {
      "text/html": [
       "<h5>Vergleich der Seitenaufrufe zum Wikipedia-Artikel</h5>"
      ],
      "text/plain": [
       "<IPython.core.display.HTML object>"
      ]
     },
     "metadata": {},
     "output_type": "display_data"
    },
    {
     "name": "stdout",
     "output_type": "stream",
     "text": [
      "Wikipedia-Artikel: Arkussinus und Arkuskosinus\n",
      "Views WiSe 16/17:     81.694 ┬    -2.818 ( -3%)\n",
      "Views WiSe 15/16:     84.512 ┘      \n",
      "\n",
      "MFNF / Wikipedia – WiSe 16/17:   0%\n",
      "MFNF / Wikipedia – WiSe 15/16:   0%\n"
     ]
    },
    {
     "data": {
      "text/markdown": [
       "[Zurück zum Inhaltsverzeichnis](#Inhaltsverzeichnis)"
      ],
      "text/plain": [
       "<IPython.core.display.Markdown object>"
      ]
     },
     "metadata": {},
     "output_type": "display_data"
    },
    {
     "data": {
      "text/html": [
       "<h4 id='Tangens und Kotangens'>==== Tangens und Kotangens ====</h4>"
      ],
      "text/plain": [
       "<IPython.core.display.HTML object>"
      ]
     },
     "metadata": {},
     "output_type": "display_data"
    },
    {
     "data": {
      "text/html": [
       "<h5>Seitenaufrufe Artikel</h5>"
      ],
      "text/plain": [
       "<IPython.core.display.HTML object>"
      ]
     },
     "metadata": {},
     "output_type": "display_data"
    },
    {
     "name": "stdout",
     "output_type": "stream",
     "text": [
      "2016:               0\n",
      "WiSe 16/17:         0 ┬        +0        \n",
      "WiSe 15/16:         0 ┘      \n"
     ]
    },
    {
     "data": {
      "text/html": [
       "<h5>Vergleich der Seitenaufrufe zum Wikipedia-Artikel</h5>"
      ],
      "text/plain": [
       "<IPython.core.display.HTML object>"
      ]
     },
     "metadata": {},
     "output_type": "display_data"
    },
    {
     "name": "stdout",
     "output_type": "stream",
     "text": [
      "Wikipedia-Artikel: Tangens und Kotangens\n",
      "Views WiSe 16/17:    205.480 ┬    +2.521 ( +1%)\n",
      "Views WiSe 15/16:    202.959 ┘      \n",
      "\n",
      "MFNF / Wikipedia – WiSe 16/17:   0%\n",
      "MFNF / Wikipedia – WiSe 15/16:   0%\n"
     ]
    },
    {
     "data": {
      "text/markdown": [
       "[Zurück zum Inhaltsverzeichnis](#Inhaltsverzeichnis)"
      ],
      "text/plain": [
       "<IPython.core.display.Markdown object>"
      ]
     },
     "metadata": {},
     "output_type": "display_data"
    },
    {
     "data": {
      "text/html": [
       "<h4 id='Arkustangens und Arkuskotangens'>==== Arkustangens und Arkuskotangens ====</h4>"
      ],
      "text/plain": [
       "<IPython.core.display.HTML object>"
      ]
     },
     "metadata": {},
     "output_type": "display_data"
    },
    {
     "data": {
      "text/html": [
       "<h5>Seitenaufrufe Artikel</h5>"
      ],
      "text/plain": [
       "<IPython.core.display.HTML object>"
      ]
     },
     "metadata": {},
     "output_type": "display_data"
    },
    {
     "name": "stdout",
     "output_type": "stream",
     "text": [
      "2016:               0\n",
      "WiSe 16/17:        58 ┬       +58        \n",
      "WiSe 15/16:         0 ┘      \n"
     ]
    },
    {
     "data": {
      "text/html": [
       "<h5>Vergleich der Seitenaufrufe zum Wikipedia-Artikel</h5>"
      ],
      "text/plain": [
       "<IPython.core.display.HTML object>"
      ]
     },
     "metadata": {},
     "output_type": "display_data"
    },
    {
     "name": "stdout",
     "output_type": "stream",
     "text": [
      "Wikipedia-Artikel: Arkustangens und Arkuskotangens\n",
      "Views WiSe 16/17:     94.338 ┬    +2.272 ( +2%)\n",
      "Views WiSe 15/16:     92.066 ┘      \n",
      "\n",
      "MFNF / Wikipedia – WiSe 16/17:   0%\n",
      "MFNF / Wikipedia – WiSe 15/16:   0%\n"
     ]
    },
    {
     "data": {
      "text/markdown": [
       "[Zurück zum Inhaltsverzeichnis](#Inhaltsverzeichnis)"
      ],
      "text/plain": [
       "<IPython.core.display.Markdown object>"
      ]
     },
     "metadata": {},
     "output_type": "display_data"
    },
    {
     "data": {
      "text/html": [
       "<h4 id='Sinus Hyperbolicus und Kosinus Hyperbolicus'>==== Sinus Hyperbolicus und Kosinus Hyperbolicus ====</h4>"
      ],
      "text/plain": [
       "<IPython.core.display.HTML object>"
      ]
     },
     "metadata": {},
     "output_type": "display_data"
    },
    {
     "data": {
      "text/html": [
       "<h5>Seitenaufrufe Artikel</h5>"
      ],
      "text/plain": [
       "<IPython.core.display.HTML object>"
      ]
     },
     "metadata": {},
     "output_type": "display_data"
    },
    {
     "name": "stdout",
     "output_type": "stream",
     "text": [
      "2016:               0\n",
      "WiSe 16/17:        79 ┬       +79        \n",
      "WiSe 15/16:         0 ┘      \n"
     ]
    },
    {
     "data": {
      "text/html": [
       "<h5>Vergleich der Seitenaufrufe zum Wikipedia-Artikel</h5>"
      ],
      "text/plain": [
       "<IPython.core.display.HTML object>"
      ]
     },
     "metadata": {},
     "output_type": "display_data"
    },
    {
     "name": "stdout",
     "output_type": "stream",
     "text": [
      "Wikipedia-Artikel: Sinus Hyperbolicus und Kosinus Hyperbolicus\n",
      "Views WiSe 16/17:     85.196 ┬    +1.353 ( +2%)\n",
      "Views WiSe 15/16:     83.843 ┘      \n",
      "\n",
      "MFNF / Wikipedia – WiSe 16/17:   0%\n",
      "MFNF / Wikipedia – WiSe 15/16:   0%\n"
     ]
    },
    {
     "data": {
      "text/markdown": [
       "[Zurück zum Inhaltsverzeichnis](#Inhaltsverzeichnis)"
      ],
      "text/plain": [
       "<IPython.core.display.Markdown object>"
      ]
     },
     "metadata": {},
     "output_type": "display_data"
    },
    {
     "data": {
      "text/html": [
       "<h4 id='Aufgaben'>==== Aufgaben ====</h4>"
      ],
      "text/plain": [
       "<IPython.core.display.HTML object>"
      ]
     },
     "metadata": {},
     "output_type": "display_data"
    },
    {
     "data": {
      "text/html": [
       "<h5>Seitenaufrufe Artikel</h5>"
      ],
      "text/plain": [
       "<IPython.core.display.HTML object>"
      ]
     },
     "metadata": {},
     "output_type": "display_data"
    },
    {
     "name": "stdout",
     "output_type": "stream",
     "text": [
      "2016:               0\n",
      "WiSe 16/17:        56 ┬       +56        \n",
      "WiSe 15/16:         0 ┘      \n"
     ]
    },
    {
     "data": {
      "text/markdown": [
       "[Zurück zum Inhaltsverzeichnis](#Inhaltsverzeichnis)"
      ],
      "text/plain": [
       "<IPython.core.display.Markdown object>"
      ]
     },
     "metadata": {},
     "output_type": "display_data"
    },
    {
     "data": {
      "text/html": [
       "<h3 id='Stetigkeit'>=== Stetigkeit ===</h3>"
      ],
      "text/plain": [
       "<IPython.core.display.HTML object>"
      ]
     },
     "metadata": {},
     "output_type": "display_data"
    },
    {
     "data": {
      "text/markdown": [
       "[Zurück zum Inhaltsverzeichnis](#Inhaltsverzeichnis)"
      ],
      "text/plain": [
       "<IPython.core.display.Markdown object>"
      ]
     },
     "metadata": {},
     "output_type": "display_data"
    },
    {
     "data": {
      "text/html": [
       "<h4 id='Stetigkeit von Funktionen'>==== Stetigkeit von Funktionen ====</h4>"
      ],
      "text/plain": [
       "<IPython.core.display.HTML object>"
      ]
     },
     "metadata": {},
     "output_type": "display_data"
    },
    {
     "data": {
      "text/html": [
       "<h5>Seitenaufrufe Artikel</h5>"
      ],
      "text/plain": [
       "<IPython.core.display.HTML object>"
      ]
     },
     "metadata": {},
     "output_type": "display_data"
    },
    {
     "name": "stdout",
     "output_type": "stream",
     "text": [
      "2016:          11.261\n",
      "WiSe 16/17:     9.531 ┬    +5.158 (+118%)\n",
      "WiSe 15/16:     4.373 ┘      \n"
     ]
    },
    {
     "data": {
      "text/html": [
       "<h5>Vergleich der Seitenaufrufe zum Wikipedia-Artikel</h5>"
      ],
      "text/plain": [
       "<IPython.core.display.HTML object>"
      ]
     },
     "metadata": {},
     "output_type": "display_data"
    },
    {
     "name": "stdout",
     "output_type": "stream",
     "text": [
      "Wikipedia-Artikel: Stetigkeit\n",
      "Views WiSe 16/17:     77.323 ┬    -8.292 (-10%)\n",
      "Views WiSe 15/16:     85.615 ┘      \n",
      "\n",
      "MFNF / Wikipedia – WiSe 16/17:  12%\n",
      "MFNF / Wikipedia – WiSe 15/16:   5%\n"
     ]
    },
    {
     "data": {
      "text/markdown": [
       "[Zurück zum Inhaltsverzeichnis](#Inhaltsverzeichnis)"
      ],
      "text/plain": [
       "<IPython.core.display.Markdown object>"
      ]
     },
     "metadata": {},
     "output_type": "display_data"
    },
    {
     "data": {
      "text/html": [
       "<h4 id='Folgenkriterium'>==== Folgenkriterium ====</h4>"
      ],
      "text/plain": [
       "<IPython.core.display.HTML object>"
      ]
     },
     "metadata": {},
     "output_type": "display_data"
    },
    {
     "data": {
      "text/html": [
       "<h5>Seitenaufrufe Artikel</h5>"
      ],
      "text/plain": [
       "<IPython.core.display.HTML object>"
      ]
     },
     "metadata": {},
     "output_type": "display_data"
    },
    {
     "name": "stdout",
     "output_type": "stream",
     "text": [
      "2016:           2.111\n",
      "WiSe 16/17:     4.303 ┬    +4.303        \n",
      "WiSe 15/16:         0 ┘      \n"
     ]
    },
    {
     "data": {
      "text/markdown": [
       "[Zurück zum Inhaltsverzeichnis](#Inhaltsverzeichnis)"
      ],
      "text/plain": [
       "<IPython.core.display.Markdown object>"
      ]
     },
     "metadata": {},
     "output_type": "display_data"
    },
    {
     "data": {
      "text/html": [
       "<h4 id='Epsilon-Delta-Kriterium'>==== Epsilon-Delta-Kriterium ====</h4>"
      ],
      "text/plain": [
       "<IPython.core.display.HTML object>"
      ]
     },
     "metadata": {},
     "output_type": "display_data"
    },
    {
     "data": {
      "text/html": [
       "<h5>Seitenaufrufe Artikel</h5>"
      ],
      "text/plain": [
       "<IPython.core.display.HTML object>"
      ]
     },
     "metadata": {},
     "output_type": "display_data"
    },
    {
     "name": "stdout",
     "output_type": "stream",
     "text": [
      "2016:               0\n",
      "WiSe 16/17:       141 ┬      +141        \n",
      "WiSe 15/16:         0 ┘      \n"
     ]
    },
    {
     "data": {
      "text/markdown": [
       "[Zurück zum Inhaltsverzeichnis](#Inhaltsverzeichnis)"
      ],
      "text/plain": [
       "<IPython.core.display.Markdown object>"
      ]
     },
     "metadata": {},
     "output_type": "display_data"
    },
    {
     "data": {
      "text/html": [
       "<h4 id='Grenzwert von Funktionen'>==== Grenzwert von Funktionen ====</h4>"
      ],
      "text/plain": [
       "<IPython.core.display.HTML object>"
      ]
     },
     "metadata": {},
     "output_type": "display_data"
    },
    {
     "data": {
      "text/html": [
       "<h5>Seitenaufrufe Artikel</h5>"
      ],
      "text/plain": [
       "<IPython.core.display.HTML object>"
      ]
     },
     "metadata": {},
     "output_type": "display_data"
    },
    {
     "name": "stdout",
     "output_type": "stream",
     "text": [
      "2016:             420\n",
      "WiSe 16/17:       916 ┬      +916        \n",
      "WiSe 15/16:         0 ┘      \n"
     ]
    },
    {
     "data": {
      "text/html": [
       "<h5>Vergleich der Seitenaufrufe zum Wikipedia-Artikel</h5>"
      ],
      "text/plain": [
       "<IPython.core.display.HTML object>"
      ]
     },
     "metadata": {},
     "output_type": "display_data"
    },
    {
     "name": "stdout",
     "output_type": "stream",
     "text": [
      "Wikipedia-Artikel: Grenzwert (Funktion)\n",
      "Views WiSe 16/17:     51.406 ┬    -8.926 (-15%)\n",
      "Views WiSe 15/16:     60.332 ┘      \n",
      "\n",
      "MFNF / Wikipedia – WiSe 16/17:   2%\n",
      "MFNF / Wikipedia – WiSe 15/16:   0%\n"
     ]
    },
    {
     "data": {
      "text/markdown": [
       "[Zurück zum Inhaltsverzeichnis](#Inhaltsverzeichnis)"
      ],
      "text/plain": [
       "<IPython.core.display.Markdown object>"
      ]
     },
     "metadata": {},
     "output_type": "display_data"
    },
    {
     "data": {
      "text/html": [
       "<h4 id='Komposition stetiger Funktionen'>==== Komposition stetiger Funktionen ====</h4>"
      ],
      "text/plain": [
       "<IPython.core.display.HTML object>"
      ]
     },
     "metadata": {},
     "output_type": "display_data"
    },
    {
     "data": {
      "text/html": [
       "<h5>Seitenaufrufe Artikel</h5>"
      ],
      "text/plain": [
       "<IPython.core.display.HTML object>"
      ]
     },
     "metadata": {},
     "output_type": "display_data"
    },
    {
     "name": "stdout",
     "output_type": "stream",
     "text": [
      "2016:           2.317\n",
      "WiSe 16/17:     2.825 ┬    +2.396 (+559%)\n",
      "WiSe 15/16:       429 ┘      \n"
     ]
    },
    {
     "data": {
      "text/markdown": [
       "[Zurück zum Inhaltsverzeichnis](#Inhaltsverzeichnis)"
      ],
      "text/plain": [
       "<IPython.core.display.Markdown object>"
      ]
     },
     "metadata": {},
     "output_type": "display_data"
    },
    {
     "data": {
      "text/html": [
       "<h4 id='Stetigkeit beweisen'>==== Stetigkeit beweisen ====</h4>"
      ],
      "text/plain": [
       "<IPython.core.display.HTML object>"
      ]
     },
     "metadata": {},
     "output_type": "display_data"
    },
    {
     "data": {
      "text/html": [
       "<h5>Seitenaufrufe Artikel</h5>"
      ],
      "text/plain": [
       "<IPython.core.display.HTML object>"
      ]
     },
     "metadata": {},
     "output_type": "display_data"
    },
    {
     "name": "stdout",
     "output_type": "stream",
     "text": [
      "2016:               0\n",
      "WiSe 16/17:       129 ┬      +129        \n",
      "WiSe 15/16:         0 ┘      \n"
     ]
    },
    {
     "data": {
      "text/markdown": [
       "[Zurück zum Inhaltsverzeichnis](#Inhaltsverzeichnis)"
      ],
      "text/plain": [
       "<IPython.core.display.Markdown object>"
      ]
     },
     "metadata": {},
     "output_type": "display_data"
    },
    {
     "data": {
      "text/html": [
       "<h4 id='Unstetigkeit beweisen'>==== Unstetigkeit beweisen ====</h4>"
      ],
      "text/plain": [
       "<IPython.core.display.HTML object>"
      ]
     },
     "metadata": {},
     "output_type": "display_data"
    },
    {
     "data": {
      "text/html": [
       "<h5>Seitenaufrufe Artikel</h5>"
      ],
      "text/plain": [
       "<IPython.core.display.HTML object>"
      ]
     },
     "metadata": {},
     "output_type": "display_data"
    },
    {
     "name": "stdout",
     "output_type": "stream",
     "text": [
      "2016:               0\n",
      "WiSe 16/17:       114 ┬      +114        \n",
      "WiSe 15/16:         0 ┘      \n"
     ]
    },
    {
     "data": {
      "text/markdown": [
       "[Zurück zum Inhaltsverzeichnis](#Inhaltsverzeichnis)"
      ],
      "text/plain": [
       "<IPython.core.display.Markdown object>"
      ]
     },
     "metadata": {},
     "output_type": "display_data"
    },
    {
     "data": {
      "text/html": [
       "<h4 id='Zwischenwertsatz'>==== Zwischenwertsatz ====</h4>"
      ],
      "text/plain": [
       "<IPython.core.display.HTML object>"
      ]
     },
     "metadata": {},
     "output_type": "display_data"
    },
    {
     "data": {
      "text/html": [
       "<h5>Seitenaufrufe Artikel</h5>"
      ],
      "text/plain": [
       "<IPython.core.display.HTML object>"
      ]
     },
     "metadata": {},
     "output_type": "display_data"
    },
    {
     "name": "stdout",
     "output_type": "stream",
     "text": [
      "2016:           1.348\n",
      "WiSe 16/17:     3.610 ┬    +3.610        \n",
      "WiSe 15/16:         0 ┘      \n"
     ]
    },
    {
     "data": {
      "text/html": [
       "<h5>Vergleich der Seitenaufrufe zum Wikipedia-Artikel</h5>"
      ],
      "text/plain": [
       "<IPython.core.display.HTML object>"
      ]
     },
     "metadata": {},
     "output_type": "display_data"
    },
    {
     "name": "stdout",
     "output_type": "stream",
     "text": [
      "Wikipedia-Artikel: Zwischenwertsatz\n",
      "Views WiSe 16/17:     18.349 ┬    -2.351 (-11%)\n",
      "Views WiSe 15/16:     20.700 ┘      \n",
      "\n",
      "MFNF / Wikipedia – WiSe 16/17:  20%\n",
      "MFNF / Wikipedia – WiSe 15/16:   0%\n"
     ]
    },
    {
     "data": {
      "text/markdown": [
       "[Zurück zum Inhaltsverzeichnis](#Inhaltsverzeichnis)"
      ],
      "text/plain": [
       "<IPython.core.display.Markdown object>"
      ]
     },
     "metadata": {},
     "output_type": "display_data"
    },
    {
     "data": {
      "text/html": [
       "<h4 id='Satz vom Minimum und Maximum'>==== Satz vom Minimum und Maximum ====</h4>"
      ],
      "text/plain": [
       "<IPython.core.display.HTML object>"
      ]
     },
     "metadata": {},
     "output_type": "display_data"
    },
    {
     "data": {
      "text/html": [
       "<h5>Seitenaufrufe Artikel</h5>"
      ],
      "text/plain": [
       "<IPython.core.display.HTML object>"
      ]
     },
     "metadata": {},
     "output_type": "display_data"
    },
    {
     "name": "stdout",
     "output_type": "stream",
     "text": [
      "2016:             951\n",
      "WiSe 16/17:     1.963 ┬    +1.963        \n",
      "WiSe 15/16:         0 ┘      \n"
     ]
    },
    {
     "data": {
      "text/html": [
       "<h5>Vergleich der Seitenaufrufe zum Wikipedia-Artikel</h5>"
      ],
      "text/plain": [
       "<IPython.core.display.HTML object>"
      ]
     },
     "metadata": {},
     "output_type": "display_data"
    },
    {
     "name": "stdout",
     "output_type": "stream",
     "text": [
      "Wikipedia-Artikel: Satz vom Minimum und Maximum\n",
      "Views WiSe 16/17:      5.578 ┬    +2.780 (+99%)\n",
      "Views WiSe 15/16:      2.798 ┘      \n",
      "\n",
      "MFNF / Wikipedia – WiSe 16/17:  35%\n",
      "MFNF / Wikipedia – WiSe 15/16:   0%\n"
     ]
    },
    {
     "data": {
      "text/markdown": [
       "[Zurück zum Inhaltsverzeichnis](#Inhaltsverzeichnis)"
      ],
      "text/plain": [
       "<IPython.core.display.Markdown object>"
      ]
     },
     "metadata": {},
     "output_type": "display_data"
    },
    {
     "data": {
      "text/html": [
       "<h4 id='Stetigkeit der Umkehrfunktion'>==== Stetigkeit der Umkehrfunktion ====</h4>"
      ],
      "text/plain": [
       "<IPython.core.display.HTML object>"
      ]
     },
     "metadata": {},
     "output_type": "display_data"
    },
    {
     "data": {
      "text/html": [
       "<h5>Seitenaufrufe Artikel</h5>"
      ],
      "text/plain": [
       "<IPython.core.display.HTML object>"
      ]
     },
     "metadata": {},
     "output_type": "display_data"
    },
    {
     "name": "stdout",
     "output_type": "stream",
     "text": [
      "2016:             535\n",
      "WiSe 16/17:     1.156 ┬    +1.156        \n",
      "WiSe 15/16:         0 ┘      \n"
     ]
    },
    {
     "data": {
      "text/markdown": [
       "[Zurück zum Inhaltsverzeichnis](#Inhaltsverzeichnis)"
      ],
      "text/plain": [
       "<IPython.core.display.Markdown object>"
      ]
     },
     "metadata": {},
     "output_type": "display_data"
    },
    {
     "data": {
      "text/html": [
       "<h4 id='Gleichmäßige Stetigkeit'>==== Gleichmäßige Stetigkeit ====</h4>"
      ],
      "text/plain": [
       "<IPython.core.display.HTML object>"
      ]
     },
     "metadata": {},
     "output_type": "display_data"
    },
    {
     "data": {
      "text/html": [
       "<h5>Seitenaufrufe Artikel</h5>"
      ],
      "text/plain": [
       "<IPython.core.display.HTML object>"
      ]
     },
     "metadata": {},
     "output_type": "display_data"
    },
    {
     "name": "stdout",
     "output_type": "stream",
     "text": [
      "2016:             616\n",
      "WiSe 16/17:     2.746 ┬    +2.746        \n",
      "WiSe 15/16:         0 ┘      \n"
     ]
    },
    {
     "data": {
      "text/html": [
       "<h5>Vergleich der Seitenaufrufe zum Wikipedia-Artikel</h5>"
      ],
      "text/plain": [
       "<IPython.core.display.HTML object>"
      ]
     },
     "metadata": {},
     "output_type": "display_data"
    },
    {
     "name": "stdout",
     "output_type": "stream",
     "text": [
      "Wikipedia-Artikel: Gleichmäßige Stetigkeit\n",
      "Views WiSe 16/17:     15.515 ┬    -1.930 (-11%)\n",
      "Views WiSe 15/16:     17.445 ┘      \n",
      "\n",
      "MFNF / Wikipedia – WiSe 16/17:  18%\n",
      "MFNF / Wikipedia – WiSe 15/16:   0%\n"
     ]
    },
    {
     "data": {
      "text/markdown": [
       "[Zurück zum Inhaltsverzeichnis](#Inhaltsverzeichnis)"
      ],
      "text/plain": [
       "<IPython.core.display.Markdown object>"
      ]
     },
     "metadata": {},
     "output_type": "display_data"
    },
    {
     "data": {
      "text/html": [
       "<h4 id='Lipschitz-Stetigkeit'>==== Lipschitz-Stetigkeit ====</h4>"
      ],
      "text/plain": [
       "<IPython.core.display.HTML object>"
      ]
     },
     "metadata": {},
     "output_type": "display_data"
    },
    {
     "data": {
      "text/html": [
       "<h5>Seitenaufrufe Artikel</h5>"
      ],
      "text/plain": [
       "<IPython.core.display.HTML object>"
      ]
     },
     "metadata": {},
     "output_type": "display_data"
    },
    {
     "name": "stdout",
     "output_type": "stream",
     "text": [
      "2016:               0\n",
      "WiSe 16/17:       315 ┬      +315        \n",
      "WiSe 15/16:         0 ┘      \n"
     ]
    },
    {
     "data": {
      "text/html": [
       "<h5>Vergleich der Seitenaufrufe zum Wikipedia-Artikel</h5>"
      ],
      "text/plain": [
       "<IPython.core.display.HTML object>"
      ]
     },
     "metadata": {},
     "output_type": "display_data"
    },
    {
     "name": "stdout",
     "output_type": "stream",
     "text": [
      "Wikipedia-Artikel: Lipschitz-Stetigkeit\n",
      "Views WiSe 16/17:     29.820 ┬       +36 ( +0%)\n",
      "Views WiSe 15/16:     29.784 ┘      \n",
      "\n",
      "MFNF / Wikipedia – WiSe 16/17:   1%\n",
      "MFNF / Wikipedia – WiSe 15/16:   0%\n"
     ]
    },
    {
     "data": {
      "text/markdown": [
       "[Zurück zum Inhaltsverzeichnis](#Inhaltsverzeichnis)"
      ],
      "text/plain": [
       "<IPython.core.display.Markdown object>"
      ]
     },
     "metadata": {},
     "output_type": "display_data"
    },
    {
     "data": {
      "text/html": [
       "<h4 id='Aufgaben'>==== Aufgaben ====</h4>"
      ],
      "text/plain": [
       "<IPython.core.display.HTML object>"
      ]
     },
     "metadata": {},
     "output_type": "display_data"
    },
    {
     "data": {
      "text/html": [
       "<h5>Seitenaufrufe Artikel</h5>"
      ],
      "text/plain": [
       "<IPython.core.display.HTML object>"
      ]
     },
     "metadata": {},
     "output_type": "display_data"
    },
    {
     "name": "stdout",
     "output_type": "stream",
     "text": [
      "2016:           1.444\n",
      "WiSe 16/17:     1.427 ┬      +640 (+81%)\n",
      "WiSe 15/16:       787 ┘      \n"
     ]
    },
    {
     "data": {
      "text/markdown": [
       "[Zurück zum Inhaltsverzeichnis](#Inhaltsverzeichnis)"
      ],
      "text/plain": [
       "<IPython.core.display.Markdown object>"
      ]
     },
     "metadata": {},
     "output_type": "display_data"
    },
    {
     "data": {
      "text/html": [
       "<h3 id='Ableitung'>=== Ableitung ===</h3>"
      ],
      "text/plain": [
       "<IPython.core.display.HTML object>"
      ]
     },
     "metadata": {},
     "output_type": "display_data"
    },
    {
     "data": {
      "text/markdown": [
       "[Zurück zum Inhaltsverzeichnis](#Inhaltsverzeichnis)"
      ],
      "text/plain": [
       "<IPython.core.display.Markdown object>"
      ]
     },
     "metadata": {},
     "output_type": "display_data"
    },
    {
     "data": {
      "text/html": [
       "<h4 id='Ableitung'>==== Ableitung ====</h4>"
      ],
      "text/plain": [
       "<IPython.core.display.HTML object>"
      ]
     },
     "metadata": {},
     "output_type": "display_data"
    },
    {
     "data": {
      "text/html": [
       "<h5>Seitenaufrufe Artikel</h5>"
      ],
      "text/plain": [
       "<IPython.core.display.HTML object>"
      ]
     },
     "metadata": {},
     "output_type": "display_data"
    },
    {
     "name": "stdout",
     "output_type": "stream",
     "text": [
      "2016:           1.872\n",
      "WiSe 16/17:     2.617 ┬    +2.617        \n",
      "WiSe 15/16:         0 ┘      \n"
     ]
    },
    {
     "data": {
      "text/html": [
       "<h5>Vergleich der Seitenaufrufe zum Wikipedia-Artikel</h5>"
      ],
      "text/plain": [
       "<IPython.core.display.HTML object>"
      ]
     },
     "metadata": {},
     "output_type": "display_data"
    },
    {
     "name": "stdout",
     "output_type": "stream",
     "text": [
      "Wikipedia-Artikel: Differentialrechnung\n",
      "Views WiSe 16/17:    136.137 ┬   -11.521 ( -8%)\n",
      "Views WiSe 15/16:    147.658 ┘      \n",
      "\n",
      "MFNF / Wikipedia – WiSe 16/17:   2%\n",
      "MFNF / Wikipedia – WiSe 15/16:   0%\n"
     ]
    },
    {
     "data": {
      "text/markdown": [
       "[Zurück zum Inhaltsverzeichnis](#Inhaltsverzeichnis)"
      ],
      "text/plain": [
       "<IPython.core.display.Markdown object>"
      ]
     },
     "metadata": {},
     "output_type": "display_data"
    },
    {
     "data": {
      "text/html": [
       "<h4 id='Rechengesetze für die Ableitung'>==== Rechengesetze für die Ableitung ====</h4>"
      ],
      "text/plain": [
       "<IPython.core.display.HTML object>"
      ]
     },
     "metadata": {},
     "output_type": "display_data"
    },
    {
     "data": {
      "text/html": [
       "<h5>Seitenaufrufe Artikel</h5>"
      ],
      "text/plain": [
       "<IPython.core.display.HTML object>"
      ]
     },
     "metadata": {},
     "output_type": "display_data"
    },
    {
     "name": "stdout",
     "output_type": "stream",
     "text": [
      "2016:           1.586\n",
      "WiSe 16/17:     1.241 ┬    +1.241        \n",
      "WiSe 15/16:         0 ┘      \n"
     ]
    },
    {
     "data": {
      "text/markdown": [
       "[Zurück zum Inhaltsverzeichnis](#Inhaltsverzeichnis)"
      ],
      "text/plain": [
       "<IPython.core.display.Markdown object>"
      ]
     },
     "metadata": {},
     "output_type": "display_data"
    },
    {
     "data": {
      "text/html": [
       "<h4 id='Ableitung der Umkehrfunktion'>==== Ableitung der Umkehrfunktion ====</h4>"
      ],
      "text/plain": [
       "<IPython.core.display.HTML object>"
      ]
     },
     "metadata": {},
     "output_type": "display_data"
    },
    {
     "data": {
      "text/html": [
       "<h5>Seitenaufrufe Artikel</h5>"
      ],
      "text/plain": [
       "<IPython.core.display.HTML object>"
      ]
     },
     "metadata": {},
     "output_type": "display_data"
    },
    {
     "name": "stdout",
     "output_type": "stream",
     "text": [
      "2016:             761\n",
      "WiSe 16/17:       932 ┬      +932        \n",
      "WiSe 15/16:         0 ┘      \n"
     ]
    },
    {
     "data": {
      "text/markdown": [
       "[Zurück zum Inhaltsverzeichnis](#Inhaltsverzeichnis)"
      ],
      "text/plain": [
       "<IPython.core.display.Markdown object>"
      ]
     },
     "metadata": {},
     "output_type": "display_data"
    },
    {
     "data": {
      "text/html": [
       "<h4 id='Beispiele für Ableitungen'>==== Beispiele für Ableitungen ====</h4>"
      ],
      "text/plain": [
       "<IPython.core.display.HTML object>"
      ]
     },
     "metadata": {},
     "output_type": "display_data"
    },
    {
     "data": {
      "text/html": [
       "<h5>Seitenaufrufe Artikel</h5>"
      ],
      "text/plain": [
       "<IPython.core.display.HTML object>"
      ]
     },
     "metadata": {},
     "output_type": "display_data"
    },
    {
     "name": "stdout",
     "output_type": "stream",
     "text": [
      "2016:             848\n",
      "WiSe 16/17:       676 ┬      +676        \n",
      "WiSe 15/16:         0 ┘      \n"
     ]
    },
    {
     "data": {
      "text/markdown": [
       "[Zurück zum Inhaltsverzeichnis](#Inhaltsverzeichnis)"
      ],
      "text/plain": [
       "<IPython.core.display.Markdown object>"
      ]
     },
     "metadata": {},
     "output_type": "display_data"
    },
    {
     "data": {
      "text/html": [
       "<h4 id='Ableitung höherer Ordnung'>==== Ableitung höherer Ordnung ====</h4>"
      ],
      "text/plain": [
       "<IPython.core.display.HTML object>"
      ]
     },
     "metadata": {},
     "output_type": "display_data"
    },
    {
     "data": {
      "text/html": [
       "<h5>Seitenaufrufe Artikel</h5>"
      ],
      "text/plain": [
       "<IPython.core.display.HTML object>"
      ]
     },
     "metadata": {},
     "output_type": "display_data"
    },
    {
     "name": "stdout",
     "output_type": "stream",
     "text": [
      "2016:             619\n",
      "WiSe 16/17:       735 ┬      +735        \n",
      "WiSe 15/16:         0 ┘      \n"
     ]
    },
    {
     "data": {
      "text/markdown": [
       "[Zurück zum Inhaltsverzeichnis](#Inhaltsverzeichnis)"
      ],
      "text/plain": [
       "<IPython.core.display.Markdown object>"
      ]
     },
     "metadata": {},
     "output_type": "display_data"
    },
    {
     "data": {
      "text/html": [
       "<h4 id='Satz von Rolle'>==== Satz von Rolle ====</h4>"
      ],
      "text/plain": [
       "<IPython.core.display.HTML object>"
      ]
     },
     "metadata": {},
     "output_type": "display_data"
    },
    {
     "data": {
      "text/html": [
       "<h5>Seitenaufrufe Artikel</h5>"
      ],
      "text/plain": [
       "<IPython.core.display.HTML object>"
      ]
     },
     "metadata": {},
     "output_type": "display_data"
    },
    {
     "name": "stdout",
     "output_type": "stream",
     "text": [
      "2016:           1.217\n",
      "WiSe 16/17:     1.827 ┬    +1.827        \n",
      "WiSe 15/16:         0 ┘      \n"
     ]
    },
    {
     "data": {
      "text/html": [
       "<h5>Vergleich der Seitenaufrufe zum Wikipedia-Artikel</h5>"
      ],
      "text/plain": [
       "<IPython.core.display.HTML object>"
      ]
     },
     "metadata": {},
     "output_type": "display_data"
    },
    {
     "name": "stdout",
     "output_type": "stream",
     "text": [
      "Wikipedia-Artikel: Satz von Rolle\n",
      "Views WiSe 16/17:      7.960 ┬      -367 ( -4%)\n",
      "Views WiSe 15/16:      8.327 ┘      \n",
      "\n",
      "MFNF / Wikipedia – WiSe 16/17:  23%\n",
      "MFNF / Wikipedia – WiSe 15/16:   0%\n"
     ]
    },
    {
     "data": {
      "text/markdown": [
       "[Zurück zum Inhaltsverzeichnis](#Inhaltsverzeichnis)"
      ],
      "text/plain": [
       "<IPython.core.display.Markdown object>"
      ]
     },
     "metadata": {},
     "output_type": "display_data"
    },
    {
     "data": {
      "text/html": [
       "<h4 id='Mittelwertsatz'>==== Mittelwertsatz ====</h4>"
      ],
      "text/plain": [
       "<IPython.core.display.HTML object>"
      ]
     },
     "metadata": {},
     "output_type": "display_data"
    },
    {
     "data": {
      "text/html": [
       "<h5>Seitenaufrufe Artikel</h5>"
      ],
      "text/plain": [
       "<IPython.core.display.HTML object>"
      ]
     },
     "metadata": {},
     "output_type": "display_data"
    },
    {
     "name": "stdout",
     "output_type": "stream",
     "text": [
      "2016:             995\n",
      "WiSe 16/17:     3.010 ┬    +3.010        \n",
      "WiSe 15/16:         0 ┘      \n"
     ]
    },
    {
     "data": {
      "text/html": [
       "<h5>Vergleich der Seitenaufrufe zum Wikipedia-Artikel</h5>"
      ],
      "text/plain": [
       "<IPython.core.display.HTML object>"
      ]
     },
     "metadata": {},
     "output_type": "display_data"
    },
    {
     "name": "stdout",
     "output_type": "stream",
     "text": [
      "Wikipedia-Artikel: Mittelwertsatz der Differentialrechnung\n",
      "Views WiSe 16/17:     32.246 ┬      +227 ( +1%)\n",
      "Views WiSe 15/16:     32.019 ┘      \n",
      "\n",
      "MFNF / Wikipedia – WiSe 16/17:   9%\n",
      "MFNF / Wikipedia – WiSe 15/16:   0%\n"
     ]
    },
    {
     "data": {
      "text/markdown": [
       "[Zurück zum Inhaltsverzeichnis](#Inhaltsverzeichnis)"
      ],
      "text/plain": [
       "<IPython.core.display.Markdown object>"
      ]
     },
     "metadata": {},
     "output_type": "display_data"
    },
    {
     "data": {
      "text/html": [
       "<h4 id='Kriterium für Konstanz und Monotoniekriterium'>==== Kriterium für Konstanz und Monotoniekriterium ====</h4>"
      ],
      "text/plain": [
       "<IPython.core.display.HTML object>"
      ]
     },
     "metadata": {},
     "output_type": "display_data"
    },
    {
     "data": {
      "text/html": [
       "<h5>Seitenaufrufe Artikel</h5>"
      ],
      "text/plain": [
       "<IPython.core.display.HTML object>"
      ]
     },
     "metadata": {},
     "output_type": "display_data"
    },
    {
     "name": "stdout",
     "output_type": "stream",
     "text": [
      "2016:             591\n",
      "WiSe 16/17:       790 ┬      +790        \n",
      "WiSe 15/16:         0 ┘      \n"
     ]
    },
    {
     "data": {
      "text/markdown": [
       "[Zurück zum Inhaltsverzeichnis](#Inhaltsverzeichnis)"
      ],
      "text/plain": [
       "<IPython.core.display.Markdown object>"
      ]
     },
     "metadata": {},
     "output_type": "display_data"
    },
    {
     "data": {
      "text/html": [
       "<h4 id='Ableitung und lokale Extrema'>==== Ableitung und lokale Extrema ====</h4>"
      ],
      "text/plain": [
       "<IPython.core.display.HTML object>"
      ]
     },
     "metadata": {},
     "output_type": "display_data"
    },
    {
     "data": {
      "text/html": [
       "<h5>Seitenaufrufe Artikel</h5>"
      ],
      "text/plain": [
       "<IPython.core.display.HTML object>"
      ]
     },
     "metadata": {},
     "output_type": "display_data"
    },
    {
     "name": "stdout",
     "output_type": "stream",
     "text": [
      "2016:           1.008\n",
      "WiSe 16/17:     1.489 ┬    +1.489        \n",
      "WiSe 15/16:         0 ┘      \n"
     ]
    },
    {
     "data": {
      "text/html": [
       "<h5>Vergleich der Seitenaufrufe zum Wikipedia-Artikel</h5>"
      ],
      "text/plain": [
       "<IPython.core.display.HTML object>"
      ]
     },
     "metadata": {},
     "output_type": "display_data"
    },
    {
     "name": "stdout",
     "output_type": "stream",
     "text": [
      "Wikipedia-Artikel: Extremwert\n",
      "Views WiSe 16/17:     33.113 ┬    -7.007 (-17%)\n",
      "Views WiSe 15/16:     40.120 ┘      \n",
      "\n",
      "MFNF / Wikipedia – WiSe 16/17:   4%\n",
      "MFNF / Wikipedia – WiSe 15/16:   0%\n"
     ]
    },
    {
     "data": {
      "text/markdown": [
       "[Zurück zum Inhaltsverzeichnis](#Inhaltsverzeichnis)"
      ],
      "text/plain": [
       "<IPython.core.display.Markdown object>"
      ]
     },
     "metadata": {},
     "output_type": "display_data"
    },
    {
     "data": {
      "text/html": [
       "<h4 id='Regel von L'Hospital'>==== Regel von L'Hospital ====</h4>"
      ],
      "text/plain": [
       "<IPython.core.display.HTML object>"
      ]
     },
     "metadata": {},
     "output_type": "display_data"
    },
    {
     "data": {
      "text/html": [
       "<h5>Seitenaufrufe Artikel</h5>"
      ],
      "text/plain": [
       "<IPython.core.display.HTML object>"
      ]
     },
     "metadata": {},
     "output_type": "display_data"
    },
    {
     "name": "stdout",
     "output_type": "stream",
     "text": [
      "2016:             879\n",
      "WiSe 16/17:     1.451 ┬    +1.451        \n",
      "WiSe 15/16:         0 ┘      \n"
     ]
    },
    {
     "data": {
      "text/markdown": [
       "[Zurück zum Inhaltsverzeichnis](#Inhaltsverzeichnis)"
      ],
      "text/plain": [
       "<IPython.core.display.Markdown object>"
      ]
     },
     "metadata": {},
     "output_type": "display_data"
    },
    {
     "data": {
      "text/html": [
       "<h4 id='Aufgaben 1'>==== Aufgaben 1 ====</h4>"
      ],
      "text/plain": [
       "<IPython.core.display.HTML object>"
      ]
     },
     "metadata": {},
     "output_type": "display_data"
    },
    {
     "data": {
      "text/html": [
       "<h5>Seitenaufrufe Artikel</h5>"
      ],
      "text/plain": [
       "<IPython.core.display.HTML object>"
      ]
     },
     "metadata": {},
     "output_type": "display_data"
    },
    {
     "name": "stdout",
     "output_type": "stream",
     "text": [
      "2016:             276\n",
      "WiSe 16/17:       744 ┬      +744        \n",
      "WiSe 15/16:         0 ┘      \n"
     ]
    },
    {
     "data": {
      "text/markdown": [
       "[Zurück zum Inhaltsverzeichnis](#Inhaltsverzeichnis)"
      ],
      "text/plain": [
       "<IPython.core.display.Markdown object>"
      ]
     },
     "metadata": {},
     "output_type": "display_data"
    },
    {
     "data": {
      "text/html": [
       "<h4 id='Aufgaben 2'>==== Aufgaben 2 ====</h4>"
      ],
      "text/plain": [
       "<IPython.core.display.HTML object>"
      ]
     },
     "metadata": {},
     "output_type": "display_data"
    },
    {
     "data": {
      "text/html": [
       "<h5>Seitenaufrufe Artikel</h5>"
      ],
      "text/plain": [
       "<IPython.core.display.HTML object>"
      ]
     },
     "metadata": {},
     "output_type": "display_data"
    },
    {
     "name": "stdout",
     "output_type": "stream",
     "text": [
      "2016:             262\n",
      "WiSe 16/17:       470 ┬      +470        \n",
      "WiSe 15/16:         0 ┘      \n"
     ]
    },
    {
     "data": {
      "text/markdown": [
       "[Zurück zum Inhaltsverzeichnis](#Inhaltsverzeichnis)"
      ],
      "text/plain": [
       "<IPython.core.display.Markdown object>"
      ]
     },
     "metadata": {},
     "output_type": "display_data"
    },
    {
     "data": {
      "text/html": [
       "<h4 id='Aufgaben 3'>==== Aufgaben 3 ====</h4>"
      ],
      "text/plain": [
       "<IPython.core.display.HTML object>"
      ]
     },
     "metadata": {},
     "output_type": "display_data"
    },
    {
     "data": {
      "text/html": [
       "<h5>Seitenaufrufe Artikel</h5>"
      ],
      "text/plain": [
       "<IPython.core.display.HTML object>"
      ]
     },
     "metadata": {},
     "output_type": "display_data"
    },
    {
     "name": "stdout",
     "output_type": "stream",
     "text": [
      "2016:             196\n",
      "WiSe 16/17:       374 ┬      +374        \n",
      "WiSe 15/16:         0 ┘      \n"
     ]
    },
    {
     "data": {
      "text/markdown": [
       "[Zurück zum Inhaltsverzeichnis](#Inhaltsverzeichnis)"
      ],
      "text/plain": [
       "<IPython.core.display.Markdown object>"
      ]
     },
     "metadata": {},
     "output_type": "display_data"
    },
    {
     "data": {
      "text/html": [
       "<h4 id='Aufgaben 4'>==== Aufgaben 4 ====</h4>"
      ],
      "text/plain": [
       "<IPython.core.display.HTML object>"
      ]
     },
     "metadata": {},
     "output_type": "display_data"
    },
    {
     "data": {
      "text/html": [
       "<h5>Seitenaufrufe Artikel</h5>"
      ],
      "text/plain": [
       "<IPython.core.display.HTML object>"
      ]
     },
     "metadata": {},
     "output_type": "display_data"
    },
    {
     "name": "stdout",
     "output_type": "stream",
     "text": [
      "2016:             284\n",
      "WiSe 16/17:       457 ┬      +457        \n",
      "WiSe 15/16:         0 ┘      \n"
     ]
    },
    {
     "data": {
      "text/markdown": [
       "[Zurück zum Inhaltsverzeichnis](#Inhaltsverzeichnis)"
      ],
      "text/plain": [
       "<IPython.core.display.Markdown object>"
      ]
     },
     "metadata": {},
     "output_type": "display_data"
    },
    {
     "data": {
      "text/html": [
       "<h3 id='Integrale'>=== Integrale ===</h3>"
      ],
      "text/plain": [
       "<IPython.core.display.HTML object>"
      ]
     },
     "metadata": {},
     "output_type": "display_data"
    },
    {
     "data": {
      "text/markdown": [
       "[Zurück zum Inhaltsverzeichnis](#Inhaltsverzeichnis)"
      ],
      "text/plain": [
       "<IPython.core.display.Markdown object>"
      ]
     },
     "metadata": {},
     "output_type": "display_data"
    },
    {
     "data": {
      "text/html": [
       "<h4 id='Das Integral'>==== Das Integral ====</h4>"
      ],
      "text/plain": [
       "<IPython.core.display.HTML object>"
      ]
     },
     "metadata": {},
     "output_type": "display_data"
    },
    {
     "data": {
      "text/html": [
       "<h5>Seitenaufrufe Artikel</h5>"
      ],
      "text/plain": [
       "<IPython.core.display.HTML object>"
      ]
     },
     "metadata": {},
     "output_type": "display_data"
    },
    {
     "name": "stdout",
     "output_type": "stream",
     "text": [
      "2016:             711\n",
      "WiSe 16/17:       971 ┬      +971        \n",
      "WiSe 15/16:         0 ┘      \n"
     ]
    },
    {
     "data": {
      "text/html": [
       "<h5>Vergleich der Seitenaufrufe zum Wikipedia-Artikel</h5>"
      ],
      "text/plain": [
       "<IPython.core.display.HTML object>"
      ]
     },
     "metadata": {},
     "output_type": "display_data"
    },
    {
     "name": "stdout",
     "output_type": "stream",
     "text": [
      "Wikipedia-Artikel: Integralrechnung\n",
      "Views WiSe 16/17:    145.721 ┬   -26.017 (-15%)\n",
      "Views WiSe 15/16:    171.738 ┘      \n",
      "\n",
      "MFNF / Wikipedia – WiSe 16/17:   1%\n",
      "MFNF / Wikipedia – WiSe 15/16:   0%\n"
     ]
    },
    {
     "data": {
      "text/markdown": [
       "[Zurück zum Inhaltsverzeichnis](#Inhaltsverzeichnis)"
      ],
      "text/plain": [
       "<IPython.core.display.Markdown object>"
      ]
     },
     "metadata": {},
     "output_type": "display_data"
    },
    {
     "data": {
      "text/html": [
       "<h4 id='Riemann-Integral'>==== Riemann-Integral ====</h4>"
      ],
      "text/plain": [
       "<IPython.core.display.HTML object>"
      ]
     },
     "metadata": {},
     "output_type": "display_data"
    },
    {
     "data": {
      "text/html": [
       "<h5>Seitenaufrufe Artikel</h5>"
      ],
      "text/plain": [
       "<IPython.core.display.HTML object>"
      ]
     },
     "metadata": {},
     "output_type": "display_data"
    },
    {
     "name": "stdout",
     "output_type": "stream",
     "text": [
      "2016:           1.235\n",
      "WiSe 16/17:     1.905 ┬    +1.905        \n",
      "WiSe 15/16:         0 ┘      \n"
     ]
    },
    {
     "data": {
      "text/html": [
       "<h5>Vergleich der Seitenaufrufe zum Wikipedia-Artikel</h5>"
      ],
      "text/plain": [
       "<IPython.core.display.HTML object>"
      ]
     },
     "metadata": {},
     "output_type": "display_data"
    },
    {
     "name": "stdout",
     "output_type": "stream",
     "text": [
      "Wikipedia-Artikel: Riemannsches Integral\n",
      "Views WiSe 16/17:     25.871 ┬      +654 ( +3%)\n",
      "Views WiSe 15/16:     25.217 ┘      \n",
      "\n",
      "MFNF / Wikipedia – WiSe 16/17:   7%\n",
      "MFNF / Wikipedia – WiSe 15/16:   0%\n"
     ]
    },
    {
     "data": {
      "text/markdown": [
       "[Zurück zum Inhaltsverzeichnis](#Inhaltsverzeichnis)"
      ],
      "text/plain": [
       "<IPython.core.display.Markdown object>"
      ]
     },
     "metadata": {},
     "output_type": "display_data"
    },
    {
     "data": {
      "text/html": [
       "<h4 id='Eigenschaften des Riemann-Integrals'>==== Eigenschaften des Riemann-Integrals ====</h4>"
      ],
      "text/plain": [
       "<IPython.core.display.HTML object>"
      ]
     },
     "metadata": {},
     "output_type": "display_data"
    },
    {
     "data": {
      "text/html": [
       "<h5>Seitenaufrufe Artikel</h5>"
      ],
      "text/plain": [
       "<IPython.core.display.HTML object>"
      ]
     },
     "metadata": {},
     "output_type": "display_data"
    },
    {
     "name": "stdout",
     "output_type": "stream",
     "text": [
      "2016:              38\n",
      "WiSe 16/17:       249 ┬      +249        \n",
      "WiSe 15/16:         0 ┘      \n"
     ]
    },
    {
     "data": {
      "text/markdown": [
       "[Zurück zum Inhaltsverzeichnis](#Inhaltsverzeichnis)"
      ],
      "text/plain": [
       "<IPython.core.display.Markdown object>"
      ]
     },
     "metadata": {},
     "output_type": "display_data"
    },
    {
     "data": {
      "text/html": [
       "<h4 id='Regelintegral'>==== Regelintegral ====</h4>"
      ],
      "text/plain": [
       "<IPython.core.display.HTML object>"
      ]
     },
     "metadata": {},
     "output_type": "display_data"
    },
    {
     "data": {
      "text/html": [
       "<h5>Seitenaufrufe Artikel</h5>"
      ],
      "text/plain": [
       "<IPython.core.display.HTML object>"
      ]
     },
     "metadata": {},
     "output_type": "display_data"
    },
    {
     "name": "stdout",
     "output_type": "stream",
     "text": [
      "2016:               0\n",
      "WiSe 16/17:       306 ┬      +306        \n",
      "WiSe 15/16:         0 ┘      \n"
     ]
    },
    {
     "data": {
      "text/markdown": [
       "[Zurück zum Inhaltsverzeichnis](#Inhaltsverzeichnis)"
      ],
      "text/plain": [
       "<IPython.core.display.Markdown object>"
      ]
     },
     "metadata": {},
     "output_type": "display_data"
    },
    {
     "data": {
      "text/html": [
       "<h4 id='Mittelwertsatz für Integrale'>==== Mittelwertsatz für Integrale ====</h4>"
      ],
      "text/plain": [
       "<IPython.core.display.HTML object>"
      ]
     },
     "metadata": {},
     "output_type": "display_data"
    },
    {
     "data": {
      "text/html": [
       "<h5>Seitenaufrufe Artikel</h5>"
      ],
      "text/plain": [
       "<IPython.core.display.HTML object>"
      ]
     },
     "metadata": {},
     "output_type": "display_data"
    },
    {
     "name": "stdout",
     "output_type": "stream",
     "text": [
      "2016:               4\n",
      "WiSe 16/17:        65 ┬       +65        \n",
      "WiSe 15/16:         0 ┘      \n"
     ]
    },
    {
     "data": {
      "text/html": [
       "<h5>Vergleich der Seitenaufrufe zum Wikipedia-Artikel</h5>"
      ],
      "text/plain": [
       "<IPython.core.display.HTML object>"
      ]
     },
     "metadata": {},
     "output_type": "display_data"
    },
    {
     "name": "stdout",
     "output_type": "stream",
     "text": [
      "Wikipedia-Artikel: Mittelwertsatz der Integralrechnung\n",
      "Views WiSe 16/17:     13.428 ┬       -75 ( -1%)\n",
      "Views WiSe 15/16:     13.503 ┘      \n",
      "\n",
      "MFNF / Wikipedia – WiSe 16/17:   0%\n",
      "MFNF / Wikipedia – WiSe 15/16:   0%\n"
     ]
    },
    {
     "data": {
      "text/markdown": [
       "[Zurück zum Inhaltsverzeichnis](#Inhaltsverzeichnis)"
      ],
      "text/plain": [
       "<IPython.core.display.Markdown object>"
      ]
     },
     "metadata": {},
     "output_type": "display_data"
    },
    {
     "data": {
      "text/html": [
       "<h4 id='Hauptsatz der Differential- und Integralrechnung'>==== Hauptsatz der Differential- und Integralrechnung ====</h4>"
      ],
      "text/plain": [
       "<IPython.core.display.HTML object>"
      ]
     },
     "metadata": {},
     "output_type": "display_data"
    },
    {
     "data": {
      "text/html": [
       "<h5>Seitenaufrufe Artikel</h5>"
      ],
      "text/plain": [
       "<IPython.core.display.HTML object>"
      ]
     },
     "metadata": {},
     "output_type": "display_data"
    },
    {
     "name": "stdout",
     "output_type": "stream",
     "text": [
      "2016:             350\n",
      "WiSe 16/17:       946 ┬      +946        \n",
      "WiSe 15/16:         0 ┘      \n"
     ]
    },
    {
     "data": {
      "text/html": [
       "<h5>Vergleich der Seitenaufrufe zum Wikipedia-Artikel</h5>"
      ],
      "text/plain": [
       "<IPython.core.display.HTML object>"
      ]
     },
     "metadata": {},
     "output_type": "display_data"
    },
    {
     "name": "stdout",
     "output_type": "stream",
     "text": [
      "Wikipedia-Artikel: Fundamentalsatz der Analysis\n",
      "Views WiSe 16/17:     21.884 ┬      +606 ( +3%)\n",
      "Views WiSe 15/16:     21.278 ┘      \n",
      "\n",
      "MFNF / Wikipedia – WiSe 16/17:   4%\n",
      "MFNF / Wikipedia – WiSe 15/16:   0%\n"
     ]
    },
    {
     "data": {
      "text/markdown": [
       "[Zurück zum Inhaltsverzeichnis](#Inhaltsverzeichnis)"
      ],
      "text/plain": [
       "<IPython.core.display.Markdown object>"
      ]
     },
     "metadata": {},
     "output_type": "display_data"
    },
    {
     "data": {
      "text/html": [
       "<h4 id='Substitutionsregel'>==== Substitutionsregel ====</h4>"
      ],
      "text/plain": [
       "<IPython.core.display.HTML object>"
      ]
     },
     "metadata": {},
     "output_type": "display_data"
    },
    {
     "data": {
      "text/html": [
       "<h5>Seitenaufrufe Artikel</h5>"
      ],
      "text/plain": [
       "<IPython.core.display.HTML object>"
      ]
     },
     "metadata": {},
     "output_type": "display_data"
    },
    {
     "name": "stdout",
     "output_type": "stream",
     "text": [
      "2016:             407\n",
      "WiSe 16/17:     1.073 ┬    +1.073        \n",
      "WiSe 15/16:         0 ┘      \n"
     ]
    },
    {
     "data": {
      "text/html": [
       "<h5>Vergleich der Seitenaufrufe zum Wikipedia-Artikel</h5>"
      ],
      "text/plain": [
       "<IPython.core.display.HTML object>"
      ]
     },
     "metadata": {},
     "output_type": "display_data"
    },
    {
     "name": "stdout",
     "output_type": "stream",
     "text": [
      "Wikipedia-Artikel: Integration durch Substitution\n",
      "Views WiSe 16/17:     49.679 ┬    -8.854 (-15%)\n",
      "Views WiSe 15/16:     58.533 ┘      \n",
      "\n",
      "MFNF / Wikipedia – WiSe 16/17:   2%\n",
      "MFNF / Wikipedia – WiSe 15/16:   0%\n"
     ]
    },
    {
     "data": {
      "text/markdown": [
       "[Zurück zum Inhaltsverzeichnis](#Inhaltsverzeichnis)"
      ],
      "text/plain": [
       "<IPython.core.display.Markdown object>"
      ]
     },
     "metadata": {},
     "output_type": "display_data"
    },
    {
     "data": {
      "text/html": [
       "<h4 id='Partielle Integration'>==== Partielle Integration ====</h4>"
      ],
      "text/plain": [
       "<IPython.core.display.HTML object>"
      ]
     },
     "metadata": {},
     "output_type": "display_data"
    },
    {
     "data": {
      "text/html": [
       "<h5>Seitenaufrufe Artikel</h5>"
      ],
      "text/plain": [
       "<IPython.core.display.HTML object>"
      ]
     },
     "metadata": {},
     "output_type": "display_data"
    },
    {
     "name": "stdout",
     "output_type": "stream",
     "text": [
      "2016:             272\n",
      "WiSe 16/17:       633 ┬      +633        \n",
      "WiSe 15/16:         0 ┘      \n"
     ]
    },
    {
     "data": {
      "text/html": [
       "<h5>Vergleich der Seitenaufrufe zum Wikipedia-Artikel</h5>"
      ],
      "text/plain": [
       "<IPython.core.display.HTML object>"
      ]
     },
     "metadata": {},
     "output_type": "display_data"
    },
    {
     "name": "stdout",
     "output_type": "stream",
     "text": [
      "Wikipedia-Artikel: Partielle Integration\n",
      "Views WiSe 16/17:    113.387 ┬   -11.171 ( -9%)\n",
      "Views WiSe 15/16:    124.558 ┘      \n",
      "\n",
      "MFNF / Wikipedia – WiSe 16/17:   1%\n",
      "MFNF / Wikipedia – WiSe 15/16:   0%\n"
     ]
    },
    {
     "data": {
      "text/markdown": [
       "[Zurück zum Inhaltsverzeichnis](#Inhaltsverzeichnis)"
      ],
      "text/plain": [
       "<IPython.core.display.Markdown object>"
      ]
     },
     "metadata": {},
     "output_type": "display_data"
    },
    {
     "data": {
      "text/html": [
       "<h4 id='Beispiele für Integrale'>==== Beispiele für Integrale ====</h4>"
      ],
      "text/plain": [
       "<IPython.core.display.HTML object>"
      ]
     },
     "metadata": {},
     "output_type": "display_data"
    },
    {
     "data": {
      "text/html": [
       "<h5>Seitenaufrufe Artikel</h5>"
      ],
      "text/plain": [
       "<IPython.core.display.HTML object>"
      ]
     },
     "metadata": {},
     "output_type": "display_data"
    },
    {
     "name": "stdout",
     "output_type": "stream",
     "text": [
      "2016:               0\n",
      "WiSe 16/17:         0 ┬        +0        \n",
      "WiSe 15/16:         0 ┘      \n"
     ]
    },
    {
     "data": {
      "text/markdown": [
       "[Zurück zum Inhaltsverzeichnis](#Inhaltsverzeichnis)"
      ],
      "text/plain": [
       "<IPython.core.display.Markdown object>"
      ]
     },
     "metadata": {},
     "output_type": "display_data"
    },
    {
     "data": {
      "text/html": [
       "<h4 id='Aufgaben'>==== Aufgaben ====</h4>"
      ],
      "text/plain": [
       "<IPython.core.display.HTML object>"
      ]
     },
     "metadata": {},
     "output_type": "display_data"
    },
    {
     "data": {
      "text/html": [
       "<h5>Seitenaufrufe Artikel</h5>"
      ],
      "text/plain": [
       "<IPython.core.display.HTML object>"
      ]
     },
     "metadata": {},
     "output_type": "display_data"
    },
    {
     "name": "stdout",
     "output_type": "stream",
     "text": [
      "2016:               0\n",
      "WiSe 16/17:        61 ┬       +61        \n",
      "WiSe 15/16:         0 ┘      \n"
     ]
    },
    {
     "data": {
      "text/markdown": [
       "[Zurück zum Inhaltsverzeichnis](#Inhaltsverzeichnis)"
      ],
      "text/plain": [
       "<IPython.core.display.Markdown object>"
      ]
     },
     "metadata": {},
     "output_type": "display_data"
    },
    {
     "data": {
      "text/html": [
       "<h3 id='Sonstiges'>=== Sonstiges ===</h3>"
      ],
      "text/plain": [
       "<IPython.core.display.HTML object>"
      ]
     },
     "metadata": {},
     "output_type": "display_data"
    },
    {
     "data": {
      "text/markdown": [
       "[Zurück zum Inhaltsverzeichnis](#Inhaltsverzeichnis)"
      ],
      "text/plain": [
       "<IPython.core.display.Markdown object>"
      ]
     },
     "metadata": {},
     "output_type": "display_data"
    },
    {
     "data": {
      "text/html": [
       "<h4 id='PDF-Version (Beta)'>==== PDF-Version (Beta) ====</h4>"
      ],
      "text/plain": [
       "<IPython.core.display.HTML object>"
      ]
     },
     "metadata": {},
     "output_type": "display_data"
    },
    {
     "data": {
      "text/html": [
       "<h5>Seitenaufrufe Artikel</h5>"
      ],
      "text/plain": [
       "<IPython.core.display.HTML object>"
      ]
     },
     "metadata": {},
     "output_type": "display_data"
    },
    {
     "name": "stdout",
     "output_type": "stream",
     "text": [
      "2016:               0\n",
      "WiSe 16/17:         0 ┬        +0        \n",
      "WiSe 15/16:         0 ┘      \n"
     ]
    },
    {
     "data": {
      "text/markdown": [
       "[Zurück zum Inhaltsverzeichnis](#Inhaltsverzeichnis)"
      ],
      "text/plain": [
       "<IPython.core.display.Markdown object>"
      ]
     },
     "metadata": {},
     "output_type": "display_data"
    },
    {
     "data": {
      "text/html": [
       "<h2 id='Lineare Algebra 1'>== Lineare Algebra 1 ==</h2>"
      ],
      "text/plain": [
       "<IPython.core.display.HTML object>"
      ]
     },
     "metadata": {},
     "output_type": "display_data"
    },
    {
     "data": {
      "text/html": [
       "<h6>Artikel + Unterartikel: Seitenaufrufe 2016</h6>"
      ],
      "text/plain": [
       "<IPython.core.display.HTML object>"
      ]
     },
     "metadata": {},
     "output_type": "display_data"
    },
    {
     "data": {
      "image/png": "[encoded data removed]",
      "text/plain": [
       "<matplotlib.figure.Figure at 0x7f3eb93106d8>"
      ]
     },
     "metadata": {},
     "output_type": "display_data"
    },
    {
     "name": "stdout",
     "output_type": "stream",
     "text": [
      "Summe:    46.717\n",
      "Mean:        805\n"
     ]
    },
    {
     "data": {
      "text/html": [
       "<h6>Artikel + Unterartikel: Seitenaufrufe WiSe 2016/17</h6>"
      ],
      "text/plain": [
       "<IPython.core.display.HTML object>"
      ]
     },
     "metadata": {},
     "output_type": "display_data"
    },
    {
     "data": {
      "image/png": "[encoded data removed]",
      "text/plain": [
       "<matplotlib.figure.Figure at 0x7f3eb962ca58>"
      ]
     },
     "metadata": {},
     "output_type": "display_data"
    },
    {
     "name": "stdout",
     "output_type": "stream",
     "text": [
      "Summe:    63.092\n",
      "Mean:      1.087\n"
     ]
    },
    {
     "data": {
      "text/html": [
       "<h6>Artikel + Unterartikel: Differenz Seitenaufrufe WiSe 2016/17 zu WiSe 2015/16</h6>"
      ],
      "text/plain": [
       "<IPython.core.display.HTML object>"
      ]
     },
     "metadata": {},
     "output_type": "display_data"
    },
    {
     "data": {
      "image/png": "[encoded data removed]",
      "text/plain": [
       "<matplotlib.figure.Figure at 0x7f3eb96a3dd8>"
      ]
     },
     "metadata": {},
     "output_type": "display_data"
    },
    {
     "name": "stdout",
     "output_type": "stream",
     "text": [
      "Summe:    50.438\n",
      "Mean:        869\n"
     ]
    },
    {
     "data": {
      "text/html": [
       "<h6>Artikel + Unterartikel: Quotient Seitenaufrufe MFNF / Wikipedia</h6>"
      ],
      "text/plain": [
       "<IPython.core.display.HTML object>"
      ]
     },
     "metadata": {},
     "output_type": "display_data"
    },
    {
     "data": {
      "image/png": "[encoded data removed]",
      "text/plain": [
       "<matplotlib.figure.Figure at 0x7f3eb9384dd8>"
      ]
     },
     "metadata": {},
     "output_type": "display_data"
    },
    {
     "name": "stdout",
     "output_type": "stream",
     "text": [
      "Mean:   0%\n"
     ]
    },
    {
     "data": {
      "text/html": [
       "<h5>Seitenaufrufe Artikel</h5>"
      ],
      "text/plain": [
       "<IPython.core.display.HTML object>"
      ]
     },
     "metadata": {},
     "output_type": "display_data"
    },
    {
     "name": "stdout",
     "output_type": "stream",
     "text": [
      "2016:               0\n",
      "WiSe 16/17:         0 ┬        +0        \n",
      "WiSe 15/16:         0 ┘      \n"
     ]
    },
    {
     "data": {
      "text/markdown": [
       "[Zurück zum Inhaltsverzeichnis](#Inhaltsverzeichnis)"
      ],
      "text/plain": [
       "<IPython.core.display.Markdown object>"
      ]
     },
     "metadata": {},
     "output_type": "display_data"
    },
    {
     "data": {
      "text/html": [
       "<h3 id='Einführung'>=== Einführung ===</h3>"
      ],
      "text/plain": [
       "<IPython.core.display.HTML object>"
      ]
     },
     "metadata": {},
     "output_type": "display_data"
    },
    {
     "data": {
      "text/markdown": [
       "[Zurück zum Inhaltsverzeichnis](#Inhaltsverzeichnis)"
      ],
      "text/plain": [
       "<IPython.core.display.Markdown object>"
      ]
     },
     "metadata": {},
     "output_type": "display_data"
    },
    {
     "data": {
      "text/html": [
       "<h4 id='Was ist lineare Algebra?'>==== Was ist lineare Algebra? ====</h4>"
      ],
      "text/plain": [
       "<IPython.core.display.HTML object>"
      ]
     },
     "metadata": {},
     "output_type": "display_data"
    },
    {
     "data": {
      "text/html": [
       "<h5>Seitenaufrufe Artikel</h5>"
      ],
      "text/plain": [
       "<IPython.core.display.HTML object>"
      ]
     },
     "metadata": {},
     "output_type": "display_data"
    },
    {
     "name": "stdout",
     "output_type": "stream",
     "text": [
      "2016:           1.248\n",
      "WiSe 16/17:     2.582 ┬    +1.556 (+152%)\n",
      "WiSe 15/16:     1.026 ┘      \n"
     ]
    },
    {
     "data": {
      "text/markdown": [
       "[Zurück zum Inhaltsverzeichnis](#Inhaltsverzeichnis)"
      ],
      "text/plain": [
       "<IPython.core.display.Markdown object>"
      ]
     },
     "metadata": {},
     "output_type": "display_data"
    },
    {
     "data": {
      "text/html": [
       "<h4 id='Was sind Vektoren?'>==== Was sind Vektoren? ====</h4>"
      ],
      "text/plain": [
       "<IPython.core.display.HTML object>"
      ]
     },
     "metadata": {},
     "output_type": "display_data"
    },
    {
     "data": {
      "text/html": [
       "<h5>Seitenaufrufe Artikel</h5>"
      ],
      "text/plain": [
       "<IPython.core.display.HTML object>"
      ]
     },
     "metadata": {},
     "output_type": "display_data"
    },
    {
     "name": "stdout",
     "output_type": "stream",
     "text": [
      "2016:             875\n",
      "WiSe 16/17:       728 ┬      -222 (-23%)\n",
      "WiSe 15/16:       950 ┘      \n"
     ]
    },
    {
     "data": {
      "text/markdown": [
       "[Zurück zum Inhaltsverzeichnis](#Inhaltsverzeichnis)"
      ],
      "text/plain": [
       "<IPython.core.display.Markdown object>"
      ]
     },
     "metadata": {},
     "output_type": "display_data"
    },
    {
     "data": {
      "text/html": [
       "<h4 id='Anwendungen der linearen Algebra'>==== Anwendungen der linearen Algebra ====</h4>"
      ],
      "text/plain": [
       "<IPython.core.display.HTML object>"
      ]
     },
     "metadata": {},
     "output_type": "display_data"
    },
    {
     "data": {
      "text/html": [
       "<h5>Seitenaufrufe Artikel</h5>"
      ],
      "text/plain": [
       "<IPython.core.display.HTML object>"
      ]
     },
     "metadata": {},
     "output_type": "display_data"
    },
    {
     "name": "stdout",
     "output_type": "stream",
     "text": [
      "2016:             407\n",
      "WiSe 16/17:       285 ┬       +14 ( +5%)\n",
      "WiSe 15/16:       271 ┘      \n"
     ]
    },
    {
     "data": {
      "text/markdown": [
       "[Zurück zum Inhaltsverzeichnis](#Inhaltsverzeichnis)"
      ],
      "text/plain": [
       "<IPython.core.display.Markdown object>"
      ]
     },
     "metadata": {},
     "output_type": "display_data"
    },
    {
     "data": {
      "text/html": [
       "<h4 id='Geschichte der linearen Algebra'>==== Geschichte der linearen Algebra ====</h4>"
      ],
      "text/plain": [
       "<IPython.core.display.HTML object>"
      ]
     },
     "metadata": {},
     "output_type": "display_data"
    },
    {
     "data": {
      "text/html": [
       "<h5>Seitenaufrufe Artikel</h5>"
      ],
      "text/plain": [
       "<IPython.core.display.HTML object>"
      ]
     },
     "metadata": {},
     "output_type": "display_data"
    },
    {
     "name": "stdout",
     "output_type": "stream",
     "text": [
      "2016:             308\n",
      "WiSe 16/17:       293 ┬      +144 (+97%)\n",
      "WiSe 15/16:       149 ┘      \n"
     ]
    },
    {
     "data": {
      "text/markdown": [
       "[Zurück zum Inhaltsverzeichnis](#Inhaltsverzeichnis)"
      ],
      "text/plain": [
       "<IPython.core.display.Markdown object>"
      ]
     },
     "metadata": {},
     "output_type": "display_data"
    },
    {
     "data": {
      "text/html": [
       "<h4 id='Eigenschaften des euklidischen Vektorraums'>==== Eigenschaften des euklidischen Vektorraums ====</h4>"
      ],
      "text/plain": [
       "<IPython.core.display.HTML object>"
      ]
     },
     "metadata": {},
     "output_type": "display_data"
    },
    {
     "data": {
      "text/html": [
       "<h5>Seitenaufrufe Artikel</h5>"
      ],
      "text/plain": [
       "<IPython.core.display.HTML object>"
      ]
     },
     "metadata": {},
     "output_type": "display_data"
    },
    {
     "name": "stdout",
     "output_type": "stream",
     "text": [
      "2016:             357\n",
      "WiSe 16/17:       334 ┬       +41 (+14%)\n",
      "WiSe 15/16:       293 ┘      \n"
     ]
    },
    {
     "data": {
      "text/markdown": [
       "[Zurück zum Inhaltsverzeichnis](#Inhaltsverzeichnis)"
      ],
      "text/plain": [
       "<IPython.core.display.Markdown object>"
      ]
     },
     "metadata": {},
     "output_type": "display_data"
    },
    {
     "data": {
      "text/html": [
       "<h3 id='Vektorräume'>=== Vektorräume ===</h3>"
      ],
      "text/plain": [
       "<IPython.core.display.HTML object>"
      ]
     },
     "metadata": {},
     "output_type": "display_data"
    },
    {
     "data": {
      "text/markdown": [
       "[Zurück zum Inhaltsverzeichnis](#Inhaltsverzeichnis)"
      ],
      "text/plain": [
       "<IPython.core.display.Markdown object>"
      ]
     },
     "metadata": {},
     "output_type": "display_data"
    },
    {
     "data": {
      "text/html": [
       "<h4 id='Vektorraum'>==== Vektorraum ====</h4>"
      ],
      "text/plain": [
       "<IPython.core.display.HTML object>"
      ]
     },
     "metadata": {},
     "output_type": "display_data"
    },
    {
     "data": {
      "text/html": [
       "<h5>Seitenaufrufe Artikel</h5>"
      ],
      "text/plain": [
       "<IPython.core.display.HTML object>"
      ]
     },
     "metadata": {},
     "output_type": "display_data"
    },
    {
     "name": "stdout",
     "output_type": "stream",
     "text": [
      "2016:           5.130\n",
      "WiSe 16/17:     2.880 ┬      +614 (+27%)\n",
      "WiSe 15/16:     2.266 ┘      \n"
     ]
    },
    {
     "data": {
      "text/markdown": [
       "[Zurück zum Inhaltsverzeichnis](#Inhaltsverzeichnis)"
      ],
      "text/plain": [
       "<IPython.core.display.Markdown object>"
      ]
     },
     "metadata": {},
     "output_type": "display_data"
    },
    {
     "data": {
      "text/html": [
       "<h4 id='Eigenschaften von Vektorräumen'>==== Eigenschaften von Vektorräumen ====</h4>"
      ],
      "text/plain": [
       "<IPython.core.display.HTML object>"
      ]
     },
     "metadata": {},
     "output_type": "display_data"
    },
    {
     "data": {
      "text/html": [
       "<h5>Seitenaufrufe Artikel</h5>"
      ],
      "text/plain": [
       "<IPython.core.display.HTML object>"
      ]
     },
     "metadata": {},
     "output_type": "display_data"
    },
    {
     "name": "stdout",
     "output_type": "stream",
     "text": [
      "2016:           2.433\n",
      "WiSe 16/17:     1.017 ┬      -339 (-25%)\n",
      "WiSe 15/16:     1.356 ┘      \n"
     ]
    },
    {
     "data": {
      "text/markdown": [
       "[Zurück zum Inhaltsverzeichnis](#Inhaltsverzeichnis)"
      ],
      "text/plain": [
       "<IPython.core.display.Markdown object>"
      ]
     },
     "metadata": {},
     "output_type": "display_data"
    },
    {
     "data": {
      "text/html": [
       "<h4 id='Der Körper als Vektorraum'>==== Der Körper als Vektorraum ====</h4>"
      ],
      "text/plain": [
       "<IPython.core.display.HTML object>"
      ]
     },
     "metadata": {},
     "output_type": "display_data"
    },
    {
     "data": {
      "text/html": [
       "<h5>Seitenaufrufe Artikel</h5>"
      ],
      "text/plain": [
       "<IPython.core.display.HTML object>"
      ]
     },
     "metadata": {},
     "output_type": "display_data"
    },
    {
     "name": "stdout",
     "output_type": "stream",
     "text": [
      "2016:               0\n",
      "WiSe 16/17:       170 ┬      +170        \n",
      "WiSe 15/16:         0 ┘      \n"
     ]
    },
    {
     "data": {
      "text/markdown": [
       "[Zurück zum Inhaltsverzeichnis](#Inhaltsverzeichnis)"
      ],
      "text/plain": [
       "<IPython.core.display.Markdown object>"
      ]
     },
     "metadata": {},
     "output_type": "display_data"
    },
    {
     "data": {
      "text/html": [
       "<h4 id='Koordinatenräume'>==== Koordinatenräume ====</h4>"
      ],
      "text/plain": [
       "<IPython.core.display.HTML object>"
      ]
     },
     "metadata": {},
     "output_type": "display_data"
    },
    {
     "data": {
      "text/html": [
       "<h5>Seitenaufrufe Artikel</h5>"
      ],
      "text/plain": [
       "<IPython.core.display.HTML object>"
      ]
     },
     "metadata": {},
     "output_type": "display_data"
    },
    {
     "name": "stdout",
     "output_type": "stream",
     "text": [
      "2016:           1.160\n",
      "WiSe 16/17:       521 ┬       -64 (-11%)\n",
      "WiSe 15/16:       585 ┘      \n"
     ]
    },
    {
     "data": {
      "text/markdown": [
       "[Zurück zum Inhaltsverzeichnis](#Inhaltsverzeichnis)"
      ],
      "text/plain": [
       "<IPython.core.display.Markdown object>"
      ]
     },
     "metadata": {},
     "output_type": "display_data"
    },
    {
     "data": {
      "text/html": [
       "<h4 id='euklidische Vektorräume'>==== euklidische Vektorräume ====</h4>"
      ],
      "text/plain": [
       "<IPython.core.display.HTML object>"
      ]
     },
     "metadata": {},
     "output_type": "display_data"
    },
    {
     "data": {
      "text/html": [
       "<h5>Seitenaufrufe Artikel</h5>"
      ],
      "text/plain": [
       "<IPython.core.display.HTML object>"
      ]
     },
     "metadata": {},
     "output_type": "display_data"
    },
    {
     "name": "stdout",
     "output_type": "stream",
     "text": [
      "2016:             367\n",
      "WiSe 16/17:       690 ┬      +690        \n",
      "WiSe 15/16:         0 ┘      \n"
     ]
    },
    {
     "data": {
      "text/markdown": [
       "[Zurück zum Inhaltsverzeichnis](#Inhaltsverzeichnis)"
      ],
      "text/plain": [
       "<IPython.core.display.Markdown object>"
      ]
     },
     "metadata": {},
     "output_type": "display_data"
    },
    {
     "data": {
      "text/html": [
       "<h4 id='Folgenräume'>==== Folgenräume ====</h4>"
      ],
      "text/plain": [
       "<IPython.core.display.HTML object>"
      ]
     },
     "metadata": {},
     "output_type": "display_data"
    },
    {
     "data": {
      "text/html": [
       "<h5>Seitenaufrufe Artikel</h5>"
      ],
      "text/plain": [
       "<IPython.core.display.HTML object>"
      ]
     },
     "metadata": {},
     "output_type": "display_data"
    },
    {
     "name": "stdout",
     "output_type": "stream",
     "text": [
      "2016:             303\n",
      "WiSe 16/17:       292 ┬      +216 (+284%)\n",
      "WiSe 15/16:        76 ┘      \n"
     ]
    },
    {
     "data": {
      "text/markdown": [
       "[Zurück zum Inhaltsverzeichnis](#Inhaltsverzeichnis)"
      ],
      "text/plain": [
       "<IPython.core.display.Markdown object>"
      ]
     },
     "metadata": {},
     "output_type": "display_data"
    },
    {
     "data": {
      "text/html": [
       "<h4 id='Funktionsräume'>==== Funktionsräume ====</h4>"
      ],
      "text/plain": [
       "<IPython.core.display.HTML object>"
      ]
     },
     "metadata": {},
     "output_type": "display_data"
    },
    {
     "data": {
      "text/html": [
       "<h5>Seitenaufrufe Artikel</h5>"
      ],
      "text/plain": [
       "<IPython.core.display.HTML object>"
      ]
     },
     "metadata": {},
     "output_type": "display_data"
    },
    {
     "name": "stdout",
     "output_type": "stream",
     "text": [
      "2016:             390\n",
      "WiSe 16/17:       344 ┬      +241 (+234%)\n",
      "WiSe 15/16:       103 ┘      \n"
     ]
    },
    {
     "data": {
      "text/markdown": [
       "[Zurück zum Inhaltsverzeichnis](#Inhaltsverzeichnis)"
      ],
      "text/plain": [
       "<IPython.core.display.Markdown object>"
      ]
     },
     "metadata": {},
     "output_type": "display_data"
    },
    {
     "data": {
      "text/html": [
       "<h4 id='Untervektorraum'>==== Untervektorraum ====</h4>"
      ],
      "text/plain": [
       "<IPython.core.display.HTML object>"
      ]
     },
     "metadata": {},
     "output_type": "display_data"
    },
    {
     "data": {
      "text/html": [
       "<h5>Seitenaufrufe Artikel</h5>"
      ],
      "text/plain": [
       "<IPython.core.display.HTML object>"
      ]
     },
     "metadata": {},
     "output_type": "display_data"
    },
    {
     "name": "stdout",
     "output_type": "stream",
     "text": [
      "2016:           6.601\n",
      "WiSe 16/17:     6.869 ┬    +5.373 (+359%)\n",
      "WiSe 15/16:     1.496 ┘      \n"
     ]
    },
    {
     "data": {
      "text/markdown": [
       "[Zurück zum Inhaltsverzeichnis](#Inhaltsverzeichnis)"
      ],
      "text/plain": [
       "<IPython.core.display.Markdown object>"
      ]
     },
     "metadata": {},
     "output_type": "display_data"
    },
    {
     "data": {
      "text/html": [
       "<h4 id='Vereinigung und Durchschnitt von Vektorräumen'>==== Vereinigung und Durchschnitt von Vektorräumen ====</h4>"
      ],
      "text/plain": [
       "<IPython.core.display.HTML object>"
      ]
     },
     "metadata": {},
     "output_type": "display_data"
    },
    {
     "data": {
      "text/html": [
       "<h5>Seitenaufrufe Artikel</h5>"
      ],
      "text/plain": [
       "<IPython.core.display.HTML object>"
      ]
     },
     "metadata": {},
     "output_type": "display_data"
    },
    {
     "name": "stdout",
     "output_type": "stream",
     "text": [
      "2016:           3.606\n",
      "WiSe 16/17:     4.902 ┬    +4.697 (+2291%)\n",
      "WiSe 15/16:       205 ┘      \n"
     ]
    },
    {
     "data": {
      "text/markdown": [
       "[Zurück zum Inhaltsverzeichnis](#Inhaltsverzeichnis)"
      ],
      "text/plain": [
       "<IPython.core.display.Markdown object>"
      ]
     },
     "metadata": {},
     "output_type": "display_data"
    },
    {
     "data": {
      "text/html": [
       "<h4 id='Faktorraum'>==== Faktorraum ====</h4>"
      ],
      "text/plain": [
       "<IPython.core.display.HTML object>"
      ]
     },
     "metadata": {},
     "output_type": "display_data"
    },
    {
     "data": {
      "text/html": [
       "<h5>Seitenaufrufe Artikel</h5>"
      ],
      "text/plain": [
       "<IPython.core.display.HTML object>"
      ]
     },
     "metadata": {},
     "output_type": "display_data"
    },
    {
     "name": "stdout",
     "output_type": "stream",
     "text": [
      "2016:               0\n",
      "WiSe 16/17:         0 ┬        +0        \n",
      "WiSe 15/16:         0 ┘      \n"
     ]
    },
    {
     "data": {
      "text/markdown": [
       "[Zurück zum Inhaltsverzeichnis](#Inhaltsverzeichnis)"
      ],
      "text/plain": [
       "<IPython.core.display.Markdown object>"
      ]
     },
     "metadata": {},
     "output_type": "display_data"
    },
    {
     "data": {
      "text/html": [
       "<h3 id='Basis eines Vektorraums'>=== Basis eines Vektorraums ===</h3>"
      ],
      "text/plain": [
       "<IPython.core.display.HTML object>"
      ]
     },
     "metadata": {},
     "output_type": "display_data"
    },
    {
     "data": {
      "text/markdown": [
       "[Zurück zum Inhaltsverzeichnis](#Inhaltsverzeichnis)"
      ],
      "text/plain": [
       "<IPython.core.display.Markdown object>"
      ]
     },
     "metadata": {},
     "output_type": "display_data"
    },
    {
     "data": {
      "text/html": [
       "<h4 id='Erzeugnis und Erzeugendensystem'>==== Erzeugnis und Erzeugendensystem ====</h4>"
      ],
      "text/plain": [
       "<IPython.core.display.HTML object>"
      ]
     },
     "metadata": {},
     "output_type": "display_data"
    },
    {
     "data": {
      "text/html": [
       "<h5>Seitenaufrufe Artikel</h5>"
      ],
      "text/plain": [
       "<IPython.core.display.HTML object>"
      ]
     },
     "metadata": {},
     "output_type": "display_data"
    },
    {
     "name": "stdout",
     "output_type": "stream",
     "text": [
      "2016:             846\n",
      "WiSe 16/17:     1.896 ┬    +1.896        \n",
      "WiSe 15/16:         0 ┘      \n"
     ]
    },
    {
     "data": {
      "text/markdown": [
       "[Zurück zum Inhaltsverzeichnis](#Inhaltsverzeichnis)"
      ],
      "text/plain": [
       "<IPython.core.display.Markdown object>"
      ]
     },
     "metadata": {},
     "output_type": "display_data"
    },
    {
     "data": {
      "text/html": [
       "<h4 id='Lineare Unabhängigkeit von Vektoren'>==== Lineare Unabhängigkeit von Vektoren ====</h4>"
      ],
      "text/plain": [
       "<IPython.core.display.HTML object>"
      ]
     },
     "metadata": {},
     "output_type": "display_data"
    },
    {
     "data": {
      "text/html": [
       "<h5>Seitenaufrufe Artikel</h5>"
      ],
      "text/plain": [
       "<IPython.core.display.HTML object>"
      ]
     },
     "metadata": {},
     "output_type": "display_data"
    },
    {
     "name": "stdout",
     "output_type": "stream",
     "text": [
      "2016:           4.839\n",
      "WiSe 16/17:     4.225 ┬    +3.041 (+257%)\n",
      "WiSe 15/16:     1.184 ┘      \n"
     ]
    },
    {
     "data": {
      "text/markdown": [
       "[Zurück zum Inhaltsverzeichnis](#Inhaltsverzeichnis)"
      ],
      "text/plain": [
       "<IPython.core.display.Markdown object>"
      ]
     },
     "metadata": {},
     "output_type": "display_data"
    },
    {
     "data": {
      "text/html": [
       "<h4 id='Basis eines Vektorraums'>==== Basis eines Vektorraums ====</h4>"
      ],
      "text/plain": [
       "<IPython.core.display.HTML object>"
      ]
     },
     "metadata": {},
     "output_type": "display_data"
    },
    {
     "data": {
      "text/html": [
       "<h5>Seitenaufrufe Artikel</h5>"
      ],
      "text/plain": [
       "<IPython.core.display.HTML object>"
      ]
     },
     "metadata": {},
     "output_type": "display_data"
    },
    {
     "name": "stdout",
     "output_type": "stream",
     "text": [
      "2016:           2.644\n",
      "WiSe 16/17:     2.620 ┬    +1.862 (+246%)\n",
      "WiSe 15/16:       758 ┘      \n"
     ]
    },
    {
     "data": {
      "text/markdown": [
       "[Zurück zum Inhaltsverzeichnis](#Inhaltsverzeichnis)"
      ],
      "text/plain": [
       "<IPython.core.display.Markdown object>"
      ]
     },
     "metadata": {},
     "output_type": "display_data"
    },
    {
     "data": {
      "text/html": [
       "<h4 id='Dimension eines Vektorraums'>==== Dimension eines Vektorraums ====</h4>"
      ],
      "text/plain": [
       "<IPython.core.display.HTML object>"
      ]
     },
     "metadata": {},
     "output_type": "display_data"
    },
    {
     "data": {
      "text/html": [
       "<h5>Seitenaufrufe Artikel</h5>"
      ],
      "text/plain": [
       "<IPython.core.display.HTML object>"
      ]
     },
     "metadata": {},
     "output_type": "display_data"
    },
    {
     "name": "stdout",
     "output_type": "stream",
     "text": [
      "2016:           2.154\n",
      "WiSe 16/17:     1.343 ┬      +495 (+58%)\n",
      "WiSe 15/16:       848 ┘      \n"
     ]
    },
    {
     "data": {
      "text/markdown": [
       "[Zurück zum Inhaltsverzeichnis](#Inhaltsverzeichnis)"
      ],
      "text/plain": [
       "<IPython.core.display.Markdown object>"
      ]
     },
     "metadata": {},
     "output_type": "display_data"
    },
    {
     "data": {
      "text/html": [
       "<h4 id='Summe und direkte Summe '>==== Summe und direkte Summe  ====</h4>"
      ],
      "text/plain": [
       "<IPython.core.display.HTML object>"
      ]
     },
     "metadata": {},
     "output_type": "display_data"
    },
    {
     "data": {
      "text/html": [
       "<h5>Seitenaufrufe Artikel</h5>"
      ],
      "text/plain": [
       "<IPython.core.display.HTML object>"
      ]
     },
     "metadata": {},
     "output_type": "display_data"
    },
    {
     "name": "stdout",
     "output_type": "stream",
     "text": [
      "2016:           3.701\n",
      "WiSe 16/17:     5.538 ┬    +5.365 (+3101%)\n",
      "WiSe 15/16:       173 ┘      \n"
     ]
    },
    {
     "data": {
      "text/markdown": [
       "[Zurück zum Inhaltsverzeichnis](#Inhaltsverzeichnis)"
      ],
      "text/plain": [
       "<IPython.core.display.Markdown object>"
      ]
     },
     "metadata": {},
     "output_type": "display_data"
    },
    {
     "data": {
      "text/html": [
       "<h3 id='Lineare Abbildungen'>=== Lineare Abbildungen ===</h3>"
      ],
      "text/plain": [
       "<IPython.core.display.HTML object>"
      ]
     },
     "metadata": {},
     "output_type": "display_data"
    },
    {
     "data": {
      "text/markdown": [
       "[Zurück zum Inhaltsverzeichnis](#Inhaltsverzeichnis)"
      ],
      "text/plain": [
       "<IPython.core.display.Markdown object>"
      ]
     },
     "metadata": {},
     "output_type": "display_data"
    },
    {
     "data": {
      "text/html": [
       "<h4 id='Lineare Abbildungen'>==== Lineare Abbildungen ====</h4>"
      ],
      "text/plain": [
       "<IPython.core.display.HTML object>"
      ]
     },
     "metadata": {},
     "output_type": "display_data"
    },
    {
     "data": {
      "text/html": [
       "<h5>Seitenaufrufe Artikel</h5>"
      ],
      "text/plain": [
       "<IPython.core.display.HTML object>"
      ]
     },
     "metadata": {},
     "output_type": "display_data"
    },
    {
     "name": "stdout",
     "output_type": "stream",
     "text": [
      "2016:               0\n",
      "WiSe 16/17:       227 ┬      +227        \n",
      "WiSe 15/16:         0 ┘      \n"
     ]
    },
    {
     "data": {
      "text/markdown": [
       "[Zurück zum Inhaltsverzeichnis](#Inhaltsverzeichnis)"
      ],
      "text/plain": [
       "<IPython.core.display.Markdown object>"
      ]
     },
     "metadata": {},
     "output_type": "display_data"
    },
    {
     "data": {
      "text/html": [
       "<h4 id='Beispiele linearer Abbildungen'>==== Beispiele linearer Abbildungen ====</h4>"
      ],
      "text/plain": [
       "<IPython.core.display.HTML object>"
      ]
     },
     "metadata": {},
     "output_type": "display_data"
    },
    {
     "data": {
      "text/html": [
       "<h5>Seitenaufrufe Artikel</h5>"
      ],
      "text/plain": [
       "<IPython.core.display.HTML object>"
      ]
     },
     "metadata": {},
     "output_type": "display_data"
    },
    {
     "name": "stdout",
     "output_type": "stream",
     "text": [
      "2016:               1\n",
      "WiSe 16/17:       949 ┬      +948 (+94800%)\n",
      "WiSe 15/16:         1 ┘      \n"
     ]
    },
    {
     "data": {
      "text/markdown": [
       "[Zurück zum Inhaltsverzeichnis](#Inhaltsverzeichnis)"
      ],
      "text/plain": [
       "<IPython.core.display.Markdown object>"
      ]
     },
     "metadata": {},
     "output_type": "display_data"
    },
    {
     "data": {
      "text/html": [
       "<h4 id='Eigenschaften linearer Abbildungen'>==== Eigenschaften linearer Abbildungen ====</h4>"
      ],
      "text/plain": [
       "<IPython.core.display.HTML object>"
      ]
     },
     "metadata": {},
     "output_type": "display_data"
    },
    {
     "data": {
      "text/html": [
       "<h5>Seitenaufrufe Artikel</h5>"
      ],
      "text/plain": [
       "<IPython.core.display.HTML object>"
      ]
     },
     "metadata": {},
     "output_type": "display_data"
    },
    {
     "name": "stdout",
     "output_type": "stream",
     "text": [
      "2016:               0\n",
      "WiSe 16/17:       344 ┬      +344        \n",
      "WiSe 15/16:         0 ┘      \n"
     ]
    },
    {
     "data": {
      "text/markdown": [
       "[Zurück zum Inhaltsverzeichnis](#Inhaltsverzeichnis)"
      ],
      "text/plain": [
       "<IPython.core.display.Markdown object>"
      ]
     },
     "metadata": {},
     "output_type": "display_data"
    },
    {
     "data": {
      "text/html": [
       "<h4 id='Prinzip der linearen Fortsetzung'>==== Prinzip der linearen Fortsetzung ====</h4>"
      ],
      "text/plain": [
       "<IPython.core.display.HTML object>"
      ]
     },
     "metadata": {},
     "output_type": "display_data"
    },
    {
     "data": {
      "text/html": [
       "<h5>Seitenaufrufe Artikel</h5>"
      ],
      "text/plain": [
       "<IPython.core.display.HTML object>"
      ]
     },
     "metadata": {},
     "output_type": "display_data"
    },
    {
     "name": "stdout",
     "output_type": "stream",
     "text": [
      "2016:               0\n",
      "WiSe 16/17:         0 ┬        +0        \n",
      "WiSe 15/16:         0 ┘      \n"
     ]
    },
    {
     "data": {
      "text/markdown": [
       "[Zurück zum Inhaltsverzeichnis](#Inhaltsverzeichnis)"
      ],
      "text/plain": [
       "<IPython.core.display.Markdown object>"
      ]
     },
     "metadata": {},
     "output_type": "display_data"
    },
    {
     "data": {
      "text/html": [
       "<h4 id='Arten linearer Abbildungen'>==== Arten linearer Abbildungen ====</h4>"
      ],
      "text/plain": [
       "<IPython.core.display.HTML object>"
      ]
     },
     "metadata": {},
     "output_type": "display_data"
    },
    {
     "data": {
      "text/html": [
       "<h5>Seitenaufrufe Artikel</h5>"
      ],
      "text/plain": [
       "<IPython.core.display.HTML object>"
      ]
     },
     "metadata": {},
     "output_type": "display_data"
    },
    {
     "name": "stdout",
     "output_type": "stream",
     "text": [
      "2016:               0\n",
      "WiSe 16/17:       107 ┬      +107        \n",
      "WiSe 15/16:         0 ┘      \n"
     ]
    },
    {
     "data": {
      "text/markdown": [
       "[Zurück zum Inhaltsverzeichnis](#Inhaltsverzeichnis)"
      ],
      "text/plain": [
       "<IPython.core.display.Markdown object>"
      ]
     },
     "metadata": {},
     "output_type": "display_data"
    },
    {
     "data": {
      "text/html": [
       "<h4 id='Vektorraum linearer Abbildungen'>==== Vektorraum linearer Abbildungen ====</h4>"
      ],
      "text/plain": [
       "<IPython.core.display.HTML object>"
      ]
     },
     "metadata": {},
     "output_type": "display_data"
    },
    {
     "data": {
      "text/html": [
       "<h5>Seitenaufrufe Artikel</h5>"
      ],
      "text/plain": [
       "<IPython.core.display.HTML object>"
      ]
     },
     "metadata": {},
     "output_type": "display_data"
    },
    {
     "name": "stdout",
     "output_type": "stream",
     "text": [
      "2016:               0\n",
      "WiSe 16/17:       212 ┬      +212        \n",
      "WiSe 15/16:         0 ┘      \n"
     ]
    },
    {
     "data": {
      "text/markdown": [
       "[Zurück zum Inhaltsverzeichnis](#Inhaltsverzeichnis)"
      ],
      "text/plain": [
       "<IPython.core.display.Markdown object>"
      ]
     },
     "metadata": {},
     "output_type": "display_data"
    },
    {
     "data": {
      "text/html": [
       "<h4 id='Aufgaben'>==== Aufgaben ====</h4>"
      ],
      "text/plain": [
       "<IPython.core.display.HTML object>"
      ]
     },
     "metadata": {},
     "output_type": "display_data"
    },
    {
     "data": {
      "text/html": [
       "<h5>Seitenaufrufe Artikel</h5>"
      ],
      "text/plain": [
       "<IPython.core.display.HTML object>"
      ]
     },
     "metadata": {},
     "output_type": "display_data"
    },
    {
     "name": "stdout",
     "output_type": "stream",
     "text": [
      "2016:             275\n",
      "WiSe 16/17:       309 ┬      +309        \n",
      "WiSe 15/16:         0 ┘      \n"
     ]
    },
    {
     "data": {
      "text/markdown": [
       "[Zurück zum Inhaltsverzeichnis](#Inhaltsverzeichnis)"
      ],
      "text/plain": [
       "<IPython.core.display.Markdown object>"
      ]
     },
     "metadata": {},
     "output_type": "display_data"
    },
    {
     "data": {
      "text/html": [
       "<h3 id='Matrizen'>=== Matrizen ===</h3>"
      ],
      "text/plain": [
       "<IPython.core.display.HTML object>"
      ]
     },
     "metadata": {},
     "output_type": "display_data"
    },
    {
     "data": {
      "text/markdown": [
       "[Zurück zum Inhaltsverzeichnis](#Inhaltsverzeichnis)"
      ],
      "text/plain": [
       "<IPython.core.display.Markdown object>"
      ]
     },
     "metadata": {},
     "output_type": "display_data"
    },
    {
     "data": {
      "text/html": [
       "<h4 id='Definition der Matrix'>==== Definition der Matrix ====</h4>"
      ],
      "text/plain": [
       "<IPython.core.display.HTML object>"
      ]
     },
     "metadata": {},
     "output_type": "display_data"
    },
    {
     "data": {
      "text/html": [
       "<h5>Seitenaufrufe Artikel</h5>"
      ],
      "text/plain": [
       "<IPython.core.display.HTML object>"
      ]
     },
     "metadata": {},
     "output_type": "display_data"
    },
    {
     "name": "stdout",
     "output_type": "stream",
     "text": [
      "2016:               0\n",
      "WiSe 16/17:       116 ┬      +116        \n",
      "WiSe 15/16:         0 ┘      \n"
     ]
    },
    {
     "data": {
      "text/markdown": [
       "[Zurück zum Inhaltsverzeichnis](#Inhaltsverzeichnis)"
      ],
      "text/plain": [
       "<IPython.core.display.Markdown object>"
      ]
     },
     "metadata": {},
     "output_type": "display_data"
    },
    {
     "data": {
      "text/html": [
       "<h4 id='Arten von Matrizen'>==== Arten von Matrizen ====</h4>"
      ],
      "text/plain": [
       "<IPython.core.display.HTML object>"
      ]
     },
     "metadata": {},
     "output_type": "display_data"
    },
    {
     "data": {
      "text/html": [
       "<h5>Seitenaufrufe Artikel</h5>"
      ],
      "text/plain": [
       "<IPython.core.display.HTML object>"
      ]
     },
     "metadata": {},
     "output_type": "display_data"
    },
    {
     "name": "stdout",
     "output_type": "stream",
     "text": [
      "2016:               0\n",
      "WiSe 16/17:       110 ┬      +110        \n",
      "WiSe 15/16:         0 ┘      \n"
     ]
    },
    {
     "data": {
      "text/markdown": [
       "[Zurück zum Inhaltsverzeichnis](#Inhaltsverzeichnis)"
      ],
      "text/plain": [
       "<IPython.core.display.Markdown object>"
      ]
     },
     "metadata": {},
     "output_type": "display_data"
    },
    {
     "data": {
      "text/html": [
       "<h4 id='Vektorielle Operationen für Matrizen'>==== Vektorielle Operationen für Matrizen ====</h4>"
      ],
      "text/plain": [
       "<IPython.core.display.HTML object>"
      ]
     },
     "metadata": {},
     "output_type": "display_data"
    },
    {
     "data": {
      "text/html": [
       "<h5>Seitenaufrufe Artikel</h5>"
      ],
      "text/plain": [
       "<IPython.core.display.HTML object>"
      ]
     },
     "metadata": {},
     "output_type": "display_data"
    },
    {
     "name": "stdout",
     "output_type": "stream",
     "text": [
      "2016:               0\n",
      "WiSe 16/17:        40 ┬       +40        \n",
      "WiSe 15/16:         0 ┘      \n"
     ]
    },
    {
     "data": {
      "text/markdown": [
       "[Zurück zum Inhaltsverzeichnis](#Inhaltsverzeichnis)"
      ],
      "text/plain": [
       "<IPython.core.display.Markdown object>"
      ]
     },
     "metadata": {},
     "output_type": "display_data"
    },
    {
     "data": {
      "text/html": [
       "<h4 id='Matrizenmultiplikation'>==== Matrizenmultiplikation ====</h4>"
      ],
      "text/plain": [
       "<IPython.core.display.HTML object>"
      ]
     },
     "metadata": {},
     "output_type": "display_data"
    },
    {
     "data": {
      "text/html": [
       "<h5>Seitenaufrufe Artikel</h5>"
      ],
      "text/plain": [
       "<IPython.core.display.HTML object>"
      ]
     },
     "metadata": {},
     "output_type": "display_data"
    },
    {
     "name": "stdout",
     "output_type": "stream",
     "text": [
      "2016:               0\n",
      "WiSe 16/17:       703 ┬      +703        \n",
      "WiSe 15/16:         0 ┘      \n"
     ]
    },
    {
     "data": {
      "text/markdown": [
       "[Zurück zum Inhaltsverzeichnis](#Inhaltsverzeichnis)"
      ],
      "text/plain": [
       "<IPython.core.display.Markdown object>"
      ]
     },
     "metadata": {},
     "output_type": "display_data"
    },
    {
     "data": {
      "text/html": [
       "<h4 id='Inverse Matrizen'>==== Inverse Matrizen ====</h4>"
      ],
      "text/plain": [
       "<IPython.core.display.HTML object>"
      ]
     },
     "metadata": {},
     "output_type": "display_data"
    },
    {
     "data": {
      "text/html": [
       "<h5>Seitenaufrufe Artikel</h5>"
      ],
      "text/plain": [
       "<IPython.core.display.HTML object>"
      ]
     },
     "metadata": {},
     "output_type": "display_data"
    },
    {
     "name": "stdout",
     "output_type": "stream",
     "text": [
      "2016:               0\n",
      "WiSe 16/17:        71 ┬       +71        \n",
      "WiSe 15/16:         0 ┘      \n"
     ]
    },
    {
     "data": {
      "text/markdown": [
       "[Zurück zum Inhaltsverzeichnis](#Inhaltsverzeichnis)"
      ],
      "text/plain": [
       "<IPython.core.display.Markdown object>"
      ]
     },
     "metadata": {},
     "output_type": "display_data"
    },
    {
     "data": {
      "text/html": [
       "<h3 id='Matrizen als lineare Abbildungen'>=== Matrizen als lineare Abbildungen ===</h3>"
      ],
      "text/plain": [
       "<IPython.core.display.HTML object>"
      ]
     },
     "metadata": {},
     "output_type": "display_data"
    },
    {
     "data": {
      "text/markdown": [
       "[Zurück zum Inhaltsverzeichnis](#Inhaltsverzeichnis)"
      ],
      "text/plain": [
       "<IPython.core.display.Markdown object>"
      ]
     },
     "metadata": {},
     "output_type": "display_data"
    },
    {
     "data": {
      "text/html": [
       "<h4 id='Lineare Abbildung und darstellende Matrix'>==== Lineare Abbildung und darstellende Matrix ====</h4>"
      ],
      "text/plain": [
       "<IPython.core.display.HTML object>"
      ]
     },
     "metadata": {},
     "output_type": "display_data"
    },
    {
     "data": {
      "text/html": [
       "<h5>Seitenaufrufe Artikel</h5>"
      ],
      "text/plain": [
       "<IPython.core.display.HTML object>"
      ]
     },
     "metadata": {},
     "output_type": "display_data"
    },
    {
     "name": "stdout",
     "output_type": "stream",
     "text": [
      "2016:               0\n",
      "WiSe 16/17:       207 ┬      +207        \n",
      "WiSe 15/16:         0 ┘      \n"
     ]
    },
    {
     "data": {
      "text/markdown": [
       "[Zurück zum Inhaltsverzeichnis](#Inhaltsverzeichnis)"
      ],
      "text/plain": [
       "<IPython.core.display.Markdown object>"
      ]
     },
     "metadata": {},
     "output_type": "display_data"
    },
    {
     "data": {
      "text/html": [
       "<h4 id='Hintereinander Ausführung von linearen Abbildungen'>==== Hintereinander Ausführung von linearen Abbildungen ====</h4>"
      ],
      "text/plain": [
       "<IPython.core.display.HTML object>"
      ]
     },
     "metadata": {},
     "output_type": "display_data"
    },
    {
     "data": {
      "text/html": [
       "<h5>Seitenaufrufe Artikel</h5>"
      ],
      "text/plain": [
       "<IPython.core.display.HTML object>"
      ]
     },
     "metadata": {},
     "output_type": "display_data"
    },
    {
     "name": "stdout",
     "output_type": "stream",
     "text": [
      "2016:               0\n",
      "WiSe 16/17:         0 ┬        +0        \n",
      "WiSe 15/16:         0 ┘      \n"
     ]
    },
    {
     "data": {
      "text/markdown": [
       "[Zurück zum Inhaltsverzeichnis](#Inhaltsverzeichnis)"
      ],
      "text/plain": [
       "<IPython.core.display.Markdown object>"
      ]
     },
     "metadata": {},
     "output_type": "display_data"
    },
    {
     "data": {
      "text/html": [
       "<h4 id='Abbildungsmatrizen'>==== Abbildungsmatrizen ====</h4>"
      ],
      "text/plain": [
       "<IPython.core.display.HTML object>"
      ]
     },
     "metadata": {},
     "output_type": "display_data"
    },
    {
     "data": {
      "text/html": [
       "<h5>Seitenaufrufe Artikel</h5>"
      ],
      "text/plain": [
       "<IPython.core.display.HTML object>"
      ]
     },
     "metadata": {},
     "output_type": "display_data"
    },
    {
     "name": "stdout",
     "output_type": "stream",
     "text": [
      "2016:               0\n",
      "WiSe 16/17:       155 ┬      +155        \n",
      "WiSe 15/16:         0 ┘      \n"
     ]
    },
    {
     "data": {
      "text/markdown": [
       "[Zurück zum Inhaltsverzeichnis](#Inhaltsverzeichnis)"
      ],
      "text/plain": [
       "<IPython.core.display.Markdown object>"
      ]
     },
     "metadata": {},
     "output_type": "display_data"
    },
    {
     "data": {
      "text/html": [
       "<h4 id='Basiswechselmatrizen'>==== Basiswechselmatrizen ====</h4>"
      ],
      "text/plain": [
       "<IPython.core.display.HTML object>"
      ]
     },
     "metadata": {},
     "output_type": "display_data"
    },
    {
     "data": {
      "text/html": [
       "<h5>Seitenaufrufe Artikel</h5>"
      ],
      "text/plain": [
       "<IPython.core.display.HTML object>"
      ]
     },
     "metadata": {},
     "output_type": "display_data"
    },
    {
     "name": "stdout",
     "output_type": "stream",
     "text": [
      "2016:               0\n",
      "WiSe 16/17:        50 ┬       +50        \n",
      "WiSe 15/16:         0 ┘      \n"
     ]
    },
    {
     "data": {
      "text/markdown": [
       "[Zurück zum Inhaltsverzeichnis](#Inhaltsverzeichnis)"
      ],
      "text/plain": [
       "<IPython.core.display.Markdown object>"
      ]
     },
     "metadata": {},
     "output_type": "display_data"
    },
    {
     "data": {
      "text/html": [
       "<h3 id='Isomorphiesatz und Dimensionsformel'>=== Isomorphiesatz und Dimensionsformel ===</h3>"
      ],
      "text/plain": [
       "<IPython.core.display.HTML object>"
      ]
     },
     "metadata": {},
     "output_type": "display_data"
    },
    {
     "data": {
      "text/markdown": [
       "[Zurück zum Inhaltsverzeichnis](#Inhaltsverzeichnis)"
      ],
      "text/plain": [
       "<IPython.core.display.Markdown object>"
      ]
     },
     "metadata": {},
     "output_type": "display_data"
    },
    {
     "data": {
      "text/html": [
       "<h4 id='Struktur linearer Abbildungen'>==== Struktur linearer Abbildungen ====</h4>"
      ],
      "text/plain": [
       "<IPython.core.display.HTML object>"
      ]
     },
     "metadata": {},
     "output_type": "display_data"
    },
    {
     "data": {
      "text/html": [
       "<h5>Seitenaufrufe Artikel</h5>"
      ],
      "text/plain": [
       "<IPython.core.display.HTML object>"
      ]
     },
     "metadata": {},
     "output_type": "display_data"
    },
    {
     "name": "stdout",
     "output_type": "stream",
     "text": [
      "2016:               0\n",
      "WiSe 16/17:         0 ┬        +0        \n",
      "WiSe 15/16:         0 ┘      \n"
     ]
    },
    {
     "data": {
      "text/markdown": [
       "[Zurück zum Inhaltsverzeichnis](#Inhaltsverzeichnis)"
      ],
      "text/plain": [
       "<IPython.core.display.Markdown object>"
      ]
     },
     "metadata": {},
     "output_type": "display_data"
    },
    {
     "data": {
      "text/html": [
       "<h4 id='Kern einer linearen Abbildung'>==== Kern einer linearen Abbildung ====</h4>"
      ],
      "text/plain": [
       "<IPython.core.display.HTML object>"
      ]
     },
     "metadata": {},
     "output_type": "display_data"
    },
    {
     "data": {
      "text/html": [
       "<h5>Seitenaufrufe Artikel</h5>"
      ],
      "text/plain": [
       "<IPython.core.display.HTML object>"
      ]
     },
     "metadata": {},
     "output_type": "display_data"
    },
    {
     "name": "stdout",
     "output_type": "stream",
     "text": [
      "2016:           3.015\n",
      "WiSe 16/17:     8.552 ┬    +8.202 (+2343%)\n",
      "WiSe 15/16:       350 ┘      \n"
     ]
    },
    {
     "data": {
      "text/markdown": [
       "[Zurück zum Inhaltsverzeichnis](#Inhaltsverzeichnis)"
      ],
      "text/plain": [
       "<IPython.core.display.Markdown object>"
      ]
     },
     "metadata": {},
     "output_type": "display_data"
    },
    {
     "data": {
      "text/html": [
       "<h4 id='Bild einer linearen Abbildung'>==== Bild einer linearen Abbildung ====</h4>"
      ],
      "text/plain": [
       "<IPython.core.display.HTML object>"
      ]
     },
     "metadata": {},
     "output_type": "display_data"
    },
    {
     "data": {
      "text/html": [
       "<h5>Seitenaufrufe Artikel</h5>"
      ],
      "text/plain": [
       "<IPython.core.display.HTML object>"
      ]
     },
     "metadata": {},
     "output_type": "display_data"
    },
    {
     "name": "stdout",
     "output_type": "stream",
     "text": [
      "2016:           3.536\n",
      "WiSe 16/17:     9.712 ┬    +9.634 (+12351%)\n",
      "WiSe 15/16:        78 ┘      \n"
     ]
    },
    {
     "data": {
      "text/markdown": [
       "[Zurück zum Inhaltsverzeichnis](#Inhaltsverzeichnis)"
      ],
      "text/plain": [
       "<IPython.core.display.Markdown object>"
      ]
     },
     "metadata": {},
     "output_type": "display_data"
    },
    {
     "data": {
      "text/html": [
       "<h4 id='Intuition hinter Isomorphiesatz und Dimensionsformel'>==== Intuition hinter Isomorphiesatz und Dimensionsformel ====</h4>"
      ],
      "text/plain": [
       "<IPython.core.display.HTML object>"
      ]
     },
     "metadata": {},
     "output_type": "display_data"
    },
    {
     "data": {
      "text/html": [
       "<h5>Seitenaufrufe Artikel</h5>"
      ],
      "text/plain": [
       "<IPython.core.display.HTML object>"
      ]
     },
     "metadata": {},
     "output_type": "display_data"
    },
    {
     "name": "stdout",
     "output_type": "stream",
     "text": [
      "2016:             898\n",
      "WiSe 16/17:       391 ┬      +208 (+114%)\n",
      "WiSe 15/16:       183 ┘      \n"
     ]
    },
    {
     "data": {
      "text/markdown": [
       "[Zurück zum Inhaltsverzeichnis](#Inhaltsverzeichnis)"
      ],
      "text/plain": [
       "<IPython.core.display.Markdown object>"
      ]
     },
     "metadata": {},
     "output_type": "display_data"
    },
    {
     "data": {
      "text/html": [
       "<h4 id='Isomorphiesatz'>==== Isomorphiesatz ====</h4>"
      ],
      "text/plain": [
       "<IPython.core.display.HTML object>"
      ]
     },
     "metadata": {},
     "output_type": "display_data"
    },
    {
     "data": {
      "text/html": [
       "<h5>Seitenaufrufe Artikel</h5>"
      ],
      "text/plain": [
       "<IPython.core.display.HTML object>"
      ]
     },
     "metadata": {},
     "output_type": "display_data"
    },
    {
     "name": "stdout",
     "output_type": "stream",
     "text": [
      "2016:             567\n",
      "WiSe 16/17:       559 ┬      +415 (+288%)\n",
      "WiSe 15/16:       144 ┘      \n"
     ]
    },
    {
     "data": {
      "text/markdown": [
       "[Zurück zum Inhaltsverzeichnis](#Inhaltsverzeichnis)"
      ],
      "text/plain": [
       "<IPython.core.display.Markdown object>"
      ]
     },
     "metadata": {},
     "output_type": "display_data"
    },
    {
     "data": {
      "text/html": [
       "<h4 id='Dimensionsformel'>==== Dimensionsformel ====</h4>"
      ],
      "text/plain": [
       "<IPython.core.display.HTML object>"
      ]
     },
     "metadata": {},
     "output_type": "display_data"
    },
    {
     "data": {
      "text/html": [
       "<h5>Seitenaufrufe Artikel</h5>"
      ],
      "text/plain": [
       "<IPython.core.display.HTML object>"
      ]
     },
     "metadata": {},
     "output_type": "display_data"
    },
    {
     "name": "stdout",
     "output_type": "stream",
     "text": [
      "2016:           1.056\n",
      "WiSe 16/17:     2.059 ┬    +1.900 (+1195%)\n",
      "WiSe 15/16:       159 ┘      \n"
     ]
    },
    {
     "data": {
      "text/markdown": [
       "[Zurück zum Inhaltsverzeichnis](#Inhaltsverzeichnis)"
      ],
      "text/plain": [
       "<IPython.core.display.Markdown object>"
      ]
     },
     "metadata": {},
     "output_type": "display_data"
    },
    {
     "data": {
      "text/html": [
       "<h3 id='Gleichungssysteme und Matrizen'>=== Gleichungssysteme und Matrizen ===</h3>"
      ],
      "text/plain": [
       "<IPython.core.display.HTML object>"
      ]
     },
     "metadata": {},
     "output_type": "display_data"
    },
    {
     "data": {
      "text/markdown": [
       "[Zurück zum Inhaltsverzeichnis](#Inhaltsverzeichnis)"
      ],
      "text/plain": [
       "<IPython.core.display.Markdown object>"
      ]
     },
     "metadata": {},
     "output_type": "display_data"
    },
    {
     "data": {
      "text/html": [
       "<h4 id='Gleichungssysteme und Matrizen'>==== Gleichungssysteme und Matrizen ====</h4>"
      ],
      "text/plain": [
       "<IPython.core.display.HTML object>"
      ]
     },
     "metadata": {},
     "output_type": "display_data"
    },
    {
     "data": {
      "text/html": [
       "<h5>Seitenaufrufe Artikel</h5>"
      ],
      "text/plain": [
       "<IPython.core.display.HTML object>"
      ]
     },
     "metadata": {},
     "output_type": "display_data"
    },
    {
     "name": "stdout",
     "output_type": "stream",
     "text": [
      "2016:               0\n",
      "WiSe 16/17:       201 ┬      +201        \n",
      "WiSe 15/16:         0 ┘      \n"
     ]
    },
    {
     "data": {
      "text/markdown": [
       "[Zurück zum Inhaltsverzeichnis](#Inhaltsverzeichnis)"
      ],
      "text/plain": [
       "<IPython.core.display.Markdown object>"
      ]
     },
     "metadata": {},
     "output_type": "display_data"
    },
    {
     "data": {
      "text/html": [
       "<h4 id='Matrixform'>==== Matrixform ====</h4>"
      ],
      "text/plain": [
       "<IPython.core.display.HTML object>"
      ]
     },
     "metadata": {},
     "output_type": "display_data"
    },
    {
     "data": {
      "text/html": [
       "<h5>Seitenaufrufe Artikel</h5>"
      ],
      "text/plain": [
       "<IPython.core.display.HTML object>"
      ]
     },
     "metadata": {},
     "output_type": "display_data"
    },
    {
     "name": "stdout",
     "output_type": "stream",
     "text": [
      "2016:               0\n",
      "WiSe 16/17:         0 ┬        +0        \n",
      "WiSe 15/16:         0 ┘      \n"
     ]
    },
    {
     "data": {
      "text/markdown": [
       "[Zurück zum Inhaltsverzeichnis](#Inhaltsverzeichnis)"
      ],
      "text/plain": [
       "<IPython.core.display.Markdown object>"
      ]
     },
     "metadata": {},
     "output_type": "display_data"
    },
    {
     "data": {
      "text/html": [
       "<h4 id='Lösbarkeitskriterien Gleichungssysteme'>==== Lösbarkeitskriterien Gleichungssysteme ====</h4>"
      ],
      "text/plain": [
       "<IPython.core.display.HTML object>"
      ]
     },
     "metadata": {},
     "output_type": "display_data"
    },
    {
     "data": {
      "text/html": [
       "<h5>Seitenaufrufe Artikel</h5>"
      ],
      "text/plain": [
       "<IPython.core.display.HTML object>"
      ]
     },
     "metadata": {},
     "output_type": "display_data"
    },
    {
     "name": "stdout",
     "output_type": "stream",
     "text": [
      "2016:               0\n",
      "WiSe 16/17:         0 ┬        +0        \n",
      "WiSe 15/16:         0 ┘      \n"
     ]
    },
    {
     "data": {
      "text/markdown": [
       "[Zurück zum Inhaltsverzeichnis](#Inhaltsverzeichnis)"
      ],
      "text/plain": [
       "<IPython.core.display.Markdown object>"
      ]
     },
     "metadata": {},
     "output_type": "display_data"
    },
    {
     "data": {
      "text/html": [
       "<h4 id='Lösung von Gleichungssystemen'>==== Lösung von Gleichungssystemen ====</h4>"
      ],
      "text/plain": [
       "<IPython.core.display.HTML object>"
      ]
     },
     "metadata": {},
     "output_type": "display_data"
    },
    {
     "data": {
      "text/html": [
       "<h5>Seitenaufrufe Artikel</h5>"
      ],
      "text/plain": [
       "<IPython.core.display.HTML object>"
      ]
     },
     "metadata": {},
     "output_type": "display_data"
    },
    {
     "name": "stdout",
     "output_type": "stream",
     "text": [
      "2016:               0\n",
      "WiSe 16/17:         0 ┬        +0        \n",
      "WiSe 15/16:         0 ┘      \n"
     ]
    },
    {
     "data": {
      "text/markdown": [
       "[Zurück zum Inhaltsverzeichnis](#Inhaltsverzeichnis)"
      ],
      "text/plain": [
       "<IPython.core.display.Markdown object>"
      ]
     },
     "metadata": {},
     "output_type": "display_data"
    },
    {
     "data": {
      "text/html": [
       "<h3 id='Die Determinante einer Matrix'>=== Die Determinante einer Matrix ===</h3>"
      ],
      "text/plain": [
       "<IPython.core.display.HTML object>"
      ]
     },
     "metadata": {},
     "output_type": "display_data"
    },
    {
     "data": {
      "text/markdown": [
       "[Zurück zum Inhaltsverzeichnis](#Inhaltsverzeichnis)"
      ],
      "text/plain": [
       "<IPython.core.display.Markdown object>"
      ]
     },
     "metadata": {},
     "output_type": "display_data"
    },
    {
     "data": {
      "text/html": [
       "<h4 id='Determinanten'>==== Determinanten ====</h4>"
      ],
      "text/plain": [
       "<IPython.core.display.HTML object>"
      ]
     },
     "metadata": {},
     "output_type": "display_data"
    },
    {
     "data": {
      "text/html": [
       "<h5>Seitenaufrufe Artikel</h5>"
      ],
      "text/plain": [
       "<IPython.core.display.HTML object>"
      ]
     },
     "metadata": {},
     "output_type": "display_data"
    },
    {
     "name": "stdout",
     "output_type": "stream",
     "text": [
      "2016:               0\n",
      "WiSe 16/17:       489 ┬      +489        \n",
      "WiSe 15/16:         0 ┘      \n"
     ]
    },
    {
     "data": {
      "text/markdown": [
       "[Zurück zum Inhaltsverzeichnis](#Inhaltsverzeichnis)"
      ],
      "text/plain": [
       "<IPython.core.display.Markdown object>"
      ]
     },
     "metadata": {},
     "output_type": "display_data"
    },
    {
     "data": {
      "text/html": [
       "<h4 id='Eigenschaften der Determinante'>==== Eigenschaften der Determinante ====</h4>"
      ],
      "text/plain": [
       "<IPython.core.display.HTML object>"
      ]
     },
     "metadata": {},
     "output_type": "display_data"
    },
    {
     "data": {
      "text/html": [
       "<h5>Seitenaufrufe Artikel</h5>"
      ],
      "text/plain": [
       "<IPython.core.display.HTML object>"
      ]
     },
     "metadata": {},
     "output_type": "display_data"
    },
    {
     "name": "stdout",
     "output_type": "stream",
     "text": [
      "2016:               0\n",
      "WiSe 16/17:         0 ┬        +0        \n",
      "WiSe 15/16:         0 ┘      \n"
     ]
    },
    {
     "data": {
      "text/markdown": [
       "[Zurück zum Inhaltsverzeichnis](#Inhaltsverzeichnis)"
      ],
      "text/plain": [
       "<IPython.core.display.Markdown object>"
      ]
     },
     "metadata": {},
     "output_type": "display_data"
    },
    {
     "data": {
      "text/html": [
       "<h4 id='Determinante für Dreiecksmatrizen'>==== Determinante für Dreiecksmatrizen ====</h4>"
      ],
      "text/plain": [
       "<IPython.core.display.HTML object>"
      ]
     },
     "metadata": {},
     "output_type": "display_data"
    },
    {
     "data": {
      "text/html": [
       "<h5>Seitenaufrufe Artikel</h5>"
      ],
      "text/plain": [
       "<IPython.core.display.HTML object>"
      ]
     },
     "metadata": {},
     "output_type": "display_data"
    },
    {
     "name": "stdout",
     "output_type": "stream",
     "text": [
      "2016:               0\n",
      "WiSe 16/17:         0 ┬        +0        \n",
      "WiSe 15/16:         0 ┘      \n"
     ]
    },
    {
     "data": {
      "text/markdown": [
       "[Zurück zum Inhaltsverzeichnis](#Inhaltsverzeichnis)"
      ],
      "text/plain": [
       "<IPython.core.display.Markdown object>"
      ]
     },
     "metadata": {},
     "output_type": "display_data"
    },
    {
     "data": {
      "text/html": [
       "<h4 id='Adjungierte Matrix'>==== Adjungierte Matrix ====</h4>"
      ],
      "text/plain": [
       "<IPython.core.display.HTML object>"
      ]
     },
     "metadata": {},
     "output_type": "display_data"
    },
    {
     "data": {
      "text/html": [
       "<h5>Seitenaufrufe Artikel</h5>"
      ],
      "text/plain": [
       "<IPython.core.display.HTML object>"
      ]
     },
     "metadata": {},
     "output_type": "display_data"
    },
    {
     "name": "stdout",
     "output_type": "stream",
     "text": [
      "2016:               0\n",
      "WiSe 16/17:         0 ┬        +0        \n",
      "WiSe 15/16:         0 ┘      \n"
     ]
    },
    {
     "data": {
      "text/markdown": [
       "[Zurück zum Inhaltsverzeichnis](#Inhaltsverzeichnis)"
      ],
      "text/plain": [
       "<IPython.core.display.Markdown object>"
      ]
     },
     "metadata": {},
     "output_type": "display_data"
    },
    {
     "data": {
      "text/html": [
       "<h4 id='Cramer'sche Regel'>==== Cramer'sche Regel ====</h4>"
      ],
      "text/plain": [
       "<IPython.core.display.HTML object>"
      ]
     },
     "metadata": {},
     "output_type": "display_data"
    },
    {
     "data": {
      "text/html": [
       "<h5>Seitenaufrufe Artikel</h5>"
      ],
      "text/plain": [
       "<IPython.core.display.HTML object>"
      ]
     },
     "metadata": {},
     "output_type": "display_data"
    },
    {
     "name": "stdout",
     "output_type": "stream",
     "text": [
      "2016:               0\n",
      "WiSe 16/17:         0 ┬        +0        \n",
      "WiSe 15/16:         0 ┘      \n"
     ]
    },
    {
     "data": {
      "text/markdown": [
       "[Zurück zum Inhaltsverzeichnis](#Inhaltsverzeichnis)"
      ],
      "text/plain": [
       "<IPython.core.display.Markdown object>"
      ]
     },
     "metadata": {},
     "output_type": "display_data"
    },
    {
     "data": {
      "text/html": [
       "<h4 id='Leibniz-Formel der Determinante'>==== Leibniz-Formel der Determinante ====</h4>"
      ],
      "text/plain": [
       "<IPython.core.display.HTML object>"
      ]
     },
     "metadata": {},
     "output_type": "display_data"
    },
    {
     "data": {
      "text/html": [
       "<h5>Seitenaufrufe Artikel</h5>"
      ],
      "text/plain": [
       "<IPython.core.display.HTML object>"
      ]
     },
     "metadata": {},
     "output_type": "display_data"
    },
    {
     "name": "stdout",
     "output_type": "stream",
     "text": [
      "2016:               0\n",
      "WiSe 16/17:         0 ┬        +0        \n",
      "WiSe 15/16:         0 ┘      \n"
     ]
    },
    {
     "data": {
      "text/markdown": [
       "[Zurück zum Inhaltsverzeichnis](#Inhaltsverzeichnis)"
      ],
      "text/plain": [
       "<IPython.core.display.Markdown object>"
      ]
     },
     "metadata": {},
     "output_type": "display_data"
    },
    {
     "data": {
      "text/html": [
       "<h3 id='Affine Räume'>=== Affine Räume ===</h3>"
      ],
      "text/plain": [
       "<IPython.core.display.HTML object>"
      ]
     },
     "metadata": {},
     "output_type": "display_data"
    },
    {
     "data": {
      "text/markdown": [
       "[Zurück zum Inhaltsverzeichnis](#Inhaltsverzeichnis)"
      ],
      "text/plain": [
       "<IPython.core.display.Markdown object>"
      ]
     },
     "metadata": {},
     "output_type": "display_data"
    },
    {
     "data": {
      "text/html": [
       "<h4 id='Affiner Raum in der linearen Algebra'>==== Affiner Raum in der linearen Algebra ====</h4>"
      ],
      "text/plain": [
       "<IPython.core.display.HTML object>"
      ]
     },
     "metadata": {},
     "output_type": "display_data"
    },
    {
     "data": {
      "text/html": [
       "<h5>Seitenaufrufe Artikel</h5>"
      ],
      "text/plain": [
       "<IPython.core.display.HTML object>"
      ]
     },
     "metadata": {},
     "output_type": "display_data"
    },
    {
     "name": "stdout",
     "output_type": "stream",
     "text": [
      "2016:               0\n",
      "WiSe 16/17:         0 ┬        +0        \n",
      "WiSe 15/16:         0 ┘      \n"
     ]
    },
    {
     "data": {
      "text/markdown": [
       "[Zurück zum Inhaltsverzeichnis](#Inhaltsverzeichnis)"
      ],
      "text/plain": [
       "<IPython.core.display.Markdown object>"
      ]
     },
     "metadata": {},
     "output_type": "display_data"
    },
    {
     "data": {
      "text/html": [
       "<h4 id='Affiner Unerraum'>==== Affiner Unerraum ====</h4>"
      ],
      "text/plain": [
       "<IPython.core.display.HTML object>"
      ]
     },
     "metadata": {},
     "output_type": "display_data"
    },
    {
     "data": {
      "text/html": [
       "<h5>Seitenaufrufe Artikel</h5>"
      ],
      "text/plain": [
       "<IPython.core.display.HTML object>"
      ]
     },
     "metadata": {},
     "output_type": "display_data"
    },
    {
     "name": "stdout",
     "output_type": "stream",
     "text": [
      "2016:               0\n",
      "WiSe 16/17:         0 ┬        +0        \n",
      "WiSe 15/16:         0 ┘      \n"
     ]
    },
    {
     "data": {
      "text/markdown": [
       "[Zurück zum Inhaltsverzeichnis](#Inhaltsverzeichnis)"
      ],
      "text/plain": [
       "<IPython.core.display.Markdown object>"
      ]
     },
     "metadata": {},
     "output_type": "display_data"
    },
    {
     "data": {
      "text/html": [
       "<h4 id='Affiner Punkteraum'>==== Affiner Punkteraum ====</h4>"
      ],
      "text/plain": [
       "<IPython.core.display.HTML object>"
      ]
     },
     "metadata": {},
     "output_type": "display_data"
    },
    {
     "data": {
      "text/html": [
       "<h5>Seitenaufrufe Artikel</h5>"
      ],
      "text/plain": [
       "<IPython.core.display.HTML object>"
      ]
     },
     "metadata": {},
     "output_type": "display_data"
    },
    {
     "name": "stdout",
     "output_type": "stream",
     "text": [
      "2016:               0\n",
      "WiSe 16/17:         0 ┬        +0        \n",
      "WiSe 15/16:         0 ┘      \n"
     ]
    },
    {
     "data": {
      "text/markdown": [
       "[Zurück zum Inhaltsverzeichnis](#Inhaltsverzeichnis)"
      ],
      "text/plain": [
       "<IPython.core.display.Markdown object>"
      ]
     },
     "metadata": {},
     "output_type": "display_data"
    },
    {
     "data": {
      "text/html": [
       "<h4 id='Beispiele'>==== Beispiele ====</h4>"
      ],
      "text/plain": [
       "<IPython.core.display.HTML object>"
      ]
     },
     "metadata": {},
     "output_type": "display_data"
    },
    {
     "data": {
      "text/html": [
       "<h5>Seitenaufrufe Artikel</h5>"
      ],
      "text/plain": [
       "<IPython.core.display.HTML object>"
      ]
     },
     "metadata": {},
     "output_type": "display_data"
    },
    {
     "name": "stdout",
     "output_type": "stream",
     "text": [
      "2016:               0\n",
      "WiSe 16/17:         0 ┬        +0        \n",
      "WiSe 15/16:         0 ┘      \n"
     ]
    },
    {
     "data": {
      "text/markdown": [
       "[Zurück zum Inhaltsverzeichnis](#Inhaltsverzeichnis)"
      ],
      "text/plain": [
       "<IPython.core.display.Markdown object>"
      ]
     },
     "metadata": {},
     "output_type": "display_data"
    },
    {
     "data": {
      "text/html": [
       "<h4 id='Affine Abbildungen'>==== Affine Abbildungen ====</h4>"
      ],
      "text/plain": [
       "<IPython.core.display.HTML object>"
      ]
     },
     "metadata": {},
     "output_type": "display_data"
    },
    {
     "data": {
      "text/html": [
       "<h5>Seitenaufrufe Artikel</h5>"
      ],
      "text/plain": [
       "<IPython.core.display.HTML object>"
      ]
     },
     "metadata": {},
     "output_type": "display_data"
    },
    {
     "name": "stdout",
     "output_type": "stream",
     "text": [
      "2016:               0\n",
      "WiSe 16/17:         0 ┬        +0        \n",
      "WiSe 15/16:         0 ┘      \n"
     ]
    },
    {
     "data": {
      "text/markdown": [
       "[Zurück zum Inhaltsverzeichnis](#Inhaltsverzeichnis)"
      ],
      "text/plain": [
       "<IPython.core.display.Markdown object>"
      ]
     },
     "metadata": {},
     "output_type": "display_data"
    },
    {
     "data": {
      "text/html": [
       "<h2 id='Buchanfänge'>== Buchanfänge ==</h2>"
      ],
      "text/plain": [
       "<IPython.core.display.HTML object>"
      ]
     },
     "metadata": {},
     "output_type": "display_data"
    },
    {
     "data": {
      "text/html": [
       "<h6>Artikel + Unterartikel: Seitenaufrufe 2016</h6>"
      ],
      "text/plain": [
       "<IPython.core.display.HTML object>"
      ]
     },
     "metadata": {},
     "output_type": "display_data"
    },
    {
     "data": {
      "image/png": "[encoded data removed]",
      "text/plain": [
       "<matplotlib.figure.Figure at 0x7f3eb960a128>"
      ]
     },
     "metadata": {},
     "output_type": "display_data"
    },
    {
     "name": "stdout",
     "output_type": "stream",
     "text": [
      "Summe:    19.052\n",
      "Mean:      1.120\n"
     ]
    },
    {
     "data": {
      "text/html": [
       "<h6>Artikel + Unterartikel: Seitenaufrufe WiSe 2016/17</h6>"
      ],
      "text/plain": [
       "<IPython.core.display.HTML object>"
      ]
     },
     "metadata": {},
     "output_type": "display_data"
    },
    {
     "data": {
      "image/png": "[encoded data removed]",
      "text/plain": [
       "<matplotlib.figure.Figure at 0x7f3eb9494ef0>"
      ]
     },
     "metadata": {},
     "output_type": "display_data"
    },
    {
     "name": "stdout",
     "output_type": "stream",
     "text": [
      "Summe:    12.469\n",
      "Mean:        733\n"
     ]
    },
    {
     "data": {
      "text/html": [
       "<h6>Artikel + Unterartikel: Differenz Seitenaufrufe WiSe 2016/17 zu WiSe 2015/16</h6>"
      ],
      "text/plain": [
       "<IPython.core.display.HTML object>"
      ]
     },
     "metadata": {},
     "output_type": "display_data"
    },
    {
     "data": {
      "image/png": "[encoded data removed]",
      "text/plain": [
       "<matplotlib.figure.Figure at 0x7f3eb94aa940>"
      ]
     },
     "metadata": {},
     "output_type": "display_data"
    },
    {
     "name": "stdout",
     "output_type": "stream",
     "text": [
      "Summe:    -2.265\n",
      "Mean:       -133\n"
     ]
    },
    {
     "data": {
      "text/html": [
       "<h6>Artikel + Unterartikel: Quotient Seitenaufrufe MFNF / Wikipedia</h6>"
      ],
      "text/plain": [
       "<IPython.core.display.HTML object>"
      ]
     },
     "metadata": {},
     "output_type": "display_data"
    },
    {
     "data": {
      "image/png": "[encoded data removed]",
      "text/plain": [
       "<matplotlib.figure.Figure at 0x7f3eb9484898>"
      ]
     },
     "metadata": {},
     "output_type": "display_data"
    },
    {
     "name": "stdout",
     "output_type": "stream",
     "text": [
      "Mean:   0%\n"
     ]
    },
    {
     "data": {
      "text/html": [
       "<h5>Seitenaufrufe Artikel</h5>"
      ],
      "text/plain": [
       "<IPython.core.display.HTML object>"
      ]
     },
     "metadata": {},
     "output_type": "display_data"
    },
    {
     "name": "stdout",
     "output_type": "stream",
     "text": [
      "2016:           4.889\n",
      "WiSe 16/17:     2.190 ┬    -1.362 (-38%)\n",
      "WiSe 15/16:     3.552 ┘      \n"
     ]
    },
    {
     "data": {
      "text/markdown": [
       "[Zurück zum Inhaltsverzeichnis](#Inhaltsverzeichnis)"
      ],
      "text/plain": [
       "<IPython.core.display.Markdown object>"
      ]
     },
     "metadata": {},
     "output_type": "display_data"
    },
    {
     "data": {
      "text/html": [
       "<h3 id='Grundlagen der Mathematik'>=== Grundlagen der Mathematik ===</h3>"
      ],
      "text/plain": [
       "<IPython.core.display.HTML object>"
      ]
     },
     "metadata": {},
     "output_type": "display_data"
    },
    {
     "data": {
      "text/markdown": [
       "[Zurück zum Inhaltsverzeichnis](#Inhaltsverzeichnis)"
      ],
      "text/plain": [
       "<IPython.core.display.Markdown object>"
      ]
     },
     "metadata": {},
     "output_type": "display_data"
    },
    {
     "data": {
      "text/html": [
       "<h4 id='Mengenlehre'>==== Mengenlehre ====</h4>"
      ],
      "text/plain": [
       "<IPython.core.display.HTML object>"
      ]
     },
     "metadata": {},
     "output_type": "display_data"
    },
    {
     "data": {
      "text/markdown": [
       "[Zurück zum Inhaltsverzeichnis](#Inhaltsverzeichnis)"
      ],
      "text/plain": [
       "<IPython.core.display.Markdown object>"
      ]
     },
     "metadata": {},
     "output_type": "display_data"
    },
    {
     "data": {
      "text/html": [
       "<h5 id='Tupelmodellierung durch Mengen'>===== Tupelmodellierung durch Mengen =====</h5>"
      ],
      "text/plain": [
       "<IPython.core.display.HTML object>"
      ]
     },
     "metadata": {},
     "output_type": "display_data"
    },
    {
     "data": {
      "text/html": [
       "<h5>Seitenaufrufe Artikel</h5>"
      ],
      "text/plain": [
       "<IPython.core.display.HTML object>"
      ]
     },
     "metadata": {},
     "output_type": "display_data"
    },
    {
     "name": "stdout",
     "output_type": "stream",
     "text": [
      "2016:             469\n",
      "WiSe 16/17:       232 ┬       -44 (-16%)\n",
      "WiSe 15/16:       276 ┘      \n"
     ]
    },
    {
     "data": {
      "text/markdown": [
       "[Zurück zum Inhaltsverzeichnis](#Inhaltsverzeichnis)"
      ],
      "text/plain": [
       "<IPython.core.display.Markdown object>"
      ]
     },
     "metadata": {},
     "output_type": "display_data"
    },
    {
     "data": {
      "text/html": [
       "<h4 id='Mächtigkeit von Mengen'>==== Mächtigkeit von Mengen ====</h4>"
      ],
      "text/plain": [
       "<IPython.core.display.HTML object>"
      ]
     },
     "metadata": {},
     "output_type": "display_data"
    },
    {
     "data": {
      "text/markdown": [
       "[Zurück zum Inhaltsverzeichnis](#Inhaltsverzeichnis)"
      ],
      "text/plain": [
       "<IPython.core.display.Markdown object>"
      ]
     },
     "metadata": {},
     "output_type": "display_data"
    },
    {
     "data": {
      "text/html": [
       "<h5 id='Hilberts Hotel'>===== Hilberts Hotel =====</h5>"
      ],
      "text/plain": [
       "<IPython.core.display.HTML object>"
      ]
     },
     "metadata": {},
     "output_type": "display_data"
    },
    {
     "data": {
      "text/html": [
       "<h5>Seitenaufrufe Artikel</h5>"
      ],
      "text/plain": [
       "<IPython.core.display.HTML object>"
      ]
     },
     "metadata": {},
     "output_type": "display_data"
    },
    {
     "name": "stdout",
     "output_type": "stream",
     "text": [
      "2016:             268\n",
      "WiSe 16/17:       243 ┬      +243        \n",
      "WiSe 15/16:         0 ┘      \n"
     ]
    },
    {
     "data": {
      "text/markdown": [
       "[Zurück zum Inhaltsverzeichnis](#Inhaltsverzeichnis)"
      ],
      "text/plain": [
       "<IPython.core.display.Markdown object>"
      ]
     },
     "metadata": {},
     "output_type": "display_data"
    },
    {
     "data": {
      "text/html": [
       "<h3 id='Analysis 1'>=== Analysis 1 ===</h3>"
      ],
      "text/plain": [
       "<IPython.core.display.HTML object>"
      ]
     },
     "metadata": {},
     "output_type": "display_data"
    },
    {
     "data": {
      "text/markdown": [
       "[Zurück zum Inhaltsverzeichnis](#Inhaltsverzeichnis)"
      ],
      "text/plain": [
       "<IPython.core.display.Markdown object>"
      ]
     },
     "metadata": {},
     "output_type": "display_data"
    },
    {
     "data": {
      "text/html": [
       "<h4 id='Reihen'>==== Reihen ====</h4>"
      ],
      "text/plain": [
       "<IPython.core.display.HTML object>"
      ]
     },
     "metadata": {},
     "output_type": "display_data"
    },
    {
     "data": {
      "text/markdown": [
       "[Zurück zum Inhaltsverzeichnis](#Inhaltsverzeichnis)"
      ],
      "text/plain": [
       "<IPython.core.display.Markdown object>"
      ]
     },
     "metadata": {},
     "output_type": "display_data"
    },
    {
     "data": {
      "text/html": [
       "<h5 id='Cauchy-Produkt von Reihen'>===== Cauchy-Produkt von Reihen =====</h5>"
      ],
      "text/plain": [
       "<IPython.core.display.HTML object>"
      ]
     },
     "metadata": {},
     "output_type": "display_data"
    },
    {
     "data": {
      "text/html": [
       "<h5>Seitenaufrufe Artikel</h5>"
      ],
      "text/plain": [
       "<IPython.core.display.HTML object>"
      ]
     },
     "metadata": {},
     "output_type": "display_data"
    },
    {
     "name": "stdout",
     "output_type": "stream",
     "text": [
      "2016:               0\n",
      "WiSe 16/17:         0 ┬        +0        \n",
      "WiSe 15/16:         0 ┘      \n"
     ]
    },
    {
     "data": {
      "text/markdown": [
       "[Zurück zum Inhaltsverzeichnis](#Inhaltsverzeichnis)"
      ],
      "text/plain": [
       "<IPython.core.display.Markdown object>"
      ]
     },
     "metadata": {},
     "output_type": "display_data"
    },
    {
     "data": {
      "text/html": [
       "<h5 id='Summierbare Familien'>===== Summierbare Familien =====</h5>"
      ],
      "text/plain": [
       "<IPython.core.display.HTML object>"
      ]
     },
     "metadata": {},
     "output_type": "display_data"
    },
    {
     "data": {
      "text/html": [
       "<h5>Seitenaufrufe Artikel</h5>"
      ],
      "text/plain": [
       "<IPython.core.display.HTML object>"
      ]
     },
     "metadata": {},
     "output_type": "display_data"
    },
    {
     "name": "stdout",
     "output_type": "stream",
     "text": [
      "2016:               0\n",
      "WiSe 16/17:         0 ┬        +0        \n",
      "WiSe 15/16:         0 ┘      \n"
     ]
    },
    {
     "data": {
      "text/markdown": [
       "[Zurück zum Inhaltsverzeichnis](#Inhaltsverzeichnis)"
      ],
      "text/plain": [
       "<IPython.core.display.Markdown object>"
      ]
     },
     "metadata": {},
     "output_type": "display_data"
    },
    {
     "data": {
      "text/html": [
       "<h5 id='Banachscher Fixpunktsatz'>===== Banachscher Fixpunktsatz =====</h5>"
      ],
      "text/plain": [
       "<IPython.core.display.HTML object>"
      ]
     },
     "metadata": {},
     "output_type": "display_data"
    },
    {
     "data": {
      "text/html": [
       "<h5>Seitenaufrufe Artikel</h5>"
      ],
      "text/plain": [
       "<IPython.core.display.HTML object>"
      ]
     },
     "metadata": {},
     "output_type": "display_data"
    },
    {
     "name": "stdout",
     "output_type": "stream",
     "text": [
      "2016:             623\n",
      "WiSe 16/17:     1.000 ┬    +1.000        \n",
      "WiSe 15/16:         0 ┘      \n"
     ]
    },
    {
     "data": {
      "text/markdown": [
       "[Zurück zum Inhaltsverzeichnis](#Inhaltsverzeichnis)"
      ],
      "text/plain": [
       "<IPython.core.display.Markdown object>"
      ]
     },
     "metadata": {},
     "output_type": "display_data"
    },
    {
     "data": {
      "text/html": [
       "<h4 id='Unendliche Produkte'>==== Unendliche Produkte ====</h4>"
      ],
      "text/plain": [
       "<IPython.core.display.HTML object>"
      ]
     },
     "metadata": {},
     "output_type": "display_data"
    },
    {
     "data": {
      "text/markdown": [
       "[Zurück zum Inhaltsverzeichnis](#Inhaltsverzeichnis)"
      ],
      "text/plain": [
       "<IPython.core.display.Markdown object>"
      ]
     },
     "metadata": {},
     "output_type": "display_data"
    },
    {
     "data": {
      "text/html": [
       "<h5 id='Teleskopprodukte'>===== Teleskopprodukte =====</h5>"
      ],
      "text/plain": [
       "<IPython.core.display.HTML object>"
      ]
     },
     "metadata": {},
     "output_type": "display_data"
    },
    {
     "data": {
      "text/html": [
       "<h5>Seitenaufrufe Artikel</h5>"
      ],
      "text/plain": [
       "<IPython.core.display.HTML object>"
      ]
     },
     "metadata": {},
     "output_type": "display_data"
    },
    {
     "name": "stdout",
     "output_type": "stream",
     "text": [
      "2016:             393\n",
      "WiSe 16/17:       369 ┬      +326 (+758%)\n",
      "WiSe 15/16:        43 ┘      \n"
     ]
    },
    {
     "data": {
      "text/markdown": [
       "[Zurück zum Inhaltsverzeichnis](#Inhaltsverzeichnis)"
      ],
      "text/plain": [
       "<IPython.core.display.Markdown object>"
      ]
     },
     "metadata": {},
     "output_type": "display_data"
    },
    {
     "data": {
      "text/html": [
       "<h4 id='Taylor- und Potenzreihen'>==== Taylor- und Potenzreihen ====</h4>"
      ],
      "text/plain": [
       "<IPython.core.display.HTML object>"
      ]
     },
     "metadata": {},
     "output_type": "display_data"
    },
    {
     "data": {
      "text/markdown": [
       "[Zurück zum Inhaltsverzeichnis](#Inhaltsverzeichnis)"
      ],
      "text/plain": [
       "<IPython.core.display.Markdown object>"
      ]
     },
     "metadata": {},
     "output_type": "display_data"
    },
    {
     "data": {
      "text/html": [
       "<h5 id='Aufgaben Taylorreihen'>===== Aufgaben Taylorreihen =====</h5>"
      ],
      "text/plain": [
       "<IPython.core.display.HTML object>"
      ]
     },
     "metadata": {},
     "output_type": "display_data"
    },
    {
     "data": {
      "text/html": [
       "<h5>Seitenaufrufe Artikel</h5>"
      ],
      "text/plain": [
       "<IPython.core.display.HTML object>"
      ]
     },
     "metadata": {},
     "output_type": "display_data"
    },
    {
     "name": "stdout",
     "output_type": "stream",
     "text": [
      "2016:              70\n",
      "WiSe 16/17:       240 ┬      +240        \n",
      "WiSe 15/16:         0 ┘      \n"
     ]
    },
    {
     "data": {
      "text/markdown": [
       "[Zurück zum Inhaltsverzeichnis](#Inhaltsverzeichnis)"
      ],
      "text/plain": [
       "<IPython.core.display.Markdown object>"
      ]
     },
     "metadata": {},
     "output_type": "display_data"
    },
    {
     "data": {
      "text/html": [
       "<h5 id='Aufgaben Potenzreihen'>===== Aufgaben Potenzreihen =====</h5>"
      ],
      "text/plain": [
       "<IPython.core.display.HTML object>"
      ]
     },
     "metadata": {},
     "output_type": "display_data"
    },
    {
     "data": {
      "text/html": [
       "<h5>Seitenaufrufe Artikel</h5>"
      ],
      "text/plain": [
       "<IPython.core.display.HTML object>"
      ]
     },
     "metadata": {},
     "output_type": "display_data"
    },
    {
     "name": "stdout",
     "output_type": "stream",
     "text": [
      "2016:              35\n",
      "WiSe 16/17:       164 ┬      +164        \n",
      "WiSe 15/16:         0 ┘      \n"
     ]
    },
    {
     "data": {
      "text/markdown": [
       "[Zurück zum Inhaltsverzeichnis](#Inhaltsverzeichnis)"
      ],
      "text/plain": [
       "<IPython.core.display.Markdown object>"
      ]
     },
     "metadata": {},
     "output_type": "display_data"
    },
    {
     "data": {
      "text/html": [
       "<h4 id='Differenzierbarkeit'>==== Differenzierbarkeit ====</h4>"
      ],
      "text/plain": [
       "<IPython.core.display.HTML object>"
      ]
     },
     "metadata": {},
     "output_type": "display_data"
    },
    {
     "data": {
      "text/markdown": [
       "[Zurück zum Inhaltsverzeichnis](#Inhaltsverzeichnis)"
      ],
      "text/plain": [
       "<IPython.core.display.Markdown object>"
      ]
     },
     "metadata": {},
     "output_type": "display_data"
    },
    {
     "data": {
      "text/html": [
       "<h5 id='Konvexe Funktionen und Wendepunkte'>===== Konvexe Funktionen und Wendepunkte =====</h5>"
      ],
      "text/plain": [
       "<IPython.core.display.HTML object>"
      ]
     },
     "metadata": {},
     "output_type": "display_data"
    },
    {
     "data": {
      "text/html": [
       "<h5>Seitenaufrufe Artikel</h5>"
      ],
      "text/plain": [
       "<IPython.core.display.HTML object>"
      ]
     },
     "metadata": {},
     "output_type": "display_data"
    },
    {
     "name": "stdout",
     "output_type": "stream",
     "text": [
      "2016:               0\n",
      "WiSe 16/17:         0 ┬        +0        \n",
      "WiSe 15/16:         0 ┘      \n"
     ]
    },
    {
     "data": {
      "text/markdown": [
       "[Zurück zum Inhaltsverzeichnis](#Inhaltsverzeichnis)"
      ],
      "text/plain": [
       "<IPython.core.display.Markdown object>"
      ]
     },
     "metadata": {},
     "output_type": "display_data"
    },
    {
     "data": {
      "text/html": [
       "<h4 id='Integrale'>==== Integrale ====</h4>"
      ],
      "text/plain": [
       "<IPython.core.display.HTML object>"
      ]
     },
     "metadata": {},
     "output_type": "display_data"
    },
    {
     "data": {
      "text/markdown": [
       "[Zurück zum Inhaltsverzeichnis](#Inhaltsverzeichnis)"
      ],
      "text/plain": [
       "<IPython.core.display.Markdown object>"
      ]
     },
     "metadata": {},
     "output_type": "display_data"
    },
    {
     "data": {
      "text/html": [
       "<h5 id='Treppenfunktionen'>===== Treppenfunktionen =====</h5>"
      ],
      "text/plain": [
       "<IPython.core.display.HTML object>"
      ]
     },
     "metadata": {},
     "output_type": "display_data"
    },
    {
     "data": {
      "text/html": [
       "<h5>Seitenaufrufe Artikel</h5>"
      ],
      "text/plain": [
       "<IPython.core.display.HTML object>"
      ]
     },
     "metadata": {},
     "output_type": "display_data"
    },
    {
     "name": "stdout",
     "output_type": "stream",
     "text": [
      "2016:             163\n",
      "WiSe 16/17:       449 ┬      +449        \n",
      "WiSe 15/16:         0 ┘      \n"
     ]
    },
    {
     "data": {
      "text/markdown": [
       "[Zurück zum Inhaltsverzeichnis](#Inhaltsverzeichnis)"
      ],
      "text/plain": [
       "<IPython.core.display.Markdown object>"
      ]
     },
     "metadata": {},
     "output_type": "display_data"
    },
    {
     "data": {
      "text/html": [
       "<h5 id='Regelfunktionen und Regelintegral'>===== Regelfunktionen und Regelintegral =====</h5>"
      ],
      "text/plain": [
       "<IPython.core.display.HTML object>"
      ]
     },
     "metadata": {},
     "output_type": "display_data"
    },
    {
     "data": {
      "text/html": [
       "<h5>Seitenaufrufe Artikel</h5>"
      ],
      "text/plain": [
       "<IPython.core.display.HTML object>"
      ]
     },
     "metadata": {},
     "output_type": "display_data"
    },
    {
     "name": "stdout",
     "output_type": "stream",
     "text": [
      "2016:               0\n",
      "WiSe 16/17:       170 ┬      +170        \n",
      "WiSe 15/16:         0 ┘      \n"
     ]
    },
    {
     "data": {
      "text/markdown": [
       "[Zurück zum Inhaltsverzeichnis](#Inhaltsverzeichnis)"
      ],
      "text/plain": [
       "<IPython.core.display.Markdown object>"
      ]
     },
     "metadata": {},
     "output_type": "display_data"
    },
    {
     "data": {
      "text/html": [
       "<h3 id='Algebra'>=== Algebra ===</h3>"
      ],
      "text/plain": [
       "<IPython.core.display.HTML object>"
      ]
     },
     "metadata": {},
     "output_type": "display_data"
    },
    {
     "data": {
      "text/markdown": [
       "[Zurück zum Inhaltsverzeichnis](#Inhaltsverzeichnis)"
      ],
      "text/plain": [
       "<IPython.core.display.Markdown object>"
      ]
     },
     "metadata": {},
     "output_type": "display_data"
    },
    {
     "data": {
      "text/html": [
       "<h4 id='Auf dem Weg zur Gruppe'>==== Auf dem Weg zur Gruppe ====</h4>"
      ],
      "text/plain": [
       "<IPython.core.display.HTML object>"
      ]
     },
     "metadata": {},
     "output_type": "display_data"
    },
    {
     "data": {
      "text/html": [
       "<h5>Seitenaufrufe Artikel</h5>"
      ],
      "text/plain": [
       "<IPython.core.display.HTML object>"
      ]
     },
     "metadata": {},
     "output_type": "display_data"
    },
    {
     "name": "stdout",
     "output_type": "stream",
     "text": [
      "2016:           3.352\n",
      "WiSe 16/17:     1.674 ┬    -1.777 (-51%)\n",
      "WiSe 15/16:     3.451 ┘      \n"
     ]
    },
    {
     "data": {
      "text/markdown": [
       "[Zurück zum Inhaltsverzeichnis](#Inhaltsverzeichnis)"
      ],
      "text/plain": [
       "<IPython.core.display.Markdown object>"
      ]
     },
     "metadata": {},
     "output_type": "display_data"
    },
    {
     "data": {
      "text/html": [
       "<h4 id='Grundlegende Eigenschaften'>==== Grundlegende Eigenschaften ====</h4>"
      ],
      "text/plain": [
       "<IPython.core.display.HTML object>"
      ]
     },
     "metadata": {},
     "output_type": "display_data"
    },
    {
     "data": {
      "text/html": [
       "<h5>Seitenaufrufe Artikel</h5>"
      ],
      "text/plain": [
       "<IPython.core.display.HTML object>"
      ]
     },
     "metadata": {},
     "output_type": "display_data"
    },
    {
     "name": "stdout",
     "output_type": "stream",
     "text": [
      "2016:           3.695\n",
      "WiSe 16/17:     1.814 ┬    -2.319 (-56%)\n",
      "WiSe 15/16:     4.133 ┘      \n"
     ]
    },
    {
     "data": {
      "text/markdown": [
       "[Zurück zum Inhaltsverzeichnis](#Inhaltsverzeichnis)"
      ],
      "text/plain": [
       "<IPython.core.display.Markdown object>"
      ]
     },
     "metadata": {},
     "output_type": "display_data"
    },
    {
     "data": {
      "text/html": [
       "<h4 id='Untergruppen und Nebenklassen'>==== Untergruppen und Nebenklassen ====</h4>"
      ],
      "text/plain": [
       "<IPython.core.display.HTML object>"
      ]
     },
     "metadata": {},
     "output_type": "display_data"
    },
    {
     "data": {
      "text/html": [
       "<h5>Seitenaufrufe Artikel</h5>"
      ],
      "text/plain": [
       "<IPython.core.display.HTML object>"
      ]
     },
     "metadata": {},
     "output_type": "display_data"
    },
    {
     "name": "stdout",
     "output_type": "stream",
     "text": [
      "2016:           4.472\n",
      "WiSe 16/17:     2.671 ┬      -608 (-19%)\n",
      "WiSe 15/16:     3.279 ┘      \n"
     ]
    },
    {
     "data": {
      "text/markdown": [
       "[Zurück zum Inhaltsverzeichnis](#Inhaltsverzeichnis)"
      ],
      "text/plain": [
       "<IPython.core.display.Markdown object>"
      ]
     },
     "metadata": {},
     "output_type": "display_data"
    },
    {
     "data": {
      "text/html": [
       "<h3 id='Gewöhnliche Differentialgleichungen'>=== Gewöhnliche Differentialgleichungen ===</h3>"
      ],
      "text/plain": [
       "<IPython.core.display.HTML object>"
      ]
     },
     "metadata": {},
     "output_type": "display_data"
    },
    {
     "data": {
      "text/markdown": [
       "[Zurück zum Inhaltsverzeichnis](#Inhaltsverzeichnis)"
      ],
      "text/plain": [
       "<IPython.core.display.Markdown object>"
      ]
     },
     "metadata": {},
     "output_type": "display_data"
    },
    {
     "data": {
      "text/html": [
       "<h4 id='Wozu gewöhnliche Differentialgleichungen?'>==== Wozu gewöhnliche Differentialgleichungen? ====</h4>"
      ],
      "text/plain": [
       "<IPython.core.display.HTML object>"
      ]
     },
     "metadata": {},
     "output_type": "display_data"
    },
    {
     "data": {
      "text/html": [
       "<h5>Seitenaufrufe Artikel</h5>"
      ],
      "text/plain": [
       "<IPython.core.display.HTML object>"
      ]
     },
     "metadata": {},
     "output_type": "display_data"
    },
    {
     "name": "stdout",
     "output_type": "stream",
     "text": [
      "2016:             475\n",
      "WiSe 16/17:       957 ┬      +957        \n",
      "WiSe 15/16:         0 ┘      \n"
     ]
    },
    {
     "data": {
      "text/markdown": [
       "[Zurück zum Inhaltsverzeichnis](#Inhaltsverzeichnis)"
      ],
      "text/plain": [
       "<IPython.core.display.Markdown object>"
      ]
     },
     "metadata": {},
     "output_type": "display_data"
    },
    {
     "data": {
      "text/html": [
       "<h3 id='Abstellraum'>=== Abstellraum ===</h3>"
      ],
      "text/plain": [
       "<IPython.core.display.HTML object>"
      ]
     },
     "metadata": {},
     "output_type": "display_data"
    },
    {
     "data": {
      "text/markdown": [
       "[Zurück zum Inhaltsverzeichnis](#Inhaltsverzeichnis)"
      ],
      "text/plain": [
       "<IPython.core.display.Markdown object>"
      ]
     },
     "metadata": {},
     "output_type": "display_data"
    },
    {
     "data": {
      "text/html": [
       "<h4 id='Abstellraum'>==== Abstellraum ====</h4>"
      ],
      "text/plain": [
       "<IPython.core.display.HTML object>"
      ]
     },
     "metadata": {},
     "output_type": "display_data"
    },
    {
     "data": {
      "text/html": [
       "<h5>Seitenaufrufe Artikel</h5>"
      ],
      "text/plain": [
       "<IPython.core.display.HTML object>"
      ]
     },
     "metadata": {},
     "output_type": "display_data"
    },
    {
     "name": "stdout",
     "output_type": "stream",
     "text": [
      "2016:             148\n",
      "WiSe 16/17:       296 ┬      +296        \n",
      "WiSe 15/16:         0 ┘      \n"
     ]
    },
    {
     "data": {
      "text/markdown": [
       "[Zurück zum Inhaltsverzeichnis](#Inhaltsverzeichnis)"
      ],
      "text/plain": [
       "<IPython.core.display.Markdown object>"
      ]
     },
     "metadata": {},
     "output_type": "display_data"
    },
    {
     "data": {
      "text/html": [
       "<h2 id='Informationen zum Projekt'>== Informationen zum Projekt ==</h2>"
      ],
      "text/plain": [
       "<IPython.core.display.HTML object>"
      ]
     },
     "metadata": {},
     "output_type": "display_data"
    },
    {
     "data": {
      "text/html": [
       "<h6>Artikel + Unterartikel: Seitenaufrufe 2016</h6>"
      ],
      "text/plain": [
       "<IPython.core.display.HTML object>"
      ]
     },
     "metadata": {},
     "output_type": "display_data"
    },
    {
     "data": {
      "image/png": "[encoded data removed]",
      "text/plain": [
       "<matplotlib.figure.Figure at 0x7f3eb9310588>"
      ]
     },
     "metadata": {},
     "output_type": "display_data"
    },
    {
     "name": "stdout",
     "output_type": "stream",
     "text": [
      "Summe:    16.771\n",
      "Mean:        882\n"
     ]
    },
    {
     "data": {
      "text/html": [
       "<h6>Artikel + Unterartikel: Seitenaufrufe WiSe 2016/17</h6>"
      ],
      "text/plain": [
       "<IPython.core.display.HTML object>"
      ]
     },
     "metadata": {},
     "output_type": "display_data"
    },
    {
     "data": {
      "image/png": "[encoded data removed]",
      "text/plain": [
       "<matplotlib.figure.Figure at 0x7f3eb9795828>"
      ]
     },
     "metadata": {},
     "output_type": "display_data"
    },
    {
     "name": "stdout",
     "output_type": "stream",
     "text": [
      "Summe:     8.202\n",
      "Mean:        431\n"
     ]
    },
    {
     "data": {
      "text/html": [
       "<h6>Artikel + Unterartikel: Differenz Seitenaufrufe WiSe 2016/17 zu WiSe 2015/16</h6>"
      ],
      "text/plain": [
       "<IPython.core.display.HTML object>"
      ]
     },
     "metadata": {},
     "output_type": "display_data"
    },
    {
     "data": {
      "image/png": "[encoded data removed]",
      "text/plain": [
       "<matplotlib.figure.Figure at 0x7f3eb97fb8d0>"
      ]
     },
     "metadata": {},
     "output_type": "display_data"
    },
    {
     "name": "stdout",
     "output_type": "stream",
     "text": [
      "Summe:       519\n",
      "Mean:         27\n"
     ]
    },
    {
     "data": {
      "text/html": [
       "<h6>Artikel + Unterartikel: Quotient Seitenaufrufe MFNF / Wikipedia</h6>"
      ],
      "text/plain": [
       "<IPython.core.display.HTML object>"
      ]
     },
     "metadata": {},
     "output_type": "display_data"
    },
    {
     "data": {
      "image/png": "[encoded data removed]",
      "text/plain": [
       "<matplotlib.figure.Figure at 0x7f3eb92cdb38>"
      ]
     },
     "metadata": {},
     "output_type": "display_data"
    },
    {
     "name": "stdout",
     "output_type": "stream",
     "text": [
      "Mean:   0%\n"
     ]
    },
    {
     "data": {
      "text/html": [
       "<h5>Seitenaufrufe Artikel</h5>"
      ],
      "text/plain": [
       "<IPython.core.display.HTML object>"
      ]
     },
     "metadata": {},
     "output_type": "display_data"
    },
    {
     "name": "stdout",
     "output_type": "stream",
     "text": [
      "2016:           2.687\n",
      "WiSe 16/17:     1.355 ┬       -75 ( -5%)\n",
      "WiSe 15/16:     1.430 ┘      \n"
     ]
    },
    {
     "data": {
      "text/markdown": [
       "[Zurück zum Inhaltsverzeichnis](#Inhaltsverzeichnis)"
      ],
      "text/plain": [
       "<IPython.core.display.Markdown object>"
      ]
     },
     "metadata": {},
     "output_type": "display_data"
    },
    {
     "data": {
      "text/html": [
       "<h3 id='Über das Projekt'>=== Über das Projekt ===</h3>"
      ],
      "text/plain": [
       "<IPython.core.display.HTML object>"
      ]
     },
     "metadata": {},
     "output_type": "display_data"
    },
    {
     "data": {
      "text/markdown": [
       "[Zurück zum Inhaltsverzeichnis](#Inhaltsverzeichnis)"
      ],
      "text/plain": [
       "<IPython.core.display.Markdown object>"
      ]
     },
     "metadata": {},
     "output_type": "display_data"
    },
    {
     "data": {
      "text/html": [
       "<h4 id='Über das Projekt'>==== Über das Projekt ====</h4>"
      ],
      "text/plain": [
       "<IPython.core.display.HTML object>"
      ]
     },
     "metadata": {},
     "output_type": "display_data"
    },
    {
     "data": {
      "text/html": [
       "<h5>Seitenaufrufe Artikel</h5>"
      ],
      "text/plain": [
       "<IPython.core.display.HTML object>"
      ]
     },
     "metadata": {},
     "output_type": "display_data"
    },
    {
     "name": "stdout",
     "output_type": "stream",
     "text": [
      "2016:           1.269\n",
      "WiSe 16/17:       621 ┬       -59 ( -9%)\n",
      "WiSe 15/16:       680 ┘      \n"
     ]
    },
    {
     "data": {
      "text/markdown": [
       "[Zurück zum Inhaltsverzeichnis](#Inhaltsverzeichnis)"
      ],
      "text/plain": [
       "<IPython.core.display.Markdown object>"
      ]
     },
     "metadata": {},
     "output_type": "display_data"
    },
    {
     "data": {
      "text/html": [
       "<h4 id='Unterstütze uns!'>==== Unterstütze uns! ====</h4>"
      ],
      "text/plain": [
       "<IPython.core.display.HTML object>"
      ]
     },
     "metadata": {},
     "output_type": "display_data"
    },
    {
     "data": {
      "text/html": [
       "<h5>Seitenaufrufe Artikel</h5>"
      ],
      "text/plain": [
       "<IPython.core.display.HTML object>"
      ]
     },
     "metadata": {},
     "output_type": "display_data"
    },
    {
     "name": "stdout",
     "output_type": "stream",
     "text": [
      "2016:             468\n",
      "WiSe 16/17:       236 ┬      +148 (+168%)\n",
      "WiSe 15/16:        88 ┘      \n"
     ]
    },
    {
     "data": {
      "text/markdown": [
       "[Zurück zum Inhaltsverzeichnis](#Inhaltsverzeichnis)"
      ],
      "text/plain": [
       "<IPython.core.display.Markdown object>"
      ]
     },
     "metadata": {},
     "output_type": "display_data"
    },
    {
     "data": {
      "text/html": [
       "<h4 id='Kopiere uns!'>==== Kopiere uns! ====</h4>"
      ],
      "text/plain": [
       "<IPython.core.display.HTML object>"
      ]
     },
     "metadata": {},
     "output_type": "display_data"
    },
    {
     "data": {
      "text/html": [
       "<h5>Seitenaufrufe Artikel</h5>"
      ],
      "text/plain": [
       "<IPython.core.display.HTML object>"
      ]
     },
     "metadata": {},
     "output_type": "display_data"
    },
    {
     "name": "stdout",
     "output_type": "stream",
     "text": [
      "2016:           1.056\n",
      "WiSe 16/17:       425 ┬       -64 (-13%)\n",
      "WiSe 15/16:       489 ┘      \n"
     ]
    },
    {
     "data": {
      "text/markdown": [
       "[Zurück zum Inhaltsverzeichnis](#Inhaltsverzeichnis)"
      ],
      "text/plain": [
       "<IPython.core.display.Markdown object>"
      ]
     },
     "metadata": {},
     "output_type": "display_data"
    },
    {
     "data": {
      "text/html": [
       "<h4 id='Kontakt'>==== Kontakt ====</h4>"
      ],
      "text/plain": [
       "<IPython.core.display.HTML object>"
      ]
     },
     "metadata": {},
     "output_type": "display_data"
    },
    {
     "data": {
      "text/html": [
       "<h5>Seitenaufrufe Artikel</h5>"
      ],
      "text/plain": [
       "<IPython.core.display.HTML object>"
      ]
     },
     "metadata": {},
     "output_type": "display_data"
    },
    {
     "name": "stdout",
     "output_type": "stream",
     "text": [
      "2016:           1.258\n",
      "WiSe 16/17:       706 ┬       -77 (-10%)\n",
      "WiSe 15/16:       783 ┘      \n"
     ]
    },
    {
     "data": {
      "text/markdown": [
       "[Zurück zum Inhaltsverzeichnis](#Inhaltsverzeichnis)"
      ],
      "text/plain": [
       "<IPython.core.display.Markdown object>"
      ]
     },
     "metadata": {},
     "output_type": "display_data"
    },
    {
     "data": {
      "text/html": [
       "<h4 id='Spenden'>==== Spenden ====</h4>"
      ],
      "text/plain": [
       "<IPython.core.display.HTML object>"
      ]
     },
     "metadata": {},
     "output_type": "display_data"
    },
    {
     "data": {
      "text/html": [
       "<h5>Seitenaufrufe Artikel</h5>"
      ],
      "text/plain": [
       "<IPython.core.display.HTML object>"
      ]
     },
     "metadata": {},
     "output_type": "display_data"
    },
    {
     "name": "stdout",
     "output_type": "stream",
     "text": [
      "2016:             318\n",
      "WiSe 16/17:       149 ┬       +22 (+17%)\n",
      "WiSe 15/16:       127 ┘      \n"
     ]
    },
    {
     "data": {
      "text/markdown": [
       "[Zurück zum Inhaltsverzeichnis](#Inhaltsverzeichnis)"
      ],
      "text/plain": [
       "<IPython.core.display.Markdown object>"
      ]
     },
     "metadata": {},
     "output_type": "display_data"
    },
    {
     "data": {
      "text/html": [
       "<h4 id='Ziele des Projekts'>==== Ziele des Projekts ====</h4>"
      ],
      "text/plain": [
       "<IPython.core.display.HTML object>"
      ]
     },
     "metadata": {},
     "output_type": "display_data"
    },
    {
     "data": {
      "text/html": [
       "<h5>Seitenaufrufe Artikel</h5>"
      ],
      "text/plain": [
       "<IPython.core.display.HTML object>"
      ]
     },
     "metadata": {},
     "output_type": "display_data"
    },
    {
     "name": "stdout",
     "output_type": "stream",
     "text": [
      "2016:             324\n",
      "WiSe 16/17:       132 ┬       -47 (-26%)\n",
      "WiSe 15/16:       179 ┘      \n"
     ]
    },
    {
     "data": {
      "text/markdown": [
       "[Zurück zum Inhaltsverzeichnis](#Inhaltsverzeichnis)"
      ],
      "text/plain": [
       "<IPython.core.display.Markdown object>"
      ]
     },
     "metadata": {},
     "output_type": "display_data"
    },
    {
     "data": {
      "text/html": [
       "<h4 id='Freie Bildungsmaterialien'>==== Freie Bildungsmaterialien ====</h4>"
      ],
      "text/plain": [
       "<IPython.core.display.HTML object>"
      ]
     },
     "metadata": {},
     "output_type": "display_data"
    },
    {
     "data": {
      "text/html": [
       "<h5>Seitenaufrufe Artikel</h5>"
      ],
      "text/plain": [
       "<IPython.core.display.HTML object>"
      ]
     },
     "metadata": {},
     "output_type": "display_data"
    },
    {
     "name": "stdout",
     "output_type": "stream",
     "text": [
      "2016:             526\n",
      "WiSe 16/17:       271 ┬        -8 ( -3%)\n",
      "WiSe 15/16:       279 ┘      \n"
     ]
    },
    {
     "data": {
      "text/markdown": [
       "[Zurück zum Inhaltsverzeichnis](#Inhaltsverzeichnis)"
      ],
      "text/plain": [
       "<IPython.core.display.Markdown object>"
      ]
     },
     "metadata": {},
     "output_type": "display_data"
    },
    {
     "data": {
      "text/html": [
       "<h4 id='Presse und Blogbeiträge'>==== Presse und Blogbeiträge ====</h4>"
      ],
      "text/plain": [
       "<IPython.core.display.HTML object>"
      ]
     },
     "metadata": {},
     "output_type": "display_data"
    },
    {
     "data": {
      "text/html": [
       "<h5>Seitenaufrufe Artikel</h5>"
      ],
      "text/plain": [
       "<IPython.core.display.HTML object>"
      ]
     },
     "metadata": {},
     "output_type": "display_data"
    },
    {
     "name": "stdout",
     "output_type": "stream",
     "text": [
      "2016:             209\n",
      "WiSe 16/17:        98 ┬       +51 (+109%)\n",
      "WiSe 15/16:        47 ┘      \n"
     ]
    },
    {
     "data": {
      "text/markdown": [
       "[Zurück zum Inhaltsverzeichnis](#Inhaltsverzeichnis)"
      ],
      "text/plain": [
       "<IPython.core.display.Markdown object>"
      ]
     },
     "metadata": {},
     "output_type": "display_data"
    },
    {
     "data": {
      "text/html": [
       "<h3 id='Hinweise für Autoren und Autorinnen'>=== Hinweise für Autoren und Autorinnen ===</h3>"
      ],
      "text/plain": [
       "<IPython.core.display.HTML object>"
      ]
     },
     "metadata": {},
     "output_type": "display_data"
    },
    {
     "data": {
      "text/markdown": [
       "[Zurück zum Inhaltsverzeichnis](#Inhaltsverzeichnis)"
      ],
      "text/plain": [
       "<IPython.core.display.Markdown object>"
      ]
     },
     "metadata": {},
     "output_type": "display_data"
    },
    {
     "data": {
      "text/html": [
       "<h4 id='Allgemeine Hinweise'>==== Allgemeine Hinweise ====</h4>"
      ],
      "text/plain": [
       "<IPython.core.display.HTML object>"
      ]
     },
     "metadata": {},
     "output_type": "display_data"
    },
    {
     "data": {
      "text/html": [
       "<h5>Seitenaufrufe Artikel</h5>"
      ],
      "text/plain": [
       "<IPython.core.display.HTML object>"
      ]
     },
     "metadata": {},
     "output_type": "display_data"
    },
    {
     "name": "stdout",
     "output_type": "stream",
     "text": [
      "2016:             560\n",
      "WiSe 16/17:       319 ┬      +138 (+76%)\n",
      "WiSe 15/16:       181 ┘      \n"
     ]
    },
    {
     "data": {
      "text/markdown": [
       "[Zurück zum Inhaltsverzeichnis](#Inhaltsverzeichnis)"
      ],
      "text/plain": [
       "<IPython.core.display.Markdown object>"
      ]
     },
     "metadata": {},
     "output_type": "display_data"
    },
    {
     "data": {
      "text/html": [
       "<h4 id='Formatierung von Kapiteln'>==== Formatierung von Kapiteln ====</h4>"
      ],
      "text/plain": [
       "<IPython.core.display.HTML object>"
      ]
     },
     "metadata": {},
     "output_type": "display_data"
    },
    {
     "data": {
      "text/html": [
       "<h5>Seitenaufrufe Artikel</h5>"
      ],
      "text/plain": [
       "<IPython.core.display.HTML object>"
      ]
     },
     "metadata": {},
     "output_type": "display_data"
    },
    {
     "name": "stdout",
     "output_type": "stream",
     "text": [
      "2016:             517\n",
      "WiSe 16/17:       445 ┬      +445        \n",
      "WiSe 15/16:         0 ┘      \n"
     ]
    },
    {
     "data": {
      "text/markdown": [
       "[Zurück zum Inhaltsverzeichnis](#Inhaltsverzeichnis)"
      ],
      "text/plain": [
       "<IPython.core.display.Markdown object>"
      ]
     },
     "metadata": {},
     "output_type": "display_data"
    },
    {
     "data": {
      "text/html": [
       "<h3 id='Zusammenarbeit'>=== Zusammenarbeit ===</h3>"
      ],
      "text/plain": [
       "<IPython.core.display.HTML object>"
      ]
     },
     "metadata": {},
     "output_type": "display_data"
    },
    {
     "data": {
      "text/markdown": [
       "[Zurück zum Inhaltsverzeichnis](#Inhaltsverzeichnis)"
      ],
      "text/plain": [
       "<IPython.core.display.Markdown object>"
      ]
     },
     "metadata": {},
     "output_type": "display_data"
    },
    {
     "data": {
      "text/html": [
       "<h4 id='Aktuelle Aufgaben'>==== Aktuelle Aufgaben ====</h4>"
      ],
      "text/plain": [
       "<IPython.core.display.HTML object>"
      ]
     },
     "metadata": {},
     "output_type": "display_data"
    },
    {
     "data": {
      "text/html": [
       "<h5>Seitenaufrufe Artikel</h5>"
      ],
      "text/plain": [
       "<IPython.core.display.HTML object>"
      ]
     },
     "metadata": {},
     "output_type": "display_data"
    },
    {
     "name": "stdout",
     "output_type": "stream",
     "text": [
      "2016:             557\n",
      "WiSe 16/17:       212 ┬      -230 (-52%)\n",
      "WiSe 15/16:       442 ┘      \n"
     ]
    },
    {
     "data": {
      "text/markdown": [
       "[Zurück zum Inhaltsverzeichnis](#Inhaltsverzeichnis)"
      ],
      "text/plain": [
       "<IPython.core.display.Markdown object>"
      ]
     },
     "metadata": {},
     "output_type": "display_data"
    },
    {
     "data": {
      "text/html": [
       "<h4 id='Ideen'>==== Ideen ====</h4>"
      ],
      "text/plain": [
       "<IPython.core.display.HTML object>"
      ]
     },
     "metadata": {},
     "output_type": "display_data"
    },
    {
     "data": {
      "text/html": [
       "<h5>Seitenaufrufe Artikel</h5>"
      ],
      "text/plain": [
       "<IPython.core.display.HTML object>"
      ]
     },
     "metadata": {},
     "output_type": "display_data"
    },
    {
     "name": "stdout",
     "output_type": "stream",
     "text": [
      "2016:             391\n",
      "WiSe 16/17:       133 ┬       -73 (-35%)\n",
      "WiSe 15/16:       206 ┘      \n"
     ]
    },
    {
     "data": {
      "text/markdown": [
       "[Zurück zum Inhaltsverzeichnis](#Inhaltsverzeichnis)"
      ],
      "text/plain": [
       "<IPython.core.display.Markdown object>"
      ]
     },
     "metadata": {},
     "output_type": "display_data"
    },
    {
     "data": {
      "text/html": [
       "<h4 id='Umfragen'>==== Umfragen ====</h4>"
      ],
      "text/plain": [
       "<IPython.core.display.HTML object>"
      ]
     },
     "metadata": {},
     "output_type": "display_data"
    },
    {
     "data": {
      "text/html": [
       "<h5>Seitenaufrufe Artikel</h5>"
      ],
      "text/plain": [
       "<IPython.core.display.HTML object>"
      ]
     },
     "metadata": {},
     "output_type": "display_data"
    },
    {
     "name": "stdout",
     "output_type": "stream",
     "text": [
      "2016:           1.561\n",
      "WiSe 16/17:       407 ┬      -357 (-47%)\n",
      "WiSe 15/16:       764 ┘      \n"
     ]
    },
    {
     "data": {
      "text/markdown": [
       "[Zurück zum Inhaltsverzeichnis](#Inhaltsverzeichnis)"
      ],
      "text/plain": [
       "<IPython.core.display.Markdown object>"
      ]
     },
     "metadata": {},
     "output_type": "display_data"
    },
    {
     "data": {
      "text/html": [
       "<h4 id='Sitemap: Übersicht aller Kapitel'>==== Sitemap: Übersicht aller Kapitel ====</h4>"
      ],
      "text/plain": [
       "<IPython.core.display.HTML object>"
      ]
     },
     "metadata": {},
     "output_type": "display_data"
    },
    {
     "data": {
      "text/html": [
       "<h5>Seitenaufrufe Artikel</h5>"
      ],
      "text/plain": [
       "<IPython.core.display.HTML object>"
      ]
     },
     "metadata": {},
     "output_type": "display_data"
    },
    {
     "name": "stdout",
     "output_type": "stream",
     "text": [
      "2016:           3.597\n",
      "WiSe 16/17:     1.490 ┬      -363 (-20%)\n",
      "WiSe 15/16:     1.853 ┘      \n"
     ]
    },
    {
     "data": {
      "text/markdown": [
       "[Zurück zum Inhaltsverzeichnis](#Inhaltsverzeichnis)"
      ],
      "text/plain": [
       "<IPython.core.display.Markdown object>"
      ]
     },
     "metadata": {},
     "output_type": "display_data"
    },
    {
     "data": {
      "text/html": [
       "<h4 id='Letzte Änderungen am Projekt'>==== Letzte Änderungen am Projekt ====</h4>"
      ],
      "text/plain": [
       "<IPython.core.display.HTML object>"
      ]
     },
     "metadata": {},
     "output_type": "display_data"
    },
    {
     "data": {
      "text/html": [
       "<h5>Seitenaufrufe Artikel</h5>"
      ],
      "text/plain": [
       "<IPython.core.display.HTML object>"
      ]
     },
     "metadata": {},
     "output_type": "display_data"
    },
    {
     "name": "stdout",
     "output_type": "stream",
     "text": [
      "2016:           1.277\n",
      "WiSe 16/17:     1.011 ┬      +899 (+803%)\n",
      "WiSe 15/16:       112 ┘      \n"
     ]
    },
    {
     "data": {
      "text/markdown": [
       "[Zurück zum Inhaltsverzeichnis](#Inhaltsverzeichnis)"
      ],
      "text/plain": [
       "<IPython.core.display.Markdown object>"
      ]
     },
     "metadata": {},
     "output_type": "display_data"
    },
    {
     "data": {
      "text/html": [
       "<h4 id='Projekte und Aktionen'>==== Projekte und Aktionen ====</h4>"
      ],
      "text/plain": [
       "<IPython.core.display.HTML object>"
      ]
     },
     "metadata": {},
     "output_type": "display_data"
    },
    {
     "data": {
      "text/html": [
       "<h5>Seitenaufrufe Artikel</h5>"
      ],
      "text/plain": [
       "<IPython.core.display.HTML object>"
      ]
     },
     "metadata": {},
     "output_type": "display_data"
    },
    {
     "name": "stdout",
     "output_type": "stream",
     "text": [
      "2016:               0\n",
      "WiSe 16/17:        46 ┬       +46        \n",
      "WiSe 15/16:         0 ┘      \n"
     ]
    },
    {
     "data": {
      "text/markdown": [
       "[Zurück zum Inhaltsverzeichnis](#Inhaltsverzeichnis)"
      ],
      "text/plain": [
       "<IPython.core.display.Markdown object>"
      ]
     },
     "metadata": {},
     "output_type": "display_data"
    },
    {
     "data": {
      "text/html": [
       "<h4 id='Protokolle'>==== Protokolle ====</h4>"
      ],
      "text/plain": [
       "<IPython.core.display.HTML object>"
      ]
     },
     "metadata": {},
     "output_type": "display_data"
    },
    {
     "data": {
      "text/html": [
       "<h5>Seitenaufrufe Artikel</h5>"
      ],
      "text/plain": [
       "<IPython.core.display.HTML object>"
      ]
     },
     "metadata": {},
     "output_type": "display_data"
    },
    {
     "name": "stdout",
     "output_type": "stream",
     "text": [
      "2016:               0\n",
      "WiSe 16/17:         0 ┬        +0        \n",
      "WiSe 15/16:         0 ┘      \n"
     ]
    },
    {
     "data": {
      "text/markdown": [
       "[Zurück zum Inhaltsverzeichnis](#Inhaltsverzeichnis)"
      ],
      "text/plain": [
       "<IPython.core.display.Markdown object>"
      ]
     },
     "metadata": {},
     "output_type": "display_data"
    },
    {
     "data": {
      "text/html": [
       "<h4 id='Archiv'>==== Archiv ====</h4>"
      ],
      "text/plain": [
       "<IPython.core.display.HTML object>"
      ]
     },
     "metadata": {},
     "output_type": "display_data"
    },
    {
     "data": {
      "text/html": [
       "<h5>Seitenaufrufe Artikel</h5>"
      ],
      "text/plain": [
       "<IPython.core.display.HTML object>"
      ]
     },
     "metadata": {},
     "output_type": "display_data"
    },
    {
     "name": "stdout",
     "output_type": "stream",
     "text": [
      "2016:             196\n",
      "WiSe 16/17:       146 ┬      +123 (+535%)\n",
      "WiSe 15/16:        23 ┘      \n"
     ]
    },
    {
     "data": {
      "text/markdown": [
       "[Zurück zum Inhaltsverzeichnis](#Inhaltsverzeichnis)"
      ],
      "text/plain": [
       "<IPython.core.display.Markdown object>"
      ]
     },
     "metadata": {},
     "output_type": "display_data"
    }
   ],
   "source": [
    "def report(node, level=1):\n",
    "    h((\"=\" * level) + \" \" + node[\"name\"] +  \" \" + (\"=\" * level), level,hid=node[\"name\"])\n",
    "    \n",
    "    if len(node[\"children\"]) > 0 and level <= 2:\n",
    "        h(\"Artikel + Unterartikel: Seitenaufrufe 2016\", 6)\n",
    "        v2016 = collect(views_2016, node)\n",
    "        plt.boxplot(v2016, 0, \"rs\", 0)\n",
    "        plt.show()\n",
    "        \n",
    "        print(\"Summe: %s\" % d(sum(v2016)))\n",
    "        print(\"Mean:  %s\" % d(np.mean(v2016)))\n",
    "        \n",
    "        h(\"Artikel + Unterartikel: Seitenaufrufe WiSe 2016/17\", 6)\n",
    "        w16 = collect(views_ws16, node)\n",
    "        plt.boxplot(w16, 0, \"rs\", 0)\n",
    "        plt.show()\n",
    "        \n",
    "        print(\"Summe: %s\" % d(sum(w16)))\n",
    "        print(\"Mean:  %s\" % d(np.mean(w16)))\n",
    "        \n",
    "        h(\"Artikel + Unterartikel: Differenz Seitenaufrufe WiSe 2016/17 zu WiSe 2015/16\", 6)\n",
    "        w16d = collect(ws16_diff, node)\n",
    "        plt.boxplot(w16d, 0, \"rs\", 0)\n",
    "        plt.show()\n",
    "        \n",
    "        print(\"Summe: %s\" % d(sum(w16d)))\n",
    "        print(\"Mean:  %s\" % d(np.mean(w16d)))\n",
    "        \n",
    "        h(\"Artikel + Unterartikel: Quotient Seitenaufrufe MFNF / Wikipedia\", 6)\n",
    "        w16d = collect(wp_ws16_quot, node)\n",
    "        plt.boxplot(w16d, 0, \"rs\", 0)\n",
    "        plt.xlim((0,1))\n",
    "        plt.show()\n",
    "        \n",
    "        print(\"Mean: %3.0f%%\" % (100*np.mean(w16d)))\n",
    "    \n",
    "    if \"link\" in node and node[\"link\"]:\n",
    "        h(\"Seitenaufrufe Artikel\", 5)\n",
    "        \n",
    "        v2016 = views_2016(node)\n",
    "        \n",
    "        w16 = views_ws16(node)\n",
    "        w15 = views_ws15(node)\n",
    "        \n",
    "        print(\"2016:       %s\" % d(v2016))\n",
    "        print(\"WiSe 16/17: %s ┬ %s %s\" % (d(w16), diff(w16,w15), quot(w16,w15)))\n",
    "        print(\"WiSe 15/16: %s ┘      \" %  d(w15))\n",
    "        \n",
    "        w = wp_title(node)\n",
    "        \n",
    "        if w:\n",
    "            h(\"Vergleich der Seitenaufrufe zum Wikipedia-Artikel\", 5)\n",
    "            \n",
    "            wp16 = wp_ws16(node)\n",
    "            wp15 = wp_ws15(node)\n",
    "            \n",
    "            print(\"Wikipedia-Artikel: %s\" % w)\n",
    "            print(\"Views WiSe 16/17:  %s ┬ %s %s\" % (d(wp16), diff(wp16,wp15), quot(wp16,wp15)))\n",
    "            print(\"Views WiSe 15/16:  %s ┘      \" %  d(wp15))\n",
    "            print()\n",
    "            print(\"MFNF / Wikipedia – WiSe 16/17: %3.0f%%\" % (wp_ws16_quot(node)*100))\n",
    "            print(\"MFNF / Wikipedia – WiSe 15/16: %3.0f%%\" % (wp_ws15_quot(node)*100))\n",
    "    \n",
    "    display_markdown(\"[Zurück zum Inhaltsverzeichnis](#Inhaltsverzeichnis)\")\n",
    "    \n",
    "    for child in node[\"children\"]:\n",
    "        report(child, level+1)\n",
    "\n",
    "report(sitemap)"
   ]
  }
 ],
 "metadata": {
  "kernelspec": {
   "display_name": "Python 3",
   "language": "python",
   "name": "python3"
  },
  "language_info": {
   "codemirror_mode": {
    "name": "ipython",
    "version": 3
   },
   "file_extension": ".py",
   "mimetype": "text/x-python",
   "name": "python",
   "nbconvert_exporter": "python",
   "pygments_lexer": "ipython3",
   "version": "3.5.3"
  }
 },
 "nbformat": 4,
 "nbformat_minor": 2
}
